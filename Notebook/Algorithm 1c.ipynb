{
 "cells": [
  {
   "cell_type": "markdown",
   "metadata": {},
   "source": [
    "# MUSHROOMS"
   ]
  },
  {
   "cell_type": "markdown",
   "metadata": {},
   "source": [
    "## Binary Classification"
   ]
  },
  {
   "cell_type": "markdown",
   "metadata": {},
   "source": [
    "### Imports"
   ]
  },
  {
   "cell_type": "code",
   "execution_count": 225,
   "metadata": {},
   "outputs": [],
   "source": [
    "import os\n",
    "import pandas as pd\n",
    "import numpy as np\n",
    "\n",
    "import tensorflow as tf\n",
    "from tensorflow import keras\n",
    "\n",
    "import matplotlib.pyplot as plt"
   ]
  },
  {
   "cell_type": "markdown",
   "metadata": {},
   "source": [
    "### Load Data"
   ]
  },
  {
   "cell_type": "code",
   "execution_count": 226,
   "metadata": {},
   "outputs": [],
   "source": [
    "DATA_PATH = '../DATA/'\n",
    "FILE_NAME = 'mushrooms.csv'\n",
    "def load_data(data_path=DATA_PATH, file_name=FILE_NAME):\n",
    "    csv_path = os.path.join(data_path, file_name)\n",
    "    return pd.read_csv(csv_path)\n",
    "\n",
    "dataset = load_data()"
   ]
  },
  {
   "cell_type": "markdown",
   "metadata": {},
   "source": [
    "### View Data and Informations"
   ]
  },
  {
   "cell_type": "code",
   "execution_count": 227,
   "metadata": {},
   "outputs": [
    {
     "data": {
      "text/html": [
       "<div>\n",
       "<style scoped>\n",
       "    .dataframe tbody tr th:only-of-type {\n",
       "        vertical-align: middle;\n",
       "    }\n",
       "\n",
       "    .dataframe tbody tr th {\n",
       "        vertical-align: top;\n",
       "    }\n",
       "\n",
       "    .dataframe thead th {\n",
       "        text-align: right;\n",
       "    }\n",
       "</style>\n",
       "<table border=\"1\" class=\"dataframe\">\n",
       "  <thead>\n",
       "    <tr style=\"text-align: right;\">\n",
       "      <th></th>\n",
       "      <th>class</th>\n",
       "      <th>cap-shape</th>\n",
       "      <th>cap-surface</th>\n",
       "      <th>cap-color</th>\n",
       "      <th>bruises</th>\n",
       "      <th>odor</th>\n",
       "      <th>gill-attachment</th>\n",
       "      <th>gill-spacing</th>\n",
       "      <th>gill-size</th>\n",
       "      <th>gill-color</th>\n",
       "      <th>...</th>\n",
       "      <th>stalk-surface-below-ring</th>\n",
       "      <th>stalk-color-above-ring</th>\n",
       "      <th>stalk-color-below-ring</th>\n",
       "      <th>veil-type</th>\n",
       "      <th>veil-color</th>\n",
       "      <th>ring-number</th>\n",
       "      <th>ring-type</th>\n",
       "      <th>spore-print-color</th>\n",
       "      <th>population</th>\n",
       "      <th>habitat</th>\n",
       "    </tr>\n",
       "  </thead>\n",
       "  <tbody>\n",
       "    <tr>\n",
       "      <th>0</th>\n",
       "      <td>p</td>\n",
       "      <td>x</td>\n",
       "      <td>s</td>\n",
       "      <td>n</td>\n",
       "      <td>t</td>\n",
       "      <td>p</td>\n",
       "      <td>f</td>\n",
       "      <td>c</td>\n",
       "      <td>n</td>\n",
       "      <td>k</td>\n",
       "      <td>...</td>\n",
       "      <td>s</td>\n",
       "      <td>w</td>\n",
       "      <td>w</td>\n",
       "      <td>p</td>\n",
       "      <td>w</td>\n",
       "      <td>o</td>\n",
       "      <td>p</td>\n",
       "      <td>k</td>\n",
       "      <td>s</td>\n",
       "      <td>u</td>\n",
       "    </tr>\n",
       "    <tr>\n",
       "      <th>1</th>\n",
       "      <td>e</td>\n",
       "      <td>x</td>\n",
       "      <td>s</td>\n",
       "      <td>y</td>\n",
       "      <td>t</td>\n",
       "      <td>a</td>\n",
       "      <td>f</td>\n",
       "      <td>c</td>\n",
       "      <td>b</td>\n",
       "      <td>k</td>\n",
       "      <td>...</td>\n",
       "      <td>s</td>\n",
       "      <td>w</td>\n",
       "      <td>w</td>\n",
       "      <td>p</td>\n",
       "      <td>w</td>\n",
       "      <td>o</td>\n",
       "      <td>p</td>\n",
       "      <td>n</td>\n",
       "      <td>n</td>\n",
       "      <td>g</td>\n",
       "    </tr>\n",
       "    <tr>\n",
       "      <th>2</th>\n",
       "      <td>e</td>\n",
       "      <td>b</td>\n",
       "      <td>s</td>\n",
       "      <td>w</td>\n",
       "      <td>t</td>\n",
       "      <td>l</td>\n",
       "      <td>f</td>\n",
       "      <td>c</td>\n",
       "      <td>b</td>\n",
       "      <td>n</td>\n",
       "      <td>...</td>\n",
       "      <td>s</td>\n",
       "      <td>w</td>\n",
       "      <td>w</td>\n",
       "      <td>p</td>\n",
       "      <td>w</td>\n",
       "      <td>o</td>\n",
       "      <td>p</td>\n",
       "      <td>n</td>\n",
       "      <td>n</td>\n",
       "      <td>m</td>\n",
       "    </tr>\n",
       "    <tr>\n",
       "      <th>3</th>\n",
       "      <td>p</td>\n",
       "      <td>x</td>\n",
       "      <td>y</td>\n",
       "      <td>w</td>\n",
       "      <td>t</td>\n",
       "      <td>p</td>\n",
       "      <td>f</td>\n",
       "      <td>c</td>\n",
       "      <td>n</td>\n",
       "      <td>n</td>\n",
       "      <td>...</td>\n",
       "      <td>s</td>\n",
       "      <td>w</td>\n",
       "      <td>w</td>\n",
       "      <td>p</td>\n",
       "      <td>w</td>\n",
       "      <td>o</td>\n",
       "      <td>p</td>\n",
       "      <td>k</td>\n",
       "      <td>s</td>\n",
       "      <td>u</td>\n",
       "    </tr>\n",
       "    <tr>\n",
       "      <th>4</th>\n",
       "      <td>e</td>\n",
       "      <td>x</td>\n",
       "      <td>s</td>\n",
       "      <td>g</td>\n",
       "      <td>f</td>\n",
       "      <td>n</td>\n",
       "      <td>f</td>\n",
       "      <td>w</td>\n",
       "      <td>b</td>\n",
       "      <td>k</td>\n",
       "      <td>...</td>\n",
       "      <td>s</td>\n",
       "      <td>w</td>\n",
       "      <td>w</td>\n",
       "      <td>p</td>\n",
       "      <td>w</td>\n",
       "      <td>o</td>\n",
       "      <td>e</td>\n",
       "      <td>n</td>\n",
       "      <td>a</td>\n",
       "      <td>g</td>\n",
       "    </tr>\n",
       "  </tbody>\n",
       "</table>\n",
       "<p>5 rows × 23 columns</p>\n",
       "</div>"
      ],
      "text/plain": [
       "  class cap-shape cap-surface cap-color bruises odor gill-attachment  \\\n",
       "0     p         x           s         n       t    p               f   \n",
       "1     e         x           s         y       t    a               f   \n",
       "2     e         b           s         w       t    l               f   \n",
       "3     p         x           y         w       t    p               f   \n",
       "4     e         x           s         g       f    n               f   \n",
       "\n",
       "  gill-spacing gill-size gill-color  ... stalk-surface-below-ring  \\\n",
       "0            c         n          k  ...                        s   \n",
       "1            c         b          k  ...                        s   \n",
       "2            c         b          n  ...                        s   \n",
       "3            c         n          n  ...                        s   \n",
       "4            w         b          k  ...                        s   \n",
       "\n",
       "  stalk-color-above-ring stalk-color-below-ring veil-type veil-color  \\\n",
       "0                      w                      w         p          w   \n",
       "1                      w                      w         p          w   \n",
       "2                      w                      w         p          w   \n",
       "3                      w                      w         p          w   \n",
       "4                      w                      w         p          w   \n",
       "\n",
       "  ring-number ring-type spore-print-color population habitat  \n",
       "0           o         p                 k          s       u  \n",
       "1           o         p                 n          n       g  \n",
       "2           o         p                 n          n       m  \n",
       "3           o         p                 k          s       u  \n",
       "4           o         e                 n          a       g  \n",
       "\n",
       "[5 rows x 23 columns]"
      ]
     },
     "execution_count": 227,
     "metadata": {},
     "output_type": "execute_result"
    }
   ],
   "source": [
    "dataset.head()"
   ]
  },
  {
   "cell_type": "code",
   "execution_count": 228,
   "metadata": {},
   "outputs": [
    {
     "name": "stdout",
     "output_type": "stream",
     "text": [
      "<class 'pandas.core.frame.DataFrame'>\n",
      "RangeIndex: 8124 entries, 0 to 8123\n",
      "Data columns (total 23 columns):\n",
      " #   Column                    Non-Null Count  Dtype \n",
      "---  ------                    --------------  ----- \n",
      " 0   class                     8124 non-null   object\n",
      " 1   cap-shape                 8124 non-null   object\n",
      " 2   cap-surface               8124 non-null   object\n",
      " 3   cap-color                 8124 non-null   object\n",
      " 4   bruises                   8124 non-null   object\n",
      " 5   odor                      8124 non-null   object\n",
      " 6   gill-attachment           8124 non-null   object\n",
      " 7   gill-spacing              8124 non-null   object\n",
      " 8   gill-size                 8124 non-null   object\n",
      " 9   gill-color                8124 non-null   object\n",
      " 10  stalk-shape               8124 non-null   object\n",
      " 11  stalk-root                8124 non-null   object\n",
      " 12  stalk-surface-above-ring  8124 non-null   object\n",
      " 13  stalk-surface-below-ring  8124 non-null   object\n",
      " 14  stalk-color-above-ring    8124 non-null   object\n",
      " 15  stalk-color-below-ring    8124 non-null   object\n",
      " 16  veil-type                 8124 non-null   object\n",
      " 17  veil-color                8124 non-null   object\n",
      " 18  ring-number               8124 non-null   object\n",
      " 19  ring-type                 8124 non-null   object\n",
      " 20  spore-print-color         8124 non-null   object\n",
      " 21  population                8124 non-null   object\n",
      " 22  habitat                   8124 non-null   object\n",
      "dtypes: object(23)\n",
      "memory usage: 1.4+ MB\n"
     ]
    }
   ],
   "source": [
    "dataset.info()"
   ]
  },
  {
   "cell_type": "code",
   "execution_count": 229,
   "metadata": {},
   "outputs": [
    {
     "name": "stdout",
     "output_type": "stream",
     "text": [
      "Edible:\t   4208 \n",
      "Poisonous: 3916\n"
     ]
    }
   ],
   "source": [
    "edible, poisonous = dataset['class'].value_counts()\n",
    "\n",
    "print(\"Edible:\\t  \", edible,\"\\nPoisonous:\", poisonous)"
   ]
  },
  {
   "cell_type": "code",
   "execution_count": 230,
   "metadata": {},
   "outputs": [
    {
     "name": "stdout",
     "output_type": "stream",
     "text": [
      "0 - Edible:    4208 \n",
      "1 - Poisonous: 3916\n"
     ]
    }
   ],
   "source": [
    "# Categorical to numerical\n",
    "labels = {'e': 0, 'p': 1}\n",
    "dataset['class'].replace(labels, inplace=True)\n",
    "\n",
    "edible, poisonous = dataset['class'].value_counts()\n",
    "print(\"0 - Edible:   \", edible,\"\\n1 - Poisonous:\", poisonous)"
   ]
  },
  {
   "cell_type": "markdown",
   "metadata": {},
   "source": [
    "# NN1 Stalk Root - Rooted (r)"
   ]
  },
  {
   "cell_type": "markdown",
   "metadata": {},
   "source": [
    "### Split Dataset"
   ]
  },
  {
   "cell_type": "markdown",
   "metadata": {},
   "source": [
    "#### Get the Labels"
   ]
  },
  {
   "cell_type": "code",
   "execution_count": 231,
   "metadata": {},
   "outputs": [
    {
     "name": "stdout",
     "output_type": "stream",
     "text": [
      "X: (8124, 22) \n",
      "y: (8124,)\n"
     ]
    }
   ],
   "source": [
    "X, y =  dataset.drop('class', axis=1), dataset['class'].copy()\n",
    "\n",
    "print(\"X:\",X.shape,\"\\ny:\",y.shape)"
   ]
  },
  {
   "cell_type": "markdown",
   "metadata": {},
   "source": [
    "#### Train Set and Test Set"
   ]
  },
  {
   "cell_type": "code",
   "execution_count": 232,
   "metadata": {},
   "outputs": [],
   "source": [
    "from sklearn.model_selection import train_test_split\n",
    "X_white = pd.DataFrame()\n",
    "X_not_white = pd.DataFrame()\n",
    "y_white = pd.Series(dtype='float64')\n",
    "y_not_white = pd.Series(dtype='float64')\n",
    "for i in range(0,len(X)):\n",
    "    if X.loc[i,\"stalk-root\"] == \"r\":\n",
    "        X_white = X_white.append(X.iloc[i,:])\n",
    "        y_white = y_white.append(pd.Series(y.iloc[i]))\n",
    "    else:\n",
    "        X_not_white = X_not_white.append(X.iloc[i,:])\n",
    "        y_not_white = y_not_white.append(pd.Series(y.iloc[i]))"
   ]
  },
  {
   "cell_type": "code",
   "execution_count": 233,
   "metadata": {},
   "outputs": [],
   "source": [
    "X_train_not_white, X_test_not_white, y_train_not_white, y_test_not_white = train_test_split(X_not_white, y_not_white, test_size=1-(6905/(8124-len(X_white))), random_state=37)\n",
    "\n",
    "# print(X_test_white)\n",
    "X_train_white = (X_train_not_white)\n",
    "# X_test_white = X_white.append(X_test_not_white)\n",
    "y_train_white = (y_train_not_white)\n",
    "# y_test_white = y_white.append(y_test_not_white)"
   ]
  },
  {
   "cell_type": "code",
   "execution_count": 234,
   "metadata": {},
   "outputs": [],
   "source": [
    "from sklearn.utils import shuffle\n",
    "X_train_full1 = shuffle(X_train_white, random_state=37)\n",
    "X_test = shuffle(X, random_state=37).iloc[2000:4000]\n",
    "y_train_full1 = shuffle(y_train_white, random_state=37)\n",
    "y_test = shuffle(y, random_state=37).iloc[2000:4000]"
   ]
  },
  {
   "cell_type": "code",
   "execution_count": 235,
   "metadata": {},
   "outputs": [],
   "source": [
    "# print(X_test[:5])\n",
    "# print(y_test.loc[:,\"0\"])\n",
    "# from sklearn.model_selection import train_test_split\n",
    "\n",
    "# X_train_full, X_test, y_train_full, y_test = train_test_split(X, y, test_size=0.15, random_state=37)\n",
    "\n",
    "# print(\"85% - X_train size:\", X_train_full.shape[0], \" y_train size:\", y_train_full.shape[0])\n",
    "# print(\"15% - X_test size: \", X_test.shape[0], \" y_test size: \", y_test.shape[0])"
   ]
  },
  {
   "cell_type": "markdown",
   "metadata": {},
   "source": [
    "#### Validation Set"
   ]
  },
  {
   "cell_type": "code",
   "execution_count": 236,
   "metadata": {},
   "outputs": [
    {
     "name": "stdout",
     "output_type": "stream",
     "text": [
      "X_train: 6404 y_train 6404\n",
      "X_valid:  500 y_valid  500\n",
      "X_test:  2000 y_test  2000\n"
     ]
    }
   ],
   "source": [
    "X_valid1, X_train1 = X_train_full1[:500], X_train_full1[500:]\n",
    "y_valid1, y_train1 = y_train_full1[:500], y_train_full1[500:]\n",
    "\n",
    "print(\"X_train:\", X_train1.shape[0], \"y_train\", y_train1.shape[0])\n",
    "print(\"X_valid: \", X_valid1.shape[0], \"y_valid \", y_valid1.shape[0])\n",
    "print(\"X_test: \", X_test.shape[0], \"y_test \", X_test.shape[0])\n"
   ]
  },
  {
   "cell_type": "markdown",
   "metadata": {},
   "source": [
    "### Prepare the Data"
   ]
  },
  {
   "cell_type": "markdown",
   "metadata": {},
   "source": [
    "#### Data Transformation"
   ]
  },
  {
   "cell_type": "code",
   "execution_count": 237,
   "metadata": {},
   "outputs": [],
   "source": [
    "from sklearn.pipeline import Pipeline\n",
    "from sklearn.preprocessing import OrdinalEncoder\n",
    "from sklearn.compose import ColumnTransformer\n",
    "\n",
    "cat_attr_pipeline = Pipeline([\n",
    "                        ('encoder', OrdinalEncoder())\n",
    "                    ])\n",
    "\n",
    "cols = list(X)\n",
    "pipeline = ColumnTransformer([\n",
    "                ('cat_attr_pipeline', cat_attr_pipeline, cols)\n",
    "            ])\n",
    "\n",
    "\n",
    "X_train1 = pipeline.fit_transform(X_train1)\n",
    "X_valid1 = pipeline.fit_transform(X_valid1)\n",
    "X_test1  = pipeline.fit_transform(X_test)"
   ]
  },
  {
   "cell_type": "markdown",
   "metadata": {},
   "source": [
    "### Neural Network"
   ]
  },
  {
   "cell_type": "markdown",
   "metadata": {},
   "source": [
    "#### Model"
   ]
  },
  {
   "cell_type": "code",
   "execution_count": 238,
   "metadata": {},
   "outputs": [],
   "source": [
    "from tensorflow.keras.models import Sequential\n",
    "from tensorflow.keras.layers import InputLayer, Dense"
   ]
  },
  {
   "cell_type": "code",
   "execution_count": 239,
   "metadata": {},
   "outputs": [],
   "source": [
    "tf.random.set_random_seed(37)"
   ]
  },
  {
   "cell_type": "code",
   "execution_count": 240,
   "metadata": {},
   "outputs": [],
   "source": [
    "model1 = Sequential([\n",
    "    InputLayer(input_shape=(22,)),    # input  layer\n",
    "    Dense(45, activation='relu'),     # hidden layer\n",
    "    Dense(1,   activation='sigmoid')  # output layer\n",
    "])"
   ]
  },
  {
   "cell_type": "code",
   "execution_count": 241,
   "metadata": {},
   "outputs": [
    {
     "name": "stdout",
     "output_type": "stream",
     "text": [
      "Model: \"sequential_4\"\n",
      "_________________________________________________________________\n",
      "Layer (type)                 Output Shape              Param #   \n",
      "=================================================================\n",
      "dense_8 (Dense)              (None, 45)                1035      \n",
      "_________________________________________________________________\n",
      "dense_9 (Dense)              (None, 1)                 46        \n",
      "=================================================================\n",
      "Total params: 1,081\n",
      "Trainable params: 1,081\n",
      "Non-trainable params: 0\n",
      "_________________________________________________________________\n"
     ]
    }
   ],
   "source": [
    "model1.summary()"
   ]
  },
  {
   "cell_type": "markdown",
   "metadata": {},
   "source": [
    "#### Compile the Model"
   ]
  },
  {
   "cell_type": "code",
   "execution_count": 242,
   "metadata": {},
   "outputs": [],
   "source": [
    "model1.compile(loss='binary_crossentropy',\n",
    "             optimizer='sgd',\n",
    "             metrics=['accuracy'])"
   ]
  },
  {
   "cell_type": "markdown",
   "metadata": {},
   "source": [
    "#### Prepare Callbacks"
   ]
  },
  {
   "cell_type": "code",
   "execution_count": 243,
   "metadata": {},
   "outputs": [],
   "source": [
    "from tensorflow.keras.callbacks import ModelCheckpoint, EarlyStopping\n",
    "\n",
    "checkpoint_cb = ModelCheckpoint('../SavedModels/best_model.h5',\n",
    "                                save_best_only=True)\n",
    "\n",
    "early_stopping_cb = EarlyStopping(patience=3,\n",
    "                                  restore_best_weights=True)"
   ]
  },
  {
   "cell_type": "markdown",
   "metadata": {},
   "source": [
    "### Training"
   ]
  },
  {
   "cell_type": "code",
   "execution_count": 244,
   "metadata": {},
   "outputs": [
    {
     "name": "stdout",
     "output_type": "stream",
     "text": [
      "Train on 6404 samples, validate on 500 samples\n",
      "Epoch 1/100\n",
      "6404/6404 [==============================] - 1s 124us/sample - loss: 0.4640 - acc: 0.7900 - val_loss: 0.4018 - val_acc: 0.8480\n",
      "Epoch 2/100\n",
      "6404/6404 [==============================] - 0s 52us/sample - loss: 0.3173 - acc: 0.8841 - val_loss: 0.3203 - val_acc: 0.8720\n",
      "Epoch 3/100\n",
      "6404/6404 [==============================] - 0s 62us/sample - loss: 0.2729 - acc: 0.9044 - val_loss: 0.2991 - val_acc: 0.8920\n",
      "Epoch 4/100\n",
      "6404/6404 [==============================] - 0s 43us/sample - loss: 0.2474 - acc: 0.9122 - val_loss: 0.2637 - val_acc: 0.8840\n",
      "Epoch 5/100\n",
      "6404/6404 [==============================] - 0s 50us/sample - loss: 0.2251 - acc: 0.9190 - val_loss: 0.3855 - val_acc: 0.8360\n",
      "Epoch 6/100\n",
      "6404/6404 [==============================] - 0s 65us/sample - loss: 0.2121 - acc: 0.9249 - val_loss: 0.2222 - val_acc: 0.9100\n",
      "Epoch 7/100\n",
      "6404/6404 [==============================] - 0s 50us/sample - loss: 0.1960 - acc: 0.9305 - val_loss: 0.5633 - val_acc: 0.7160\n",
      "Epoch 8/100\n",
      "6404/6404 [==============================] - 0s 60us/sample - loss: 0.1870 - acc: 0.9344 - val_loss: 0.2001 - val_acc: 0.9200\n",
      "Epoch 9/100\n",
      "6404/6404 [==============================] - 0s 55us/sample - loss: 0.1750 - acc: 0.9374 - val_loss: 0.1914 - val_acc: 0.9200\n",
      "Epoch 10/100\n",
      "6404/6404 [==============================] - 0s 56us/sample - loss: 0.1645 - acc: 0.9418 - val_loss: 0.1775 - val_acc: 0.9520\n",
      "Epoch 11/100\n",
      "6404/6404 [==============================] - 0s 34us/sample - loss: 0.1590 - acc: 0.9433 - val_loss: 0.1817 - val_acc: 0.9180\n",
      "Epoch 12/100\n",
      "6404/6404 [==============================] - 0s 62us/sample - loss: 0.1478 - acc: 0.9475 - val_loss: 0.1625 - val_acc: 0.9440\n",
      "Epoch 13/100\n",
      "6404/6404 [==============================] - 0s 56us/sample - loss: 0.1396 - acc: 0.9522 - val_loss: 0.1639 - val_acc: 0.9580\n",
      "Epoch 14/100\n",
      "6404/6404 [==============================] - 0s 70us/sample - loss: 0.1337 - acc: 0.9527 - val_loss: 0.1477 - val_acc: 0.9580\n",
      "Epoch 15/100\n",
      "6404/6404 [==============================] - 0s 69us/sample - loss: 0.1258 - acc: 0.9553 - val_loss: 0.2095 - val_acc: 0.9080\n",
      "Epoch 16/100\n",
      "6404/6404 [==============================] - 0s 74us/sample - loss: 0.1229 - acc: 0.9561 - val_loss: 0.1478 - val_acc: 0.9560\n",
      "Epoch 17/100\n",
      "6404/6404 [==============================] - 1s 82us/sample - loss: 0.1154 - acc: 0.9575 - val_loss: 0.1996 - val_acc: 0.9140\n"
     ]
    }
   ],
   "source": [
    "train_model1 = model1.fit(X_train1, y_train1,\n",
    "                        epochs=100,\n",
    "                        validation_data=(X_valid1, y_valid1),\n",
    "                        callbacks=[checkpoint_cb, early_stopping_cb])\n",
    "                        \n"
   ]
  },
  {
   "cell_type": "markdown",
   "metadata": {},
   "source": [
    "### Evaluate the Best Model on Test Set"
   ]
  },
  {
   "cell_type": "code",
   "execution_count": 245,
   "metadata": {},
   "outputs": [
    {
     "name": "stdout",
     "output_type": "stream",
     "text": [
      "2000/2000 [==============================] - 0s 37us/sample - loss: 0.1439 - acc: 0.9430\n",
      "test loss, test acc: [0.1438773773908615, 0.943]\n"
     ]
    }
   ],
   "source": [
    "results1 = model1.evaluate(X_test1, y_test)\n",
    "print(\"test loss, test acc:\", results1)"
   ]
  },
  {
   "cell_type": "markdown",
   "metadata": {},
   "source": [
    "### Make Some Predictions"
   ]
  },
  {
   "cell_type": "code",
   "execution_count": 246,
   "metadata": {},
   "outputs": [],
   "source": [
    "X_new1 = X_test1[:5]\n",
    "y_prob1 = model1.predict(X_new1)\n",
    "# print(y_prob.round(3))"
   ]
  },
  {
   "cell_type": "code",
   "execution_count": 247,
   "metadata": {},
   "outputs": [],
   "source": [
    "y_pred1 = (model1.predict(X_new1) > 0.5).astype(\"int32\")\n",
    "# print(y_pred)\n",
    "y_test_pred = (model1.predict(X_test1) > 0.5).astype(\"int32\")"
   ]
  },
  {
   "cell_type": "markdown",
   "metadata": {},
   "source": [
    "## KL Divergence"
   ]
  },
  {
   "cell_type": "code",
   "execution_count": 248,
   "metadata": {},
   "outputs": [
    {
     "name": "stdout",
     "output_type": "stream",
     "text": [
      "        X_pred  y_pred  y_actual\n",
      "0     0.979996       1         1\n",
      "1     0.895362       1         1\n",
      "2     0.866164       1         1\n",
      "3     0.734473       1         1\n",
      "4     0.958439       1         1\n",
      "...        ...     ...       ...\n",
      "1995  0.805070       1         1\n",
      "1996  0.997322       1         1\n",
      "1997  0.391174       0         1\n",
      "1998  0.007026       0         0\n",
      "1999  0.985243       1         1\n",
      "\n",
      "[2000 rows x 3 columns]\n"
     ]
    }
   ],
   "source": [
    "# X_new = X_test[:5]\n",
    "X_df1 = pd.DataFrame(model1.predict(X_test1))\n",
    "y_test_pred1 = pd.DataFrame(y_test_pred).reset_index(drop=True)\n",
    "X_df1 = pd.concat([X_df1, y_test_pred1], axis=1)\n",
    "y_test1 = y_test.reset_index(drop=True)\n",
    "X_df1 = pd.concat([X_df1, y_test1], axis=1)\n",
    "X_df1.columns = [\"X_pred\",\"y_pred\",\"y_actual\"]\n",
    "print(X_df1)"
   ]
  },
  {
   "cell_type": "code",
   "execution_count": 249,
   "metadata": {},
   "outputs": [
    {
     "name": "stdout",
     "output_type": "stream",
     "text": [
      "        KL_div abs_distance correctness  y_pred\n",
      "0     0.098054     0.959992           1     1.0\n",
      "1     0.335157     0.790723           1     1.0\n",
      "2     0.393614     0.732329           1     1.0\n",
      "3     0.578759     0.468946           1     1.0\n",
      "4     0.172874     0.916878           1     1.0\n",
      "...        ...          ...         ...     ...\n",
      "1995  0.493294     0.610139           1     1.0\n",
      "1996  0.018534     0.994645           1     1.0\n",
      "1997  0.669271     0.217651           0     0.0\n",
      "1998  0.041836     0.985949           1     0.0\n",
      "1999  0.076863     0.970486           1     1.0\n",
      "\n",
      "[2000 rows x 4 columns]\n"
     ]
    }
   ],
   "source": [
    "import math\n",
    "table1 = pd.DataFrame(columns=[\"KL_div\",\"abs_distance\",\"correctness\"])\n",
    "for i in range(0,len(X_df1)):\n",
    "    # KL divergence\n",
    "    p = X_df1.loc[i,\"X_pred\"]\n",
    "    try:\n",
    "        kl = -(p*math.log(p) + (1-p)*math.log(1-p))\n",
    "    except:\n",
    "        kl = 0\n",
    "    table1.loc[i,\"KL_div\"] = kl\n",
    "    # absolute distance\n",
    "    abs_dist = 2*abs(0.5-p)\n",
    "    table1.loc[i,\"abs_distance\"] = abs_dist\n",
    "    # correctness\n",
    "    y_pred1 = X_df1.loc[i,\"y_pred\"]\n",
    "    y_act1 = X_df1.loc[i,\"y_actual\"]\n",
    "    if y_pred1 == y_act1:\n",
    "        table1.loc[i,\"correctness\"] = 1 # correct prediction\n",
    "    else:\n",
    "        table1.loc[i,\"correctness\"] = 0 # wrong prediction\n",
    "    table1.loc[i,\"y_pred\"] = y_pred1\n",
    "\n",
    "print(table1)"
   ]
  },
  {
   "cell_type": "code",
   "execution_count": 250,
   "metadata": {},
   "outputs": [
    {
     "name": "stdout",
     "output_type": "stream",
     "text": [
      "            correctness  count     percent\n",
      "KL_div                                    \n",
      "(0.0, 0.1]          720    720  100.000000\n",
      "(0.1, 0.2]          516    518   99.613900\n",
      "(0.2, 0.3]          276    282   97.872340\n",
      "(0.3, 0.4]          147    154   95.454545\n",
      "(0.4, 0.5]          100    117   85.470085\n",
      "(0.5, 0.6]           54     81   66.666667\n",
      "(0.6, 0.7]           73    128   57.031250\n"
     ]
    }
   ],
   "source": [
    "table1[\"count\"] = 1\n",
    "correctness1 = table1[[\"correctness\",\"count\"]].groupby(pd.cut(table1[\"KL_div\"], np.arange(0, 0.8, 0.1))).apply(sum)\n",
    "correctness1[\"percent\"] = 100*(correctness1[\"correctness\"]/correctness1[\"count\"])\n",
    "print(correctness1)"
   ]
  },
  {
   "cell_type": "code",
   "execution_count": 251,
   "metadata": {},
   "outputs": [
    {
     "data": {
      "text/plain": [
       "Text(0, 0.5, '% correct')"
      ]
     },
     "execution_count": 251,
     "metadata": {},
     "output_type": "execute_result"
    },
    {
     "data": {
      "image/png": "[encoded data removed]",
      "text/plain": [
       "<Figure size 432x288 with 1 Axes>"
      ]
     },
     "metadata": {
      "needs_background": "light"
     },
     "output_type": "display_data"
    }
   ],
   "source": [
    "index = []\n",
    "for i in (correctness1.index):\n",
    "    index.append(str(i))\n",
    "plt.bar(index,correctness1[\"percent\"], width=0.7)\n",
    "for index,data in enumerate(correctness1[\"percent\"]):\n",
    "    plt.text(x=index , y =data+1 , s=f\"{round(data,2)}\" , fontdict=dict(fontsize=15),ha='center')\n",
    "plt.ylim(0,110)\n",
    "plt.xlabel(\"KL Divergence\")\n",
    "plt.ylabel(\"% correct\")"
   ]
  },
  {
   "cell_type": "markdown",
   "metadata": {},
   "source": [
    "### Confidence"
   ]
  },
  {
   "cell_type": "code",
   "execution_count": 252,
   "metadata": {},
   "outputs": [
    {
     "data": {
      "text/plain": [
       "Text(0, 0.5, '% correct')"
      ]
     },
     "execution_count": 252,
     "metadata": {},
     "output_type": "execute_result"
    },
    {
     "data": {
      "image/png": "[encoded data removed]",
      "text/plain": [
       "<Figure size 432x288 with 1 Axes>"
      ]
     },
     "metadata": {
      "needs_background": "light"
     },
     "output_type": "display_data"
    }
   ],
   "source": [
    "kl1 = table1[[\"correctness\",\"count\"]].groupby(pd.cut(table1[\"KL_div\"], np.arange(0, 0.80, 0.1))).apply(sum)\n",
    "kl1[\"percent\"] = (kl1[\"correctness\"]/kl1[\"count\"])\n",
    "kl1.dropna(inplace=True)\n",
    "plt.scatter(np.arange(0, 0.70, 0.1), kl1[\"percent\"])\n",
    "plt.xlabel(\"KL Divergence\")\n",
    "plt.ylabel(\"% correct\")"
   ]
  },
  {
   "cell_type": "code",
   "execution_count": 253,
   "metadata": {},
   "outputs": [],
   "source": [
    "# Linear Regression\n",
    "from sklearn.linear_model import LinearRegression\n",
    "\n",
    "x_reg1 = np.arange(0, 0.70, 0.1).reshape((-1, 1))\n",
    "y_reg1 = kl1[\"percent\"]\n",
    "reg_model1 = LinearRegression().fit(x_reg1,y_reg1)"
   ]
  },
  {
   "cell_type": "code",
   "execution_count": 254,
   "metadata": {},
   "outputs": [
    {
     "name": "stdout",
     "output_type": "stream",
     "text": [
      "intercept(alpha): 1.082158593954519\n",
      "slope(theta): [-0.74001061]\n"
     ]
    }
   ],
   "source": [
    "print('intercept(alpha):', reg_model1.intercept_)\n",
    "print('slope(theta):', reg_model1.coef_)"
   ]
  },
  {
   "cell_type": "markdown",
   "metadata": {},
   "source": [
    "# NN2 Odor - Almond (a)"
   ]
  },
  {
   "cell_type": "markdown",
   "metadata": {},
   "source": [
    "#### Train Set and Test Set"
   ]
  },
  {
   "cell_type": "code",
   "execution_count": 255,
   "metadata": {},
   "outputs": [],
   "source": [
    "from sklearn.model_selection import train_test_split\n",
    "X_green = pd.DataFrame()\n",
    "X_not_green = pd.DataFrame()\n",
    "y_green = pd.Series(dtype='float64')\n",
    "y_not_green = pd.Series(dtype='float64')\n",
    "for i in range(0,len(X)):\n",
    "    if X.loc[i,\"odor\"] == \"a\":\n",
    "        X_green = X_green.append(X.iloc[i,:])\n",
    "        y_green = y_green.append(pd.Series(y.iloc[i]))\n",
    "    else:\n",
    "        X_not_green = X_not_green.append(X.iloc[i,:])\n",
    "        y_not_green = y_not_green.append(pd.Series(y.iloc[i]))"
   ]
  },
  {
   "cell_type": "code",
   "execution_count": 256,
   "metadata": {},
   "outputs": [],
   "source": [
    "# X_test_green, X_train_green, y_test_green, y_train_green = train_test_split(X_green, y_green, test_size=1, random_state=37)\n",
    "X_train_not_green, X_test_not_green, y_train_not_green, y_test_not_green = train_test_split(X_not_green, y_not_green, test_size=1-(6905/(8124-len(X_green))), random_state=37)\n",
    "\n",
    "# print(X_test_green)\n",
    "X_train_green = (X_train_not_green)\n",
    "X_test_green = X_green.append(X_test_not_green)\n",
    "y_train_green = (y_train_not_green)\n",
    "y_test_green = y_green.append(y_test_not_green)"
   ]
  },
  {
   "cell_type": "code",
   "execution_count": 257,
   "metadata": {},
   "outputs": [],
   "source": [
    "from sklearn.utils import shuffle\n",
    "X_train_full2 = shuffle(X_train_green, random_state=37)\n",
    "# X_test2 = shuffle(X_test_green, random_state=37)\n",
    "y_train_full2 = shuffle(y_train_green, random_state=37)\n",
    "# y_test2 = shuffle(y_test_green, random_state=37)"
   ]
  },
  {
   "cell_type": "markdown",
   "metadata": {},
   "source": [
    "#### Validation Set"
   ]
  },
  {
   "cell_type": "code",
   "execution_count": 258,
   "metadata": {},
   "outputs": [
    {
     "name": "stdout",
     "output_type": "stream",
     "text": [
      "X_train: 6404 y_train 6404\n",
      "X_valid:  500 y_valid  500\n",
      "X_test:  2000 y_test  2000\n"
     ]
    }
   ],
   "source": [
    "X_valid2, X_train2 = X_train_full2[:500], X_train_full2[500:]\n",
    "y_valid2, y_train2 = y_train_full2[:500], y_train_full2[500:]\n",
    "\n",
    "print(\"X_train:\", X_train2.shape[0], \"y_train\", y_train2.shape[0])\n",
    "print(\"X_valid: \", X_valid2.shape[0], \"y_valid \", y_valid2.shape[0])\n",
    "print(\"X_test: \", X_test.shape[0], \"y_test \", X_test.shape[0])\n"
   ]
  },
  {
   "cell_type": "markdown",
   "metadata": {},
   "source": [
    "### Prepare the Data"
   ]
  },
  {
   "cell_type": "markdown",
   "metadata": {},
   "source": [
    "#### Data Transformation"
   ]
  },
  {
   "cell_type": "code",
   "execution_count": 259,
   "metadata": {},
   "outputs": [],
   "source": [
    "from sklearn.pipeline import Pipeline\n",
    "from sklearn.preprocessing import OrdinalEncoder\n",
    "from sklearn.compose import ColumnTransformer\n",
    "\n",
    "cat_attr_pipeline = Pipeline([\n",
    "                        ('encoder', OrdinalEncoder())\n",
    "                    ])\n",
    "\n",
    "cols = list(X)\n",
    "pipeline = ColumnTransformer([\n",
    "                ('cat_attr_pipeline', cat_attr_pipeline, cols)\n",
    "            ])\n",
    "\n",
    "\n",
    "X_train2 = pipeline.fit_transform(X_train2)\n",
    "X_valid2 = pipeline.fit_transform(X_valid2)\n",
    "X_test2  = pipeline.fit_transform(X_test)\n",
    "y_test2 = y_test"
   ]
  },
  {
   "cell_type": "markdown",
   "metadata": {},
   "source": [
    "### Neural Network"
   ]
  },
  {
   "cell_type": "markdown",
   "metadata": {},
   "source": [
    "#### Model"
   ]
  },
  {
   "cell_type": "code",
   "execution_count": 260,
   "metadata": {},
   "outputs": [],
   "source": [
    "from tensorflow.keras.models import Sequential\n",
    "from tensorflow.keras.layers import InputLayer, Dense"
   ]
  },
  {
   "cell_type": "code",
   "execution_count": 261,
   "metadata": {},
   "outputs": [],
   "source": [
    "tf.random.set_random_seed(37)"
   ]
  },
  {
   "cell_type": "code",
   "execution_count": 262,
   "metadata": {},
   "outputs": [],
   "source": [
    "model2 = Sequential([\n",
    "    InputLayer(input_shape=(22,)),    # input  layer\n",
    "    Dense(45, activation='relu'),     # hidden layer\n",
    "    Dense(1,   activation='sigmoid')  # output layer\n",
    "])"
   ]
  },
  {
   "cell_type": "code",
   "execution_count": 263,
   "metadata": {},
   "outputs": [
    {
     "name": "stdout",
     "output_type": "stream",
     "text": [
      "Model: \"sequential_5\"\n",
      "_________________________________________________________________\n",
      "Layer (type)                 Output Shape              Param #   \n",
      "=================================================================\n",
      "dense_10 (Dense)             (None, 45)                1035      \n",
      "_________________________________________________________________\n",
      "dense_11 (Dense)             (None, 1)                 46        \n",
      "=================================================================\n",
      "Total params: 1,081\n",
      "Trainable params: 1,081\n",
      "Non-trainable params: 0\n",
      "_________________________________________________________________\n"
     ]
    }
   ],
   "source": [
    "model2.summary()"
   ]
  },
  {
   "cell_type": "markdown",
   "metadata": {},
   "source": [
    "#### Compile the Model"
   ]
  },
  {
   "cell_type": "code",
   "execution_count": 264,
   "metadata": {},
   "outputs": [],
   "source": [
    "model2.compile(loss='binary_crossentropy',\n",
    "             optimizer='sgd',\n",
    "             metrics=['accuracy'])"
   ]
  },
  {
   "cell_type": "markdown",
   "metadata": {},
   "source": [
    "#### Prepare Callbacks"
   ]
  },
  {
   "cell_type": "code",
   "execution_count": 265,
   "metadata": {},
   "outputs": [],
   "source": [
    "from tensorflow.keras.callbacks import ModelCheckpoint, EarlyStopping\n",
    "\n",
    "checkpoint_cb = ModelCheckpoint('../SavedModels/best_model.h5',\n",
    "                                save_best_only=True)\n",
    "\n",
    "early_stopping_cb = EarlyStopping(patience=3,\n",
    "                                  restore_best_weights=True)"
   ]
  },
  {
   "cell_type": "markdown",
   "metadata": {},
   "source": [
    "### Training"
   ]
  },
  {
   "cell_type": "code",
   "execution_count": 266,
   "metadata": {},
   "outputs": [
    {
     "name": "stdout",
     "output_type": "stream",
     "text": [
      "Train on 6404 samples, validate on 500 samples\n",
      "Epoch 1/100\n",
      "6404/6404 [==============================] - 1s 184us/sample - loss: 0.4080 - acc: 0.8415 - val_loss: 0.3221 - val_acc: 0.8880\n",
      "Epoch 2/100\n",
      "6404/6404 [==============================] - 0s 51us/sample - loss: 0.2856 - acc: 0.9079 - val_loss: 0.2908 - val_acc: 0.8800\n",
      "Epoch 3/100\n",
      "6404/6404 [==============================] - 0s 45us/sample - loss: 0.2464 - acc: 0.9188 - val_loss: 0.2366 - val_acc: 0.9280\n",
      "Epoch 4/100\n",
      "6404/6404 [==============================] - 0s 59us/sample - loss: 0.2215 - acc: 0.9232 - val_loss: 0.2203 - val_acc: 0.9140\n",
      "Epoch 5/100\n",
      "6404/6404 [==============================] - ETA: 0s - loss: 0.2062 - acc: 0.925 - 0s 57us/sample - loss: 0.2049 - acc: 0.9265 - val_loss: 0.1967 - val_acc: 0.9400\n",
      "Epoch 6/100\n",
      "6404/6404 [==============================] - 0s 65us/sample - loss: 0.1899 - acc: 0.9333 - val_loss: 0.1874 - val_acc: 0.9440\n",
      "Epoch 7/100\n",
      "6404/6404 [==============================] - 0s 60us/sample - loss: 0.1780 - acc: 0.9343 - val_loss: 0.2027 - val_acc: 0.9400\n",
      "Epoch 8/100\n",
      "6404/6404 [==============================] - 0s 37us/sample - loss: 0.1677 - acc: 0.9382 - val_loss: 0.1652 - val_acc: 0.9440\n",
      "Epoch 9/100\n",
      "6404/6404 [==============================] - 0s 55us/sample - loss: 0.1588 - acc: 0.9385 - val_loss: 0.1650 - val_acc: 0.9380\n",
      "Epoch 10/100\n",
      "6404/6404 [==============================] - 0s 66us/sample - loss: 0.1509 - acc: 0.9422 - val_loss: 0.1597 - val_acc: 0.9480\n",
      "Epoch 11/100\n",
      "6404/6404 [==============================] - 1s 89us/sample - loss: 0.1433 - acc: 0.9449 - val_loss: 0.1913 - val_acc: 0.9180\n",
      "Epoch 12/100\n",
      "6404/6404 [==============================] - 1s 87us/sample - loss: 0.1351 - acc: 0.9491 - val_loss: 0.1469 - val_acc: 0.9460\n",
      "Epoch 13/100\n",
      "6404/6404 [==============================] - 0s 75us/sample - loss: 0.1266 - acc: 0.9530 - val_loss: 0.1257 - val_acc: 0.9600\n",
      "Epoch 14/100\n",
      "6404/6404 [==============================] - 0s 71us/sample - loss: 0.1214 - acc: 0.9571 - val_loss: 0.1195 - val_acc: 0.9580\n",
      "Epoch 15/100\n",
      "6404/6404 [==============================] - 0s 60us/sample - loss: 0.1153 - acc: 0.9613 - val_loss: 0.1182 - val_acc: 0.9560\n",
      "Epoch 16/100\n",
      "6404/6404 [==============================] - 0s 59us/sample - loss: 0.1091 - acc: 0.9647 - val_loss: 0.1308 - val_acc: 0.9500\n",
      "Epoch 17/100\n",
      "6404/6404 [==============================] - 0s 47us/sample - loss: 0.1050 - acc: 0.9653 - val_loss: 0.1025 - val_acc: 0.9740\n",
      "Epoch 18/100\n",
      "6404/6404 [==============================] - 0s 61us/sample - loss: 0.0993 - acc: 0.9700 - val_loss: 0.1015 - val_acc: 0.9820\n",
      "Epoch 19/100\n",
      "6404/6404 [==============================] - 0s 40us/sample - loss: 0.0941 - acc: 0.9736 - val_loss: 0.0934 - val_acc: 0.9700\n",
      "Epoch 20/100\n",
      "6404/6404 [==============================] - 0s 70us/sample - loss: 0.0901 - acc: 0.9767 - val_loss: 0.0868 - val_acc: 0.9840\n",
      "Epoch 21/100\n",
      "6404/6404 [==============================] - 0s 53us/sample - loss: 0.0859 - acc: 0.9781 - val_loss: 0.0832 - val_acc: 0.9860\n",
      "Epoch 22/100\n",
      "6404/6404 [==============================] - 0s 39us/sample - loss: 0.0824 - acc: 0.9799 - val_loss: 0.0836 - val_acc: 0.9700\n",
      "Epoch 23/100\n",
      "6404/6404 [==============================] - 0s 43us/sample - loss: 0.0791 - acc: 0.9817 - val_loss: 0.0793 - val_acc: 0.9780\n",
      "Epoch 24/100\n",
      "6404/6404 [==============================] - 0s 41us/sample - loss: 0.0769 - acc: 0.9817 - val_loss: 0.0720 - val_acc: 0.9840\n",
      "Epoch 25/100\n",
      "6404/6404 [==============================] - 0s 45us/sample - loss: 0.0739 - acc: 0.9820 - val_loss: 0.0720 - val_acc: 0.9820\n",
      "Epoch 26/100\n",
      "6404/6404 [==============================] - 0s 47us/sample - loss: 0.0718 - acc: 0.9833 - val_loss: 0.0681 - val_acc: 0.9860\n",
      "Epoch 27/100\n",
      "6404/6404 [==============================] - 0s 39us/sample - loss: 0.0691 - acc: 0.9844 - val_loss: 0.1207 - val_acc: 0.9620\n",
      "Epoch 28/100\n",
      "6404/6404 [==============================] - 0s 41us/sample - loss: 0.0675 - acc: 0.9847 - val_loss: 0.0647 - val_acc: 0.9860\n",
      "Epoch 29/100\n",
      "6404/6404 [==============================] - 0s 45us/sample - loss: 0.0654 - acc: 0.9853 - val_loss: 0.1814 - val_acc: 0.9160\n",
      "Epoch 30/100\n",
      "6404/6404 [==============================] - 0s 42us/sample - loss: 0.0638 - acc: 0.9852 - val_loss: 0.0571 - val_acc: 0.9860\n",
      "Epoch 31/100\n",
      "6404/6404 [==============================] - 0s 40us/sample - loss: 0.0603 - acc: 0.9872 - val_loss: 0.0551 - val_acc: 0.9860\n",
      "Epoch 32/100\n",
      "6404/6404 [==============================] - 0s 38us/sample - loss: 0.0590 - acc: 0.9867 - val_loss: 0.0571 - val_acc: 0.9840\n",
      "Epoch 33/100\n",
      "6404/6404 [==============================] - 0s 46us/sample - loss: 0.0572 - acc: 0.9875 - val_loss: 0.0552 - val_acc: 0.9880\n",
      "Epoch 34/100\n",
      "6404/6404 [==============================] - 0s 43us/sample - loss: 0.0553 - acc: 0.9886 - val_loss: 0.0510 - val_acc: 0.9860\n",
      "Epoch 35/100\n",
      "6404/6404 [==============================] - 0s 38us/sample - loss: 0.0541 - acc: 0.9881 - val_loss: 0.0539 - val_acc: 0.9920\n",
      "Epoch 36/100\n",
      "6404/6404 [==============================] - 0s 40us/sample - loss: 0.0530 - acc: 0.9875 - val_loss: 0.0503 - val_acc: 0.9900\n",
      "Epoch 37/100\n",
      "6404/6404 [==============================] - 0s 43us/sample - loss: 0.0520 - acc: 0.9886 - val_loss: 0.0505 - val_acc: 0.9920\n",
      "Epoch 38/100\n",
      "6404/6404 [==============================] - 0s 54us/sample - loss: 0.0498 - acc: 0.9881 - val_loss: 0.0460 - val_acc: 0.9860\n",
      "Epoch 39/100\n",
      "6404/6404 [==============================] - 0s 58us/sample - loss: 0.0495 - acc: 0.9899 - val_loss: 0.0446 - val_acc: 0.9860\n",
      "Epoch 40/100\n",
      "6404/6404 [==============================] - 0s 56us/sample - loss: 0.0480 - acc: 0.9895 - val_loss: 0.0456 - val_acc: 0.9920\n",
      "Epoch 41/100\n",
      "6404/6404 [==============================] - 0s 54us/sample - loss: 0.0472 - acc: 0.9883 - val_loss: 0.0428 - val_acc: 0.9860\n",
      "Epoch 42/100\n",
      "6404/6404 [==============================] - 0s 43us/sample - loss: 0.0468 - acc: 0.9886 - val_loss: 0.0598 - val_acc: 0.9920\n",
      "Epoch 43/100\n",
      "6404/6404 [==============================] - 0s 60us/sample - loss: 0.0459 - acc: 0.9894 - val_loss: 0.0433 - val_acc: 0.9880\n",
      "Epoch 44/100\n",
      "6404/6404 [==============================] - 0s 61us/sample - loss: 0.0448 - acc: 0.9892 - val_loss: 0.0392 - val_acc: 0.9860\n",
      "Epoch 45/100\n",
      "6404/6404 [==============================] - 0s 47us/sample - loss: 0.0430 - acc: 0.9902 - val_loss: 0.0381 - val_acc: 0.9880\n",
      "Epoch 46/100\n",
      "6404/6404 [==============================] - 0s 41us/sample - loss: 0.0426 - acc: 0.9897 - val_loss: 0.0379 - val_acc: 0.9920\n",
      "Epoch 47/100\n",
      "6404/6404 [==============================] - 0s 39us/sample - loss: 0.0419 - acc: 0.9903 - val_loss: 0.0383 - val_acc: 0.9920\n",
      "Epoch 48/100\n",
      "6404/6404 [==============================] - 0s 47us/sample - loss: 0.0416 - acc: 0.9903 - val_loss: 0.0380 - val_acc: 0.9920\n",
      "Epoch 49/100\n",
      "6404/6404 [==============================] - 0s 55us/sample - loss: 0.0400 - acc: 0.9905 - val_loss: 0.0408 - val_acc: 0.9920\n"
     ]
    }
   ],
   "source": [
    "train_model2 = model2.fit(X_train2, y_train2,\n",
    "                        epochs=100,\n",
    "                        validation_data=(X_valid2, y_valid2),\n",
    "                        callbacks=[checkpoint_cb, early_stopping_cb])\n",
    "                        \n"
   ]
  },
  {
   "cell_type": "markdown",
   "metadata": {},
   "source": [
    "### Evaluate the Best Model on Test Set"
   ]
  },
  {
   "cell_type": "code",
   "execution_count": 267,
   "metadata": {},
   "outputs": [
    {
     "name": "stdout",
     "output_type": "stream",
     "text": [
      "2000/2000 [==============================] - 0s 36us/sample - loss: 0.1863 - acc: 0.9330\n",
      "test loss, test acc: [0.18632307776808738, 0.933]\n"
     ]
    }
   ],
   "source": [
    "results2 = model2.evaluate(X_test2, y_test2)\n",
    "print(\"test loss, test acc:\", results2)"
   ]
  },
  {
   "cell_type": "markdown",
   "metadata": {},
   "source": [
    "### Make Some Predictions"
   ]
  },
  {
   "cell_type": "code",
   "execution_count": 268,
   "metadata": {},
   "outputs": [],
   "source": [
    "X_new2 = X_test2[1100:1110]\n",
    "y_prob2 = model2.predict(X_new2)\n",
    "# print(y_prob2.round(3))"
   ]
  },
  {
   "cell_type": "code",
   "execution_count": 269,
   "metadata": {},
   "outputs": [],
   "source": [
    "y_pred2 = (model2.predict(X_new2) > 0.5).astype(\"int32\")\n",
    "# print(y_pred2)\n",
    "y_test_pred2 = (model2.predict(X_test2) > 0.5).astype(\"int32\")"
   ]
  },
  {
   "cell_type": "markdown",
   "metadata": {},
   "source": [
    "## KL Divergence"
   ]
  },
  {
   "cell_type": "code",
   "execution_count": 270,
   "metadata": {},
   "outputs": [
    {
     "name": "stdout",
     "output_type": "stream",
     "text": [
      "        X_pred  y_pred  y_actual\n",
      "0     0.999979       1         1\n",
      "1     0.932437       1         1\n",
      "2     0.784315       1         1\n",
      "3     0.901394       1         1\n",
      "4     0.922961       1         1\n",
      "...        ...     ...       ...\n",
      "1995  0.719968       1         1\n",
      "1996  0.998294       1         1\n",
      "1997  0.290893       0         1\n",
      "1998  0.001422       0         0\n",
      "1999  0.997806       1         1\n",
      "\n",
      "[2000 rows x 3 columns]\n"
     ]
    }
   ],
   "source": [
    "# X_new = X_test[:5]\n",
    "X_df2 = pd.DataFrame(model2.predict(X_test2))\n",
    "y_test_pred2 = pd.DataFrame(y_test_pred2).reset_index(drop=True)\n",
    "X_df2 = pd.concat([X_df2, y_test_pred2], axis=1)\n",
    "y_test2 = y_test2.reset_index(drop=True)\n",
    "X_df2 = pd.concat([X_df2, y_test2], axis=1)\n",
    "X_df2.columns = [\"X_pred\",\"y_pred\",\"y_actual\"]\n",
    "print(X_df2)"
   ]
  },
  {
   "cell_type": "code",
   "execution_count": 271,
   "metadata": {},
   "outputs": [
    {
     "name": "stdout",
     "output_type": "stream",
     "text": [
      "        KL_div abs_distance y_pred correctness\n",
      "0     0.000249     0.999958      1           1\n",
      "1     0.247288     0.864875      1           1\n",
      "2     0.521392     0.568631      1           1\n",
      "3      0.32201     0.802787      1           1\n",
      "4     0.271477     0.845922      1           1\n",
      "...        ...          ...    ...         ...\n",
      "1995  0.592984     0.439935      1           1\n",
      "1996  0.012577     0.996588      1           1\n",
      "1997  0.602949     0.418214      0           0\n",
      "1998  0.010744     0.997156      0           1\n",
      "1999  0.015624     0.995612      1           1\n",
      "\n",
      "[2000 rows x 4 columns]\n"
     ]
    }
   ],
   "source": [
    "import math\n",
    "table2 = pd.DataFrame(columns=[\"KL_div\",\"abs_distance\",\"y_pred\",\"correctness\"])\n",
    "for i in range(0,len(X_df2)):\n",
    "    # KL divergence\n",
    "    p = X_df2.loc[i,\"X_pred\"]\n",
    "    kl = -(p*math.log(p) + (1-p)*math.log(1-p))\n",
    "    table2.loc[i,\"KL_div\"] = kl\n",
    "    # absolute distance\n",
    "    abs_dist = 2*abs(0.5-p)\n",
    "    table2.loc[i,\"abs_distance\"] = abs_dist\n",
    "    # correctness\n",
    "    y_pred = X_df2.loc[i,\"y_pred\"]\n",
    "    y_act = X_df2.loc[i,\"y_actual\"]\n",
    "    if y_pred == y_act:\n",
    "        table2.loc[i,\"correctness\"] = 1 # correct prediction\n",
    "    else:\n",
    "        table2.loc[i,\"correctness\"] = 0 # wrong prediction\n",
    "    table2.loc[i,\"y_pred\"] = y_pred\n",
    "\n",
    "print(table2)"
   ]
  },
  {
   "cell_type": "code",
   "execution_count": 272,
   "metadata": {},
   "outputs": [
    {
     "name": "stdout",
     "output_type": "stream",
     "text": [
      "            correctness  count    percent\n",
      "KL_div                                   \n",
      "(0.0, 0.1]         1164   1168  99.657534\n",
      "(0.1, 0.2]          243    260  93.461538\n",
      "(0.2, 0.3]          139    161  86.335404\n",
      "(0.3, 0.4]          101    117  86.324786\n",
      "(0.4, 0.5]           67     94  71.276596\n",
      "(0.5, 0.6]           75     87  86.206897\n",
      "(0.6, 0.7]           77    113  68.141593\n"
     ]
    }
   ],
   "source": [
    "table2[\"count\"] = 1\n",
    "correctness2 = table2[[\"correctness\",\"count\"]].groupby(pd.cut(table2[\"KL_div\"], np.arange(0, 0.8, 0.1))).apply(sum)\n",
    "correctness2[\"percent\"] = 100*(correctness2[\"correctness\"]/correctness2[\"count\"])\n",
    "print(correctness2)"
   ]
  },
  {
   "cell_type": "code",
   "execution_count": 273,
   "metadata": {},
   "outputs": [
    {
     "data": {
      "text/plain": [
       "Text(0, 0.5, '% correct')"
      ]
     },
     "execution_count": 273,
     "metadata": {},
     "output_type": "execute_result"
    },
    {
     "data": {
      "image/png": "[encoded data removed]",
      "text/plain": [
       "<Figure size 432x288 with 1 Axes>"
      ]
     },
     "metadata": {
      "needs_background": "light"
     },
     "output_type": "display_data"
    }
   ],
   "source": [
    "index = []\n",
    "for i in (correctness2.index):\n",
    "    index.append(str(i))\n",
    "plt.bar(index,correctness2[\"percent\"], width=0.7)\n",
    "for index,data in enumerate(correctness2[\"percent\"]):\n",
    "    plt.text(x=index , y =data+1 , s=f\"{round(data,2)}\" , fontdict=dict(fontsize=15),ha='center')\n",
    "plt.ylim(0,110)\n",
    "plt.xlabel(\"KL Divergence\")\n",
    "plt.ylabel(\"% correct\")"
   ]
  },
  {
   "cell_type": "markdown",
   "metadata": {},
   "source": [
    "### Confidence"
   ]
  },
  {
   "cell_type": "code",
   "execution_count": 274,
   "metadata": {},
   "outputs": [
    {
     "data": {
      "text/plain": [
       "<matplotlib.collections.PathCollection at 0x23f908a8288>"
      ]
     },
     "execution_count": 274,
     "metadata": {},
     "output_type": "execute_result"
    },
    {
     "data": {
      "image/png": "[encoded data removed]",
      "text/plain": [
       "<Figure size 432x288 with 1 Axes>"
      ]
     },
     "metadata": {
      "needs_background": "light"
     },
     "output_type": "display_data"
    }
   ],
   "source": [
    "kl2 = table2[[\"correctness\",\"count\"]].groupby(pd.cut(table2[\"KL_div\"], np.arange(0, 0.8, 0.1))).apply(sum)\n",
    "kl2[\"percent\"] = (kl2[\"correctness\"]/kl2[\"count\"])\n",
    "kl2.dropna(inplace=True)\n",
    "plt.scatter(np.arange(0, 0.70, 0.1), kl2[\"percent\"])\n",
    "# print(kl)\n",
    "# print(np.arange(0, 0.7, 0.05))"
   ]
  },
  {
   "cell_type": "code",
   "execution_count": 275,
   "metadata": {},
   "outputs": [],
   "source": [
    "# Linear Regression\n",
    "from sklearn.linear_model import LinearRegression\n",
    "\n",
    "x_reg2 = np.arange(0, 0.7, 0.1).reshape((-1, 1))\n",
    "y_reg2 = kl2[\"percent\"]\n",
    "reg_model2 = LinearRegression().fit(x_reg2,y_reg2)"
   ]
  },
  {
   "cell_type": "code",
   "execution_count": 276,
   "metadata": {},
   "outputs": [
    {
     "name": "stdout",
     "output_type": "stream",
     "text": [
      "intercept(alpha): 0.9778446925880102\n",
      "slope(theta): [-0.44327113]\n"
     ]
    }
   ],
   "source": [
    "print('intercept(alpha):', reg_model2.intercept_)\n",
    "print('slope(theta):', reg_model2.coef_)"
   ]
  },
  {
   "cell_type": "markdown",
   "metadata": {},
   "source": [
    "## Algorithm C: It = argmax(Ct,i)"
   ]
  },
  {
   "cell_type": "code",
   "execution_count": 277,
   "metadata": {},
   "outputs": [],
   "source": [
    "# Correct answer\n",
    "ans = pd.DataFrame(X_df2[\"y_actual\"])\n",
    "\n",
    "# NN1\n",
    "alpha1 = reg_model1.intercept_\n",
    "theta1 = reg_model1.coef_\n",
    "\n",
    "# NN2\n",
    "alpha2 = reg_model2.intercept_\n",
    "theta2 = reg_model2.coef_"
   ]
  },
  {
   "cell_type": "code",
   "execution_count": 299,
   "metadata": {},
   "outputs": [
    {
     "name": "stdout",
     "output_type": "stream",
     "text": [
      "             correctness  count   percent\n",
      "KL_div                                   \n",
      "(0.0, 0.05]        935.0  935.0  1.000000\n",
      "(0.05, 0.1]        229.0  233.0  0.982833\n",
      "(0.1, 0.15]        134.0  144.0  0.930556\n",
      "(0.15, 0.2]        109.0  116.0  0.939655\n",
      "(0.2, 0.25]         85.0   98.0  0.867347\n",
      "(0.25, 0.3]         54.0   63.0  0.857143\n",
      "(0.3, 0.35]         63.0   68.0  0.926471\n",
      "(0.35, 0.4]         38.0   49.0  0.775510\n",
      "(0.4, 0.45]         35.0   44.0  0.795455\n",
      "(0.45, 0.5]         32.0   50.0  0.640000\n",
      "(0.5, 0.55]         45.0   52.0  0.865385\n",
      "(0.55, 0.6]         30.0   35.0  0.857143\n",
      "(0.6, 0.65]         27.0   36.0  0.750000\n",
      "(0.65, 0.7]         50.0   77.0  0.649351\n",
      "(0.7, 0.75]          0.0    0.0       NaN\n"
     ]
    }
   ],
   "source": [
    "kl_div_table1 = table1[[\"correctness\",\"count\"]].groupby(pd.cut(table1[\"KL_div\"], np.arange(0, 0.8, 0.05))).apply(sum)\n",
    "kl_div_table1[\"percent\"] = (kl_div_table1[\"correctness\"]/kl_div_table1[\"count\"])\n",
    "\n",
    "kl_div_table2 = table2[[\"correctness\",\"count\"]].groupby(pd.cut(table2[\"KL_div\"], np.arange(0, 0.8, 0.05))).apply(sum)\n",
    "kl_div_table2[\"percent\"] = (kl_div_table2[\"correctness\"]/kl_div_table2[\"count\"])\n",
    "print(kl_div_table2)"
   ]
  },
  {
   "cell_type": "code",
   "execution_count": 305,
   "metadata": {},
   "outputs": [
    {
     "data": {
      "text/html": [
       "<div>\n",
       "<style scoped>\n",
       "    .dataframe tbody tr th:only-of-type {\n",
       "        vertical-align: middle;\n",
       "    }\n",
       "\n",
       "    .dataframe tbody tr th {\n",
       "        vertical-align: top;\n",
       "    }\n",
       "\n",
       "    .dataframe thead th {\n",
       "        text-align: right;\n",
       "    }\n",
       "</style>\n",
       "<table border=\"1\" class=\"dataframe\">\n",
       "  <thead>\n",
       "    <tr style=\"text-align: right;\">\n",
       "      <th></th>\n",
       "      <th>KL_div</th>\n",
       "      <th>y_pred</th>\n",
       "      <th>count</th>\n",
       "      <th>conf</th>\n",
       "    </tr>\n",
       "  </thead>\n",
       "  <tbody>\n",
       "    <tr>\n",
       "      <th>0</th>\n",
       "      <td>0.098054</td>\n",
       "      <td>1.0</td>\n",
       "      <td>1</td>\n",
       "      <td>0.927439</td>\n",
       "    </tr>\n",
       "    <tr>\n",
       "      <th>1</th>\n",
       "      <td>0.335157</td>\n",
       "      <td>1.0</td>\n",
       "      <td>1</td>\n",
       "      <td>0.75198</td>\n",
       "    </tr>\n",
       "    <tr>\n",
       "      <th>2</th>\n",
       "      <td>0.393614</td>\n",
       "      <td>1.0</td>\n",
       "      <td>1</td>\n",
       "      <td>0.708722</td>\n",
       "    </tr>\n",
       "    <tr>\n",
       "      <th>3</th>\n",
       "      <td>0.578759</td>\n",
       "      <td>1.0</td>\n",
       "      <td>1</td>\n",
       "      <td>0.571712</td>\n",
       "    </tr>\n",
       "    <tr>\n",
       "      <th>4</th>\n",
       "      <td>0.172874</td>\n",
       "      <td>1.0</td>\n",
       "      <td>1</td>\n",
       "      <td>0.872072</td>\n",
       "    </tr>\n",
       "    <tr>\n",
       "      <th>...</th>\n",
       "      <td>...</td>\n",
       "      <td>...</td>\n",
       "      <td>...</td>\n",
       "      <td>...</td>\n",
       "    </tr>\n",
       "    <tr>\n",
       "      <th>1995</th>\n",
       "      <td>0.493294</td>\n",
       "      <td>1.0</td>\n",
       "      <td>1</td>\n",
       "      <td>0.634958</td>\n",
       "    </tr>\n",
       "    <tr>\n",
       "      <th>1996</th>\n",
       "      <td>0.018534</td>\n",
       "      <td>1.0</td>\n",
       "      <td>1</td>\n",
       "      <td>0.986285</td>\n",
       "    </tr>\n",
       "    <tr>\n",
       "      <th>1997</th>\n",
       "      <td>0.669271</td>\n",
       "      <td>0.0</td>\n",
       "      <td>1</td>\n",
       "      <td>0.504733</td>\n",
       "    </tr>\n",
       "    <tr>\n",
       "      <th>1998</th>\n",
       "      <td>0.041836</td>\n",
       "      <td>0.0</td>\n",
       "      <td>1</td>\n",
       "      <td>0.969041</td>\n",
       "    </tr>\n",
       "    <tr>\n",
       "      <th>1999</th>\n",
       "      <td>0.076863</td>\n",
       "      <td>1.0</td>\n",
       "      <td>1</td>\n",
       "      <td>0.94312</td>\n",
       "    </tr>\n",
       "  </tbody>\n",
       "</table>\n",
       "<p>2000 rows × 4 columns</p>\n",
       "</div>"
      ],
      "text/plain": [
       "        KL_div  y_pred  count      conf\n",
       "0     0.098054     1.0      1  0.927439\n",
       "1     0.335157     1.0      1   0.75198\n",
       "2     0.393614     1.0      1  0.708722\n",
       "3     0.578759     1.0      1  0.571712\n",
       "4     0.172874     1.0      1  0.872072\n",
       "...        ...     ...    ...       ...\n",
       "1995  0.493294     1.0      1  0.634958\n",
       "1996  0.018534     1.0      1  0.986285\n",
       "1997  0.669271     0.0      1  0.504733\n",
       "1998  0.041836     0.0      1  0.969041\n",
       "1999  0.076863     1.0      1   0.94312\n",
       "\n",
       "[2000 rows x 4 columns]"
      ]
     },
     "execution_count": 305,
     "metadata": {},
     "output_type": "execute_result"
    }
   ],
   "source": [
    "# Creating NN tables\n",
    "nn1 = table1.drop([\"abs_distance\",\"correctness\"], axis=1)\n",
    "nn1[\"conf\"] = 1 + theta1 * nn1[\"KL_div\"]\n",
    "\n",
    "# for i in range(0,len(nn1)):\n",
    "#     nn1.loc[i,\"conf\"] = kl_div_table1.loc[nn1.loc[i,\"KL_div\"],\"percent\"]\n",
    "\n",
    "nn2 = table2.drop([\"abs_distance\",\"correctness\"], axis=1)\n",
    "nn2[\"conf\"] = 1 + theta2 * nn2[\"KL_div\"]\n",
    "\n",
    "# for i in range(0,len(nn2)):\n",
    "#     nn2.loc[i,\"conf\"] = kl_div_table2.loc[nn2.loc[i,\"KL_div\"],\"percent\"]\n",
    "nn1"
   ]
  },
  {
   "cell_type": "code",
   "execution_count": 306,
   "metadata": {},
   "outputs": [
    {
     "data": {
      "text/html": [
       "<div>\n",
       "<style scoped>\n",
       "    .dataframe tbody tr th:only-of-type {\n",
       "        vertical-align: middle;\n",
       "    }\n",
       "\n",
       "    .dataframe tbody tr th {\n",
       "        vertical-align: top;\n",
       "    }\n",
       "\n",
       "    .dataframe thead th {\n",
       "        text-align: right;\n",
       "    }\n",
       "</style>\n",
       "<table border=\"1\" class=\"dataframe\">\n",
       "  <thead>\n",
       "    <tr style=\"text-align: right;\">\n",
       "      <th></th>\n",
       "      <th>y_actual</th>\n",
       "      <th>y_pred</th>\n",
       "      <th>chosen_NN</th>\n",
       "      <th>chosen_conf</th>\n",
       "      <th>not_NN</th>\n",
       "      <th>not_conf</th>\n",
       "    </tr>\n",
       "  </thead>\n",
       "  <tbody>\n",
       "    <tr>\n",
       "      <th>0</th>\n",
       "      <td>1</td>\n",
       "      <td>1.0</td>\n",
       "      <td>2.0</td>\n",
       "      <td>0.999890</td>\n",
       "      <td>1.0</td>\n",
       "      <td>0.927439</td>\n",
       "    </tr>\n",
       "    <tr>\n",
       "      <th>1</th>\n",
       "      <td>1</td>\n",
       "      <td>1.0</td>\n",
       "      <td>2.0</td>\n",
       "      <td>0.890384</td>\n",
       "      <td>1.0</td>\n",
       "      <td>0.751980</td>\n",
       "    </tr>\n",
       "    <tr>\n",
       "      <th>2</th>\n",
       "      <td>1</td>\n",
       "      <td>1.0</td>\n",
       "      <td>2.0</td>\n",
       "      <td>0.768882</td>\n",
       "      <td>1.0</td>\n",
       "      <td>0.708722</td>\n",
       "    </tr>\n",
       "    <tr>\n",
       "      <th>3</th>\n",
       "      <td>1</td>\n",
       "      <td>1.0</td>\n",
       "      <td>2.0</td>\n",
       "      <td>0.857262</td>\n",
       "      <td>1.0</td>\n",
       "      <td>0.571712</td>\n",
       "    </tr>\n",
       "    <tr>\n",
       "      <th>4</th>\n",
       "      <td>1</td>\n",
       "      <td>1.0</td>\n",
       "      <td>2.0</td>\n",
       "      <td>0.879662</td>\n",
       "      <td>1.0</td>\n",
       "      <td>0.872072</td>\n",
       "    </tr>\n",
       "    <tr>\n",
       "      <th>...</th>\n",
       "      <td>...</td>\n",
       "      <td>...</td>\n",
       "      <td>...</td>\n",
       "      <td>...</td>\n",
       "      <td>...</td>\n",
       "      <td>...</td>\n",
       "    </tr>\n",
       "    <tr>\n",
       "      <th>1995</th>\n",
       "      <td>1</td>\n",
       "      <td>1.0</td>\n",
       "      <td>2.0</td>\n",
       "      <td>0.737147</td>\n",
       "      <td>1.0</td>\n",
       "      <td>0.634958</td>\n",
       "    </tr>\n",
       "    <tr>\n",
       "      <th>1996</th>\n",
       "      <td>1</td>\n",
       "      <td>1.0</td>\n",
       "      <td>2.0</td>\n",
       "      <td>0.994425</td>\n",
       "      <td>1.0</td>\n",
       "      <td>0.986285</td>\n",
       "    </tr>\n",
       "    <tr>\n",
       "      <th>1997</th>\n",
       "      <td>1</td>\n",
       "      <td>0.0</td>\n",
       "      <td>2.0</td>\n",
       "      <td>0.732730</td>\n",
       "      <td>1.0</td>\n",
       "      <td>0.504733</td>\n",
       "    </tr>\n",
       "    <tr>\n",
       "      <th>1998</th>\n",
       "      <td>0</td>\n",
       "      <td>0.0</td>\n",
       "      <td>2.0</td>\n",
       "      <td>0.995237</td>\n",
       "      <td>1.0</td>\n",
       "      <td>0.969041</td>\n",
       "    </tr>\n",
       "    <tr>\n",
       "      <th>1999</th>\n",
       "      <td>1</td>\n",
       "      <td>1.0</td>\n",
       "      <td>2.0</td>\n",
       "      <td>0.993075</td>\n",
       "      <td>1.0</td>\n",
       "      <td>0.943120</td>\n",
       "    </tr>\n",
       "  </tbody>\n",
       "</table>\n",
       "<p>2000 rows × 6 columns</p>\n",
       "</div>"
      ],
      "text/plain": [
       "      y_actual  y_pred  chosen_NN  chosen_conf  not_NN  not_conf\n",
       "0            1     1.0        2.0     0.999890     1.0  0.927439\n",
       "1            1     1.0        2.0     0.890384     1.0  0.751980\n",
       "2            1     1.0        2.0     0.768882     1.0  0.708722\n",
       "3            1     1.0        2.0     0.857262     1.0  0.571712\n",
       "4            1     1.0        2.0     0.879662     1.0  0.872072\n",
       "...        ...     ...        ...          ...     ...       ...\n",
       "1995         1     1.0        2.0     0.737147     1.0  0.634958\n",
       "1996         1     1.0        2.0     0.994425     1.0  0.986285\n",
       "1997         1     0.0        2.0     0.732730     1.0  0.504733\n",
       "1998         0     0.0        2.0     0.995237     1.0  0.969041\n",
       "1999         1     1.0        2.0     0.993075     1.0  0.943120\n",
       "\n",
       "[2000 rows x 6 columns]"
      ]
     },
     "execution_count": 306,
     "metadata": {},
     "output_type": "execute_result"
    }
   ],
   "source": [
    "# Determing higher confidence NN and choosing that arm\n",
    "\n",
    "for i in range(0,len(nn1)):\n",
    "    if nn1.loc[i,\"conf\"] > nn2.loc[i,\"conf\"]:\n",
    "        ans.loc[i,\"y_pred\"] = nn1.loc[i,\"y_pred\"]\n",
    "        ans.loc[i,\"chosen_NN\"] = 1\n",
    "        ans.loc[i,\"chosen_conf\"] = nn1.loc[i,\"conf\"]\n",
    "\n",
    "        ans.loc[i,\"not_NN\"] = 2\n",
    "        ans.loc[i,\"not_conf\"] = nn2.loc[i,\"conf\"]\n",
    "    else:\n",
    "        ans.loc[i,\"y_pred\"] = nn2.loc[i,\"y_pred\"]\n",
    "        ans.loc[i,\"chosen_NN\"] = 2\n",
    "        ans.loc[i,\"chosen_conf\"] = nn2.loc[i,\"conf\"]\n",
    "\n",
    "        ans.loc[i,\"not_NN\"] = 1\n",
    "        ans.loc[i,\"not_conf\"] = nn1.loc[i,\"conf\"]\n",
    "\n",
    "ans"
   ]
  },
  {
   "cell_type": "markdown",
   "metadata": {},
   "source": [
    "#### Comparing performance"
   ]
  },
  {
   "cell_type": "code",
   "execution_count": 307,
   "metadata": {},
   "outputs": [],
   "source": [
    "wrong_record = \"\"\n",
    "# NN1 performance\n",
    "cost1 = 0\n",
    "for i in range(0,len(nn1)):\n",
    "    if nn1.loc[i,\"y_pred\"] != ans.loc[i,\"y_actual\"]:\n",
    "        cost1 += 1 * nn1.loc[i,\"conf\"]\n",
    "    else:\n",
    "        pass\n",
    "\n",
    "# NN2 performance\n",
    "cost2 = 0\n",
    "for i in range(0,len(nn2)):\n",
    "    if nn2.loc[i,\"y_pred\"] != ans.loc[i,\"y_actual\"]:\n",
    "        cost2 += 1 * nn2.loc[i,\"conf\"]\n",
    "    else:\n",
    "        pass\n",
    "\n",
    "# Combined performance\n",
    "cost3 = 0\n",
    "for i in range(0,len(nn1)):\n",
    "    chosen_nn = int(ans.loc[i,\"chosen_NN\"])\n",
    "    chosen_nn_conf = round(ans.loc[i,\"chosen_conf\"],3)\n",
    "    not_nn = int(ans.loc[i,\"not_NN\"])\n",
    "    not_nn_conf = round(ans.loc[i,\"not_conf\"],3)\n",
    "    if ans.loc[i,\"y_pred\"] != ans.loc[i,\"y_actual\"]:\n",
    "        cost3 += 1 * ans.loc[i,\"chosen_conf\"]\n",
    "        wrong_record = wrong_record + (f\"{i}: Wrong NN:{chosen_nn}, Conf:{chosen_nn_conf} - Other NN{not_nn}, Conf:{not_nn_conf} \") + \"\\n\"\n",
    "    else:\n",
    "        pass"
   ]
  },
  {
   "cell_type": "code",
   "execution_count": 308,
   "metadata": {},
   "outputs": [
    {
     "name": "stdout",
     "output_type": "stream",
     "text": [
      "12: Wrong NN:2, Conf:0.725 - Other NN1, Conf:0.56 \n",
      "23: Wrong NN:2, Conf:0.739 - Other NN1, Conf:0.644 \n",
      "31: Wrong NN:1, Conf:0.87 - Other NN2, Conf:0.852 \n",
      "68: Wrong NN:2, Conf:0.838 - Other NN1, Conf:0.77 \n",
      "96: Wrong NN:2, Conf:0.9 - Other NN1, Conf:0.615 \n",
      "118: Wrong NN:2, Conf:0.696 - Other NN1, Conf:0.603 \n",
      "129: Wrong NN:2, Conf:0.879 - Other NN1, Conf:0.666 \n",
      "133: Wrong NN:2, Conf:0.937 - Other NN1, Conf:0.656 \n",
      "146: Wrong NN:2, Conf:0.785 - Other NN1, Conf:0.686 \n",
      "153: Wrong NN:2, Conf:0.918 - Other NN1, Conf:0.672 \n",
      "179: Wrong NN:2, Conf:0.769 - Other NN1, Conf:0.487 \n",
      "186: Wrong NN:2, Conf:0.902 - Other NN1, Conf:0.7 \n",
      "190: Wrong NN:2, Conf:0.957 - Other NN1, Conf:0.606 \n",
      "209: Wrong NN:2, Conf:0.874 - Other NN1, Conf:0.621 \n",
      "247: Wrong NN:2, Conf:0.863 - Other NN1, Conf:0.62 \n",
      "251: Wrong NN:2, Conf:0.694 - Other NN1, Conf:0.488 \n",
      "271: Wrong NN:2, Conf:0.856 - Other NN1, Conf:0.555 \n",
      "306: Wrong NN:2, Conf:0.787 - Other NN1, Conf:0.731 \n",
      "312: Wrong NN:2, Conf:0.789 - Other NN1, Conf:0.626 \n",
      "325: Wrong NN:2, Conf:0.906 - Other NN1, Conf:0.543 \n",
      "342: Wrong NN:2, Conf:0.842 - Other NN1, Conf:0.488 \n",
      "373: Wrong NN:2, Conf:0.872 - Other NN1, Conf:0.598 \n",
      "398: Wrong NN:2, Conf:0.693 - Other NN1, Conf:0.604 \n",
      "416: Wrong NN:2, Conf:0.834 - Other NN1, Conf:0.721 \n",
      "449: Wrong NN:2, Conf:0.959 - Other NN1, Conf:0.494 \n",
      "462: Wrong NN:2, Conf:0.823 - Other NN1, Conf:0.667 \n",
      "487: Wrong NN:2, Conf:0.84 - Other NN1, Conf:0.674 \n",
      "491: Wrong NN:2, Conf:0.854 - Other NN1, Conf:0.763 \n",
      "510: Wrong NN:2, Conf:0.711 - Other NN1, Conf:0.492 \n",
      "511: Wrong NN:2, Conf:0.816 - Other NN1, Conf:0.718 \n",
      "521: Wrong NN:2, Conf:0.696 - Other NN1, Conf:0.494 \n",
      "540: Wrong NN:1, Conf:0.801 - Other NN2, Conf:0.698 \n",
      "557: Wrong NN:2, Conf:0.867 - Other NN1, Conf:0.712 \n",
      "578: Wrong NN:2, Conf:0.796 - Other NN1, Conf:0.77 \n",
      "579: Wrong NN:2, Conf:0.954 - Other NN1, Conf:0.487 \n",
      "606: Wrong NN:2, Conf:0.788 - Other NN1, Conf:0.507 \n",
      "624: Wrong NN:2, Conf:0.886 - Other NN1, Conf:0.636 \n",
      "637: Wrong NN:2, Conf:0.719 - Other NN1, Conf:0.711 \n",
      "655: Wrong NN:2, Conf:0.821 - Other NN1, Conf:0.611 \n",
      "763: Wrong NN:2, Conf:0.832 - Other NN1, Conf:0.708 \n",
      "776: Wrong NN:2, Conf:0.789 - Other NN1, Conf:0.667 \n",
      "796: Wrong NN:2, Conf:0.894 - Other NN1, Conf:0.777 \n",
      "838: Wrong NN:2, Conf:0.906 - Other NN1, Conf:0.869 \n",
      "868: Wrong NN:2, Conf:0.778 - Other NN1, Conf:0.756 \n",
      "929: Wrong NN:2, Conf:0.911 - Other NN1, Conf:0.541 \n",
      "939: Wrong NN:2, Conf:0.765 - Other NN1, Conf:0.701 \n",
      "965: Wrong NN:2, Conf:0.836 - Other NN1, Conf:0.754 \n",
      "970: Wrong NN:2, Conf:0.749 - Other NN1, Conf:0.537 \n",
      "971: Wrong NN:2, Conf:0.868 - Other NN1, Conf:0.654 \n",
      "976: Wrong NN:2, Conf:0.796 - Other NN1, Conf:0.495 \n",
      "993: Wrong NN:2, Conf:0.789 - Other NN1, Conf:0.703 \n",
      "995: Wrong NN:2, Conf:0.79 - Other NN1, Conf:0.749 \n",
      "998: Wrong NN:2, Conf:0.8 - Other NN1, Conf:0.757 \n",
      "1029: Wrong NN:2, Conf:0.908 - Other NN1, Conf:0.611 \n",
      "1048: Wrong NN:2, Conf:0.909 - Other NN1, Conf:0.645 \n",
      "1077: Wrong NN:2, Conf:0.696 - Other NN1, Conf:0.54 \n",
      "1085: Wrong NN:2, Conf:0.824 - Other NN1, Conf:0.51 \n",
      "1090: Wrong NN:2, Conf:0.945 - Other NN1, Conf:0.724 \n",
      "1120: Wrong NN:1, Conf:0.851 - Other NN2, Conf:0.832 \n",
      "1124: Wrong NN:2, Conf:0.946 - Other NN1, Conf:0.606 \n",
      "1125: Wrong NN:2, Conf:0.841 - Other NN1, Conf:0.77 \n",
      "1195: Wrong NN:2, Conf:0.956 - Other NN1, Conf:0.489 \n",
      "1197: Wrong NN:2, Conf:0.774 - Other NN1, Conf:0.524 \n",
      "1260: Wrong NN:2, Conf:0.877 - Other NN1, Conf:0.488 \n",
      "1270: Wrong NN:2, Conf:0.949 - Other NN1, Conf:0.487 \n",
      "1274: Wrong NN:2, Conf:0.802 - Other NN1, Conf:0.489 \n",
      "1281: Wrong NN:2, Conf:0.697 - Other NN1, Conf:0.493 \n",
      "1288: Wrong NN:2, Conf:0.921 - Other NN1, Conf:0.665 \n",
      "1293: Wrong NN:2, Conf:0.802 - Other NN1, Conf:0.787 \n",
      "1304: Wrong NN:2, Conf:0.921 - Other NN1, Conf:0.653 \n",
      "1328: Wrong NN:2, Conf:0.838 - Other NN1, Conf:0.752 \n",
      "1337: Wrong NN:2, Conf:0.705 - Other NN1, Conf:0.576 \n",
      "1340: Wrong NN:2, Conf:0.956 - Other NN1, Conf:0.494 \n",
      "1355: Wrong NN:2, Conf:0.709 - Other NN1, Conf:0.553 \n",
      "1356: Wrong NN:2, Conf:0.805 - Other NN1, Conf:0.754 \n",
      "1392: Wrong NN:2, Conf:0.891 - Other NN1, Conf:0.685 \n",
      "1397: Wrong NN:2, Conf:0.799 - Other NN1, Conf:0.769 \n",
      "1446: Wrong NN:2, Conf:0.805 - Other NN1, Conf:0.511 \n",
      "1483: Wrong NN:2, Conf:0.856 - Other NN1, Conf:0.82 \n",
      "1500: Wrong NN:2, Conf:0.961 - Other NN1, Conf:0.489 \n",
      "1551: Wrong NN:2, Conf:0.869 - Other NN1, Conf:0.74 \n",
      "1552: Wrong NN:2, Conf:0.801 - Other NN1, Conf:0.739 \n",
      "1589: Wrong NN:2, Conf:0.938 - Other NN1, Conf:0.507 \n",
      "1654: Wrong NN:1, Conf:0.816 - Other NN2, Conf:0.732 \n",
      "1679: Wrong NN:2, Conf:0.697 - Other NN1, Conf:0.637 \n",
      "1693: Wrong NN:2, Conf:0.694 - Other NN1, Conf:0.583 \n",
      "1705: Wrong NN:2, Conf:0.927 - Other NN1, Conf:0.74 \n",
      "1714: Wrong NN:2, Conf:0.944 - Other NN1, Conf:0.695 \n",
      "1720: Wrong NN:2, Conf:0.928 - Other NN1, Conf:0.548 \n",
      "1738: Wrong NN:2, Conf:0.78 - Other NN1, Conf:0.631 \n",
      "1742: Wrong NN:2, Conf:0.909 - Other NN1, Conf:0.539 \n",
      "1753: Wrong NN:2, Conf:0.907 - Other NN1, Conf:0.601 \n",
      "1760: Wrong NN:2, Conf:0.91 - Other NN1, Conf:0.791 \n",
      "1764: Wrong NN:2, Conf:0.697 - Other NN1, Conf:0.585 \n",
      "1786: Wrong NN:2, Conf:0.774 - Other NN1, Conf:0.541 \n",
      "1842: Wrong NN:2, Conf:0.938 - Other NN1, Conf:0.667 \n",
      "1845: Wrong NN:2, Conf:0.917 - Other NN1, Conf:0.647 \n",
      "1851: Wrong NN:2, Conf:0.941 - Other NN1, Conf:0.493 \n",
      "1858: Wrong NN:2, Conf:0.885 - Other NN1, Conf:0.779 \n",
      "1872: Wrong NN:2, Conf:0.803 - Other NN1, Conf:0.724 \n",
      "1902: Wrong NN:2, Conf:0.918 - Other NN1, Conf:0.663 \n",
      "1913: Wrong NN:2, Conf:0.891 - Other NN1, Conf:0.849 \n",
      "1928: Wrong NN:2, Conf:0.789 - Other NN1, Conf:0.49 \n",
      "1956: Wrong NN:2, Conf:0.843 - Other NN1, Conf:0.744 \n",
      "1997: Wrong NN:2, Conf:0.733 - Other NN1, Conf:0.505 \n",
      "\n",
      "Error count for NN1:66.9460297847183, NN2:108.83716989761089, Combined:87.94946224971173\n"
     ]
    }
   ],
   "source": [
    "print(wrong_record)\n",
    "print(f\"Error count for NN1:{cost1}, NN2:{cost2}, Combined:{cost3}\")\n"
   ]
  }
 ],
 "metadata": {
  "kernelspec": {
   "display_name": "Python 3",
   "language": "python",
   "name": "python3"
  },
  "language_info": {
   "codemirror_mode": {
    "name": "ipython",
    "version": 3
   },
   "file_extension": ".py",
   "mimetype": "text/x-python",
   "name": "python",
   "nbconvert_exporter": "python",
   "pygments_lexer": "ipython3",
   "version": "3.7.12"
  }
 },
 "nbformat": 4,
 "nbformat_minor": 4
}
