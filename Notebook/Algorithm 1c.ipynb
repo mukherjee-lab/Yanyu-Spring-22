{
 "cells": [
  {
   "cell_type": "markdown",
   "metadata": {},
   "source": [
    "# MUSHROOMS"
   ]
  },
  {
   "cell_type": "markdown",
   "metadata": {},
   "source": [
    "## Binary Classification"
   ]
  },
  {
   "cell_type": "markdown",
   "metadata": {},
   "source": [
    "### Imports"
   ]
  },
  {
   "cell_type": "code",
   "execution_count": 2,
   "metadata": {},
   "outputs": [],
   "source": [
    "import os\n",
    "import pandas as pd\n",
    "import numpy as np\n",
    "\n",
    "import tensorflow as tf\n",
    "from tensorflow import keras\n",
    "\n",
    "import matplotlib.pyplot as plt"
   ]
  },
  {
   "cell_type": "markdown",
   "metadata": {},
   "source": [
    "### Load Data"
   ]
  },
  {
   "cell_type": "code",
   "execution_count": 350,
   "metadata": {},
   "outputs": [],
   "source": [
    "DATA_PATH = '../DATA/'\n",
    "FILE_NAME = 'mushrooms.csv'\n",
    "def load_data(data_path=DATA_PATH, file_name=FILE_NAME):\n",
    "    csv_path = os.path.join(data_path, file_name)\n",
    "    return pd.read_csv(csv_path)\n",
    "\n",
    "dataset = load_data()"
   ]
  },
  {
   "cell_type": "markdown",
   "metadata": {},
   "source": [
    "### View Data and Informations"
   ]
  },
  {
   "cell_type": "code",
   "execution_count": 4,
   "metadata": {},
   "outputs": [
    {
     "data": {
      "text/html": [
       "<div>\n",
       "<style scoped>\n",
       "    .dataframe tbody tr th:only-of-type {\n",
       "        vertical-align: middle;\n",
       "    }\n",
       "\n",
       "    .dataframe tbody tr th {\n",
       "        vertical-align: top;\n",
       "    }\n",
       "\n",
       "    .dataframe thead th {\n",
       "        text-align: right;\n",
       "    }\n",
       "</style>\n",
       "<table border=\"1\" class=\"dataframe\">\n",
       "  <thead>\n",
       "    <tr style=\"text-align: right;\">\n",
       "      <th></th>\n",
       "      <th>class</th>\n",
       "      <th>cap-shape</th>\n",
       "      <th>cap-surface</th>\n",
       "      <th>cap-color</th>\n",
       "      <th>bruises</th>\n",
       "      <th>odor</th>\n",
       "      <th>gill-attachment</th>\n",
       "      <th>gill-spacing</th>\n",
       "      <th>gill-size</th>\n",
       "      <th>gill-color</th>\n",
       "      <th>...</th>\n",
       "      <th>stalk-surface-below-ring</th>\n",
       "      <th>stalk-color-above-ring</th>\n",
       "      <th>stalk-color-below-ring</th>\n",
       "      <th>veil-type</th>\n",
       "      <th>veil-color</th>\n",
       "      <th>ring-number</th>\n",
       "      <th>ring-type</th>\n",
       "      <th>spore-print-color</th>\n",
       "      <th>population</th>\n",
       "      <th>habitat</th>\n",
       "    </tr>\n",
       "  </thead>\n",
       "  <tbody>\n",
       "    <tr>\n",
       "      <th>0</th>\n",
       "      <td>p</td>\n",
       "      <td>x</td>\n",
       "      <td>s</td>\n",
       "      <td>n</td>\n",
       "      <td>t</td>\n",
       "      <td>p</td>\n",
       "      <td>f</td>\n",
       "      <td>c</td>\n",
       "      <td>n</td>\n",
       "      <td>k</td>\n",
       "      <td>...</td>\n",
       "      <td>s</td>\n",
       "      <td>w</td>\n",
       "      <td>w</td>\n",
       "      <td>p</td>\n",
       "      <td>w</td>\n",
       "      <td>o</td>\n",
       "      <td>p</td>\n",
       "      <td>k</td>\n",
       "      <td>s</td>\n",
       "      <td>u</td>\n",
       "    </tr>\n",
       "    <tr>\n",
       "      <th>1</th>\n",
       "      <td>e</td>\n",
       "      <td>x</td>\n",
       "      <td>s</td>\n",
       "      <td>y</td>\n",
       "      <td>t</td>\n",
       "      <td>a</td>\n",
       "      <td>f</td>\n",
       "      <td>c</td>\n",
       "      <td>b</td>\n",
       "      <td>k</td>\n",
       "      <td>...</td>\n",
       "      <td>s</td>\n",
       "      <td>w</td>\n",
       "      <td>w</td>\n",
       "      <td>p</td>\n",
       "      <td>w</td>\n",
       "      <td>o</td>\n",
       "      <td>p</td>\n",
       "      <td>n</td>\n",
       "      <td>n</td>\n",
       "      <td>g</td>\n",
       "    </tr>\n",
       "    <tr>\n",
       "      <th>2</th>\n",
       "      <td>e</td>\n",
       "      <td>b</td>\n",
       "      <td>s</td>\n",
       "      <td>w</td>\n",
       "      <td>t</td>\n",
       "      <td>l</td>\n",
       "      <td>f</td>\n",
       "      <td>c</td>\n",
       "      <td>b</td>\n",
       "      <td>n</td>\n",
       "      <td>...</td>\n",
       "      <td>s</td>\n",
       "      <td>w</td>\n",
       "      <td>w</td>\n",
       "      <td>p</td>\n",
       "      <td>w</td>\n",
       "      <td>o</td>\n",
       "      <td>p</td>\n",
       "      <td>n</td>\n",
       "      <td>n</td>\n",
       "      <td>m</td>\n",
       "    </tr>\n",
       "    <tr>\n",
       "      <th>3</th>\n",
       "      <td>p</td>\n",
       "      <td>x</td>\n",
       "      <td>y</td>\n",
       "      <td>w</td>\n",
       "      <td>t</td>\n",
       "      <td>p</td>\n",
       "      <td>f</td>\n",
       "      <td>c</td>\n",
       "      <td>n</td>\n",
       "      <td>n</td>\n",
       "      <td>...</td>\n",
       "      <td>s</td>\n",
       "      <td>w</td>\n",
       "      <td>w</td>\n",
       "      <td>p</td>\n",
       "      <td>w</td>\n",
       "      <td>o</td>\n",
       "      <td>p</td>\n",
       "      <td>k</td>\n",
       "      <td>s</td>\n",
       "      <td>u</td>\n",
       "    </tr>\n",
       "    <tr>\n",
       "      <th>4</th>\n",
       "      <td>e</td>\n",
       "      <td>x</td>\n",
       "      <td>s</td>\n",
       "      <td>g</td>\n",
       "      <td>f</td>\n",
       "      <td>n</td>\n",
       "      <td>f</td>\n",
       "      <td>w</td>\n",
       "      <td>b</td>\n",
       "      <td>k</td>\n",
       "      <td>...</td>\n",
       "      <td>s</td>\n",
       "      <td>w</td>\n",
       "      <td>w</td>\n",
       "      <td>p</td>\n",
       "      <td>w</td>\n",
       "      <td>o</td>\n",
       "      <td>e</td>\n",
       "      <td>n</td>\n",
       "      <td>a</td>\n",
       "      <td>g</td>\n",
       "    </tr>\n",
       "  </tbody>\n",
       "</table>\n",
       "<p>5 rows × 23 columns</p>\n",
       "</div>"
      ],
      "text/plain": [
       "  class cap-shape cap-surface cap-color bruises odor gill-attachment  \\\n",
       "0     p         x           s         n       t    p               f   \n",
       "1     e         x           s         y       t    a               f   \n",
       "2     e         b           s         w       t    l               f   \n",
       "3     p         x           y         w       t    p               f   \n",
       "4     e         x           s         g       f    n               f   \n",
       "\n",
       "  gill-spacing gill-size gill-color  ... stalk-surface-below-ring  \\\n",
       "0            c         n          k  ...                        s   \n",
       "1            c         b          k  ...                        s   \n",
       "2            c         b          n  ...                        s   \n",
       "3            c         n          n  ...                        s   \n",
       "4            w         b          k  ...                        s   \n",
       "\n",
       "  stalk-color-above-ring stalk-color-below-ring veil-type veil-color  \\\n",
       "0                      w                      w         p          w   \n",
       "1                      w                      w         p          w   \n",
       "2                      w                      w         p          w   \n",
       "3                      w                      w         p          w   \n",
       "4                      w                      w         p          w   \n",
       "\n",
       "  ring-number ring-type spore-print-color population habitat  \n",
       "0           o         p                 k          s       u  \n",
       "1           o         p                 n          n       g  \n",
       "2           o         p                 n          n       m  \n",
       "3           o         p                 k          s       u  \n",
       "4           o         e                 n          a       g  \n",
       "\n",
       "[5 rows x 23 columns]"
      ]
     },
     "execution_count": 4,
     "metadata": {},
     "output_type": "execute_result"
    }
   ],
   "source": [
    "dataset.head()"
   ]
  },
  {
   "cell_type": "code",
   "execution_count": 5,
   "metadata": {},
   "outputs": [
    {
     "name": "stdout",
     "output_type": "stream",
     "text": [
      "<class 'pandas.core.frame.DataFrame'>\n",
      "RangeIndex: 8124 entries, 0 to 8123\n",
      "Data columns (total 23 columns):\n",
      " #   Column                    Non-Null Count  Dtype \n",
      "---  ------                    --------------  ----- \n",
      " 0   class                     8124 non-null   object\n",
      " 1   cap-shape                 8124 non-null   object\n",
      " 2   cap-surface               8124 non-null   object\n",
      " 3   cap-color                 8124 non-null   object\n",
      " 4   bruises                   8124 non-null   object\n",
      " 5   odor                      8124 non-null   object\n",
      " 6   gill-attachment           8124 non-null   object\n",
      " 7   gill-spacing              8124 non-null   object\n",
      " 8   gill-size                 8124 non-null   object\n",
      " 9   gill-color                8124 non-null   object\n",
      " 10  stalk-shape               8124 non-null   object\n",
      " 11  stalk-root                8124 non-null   object\n",
      " 12  stalk-surface-above-ring  8124 non-null   object\n",
      " 13  stalk-surface-below-ring  8124 non-null   object\n",
      " 14  stalk-color-above-ring    8124 non-null   object\n",
      " 15  stalk-color-below-ring    8124 non-null   object\n",
      " 16  veil-type                 8124 non-null   object\n",
      " 17  veil-color                8124 non-null   object\n",
      " 18  ring-number               8124 non-null   object\n",
      " 19  ring-type                 8124 non-null   object\n",
      " 20  spore-print-color         8124 non-null   object\n",
      " 21  population                8124 non-null   object\n",
      " 22  habitat                   8124 non-null   object\n",
      "dtypes: object(23)\n",
      "memory usage: 1.4+ MB\n"
     ]
    }
   ],
   "source": [
    "dataset.info()"
   ]
  },
  {
   "cell_type": "code",
   "execution_count": 6,
   "metadata": {},
   "outputs": [
    {
     "name": "stdout",
     "output_type": "stream",
     "text": [
      "Edible:\t   4208 \n",
      "Poisonous: 3916\n"
     ]
    }
   ],
   "source": [
    "edible, poisonous = dataset['class'].value_counts()\n",
    "\n",
    "print(\"Edible:\\t  \", edible,\"\\nPoisonous:\", poisonous)"
   ]
  },
  {
   "cell_type": "code",
   "execution_count": 7,
   "metadata": {},
   "outputs": [
    {
     "name": "stdout",
     "output_type": "stream",
     "text": [
      "0 - Edible:    4208 \n",
      "1 - Poisonous: 3916\n"
     ]
    }
   ],
   "source": [
    "# Categorical to numerical\n",
    "labels = {'e': 0, 'p': 1}\n",
    "dataset['class'].replace(labels, inplace=True)\n",
    "\n",
    "edible, poisonous = dataset['class'].value_counts()\n",
    "print(\"0 - Edible:   \", edible,\"\\n1 - Poisonous:\", poisonous)"
   ]
  },
  {
   "cell_type": "markdown",
   "metadata": {},
   "source": [
    "# NN1 Gill Color - Black (k)"
   ]
  },
  {
   "cell_type": "markdown",
   "metadata": {},
   "source": [
    "### Split Dataset"
   ]
  },
  {
   "cell_type": "markdown",
   "metadata": {},
   "source": [
    "#### Get the Labels"
   ]
  },
  {
   "cell_type": "code",
   "execution_count": 130,
   "metadata": {},
   "outputs": [
    {
     "name": "stdout",
     "output_type": "stream",
     "text": [
      "X: (8124, 22) \n",
      "y: (8124,)\n"
     ]
    }
   ],
   "source": [
    "X, y =  dataset.drop('class', axis=1), dataset['class'].copy()\n",
    "\n",
    "print(\"X:\",X.shape,\"\\ny:\",y.shape)"
   ]
  },
  {
   "cell_type": "markdown",
   "metadata": {},
   "source": [
    "#### Train Set and Test Set"
   ]
  },
  {
   "cell_type": "code",
   "execution_count": 266,
   "metadata": {},
   "outputs": [],
   "source": [
    "from sklearn.model_selection import train_test_split\n",
    "X_white = pd.DataFrame()\n",
    "X_not_white = pd.DataFrame()\n",
    "y_white = pd.Series(dtype='float64')\n",
    "y_not_white = pd.Series(dtype='float64')\n",
    "for i in range(0,len(X)):\n",
    "    if X.loc[i,\"gill-color\"] == \"k\":\n",
    "        X_white = X_white.append(X.iloc[i,:])\n",
    "        y_white = y_white.append(pd.Series(y.iloc[i]))\n",
    "    else:\n",
    "        X_not_white = X_not_white.append(X.iloc[i,:])\n",
    "        y_not_white = y_not_white.append(pd.Series(y.iloc[i]))"
   ]
  },
  {
   "cell_type": "code",
   "execution_count": 267,
   "metadata": {},
   "outputs": [],
   "source": [
    "X_train_not_white, X_test_not_white, y_train_not_white, y_test_not_white = train_test_split(X_not_white, y_not_white, test_size=1-(6905/(8124-len(X_white))), random_state=11)\n",
    "\n",
    "# print(X_test_white)\n",
    "X_train_white = (X_train_not_white)\n",
    "# X_test_white = X_white.append(X_test_not_white)\n",
    "y_train_white = (y_train_not_white)\n",
    "# y_test_white = y_white.append(y_test_not_white)"
   ]
  },
  {
   "cell_type": "code",
   "execution_count": 268,
   "metadata": {},
   "outputs": [],
   "source": [
    "from sklearn.utils import shuffle\n",
    "X_train_full1 = shuffle(X_train_white, random_state=11)\n",
    "X_test = shuffle(X, random_state=11).iloc[2000:4000]\n",
    "y_train_full1 = shuffle(y_train_white, random_state=11)\n",
    "y_test = shuffle(y, random_state=11).iloc[2000:4000]"
   ]
  },
  {
   "cell_type": "code",
   "execution_count": 269,
   "metadata": {},
   "outputs": [],
   "source": [
    "# print(X_test[:5])\n",
    "# print(y_test.loc[:,\"0\"])\n",
    "# from sklearn.model_selection import train_test_split\n",
    "\n",
    "# X_train_full, X_test, y_train_full, y_test = train_test_split(X, y, test_size=0.15, random_state=11)\n",
    "\n",
    "# print(\"85% - X_train size:\", X_train_full.shape[0], \" y_train size:\", y_train_full.shape[0])\n",
    "# print(\"15% - X_test size: \", X_test.shape[0], \" y_test size: \", y_test.shape[0])"
   ]
  },
  {
   "cell_type": "markdown",
   "metadata": {},
   "source": [
    "#### Validation Set"
   ]
  },
  {
   "cell_type": "code",
   "execution_count": 270,
   "metadata": {},
   "outputs": [
    {
     "name": "stdout",
     "output_type": "stream",
     "text": [
      "X_train: 6404 y_train 6404\n",
      "X_valid:  500 y_valid  500\n",
      "X_test:  2000 y_test  2000\n"
     ]
    }
   ],
   "source": [
    "X_valid1, X_train1 = X_train_full1[:500], X_train_full1[500:]\n",
    "y_valid1, y_train1 = y_train_full1[:500], y_train_full1[500:]\n",
    "\n",
    "print(\"X_train:\", X_train1.shape[0], \"y_train\", y_train1.shape[0])\n",
    "print(\"X_valid: \", X_valid1.shape[0], \"y_valid \", y_valid1.shape[0])\n",
    "print(\"X_test: \", X_test.shape[0], \"y_test \", X_test.shape[0])\n"
   ]
  },
  {
   "cell_type": "markdown",
   "metadata": {},
   "source": [
    "### Prepare the Data"
   ]
  },
  {
   "cell_type": "markdown",
   "metadata": {},
   "source": [
    "#### Data Transformation"
   ]
  },
  {
   "cell_type": "code",
   "execution_count": 271,
   "metadata": {},
   "outputs": [],
   "source": [
    "from sklearn.pipeline import Pipeline\n",
    "from sklearn.preprocessing import OrdinalEncoder\n",
    "from sklearn.compose import ColumnTransformer\n",
    "\n",
    "cat_attr_pipeline = Pipeline([\n",
    "                        ('encoder', OrdinalEncoder())\n",
    "                    ])\n",
    "\n",
    "cols = list(X)\n",
    "pipeline = ColumnTransformer([\n",
    "                ('cat_attr_pipeline', cat_attr_pipeline, cols)\n",
    "            ])\n",
    "\n",
    "\n",
    "X_train1 = pipeline.fit_transform(X_train1)\n",
    "X_valid1 = pipeline.fit_transform(X_valid1)\n",
    "X_test1  = pipeline.fit_transform(X_test)"
   ]
  },
  {
   "cell_type": "markdown",
   "metadata": {},
   "source": [
    "### Neural Network"
   ]
  },
  {
   "cell_type": "markdown",
   "metadata": {},
   "source": [
    "#### Model"
   ]
  },
  {
   "cell_type": "code",
   "execution_count": 272,
   "metadata": {},
   "outputs": [],
   "source": [
    "from tensorflow.keras.models import Sequential\n",
    "from tensorflow.keras.layers import InputLayer, Dense"
   ]
  },
  {
   "cell_type": "code",
   "execution_count": 273,
   "metadata": {},
   "outputs": [],
   "source": [
    "tf.random.set_seed(11)"
   ]
  },
  {
   "cell_type": "code",
   "execution_count": 274,
   "metadata": {},
   "outputs": [],
   "source": [
    "model1 = Sequential([\n",
    "    InputLayer(input_shape=(22,)),    # input  layer\n",
    "    Dense(45, activation='relu'),     # hidden layer\n",
    "    Dense(1,   activation='sigmoid')  # output layer\n",
    "])"
   ]
  },
  {
   "cell_type": "code",
   "execution_count": 275,
   "metadata": {},
   "outputs": [
    {
     "name": "stdout",
     "output_type": "stream",
     "text": [
      "Model: \"sequential_8\"\n",
      "_________________________________________________________________\n",
      " Layer (type)                Output Shape              Param #   \n",
      "=================================================================\n",
      " dense_16 (Dense)            (None, 45)                1035      \n",
      "                                                                 \n",
      " dense_17 (Dense)            (None, 1)                 46        \n",
      "                                                                 \n",
      "=================================================================\n",
      "Total params: 1,081\n",
      "Trainable params: 1,081\n",
      "Non-trainable params: 0\n",
      "_________________________________________________________________\n"
     ]
    }
   ],
   "source": [
    "model1.summary()"
   ]
  },
  {
   "cell_type": "markdown",
   "metadata": {},
   "source": [
    "#### Compile the Model"
   ]
  },
  {
   "cell_type": "code",
   "execution_count": 276,
   "metadata": {},
   "outputs": [],
   "source": [
    "model1.compile(loss='binary_crossentropy',\n",
    "             optimizer='sgd',\n",
    "             metrics=['accuracy'])"
   ]
  },
  {
   "cell_type": "markdown",
   "metadata": {},
   "source": [
    "#### Prepare Callbacks"
   ]
  },
  {
   "cell_type": "code",
   "execution_count": 277,
   "metadata": {},
   "outputs": [],
   "source": [
    "from tensorflow.keras.callbacks import ModelCheckpoint, EarlyStopping\n",
    "\n",
    "checkpoint_cb = ModelCheckpoint('../SavedModels/best_model.h5',\n",
    "                                save_best_only=True)\n",
    "\n",
    "early_stopping_cb = EarlyStopping(patience=3,\n",
    "                                  restore_best_weights=True)"
   ]
  },
  {
   "cell_type": "markdown",
   "metadata": {},
   "source": [
    "### Training"
   ]
  },
  {
   "cell_type": "code",
   "execution_count": 278,
   "metadata": {},
   "outputs": [
    {
     "name": "stdout",
     "output_type": "stream",
     "text": [
      "Epoch 1/100\n",
      "201/201 [==============================] - 1s 1ms/step - loss: 0.4217 - accuracy: 0.8326 - val_loss: 0.3523 - val_accuracy: 0.8920\n",
      "Epoch 2/100\n",
      "201/201 [==============================] - 0s 1ms/step - loss: 0.3142 - accuracy: 0.8951 - val_loss: 0.3011 - val_accuracy: 0.9180\n",
      "Epoch 3/100\n",
      "201/201 [==============================] - 0s 845us/step - loss: 0.2721 - accuracy: 0.9136 - val_loss: 0.2639 - val_accuracy: 0.9240\n",
      "Epoch 4/100\n",
      "201/201 [==============================] - 0s 835us/step - loss: 0.2472 - accuracy: 0.9208 - val_loss: 0.2463 - val_accuracy: 0.9440\n",
      "Epoch 5/100\n",
      "201/201 [==============================] - 0s 836us/step - loss: 0.2269 - accuracy: 0.9275 - val_loss: 0.2286 - val_accuracy: 0.9380\n",
      "Epoch 6/100\n",
      "201/201 [==============================] - 0s 769us/step - loss: 0.2094 - accuracy: 0.9321 - val_loss: 0.2113 - val_accuracy: 0.9360\n",
      "Epoch 7/100\n",
      "201/201 [==============================] - 0s 791us/step - loss: 0.1927 - accuracy: 0.9363 - val_loss: 0.1968 - val_accuracy: 0.9380\n",
      "Epoch 8/100\n",
      "201/201 [==============================] - 0s 647us/step - loss: 0.1782 - accuracy: 0.9399 - val_loss: 0.3421 - val_accuracy: 0.9040\n",
      "Epoch 9/100\n",
      "201/201 [==============================] - 0s 762us/step - loss: 0.1663 - accuracy: 0.9452 - val_loss: 0.1702 - val_accuracy: 0.9420\n",
      "Epoch 10/100\n",
      "201/201 [==============================] - 0s 879us/step - loss: 0.1527 - accuracy: 0.9474 - val_loss: 0.1598 - val_accuracy: 0.9460\n",
      "Epoch 11/100\n",
      "201/201 [==============================] - 0s 847us/step - loss: 0.1405 - accuracy: 0.9538 - val_loss: 0.1478 - val_accuracy: 0.9500\n",
      "Epoch 12/100\n",
      "201/201 [==============================] - 0s 653us/step - loss: 0.1313 - accuracy: 0.9564 - val_loss: 0.1733 - val_accuracy: 0.9360\n",
      "Epoch 13/100\n",
      "201/201 [==============================] - 0s 786us/step - loss: 0.1233 - accuracy: 0.9605 - val_loss: 0.1284 - val_accuracy: 0.9520\n",
      "Epoch 14/100\n",
      "201/201 [==============================] - 0s 644us/step - loss: 0.1141 - accuracy: 0.9622 - val_loss: 0.1411 - val_accuracy: 0.9520\n",
      "Epoch 15/100\n",
      "201/201 [==============================] - 0s 651us/step - loss: 0.1083 - accuracy: 0.9652 - val_loss: 0.1328 - val_accuracy: 0.9580\n",
      "Epoch 16/100\n",
      "201/201 [==============================] - 0s 826us/step - loss: 0.1015 - accuracy: 0.9681 - val_loss: 0.1120 - val_accuracy: 0.9600\n",
      "Epoch 17/100\n",
      "201/201 [==============================] - 0s 835us/step - loss: 0.0958 - accuracy: 0.9706 - val_loss: 0.1031 - val_accuracy: 0.9680\n",
      "Epoch 18/100\n",
      "201/201 [==============================] - 0s 715us/step - loss: 0.0898 - accuracy: 0.9738 - val_loss: 0.1102 - val_accuracy: 0.9640\n",
      "Epoch 19/100\n",
      "201/201 [==============================] - 0s 716us/step - loss: 0.0844 - accuracy: 0.9763 - val_loss: 0.1416 - val_accuracy: 0.9460\n",
      "Epoch 20/100\n",
      "201/201 [==============================] - 0s 783us/step - loss: 0.0805 - accuracy: 0.9775 - val_loss: 0.0900 - val_accuracy: 0.9700\n",
      "Epoch 21/100\n",
      "201/201 [==============================] - 0s 810us/step - loss: 0.0764 - accuracy: 0.9791 - val_loss: 0.0879 - val_accuracy: 0.9720\n",
      "Epoch 22/100\n",
      "201/201 [==============================] - 0s 678us/step - loss: 0.0721 - accuracy: 0.9805 - val_loss: 0.2074 - val_accuracy: 0.9140\n",
      "Epoch 23/100\n",
      "201/201 [==============================] - 0s 752us/step - loss: 0.0700 - accuracy: 0.9806 - val_loss: 0.0767 - val_accuracy: 0.9720\n",
      "Epoch 24/100\n",
      "201/201 [==============================] - 0s 685us/step - loss: 0.0646 - accuracy: 0.9842 - val_loss: 0.0867 - val_accuracy: 0.9740\n",
      "Epoch 25/100\n",
      "201/201 [==============================] - 0s 754us/step - loss: 0.0629 - accuracy: 0.9836 - val_loss: 0.0841 - val_accuracy: 0.9760\n",
      "Epoch 26/100\n",
      "201/201 [==============================] - 0s 688us/step - loss: 0.0599 - accuracy: 0.9836 - val_loss: 0.1007 - val_accuracy: 0.9720\n"
     ]
    }
   ],
   "source": [
    "train_model1 = model1.fit(X_train1, y_train1,\n",
    "                        epochs=100,\n",
    "                        validation_data=(X_valid1, y_valid1),\n",
    "                        callbacks=[checkpoint_cb, early_stopping_cb])\n",
    "                        \n"
   ]
  },
  {
   "cell_type": "markdown",
   "metadata": {},
   "source": [
    "### Evaluate the Best Model on Test Set"
   ]
  },
  {
   "cell_type": "code",
   "execution_count": 279,
   "metadata": {},
   "outputs": [
    {
     "name": "stdout",
     "output_type": "stream",
     "text": [
      "63/63 [==============================] - 0s 743us/step - loss: 0.0744 - accuracy: 0.9735\n",
      "test loss, test acc: [0.07439033687114716, 0.9735000133514404]\n"
     ]
    }
   ],
   "source": [
    "results1 = model1.evaluate(X_test1, y_test)\n",
    "print(\"test loss, test acc:\", results1)"
   ]
  },
  {
   "cell_type": "markdown",
   "metadata": {},
   "source": [
    "### Make Some Predictions"
   ]
  },
  {
   "cell_type": "code",
   "execution_count": 280,
   "metadata": {},
   "outputs": [],
   "source": [
    "X_new1 = X_test1[:5]\n",
    "y_prob1 = model1.predict(X_new1)\n",
    "# print(y_prob.round(3))"
   ]
  },
  {
   "cell_type": "code",
   "execution_count": 281,
   "metadata": {},
   "outputs": [],
   "source": [
    "y_pred1 = (model1.predict(X_new1) > 0.5).astype(\"int32\")\n",
    "# print(y_pred)\n",
    "y_test_pred = (model1.predict(X_test1) > 0.5).astype(\"int32\")"
   ]
  },
  {
   "cell_type": "markdown",
   "metadata": {},
   "source": [
    "## KL Divergence"
   ]
  },
  {
   "cell_type": "code",
   "execution_count": 282,
   "metadata": {},
   "outputs": [
    {
     "name": "stdout",
     "output_type": "stream",
     "text": [
      "        X_pred  y_pred  y_actual\n",
      "0     0.004887       0         0\n",
      "1     0.669374       1         0\n",
      "2     0.005061       0         0\n",
      "3     0.008500       0         0\n",
      "4     0.011061       0         0\n",
      "...        ...     ...       ...\n",
      "1995  0.945727       1         1\n",
      "1996  0.005228       0         0\n",
      "1997  0.007173       0         0\n",
      "1998  0.914227       1         1\n",
      "1999  0.883179       1         1\n",
      "\n",
      "[2000 rows x 3 columns]\n"
     ]
    }
   ],
   "source": [
    "# X_new = X_test[:5]\n",
    "X_df1 = pd.DataFrame(model1.predict(X_test1))\n",
    "y_test_pred1 = pd.DataFrame(y_test_pred).reset_index(drop=True)\n",
    "X_df1 = pd.concat([X_df1, y_test_pred1], axis=1)\n",
    "y_test1 = y_test.reset_index(drop=True)\n",
    "X_df1 = pd.concat([X_df1, y_test1], axis=1)\n",
    "X_df1.columns = [\"X_pred\",\"y_pred\",\"y_actual\"]\n",
    "print(X_df1)"
   ]
  },
  {
   "cell_type": "code",
   "execution_count": 283,
   "metadata": {},
   "outputs": [
    {
     "name": "stdout",
     "output_type": "stream",
     "text": [
      "        KL_div abs_distance correctness  y_pred\n",
      "0     0.030881     0.990225           1     0.0\n",
      "1     0.634621     0.338748           0     1.0\n",
      "2     0.031803     0.989877           1     0.0\n",
      "3     0.048987     0.983001           1     0.0\n",
      "4     0.060824     0.977877           1     0.0\n",
      "...        ...          ...         ...     ...\n",
      "1995  0.210909     0.891454           1     1.0\n",
      "1996  0.032681     0.989544           1     0.0\n",
      "1997  0.042566     0.985653           1     0.0\n",
      "1998  0.292648     0.828454           1     1.0\n",
      "1999  0.360542     0.766358           1     1.0\n",
      "\n",
      "[2000 rows x 4 columns]\n"
     ]
    }
   ],
   "source": [
    "import math\n",
    "table1 = pd.DataFrame(columns=[\"KL_div\",\"abs_distance\",\"correctness\"])\n",
    "for i in range(0,len(X_df1)):\n",
    "    # KL divergence\n",
    "    p = X_df1.loc[i,\"X_pred\"]\n",
    "    try:\n",
    "        kl = -(p*math.log(p) + (1-p)*math.log(1-p))\n",
    "    except:\n",
    "        kl = 0\n",
    "    table1.loc[i,\"KL_div\"] = kl\n",
    "    # absolute distance\n",
    "    abs_dist = 2*abs(0.5-p)\n",
    "    table1.loc[i,\"abs_distance\"] = abs_dist\n",
    "    # correctness\n",
    "    y_pred1 = X_df1.loc[i,\"y_pred\"]\n",
    "    y_act1 = X_df1.loc[i,\"y_actual\"]\n",
    "    if y_pred1 == y_act1:\n",
    "        table1.loc[i,\"correctness\"] = 1 # correct prediction\n",
    "    else:\n",
    "        table1.loc[i,\"correctness\"] = 0 # wrong prediction\n",
    "    table1.loc[i,\"y_pred\"] = y_pred1\n",
    "\n",
    "print(table1)"
   ]
  },
  {
   "cell_type": "code",
   "execution_count": 284,
   "metadata": {},
   "outputs": [
    {
     "name": "stdout",
     "output_type": "stream",
     "text": [
      "            correctness  count     percent\n",
      "KL_div                                    \n",
      "(0.0, 0.1]         1202   1202  100.000000\n",
      "(0.1, 0.2]          393    394   99.746193\n",
      "(0.2, 0.3]          155    156   99.358974\n",
      "(0.3, 0.4]           68     72   94.444444\n",
      "(0.4, 0.5]           46     49   93.877551\n",
      "(0.5, 0.6]           46     58   79.310345\n",
      "(0.6, 0.7]           37     69   53.623188\n"
     ]
    }
   ],
   "source": [
    "table1[\"count\"] = 1\n",
    "correctness1 = table1[[\"correctness\",\"count\"]].groupby(pd.cut(table1[\"KL_div\"], np.arange(0, 0.8, 0.1))).apply(sum)\n",
    "correctness1[\"percent\"] = 100*(correctness1[\"correctness\"]/correctness1[\"count\"])\n",
    "print(correctness1)"
   ]
  },
  {
   "cell_type": "code",
   "execution_count": 285,
   "metadata": {},
   "outputs": [
    {
     "data": {
      "text/plain": [
       "Text(0, 0.5, '% correct')"
      ]
     },
     "execution_count": 285,
     "metadata": {},
     "output_type": "execute_result"
    },
    {
     "data": {
      "image/png": "[encoded data removed]",
      "text/plain": [
       "<Figure size 432x288 with 1 Axes>"
      ]
     },
     "metadata": {
      "needs_background": "light"
     },
     "output_type": "display_data"
    }
   ],
   "source": [
    "index = []\n",
    "for i in (correctness1.index):\n",
    "    index.append(str(i))\n",
    "plt.bar(index,correctness1[\"percent\"], width=0.7)\n",
    "for index,data in enumerate(correctness1[\"percent\"]):\n",
    "    plt.text(x=index , y =data+1 , s=f\"{round(data,2)}\" , fontdict=dict(fontsize=15),ha='center')\n",
    "plt.ylim(0,110)\n",
    "plt.xlabel(\"KL Divergence\")\n",
    "plt.ylabel(\"% correct\")"
   ]
  },
  {
   "cell_type": "markdown",
   "metadata": {},
   "source": [
    "### Confidence"
   ]
  },
  {
   "cell_type": "code",
   "execution_count": 286,
   "metadata": {},
   "outputs": [
    {
     "data": {
      "text/plain": [
       "Text(0, 0.5, '% correct')"
      ]
     },
     "execution_count": 286,
     "metadata": {},
     "output_type": "execute_result"
    },
    {
     "data": {
      "image/png": "[encoded data removed]",
      "text/plain": [
       "<Figure size 432x288 with 1 Axes>"
      ]
     },
     "metadata": {
      "needs_background": "light"
     },
     "output_type": "display_data"
    }
   ],
   "source": [
    "kl1 = table1[[\"correctness\",\"count\"]].groupby(pd.cut(table1[\"KL_div\"], np.arange(0, 0.80, 0.1))).apply(sum)\n",
    "kl1[\"percent\"] = (kl1[\"correctness\"]/kl1[\"count\"])\n",
    "kl1.dropna(inplace=True)\n",
    "plt.scatter(np.arange(0, 0.70, 0.1), kl1[\"percent\"])\n",
    "plt.xlabel(\"KL Divergence\")\n",
    "plt.ylabel(\"% correct\")"
   ]
  },
  {
   "cell_type": "code",
   "execution_count": 287,
   "metadata": {},
   "outputs": [],
   "source": [
    "# Linear Regression\n",
    "from sklearn.linear_model import LinearRegression\n",
    "\n",
    "x_reg1 = np.arange(0, 0.70, 0.1).reshape((-1, 1))\n",
    "y_reg1 = kl1[\"percent\"]\n",
    "reg_model1 = LinearRegression().fit(x_reg1,y_reg1)"
   ]
  },
  {
   "cell_type": "code",
   "execution_count": 288,
   "metadata": {},
   "outputs": [
    {
     "name": "stdout",
     "output_type": "stream",
     "text": [
      "intercept(alpha): 1.0849619452003065\n",
      "slope(theta): [-0.66244127]\n"
     ]
    }
   ],
   "source": [
    "print('intercept(alpha):', reg_model1.intercept_)\n",
    "print('slope(theta):', reg_model1.coef_)"
   ]
  },
  {
   "cell_type": "markdown",
   "metadata": {},
   "source": [
    "# NN2 Odor - Almond (a)"
   ]
  },
  {
   "cell_type": "markdown",
   "metadata": {},
   "source": [
    "#### Train Set and Test Set"
   ]
  },
  {
   "cell_type": "code",
   "execution_count": 317,
   "metadata": {},
   "outputs": [],
   "source": [
    "from sklearn.model_selection import train_test_split\n",
    "X_green = pd.DataFrame()\n",
    "X_not_green = pd.DataFrame()\n",
    "y_green = pd.Series(dtype='float64')\n",
    "y_not_green = pd.Series(dtype='float64')\n",
    "for i in range(0,len(X)):\n",
    "    if X.loc[i,\"odor\"] == \"a\":\n",
    "        X_green = X_green.append(X.iloc[i,:])\n",
    "        y_green = y_green.append(pd.Series(y.iloc[i]))\n",
    "    else:\n",
    "        X_not_green = X_not_green.append(X.iloc[i,:])\n",
    "        y_not_green = y_not_green.append(pd.Series(y.iloc[i]))"
   ]
  },
  {
   "cell_type": "code",
   "execution_count": 318,
   "metadata": {},
   "outputs": [],
   "source": [
    "# X_test_green, X_train_green, y_test_green, y_train_green = train_test_split(X_green, y_green, test_size=1, random_state=11)\n",
    "X_train_not_green, X_test_not_green, y_train_not_green, y_test_not_green = train_test_split(X_not_green, y_not_green, test_size=1-(6905/(8124-len(X_green))), random_state=11)\n",
    "\n",
    "# print(X_test_green)\n",
    "X_train_green = (X_train_not_green)\n",
    "X_test_green = X_green.append(X_test_not_green)\n",
    "y_train_green = (y_train_not_green)\n",
    "y_test_green = y_green.append(y_test_not_green)"
   ]
  },
  {
   "cell_type": "code",
   "execution_count": 319,
   "metadata": {},
   "outputs": [],
   "source": [
    "from sklearn.utils import shuffle\n",
    "X_train_full2 = shuffle(X_train_green, random_state=11)\n",
    "# X_test2 = shuffle(X_test_green, random_state=11)\n",
    "y_train_full2 = shuffle(y_train_green, random_state=11)\n",
    "# y_test2 = shuffle(y_test_green, random_state=11)"
   ]
  },
  {
   "cell_type": "markdown",
   "metadata": {},
   "source": [
    "#### Validation Set"
   ]
  },
  {
   "cell_type": "code",
   "execution_count": 320,
   "metadata": {},
   "outputs": [
    {
     "name": "stdout",
     "output_type": "stream",
     "text": [
      "X_train: 6404 y_train 6404\n",
      "X_valid:  500 y_valid  500\n",
      "X_test:  2000 y_test  2000\n"
     ]
    }
   ],
   "source": [
    "X_valid2, X_train2 = X_train_full2[:500], X_train_full2[500:]\n",
    "y_valid2, y_train2 = y_train_full2[:500], y_train_full2[500:]\n",
    "\n",
    "print(\"X_train:\", X_train2.shape[0], \"y_train\", y_train2.shape[0])\n",
    "print(\"X_valid: \", X_valid2.shape[0], \"y_valid \", y_valid2.shape[0])\n",
    "print(\"X_test: \", X_test.shape[0], \"y_test \", X_test.shape[0])\n"
   ]
  },
  {
   "cell_type": "markdown",
   "metadata": {},
   "source": [
    "### Prepare the Data"
   ]
  },
  {
   "cell_type": "markdown",
   "metadata": {},
   "source": [
    "#### Data Transformation"
   ]
  },
  {
   "cell_type": "code",
   "execution_count": 321,
   "metadata": {},
   "outputs": [],
   "source": [
    "from sklearn.pipeline import Pipeline\n",
    "from sklearn.preprocessing import OrdinalEncoder\n",
    "from sklearn.compose import ColumnTransformer\n",
    "\n",
    "cat_attr_pipeline = Pipeline([\n",
    "                        ('encoder', OrdinalEncoder())\n",
    "                    ])\n",
    "\n",
    "cols = list(X)\n",
    "pipeline = ColumnTransformer([\n",
    "                ('cat_attr_pipeline', cat_attr_pipeline, cols)\n",
    "            ])\n",
    "\n",
    "\n",
    "X_train2 = pipeline.fit_transform(X_train2)\n",
    "X_valid2 = pipeline.fit_transform(X_valid2)\n",
    "X_test2  = pipeline.fit_transform(X_test)\n",
    "y_test2 = y_test"
   ]
  },
  {
   "cell_type": "markdown",
   "metadata": {},
   "source": [
    "### Neural Network"
   ]
  },
  {
   "cell_type": "markdown",
   "metadata": {},
   "source": [
    "#### Model"
   ]
  },
  {
   "cell_type": "code",
   "execution_count": 322,
   "metadata": {},
   "outputs": [],
   "source": [
    "from tensorflow.keras.models import Sequential\n",
    "from tensorflow.keras.layers import InputLayer, Dense"
   ]
  },
  {
   "cell_type": "code",
   "execution_count": 323,
   "metadata": {},
   "outputs": [],
   "source": [
    "tf.random.set_seed(11)"
   ]
  },
  {
   "cell_type": "code",
   "execution_count": 324,
   "metadata": {},
   "outputs": [],
   "source": [
    "model2 = Sequential([\n",
    "    InputLayer(input_shape=(22,)),    # input  layer\n",
    "    Dense(45, activation='relu'),     # hidden layer\n",
    "    Dense(1,   activation='sigmoid')  # output layer\n",
    "])"
   ]
  },
  {
   "cell_type": "code",
   "execution_count": 325,
   "metadata": {},
   "outputs": [
    {
     "name": "stdout",
     "output_type": "stream",
     "text": [
      "Model: \"sequential_10\"\n",
      "_________________________________________________________________\n",
      " Layer (type)                Output Shape              Param #   \n",
      "=================================================================\n",
      " dense_20 (Dense)            (None, 45)                1035      \n",
      "                                                                 \n",
      " dense_21 (Dense)            (None, 1)                 46        \n",
      "                                                                 \n",
      "=================================================================\n",
      "Total params: 1,081\n",
      "Trainable params: 1,081\n",
      "Non-trainable params: 0\n",
      "_________________________________________________________________\n"
     ]
    }
   ],
   "source": [
    "model2.summary()"
   ]
  },
  {
   "cell_type": "markdown",
   "metadata": {},
   "source": [
    "#### Compile the Model"
   ]
  },
  {
   "cell_type": "code",
   "execution_count": 326,
   "metadata": {},
   "outputs": [],
   "source": [
    "model2.compile(loss='binary_crossentropy',\n",
    "             optimizer='sgd',\n",
    "             metrics=['accuracy'])"
   ]
  },
  {
   "cell_type": "markdown",
   "metadata": {},
   "source": [
    "#### Prepare Callbacks"
   ]
  },
  {
   "cell_type": "code",
   "execution_count": 327,
   "metadata": {},
   "outputs": [],
   "source": [
    "from tensorflow.keras.callbacks import ModelCheckpoint, EarlyStopping\n",
    "\n",
    "checkpoint_cb = ModelCheckpoint('../SavedModels/best_model.h5',\n",
    "                                save_best_only=True)\n",
    "\n",
    "early_stopping_cb = EarlyStopping(patience=3,\n",
    "                                  restore_best_weights=True)"
   ]
  },
  {
   "cell_type": "markdown",
   "metadata": {},
   "source": [
    "### Training"
   ]
  },
  {
   "cell_type": "code",
   "execution_count": 328,
   "metadata": {},
   "outputs": [
    {
     "name": "stdout",
     "output_type": "stream",
     "text": [
      "Epoch 1/100\n",
      "201/201 [==============================] - 1s 2ms/step - loss: 0.4115 - accuracy: 0.8364 - val_loss: 0.3252 - val_accuracy: 0.8880\n",
      "Epoch 2/100\n",
      "201/201 [==============================] - 0s 981us/step - loss: 0.2969 - accuracy: 0.9068 - val_loss: 0.3111 - val_accuracy: 0.8980\n",
      "Epoch 3/100\n",
      "201/201 [==============================] - 0s 1ms/step - loss: 0.2573 - accuracy: 0.9204 - val_loss: 0.2565 - val_accuracy: 0.9200\n",
      "Epoch 4/100\n",
      "201/201 [==============================] - 0s 1ms/step - loss: 0.2316 - accuracy: 0.9290 - val_loss: 0.2307 - val_accuracy: 0.9120\n",
      "Epoch 5/100\n",
      "201/201 [==============================] - 0s 923us/step - loss: 0.2114 - accuracy: 0.9299 - val_loss: 0.2377 - val_accuracy: 0.9260\n",
      "Epoch 6/100\n",
      "201/201 [==============================] - 0s 982us/step - loss: 0.1950 - accuracy: 0.9311 - val_loss: 0.1994 - val_accuracy: 0.9120\n",
      "Epoch 7/100\n",
      "201/201 [==============================] - 0s 893us/step - loss: 0.1782 - accuracy: 0.9350 - val_loss: 0.2389 - val_accuracy: 0.9300\n",
      "Epoch 8/100\n",
      "201/201 [==============================] - 0s 972us/step - loss: 0.1662 - accuracy: 0.9393 - val_loss: 0.1875 - val_accuracy: 0.9200\n",
      "Epoch 9/100\n",
      "201/201 [==============================] - 0s 961us/step - loss: 0.1553 - accuracy: 0.9396 - val_loss: 0.1669 - val_accuracy: 0.9200\n",
      "Epoch 10/100\n",
      "201/201 [==============================] - 0s 990us/step - loss: 0.1448 - accuracy: 0.9439 - val_loss: 0.1741 - val_accuracy: 0.9260\n",
      "Epoch 11/100\n",
      "201/201 [==============================] - 0s 963us/step - loss: 0.1357 - accuracy: 0.9503 - val_loss: 0.1557 - val_accuracy: 0.9240\n",
      "Epoch 12/100\n",
      "201/201 [==============================] - 0s 1ms/step - loss: 0.1268 - accuracy: 0.9553 - val_loss: 0.1417 - val_accuracy: 0.9340\n",
      "Epoch 13/100\n",
      "201/201 [==============================] - 0s 986us/step - loss: 0.1177 - accuracy: 0.9591 - val_loss: 0.1339 - val_accuracy: 0.9360\n",
      "Epoch 14/100\n",
      "201/201 [==============================] - 0s 952us/step - loss: 0.1112 - accuracy: 0.9636 - val_loss: 0.1322 - val_accuracy: 0.9300\n",
      "Epoch 15/100\n",
      "201/201 [==============================] - 0s 988us/step - loss: 0.1036 - accuracy: 0.9696 - val_loss: 0.1306 - val_accuracy: 0.9460\n",
      "Epoch 16/100\n",
      "201/201 [==============================] - 0s 1ms/step - loss: 0.0983 - accuracy: 0.9720 - val_loss: 0.1176 - val_accuracy: 0.9540\n",
      "Epoch 17/100\n",
      "201/201 [==============================] - 0s 912us/step - loss: 0.0921 - accuracy: 0.9741 - val_loss: 0.1263 - val_accuracy: 0.9440\n",
      "Epoch 18/100\n",
      "201/201 [==============================] - 0s 987us/step - loss: 0.0871 - accuracy: 0.9761 - val_loss: 0.1115 - val_accuracy: 0.9600\n",
      "Epoch 19/100\n",
      "201/201 [==============================] - 0s 875us/step - loss: 0.0819 - accuracy: 0.9792 - val_loss: 0.2186 - val_accuracy: 0.9320\n",
      "Epoch 20/100\n",
      "201/201 [==============================] - 0s 969us/step - loss: 0.0774 - accuracy: 0.9806 - val_loss: 0.0966 - val_accuracy: 0.9700\n",
      "Epoch 21/100\n",
      "201/201 [==============================] - 0s 1ms/step - loss: 0.0727 - accuracy: 0.9819 - val_loss: 0.0931 - val_accuracy: 0.9680\n",
      "Epoch 22/100\n",
      "201/201 [==============================] - 0s 915us/step - loss: 0.0693 - accuracy: 0.9850 - val_loss: 0.0951 - val_accuracy: 0.9640\n",
      "Epoch 23/100\n",
      "201/201 [==============================] - 0s 967us/step - loss: 0.0655 - accuracy: 0.9839 - val_loss: 0.1139 - val_accuracy: 0.9560\n",
      "Epoch 24/100\n",
      "201/201 [==============================] - 0s 891us/step - loss: 0.0619 - accuracy: 0.9858 - val_loss: 0.1132 - val_accuracy: 0.9560\n"
     ]
    }
   ],
   "source": [
    "train_model2 = model2.fit(X_train2, y_train2,\n",
    "                        epochs=100,\n",
    "                        validation_data=(X_valid2, y_valid2),\n",
    "                        callbacks=[checkpoint_cb, early_stopping_cb])\n",
    "                        \n"
   ]
  },
  {
   "cell_type": "markdown",
   "metadata": {},
   "source": [
    "### Evaluate the Best Model on Test Set"
   ]
  },
  {
   "cell_type": "code",
   "execution_count": 329,
   "metadata": {},
   "outputs": [
    {
     "name": "stdout",
     "output_type": "stream",
     "text": [
      "63/63 [==============================] - 0s 739us/step - loss: 0.1177 - accuracy: 0.9645\n",
      "test loss, test acc: [0.11765831708908081, 0.9645000100135803]\n"
     ]
    }
   ],
   "source": [
    "results2 = model2.evaluate(X_test2, y_test2)\n",
    "print(\"test loss, test acc:\", results2)"
   ]
  },
  {
   "cell_type": "markdown",
   "metadata": {},
   "source": [
    "### Make Some Predictions"
   ]
  },
  {
   "cell_type": "code",
   "execution_count": 330,
   "metadata": {},
   "outputs": [],
   "source": [
    "X_new2 = X_test2[1100:1110]\n",
    "y_prob2 = model2.predict(X_new2)\n",
    "# print(y_prob2.round(3))"
   ]
  },
  {
   "cell_type": "code",
   "execution_count": 331,
   "metadata": {},
   "outputs": [],
   "source": [
    "y_pred2 = (model2.predict(X_new2) > 0.5).astype(\"int32\")\n",
    "# print(y_pred2)\n",
    "y_test_pred2 = (model2.predict(X_test2) > 0.5).astype(\"int32\")"
   ]
  },
  {
   "cell_type": "markdown",
   "metadata": {},
   "source": [
    "## KL Divergence"
   ]
  },
  {
   "cell_type": "code",
   "execution_count": 332,
   "metadata": {},
   "outputs": [
    {
     "name": "stdout",
     "output_type": "stream",
     "text": [
      "        X_pred  y_pred  y_actual\n",
      "0     0.002451       0         0\n",
      "1     0.632355       1         0\n",
      "2     0.002883       0         0\n",
      "3     0.002268       0         0\n",
      "4     0.012522       0         0\n",
      "...        ...     ...       ...\n",
      "1995  0.871259       1         1\n",
      "1996  0.163053       0         0\n",
      "1997  0.006538       0         0\n",
      "1998  0.632775       1         1\n",
      "1999  0.757290       1         1\n",
      "\n",
      "[2000 rows x 3 columns]\n"
     ]
    }
   ],
   "source": [
    "# X_new = X_test[:5]\n",
    "X_df2 = pd.DataFrame(model2.predict(X_test2))\n",
    "y_test_pred2 = pd.DataFrame(y_test_pred2).reset_index(drop=True)\n",
    "X_df2 = pd.concat([X_df2, y_test_pred2], axis=1)\n",
    "y_test2 = y_test2.reset_index(drop=True)\n",
    "X_df2 = pd.concat([X_df2, y_test2], axis=1)\n",
    "X_df2.columns = [\"X_pred\",\"y_pred\",\"y_actual\"]\n",
    "print(X_df2)"
   ]
  },
  {
   "cell_type": "code",
   "execution_count": 333,
   "metadata": {},
   "outputs": [
    {
     "name": "stdout",
     "output_type": "stream",
     "text": [
      "        KL_div abs_distance y_pred correctness\n",
      "0     0.017181     0.995098      0           1\n",
      "1     0.657691     0.264709      1           0\n",
      "2     0.019739     0.994235      0           1\n",
      "3     0.016073     0.995465      0           1\n",
      "4     0.067294     0.974955      0           1\n",
      "...        ...          ...    ...         ...\n",
      "1995  0.383986     0.742519      1           1\n",
      "1996  0.444698     0.673894      0           1\n",
      "1997  0.039404     0.986924      0           1\n",
      "1998  0.657462      0.26555      1           1\n",
      "1999  0.554184     0.514579      1           1\n",
      "\n",
      "[2000 rows x 4 columns]\n"
     ]
    }
   ],
   "source": [
    "import math\n",
    "table2 = pd.DataFrame(columns=[\"KL_div\",\"abs_distance\",\"y_pred\",\"correctness\"])\n",
    "for i in range(0,len(X_df2)):\n",
    "    # KL divergence\n",
    "    p = X_df2.loc[i,\"X_pred\"]\n",
    "    kl = -(p*math.log(p) + (1-p)*math.log(1-p))\n",
    "    table2.loc[i,\"KL_div\"] = kl\n",
    "    # absolute distance\n",
    "    abs_dist = 2*abs(0.5-p)\n",
    "    table2.loc[i,\"abs_distance\"] = abs_dist\n",
    "    # correctness\n",
    "    y_pred = X_df2.loc[i,\"y_pred\"]\n",
    "    y_act = X_df2.loc[i,\"y_actual\"]\n",
    "    if y_pred == y_act:\n",
    "        table2.loc[i,\"correctness\"] = 1 # correct prediction\n",
    "    else:\n",
    "        table2.loc[i,\"correctness\"] = 0 # wrong prediction\n",
    "    table2.loc[i,\"y_pred\"] = y_pred\n",
    "\n",
    "print(table2)"
   ]
  },
  {
   "cell_type": "code",
   "execution_count": 334,
   "metadata": {},
   "outputs": [
    {
     "name": "stdout",
     "output_type": "stream",
     "text": [
      "            correctness  count    percent\n",
      "KL_div                                   \n",
      "(0.0, 0.1]         1054   1055  99.905213\n",
      "(0.1, 0.2]          231    233  99.141631\n",
      "(0.2, 0.3]          165    167  98.802395\n",
      "(0.3, 0.4]          140    146  95.890411\n",
      "(0.4, 0.5]          138    143  96.503497\n",
      "(0.5, 0.6]          108    118  91.525424\n",
      "(0.6, 0.7]           93    138  67.391304\n"
     ]
    }
   ],
   "source": [
    "table2[\"count\"] = 1\n",
    "correctness2 = table2[[\"correctness\",\"count\"]].groupby(pd.cut(table2[\"KL_div\"], np.arange(0, 0.8, 0.1))).apply(sum)\n",
    "correctness2[\"percent\"] = 100*(correctness2[\"correctness\"]/correctness2[\"count\"])\n",
    "print(correctness2)"
   ]
  },
  {
   "cell_type": "code",
   "execution_count": 335,
   "metadata": {},
   "outputs": [
    {
     "data": {
      "text/plain": [
       "Text(0, 0.5, '% correct')"
      ]
     },
     "execution_count": 335,
     "metadata": {},
     "output_type": "execute_result"
    },
    {
     "data": {
      "image/png": "[encoded data removed]",
      "text/plain": [
       "<Figure size 432x288 with 1 Axes>"
      ]
     },
     "metadata": {
      "needs_background": "light"
     },
     "output_type": "display_data"
    }
   ],
   "source": [
    "index = []\n",
    "for i in (correctness2.index):\n",
    "    index.append(str(i))\n",
    "plt.bar(index,correctness2[\"percent\"], width=0.7)\n",
    "for index,data in enumerate(correctness2[\"percent\"]):\n",
    "    plt.text(x=index , y =data+1 , s=f\"{round(data,2)}\" , fontdict=dict(fontsize=15),ha='center')\n",
    "plt.ylim(0,110)\n",
    "plt.xlabel(\"KL Divergence\")\n",
    "plt.ylabel(\"% correct\")"
   ]
  },
  {
   "cell_type": "markdown",
   "metadata": {},
   "source": [
    "### Confidence"
   ]
  },
  {
   "cell_type": "code",
   "execution_count": 336,
   "metadata": {},
   "outputs": [
    {
     "data": {
      "text/plain": [
       "24"
      ]
     },
     "execution_count": 336,
     "metadata": {},
     "output_type": "execute_result"
    }
   ],
   "source": [
    "len(kl2[\"percent\"])\n",
    "len(np.arange(0, 0.71,0.03))"
   ]
  },
  {
   "cell_type": "code",
   "execution_count": 337,
   "metadata": {},
   "outputs": [
    {
     "data": {
      "text/plain": [
       "<matplotlib.collections.PathCollection at 0x1fa1f9eefa0>"
      ]
     },
     "execution_count": 337,
     "metadata": {},
     "output_type": "execute_result"
    },
    {
     "data": {
      "image/png": "[encoded data removed]",
      "text/plain": [
       "<Figure size 432x288 with 1 Axes>"
      ]
     },
     "metadata": {
      "needs_background": "light"
     },
     "output_type": "display_data"
    }
   ],
   "source": [
    "kl2 = table2[[\"correctness\",\"count\"]].groupby(pd.cut(table2[\"KL_div\"], np.arange(0, 0.8, 0.1))).apply(sum)\n",
    "kl2[\"percent\"] = (kl2[\"correctness\"]/kl2[\"count\"])\n",
    "kl2.dropna(inplace=True)\n",
    "plt.scatter(np.arange(0, 0.70, 0.1), kl2[\"percent\"])\n",
    "# print(kl)\n",
    "# print(np.arange(0, 0.7, 0.05))"
   ]
  },
  {
   "cell_type": "code",
   "execution_count": 338,
   "metadata": {},
   "outputs": [],
   "source": [
    "# Linear Regression\n",
    "from sklearn.linear_model import LinearRegression\n",
    "\n",
    "x_reg2 = np.arange(0, 0.7, 0.1).reshape((-1, 1))\n",
    "y_reg2 = kl2[\"percent\"]\n",
    "reg_model2 = LinearRegression().fit(x_reg2,y_reg2)"
   ]
  },
  {
   "cell_type": "code",
   "execution_count": 339,
   "metadata": {},
   "outputs": [
    {
     "name": "stdout",
     "output_type": "stream",
     "text": [
      "intercept(alpha): 1.050663792547909\n",
      "slope(theta): [-0.41097514]\n"
     ]
    }
   ],
   "source": [
    "print('intercept(alpha):', reg_model2.intercept_)\n",
    "print('slope(theta):', reg_model2.coef_)"
   ]
  },
  {
   "cell_type": "markdown",
   "metadata": {},
   "source": [
    "## Algorithm C: It = argmax(Ct,i)"
   ]
  },
  {
   "cell_type": "code",
   "execution_count": 340,
   "metadata": {},
   "outputs": [],
   "source": [
    "# Correct answer\n",
    "ans = pd.DataFrame(X_df2[\"y_actual\"])\n",
    "\n",
    "# NN1\n",
    "alpha1 = reg_model1.intercept_\n",
    "theta1 = reg_model1.coef_\n",
    "\n",
    "# NN2\n",
    "alpha2 = reg_model2.intercept_\n",
    "theta2 = reg_model2.coef_"
   ]
  },
  {
   "cell_type": "code",
   "execution_count": 345,
   "metadata": {},
   "outputs": [
    {
     "data": {
      "text/html": [
       "<div>\n",
       "<style scoped>\n",
       "    .dataframe tbody tr th:only-of-type {\n",
       "        vertical-align: middle;\n",
       "    }\n",
       "\n",
       "    .dataframe tbody tr th {\n",
       "        vertical-align: top;\n",
       "    }\n",
       "\n",
       "    .dataframe thead th {\n",
       "        text-align: right;\n",
       "    }\n",
       "</style>\n",
       "<table border=\"1\" class=\"dataframe\">\n",
       "  <thead>\n",
       "    <tr style=\"text-align: right;\">\n",
       "      <th></th>\n",
       "      <th>KL_div</th>\n",
       "      <th>y_pred</th>\n",
       "      <th>count</th>\n",
       "      <th>conf</th>\n",
       "    </tr>\n",
       "  </thead>\n",
       "  <tbody>\n",
       "    <tr>\n",
       "      <th>0</th>\n",
       "      <td>0.017181</td>\n",
       "      <td>0</td>\n",
       "      <td>1</td>\n",
       "      <td>1.043603</td>\n",
       "    </tr>\n",
       "    <tr>\n",
       "      <th>1</th>\n",
       "      <td>0.657691</td>\n",
       "      <td>1</td>\n",
       "      <td>1</td>\n",
       "      <td>0.780369</td>\n",
       "    </tr>\n",
       "    <tr>\n",
       "      <th>2</th>\n",
       "      <td>0.019739</td>\n",
       "      <td>0</td>\n",
       "      <td>1</td>\n",
       "      <td>1.042551</td>\n",
       "    </tr>\n",
       "    <tr>\n",
       "      <th>3</th>\n",
       "      <td>0.016073</td>\n",
       "      <td>0</td>\n",
       "      <td>1</td>\n",
       "      <td>1.044058</td>\n",
       "    </tr>\n",
       "    <tr>\n",
       "      <th>4</th>\n",
       "      <td>0.067294</td>\n",
       "      <td>0</td>\n",
       "      <td>1</td>\n",
       "      <td>1.023007</td>\n",
       "    </tr>\n",
       "    <tr>\n",
       "      <th>...</th>\n",
       "      <td>...</td>\n",
       "      <td>...</td>\n",
       "      <td>...</td>\n",
       "      <td>...</td>\n",
       "    </tr>\n",
       "    <tr>\n",
       "      <th>1995</th>\n",
       "      <td>0.383986</td>\n",
       "      <td>1</td>\n",
       "      <td>1</td>\n",
       "      <td>0.892855</td>\n",
       "    </tr>\n",
       "    <tr>\n",
       "      <th>1996</th>\n",
       "      <td>0.444698</td>\n",
       "      <td>0</td>\n",
       "      <td>1</td>\n",
       "      <td>0.867904</td>\n",
       "    </tr>\n",
       "    <tr>\n",
       "      <th>1997</th>\n",
       "      <td>0.039404</td>\n",
       "      <td>0</td>\n",
       "      <td>1</td>\n",
       "      <td>1.03447</td>\n",
       "    </tr>\n",
       "    <tr>\n",
       "      <th>1998</th>\n",
       "      <td>0.657462</td>\n",
       "      <td>1</td>\n",
       "      <td>1</td>\n",
       "      <td>0.780463</td>\n",
       "    </tr>\n",
       "    <tr>\n",
       "      <th>1999</th>\n",
       "      <td>0.554184</td>\n",
       "      <td>1</td>\n",
       "      <td>1</td>\n",
       "      <td>0.822908</td>\n",
       "    </tr>\n",
       "  </tbody>\n",
       "</table>\n",
       "<p>2000 rows × 4 columns</p>\n",
       "</div>"
      ],
      "text/plain": [
       "        KL_div y_pred  count      conf\n",
       "0     0.017181      0      1  1.043603\n",
       "1     0.657691      1      1  0.780369\n",
       "2     0.019739      0      1  1.042551\n",
       "3     0.016073      0      1  1.044058\n",
       "4     0.067294      0      1  1.023007\n",
       "...        ...    ...    ...       ...\n",
       "1995  0.383986      1      1  0.892855\n",
       "1996  0.444698      0      1  0.867904\n",
       "1997  0.039404      0      1   1.03447\n",
       "1998  0.657462      1      1  0.780463\n",
       "1999  0.554184      1      1  0.822908\n",
       "\n",
       "[2000 rows x 4 columns]"
      ]
     },
     "execution_count": 345,
     "metadata": {},
     "output_type": "execute_result"
    }
   ],
   "source": [
    "# Creating NN tables\n",
    "nn1 = table1.drop([\"abs_distance\",\"correctness\"], axis=1)\n",
    "nn1[\"conf\"] = alpha1 + theta1 * nn1[\"KL_div\"]\n",
    "\n",
    "nn2 = table2.drop([\"abs_distance\",\"correctness\"], axis=1)\n",
    "nn2[\"conf\"] = alpha2 + theta2 * nn2[\"KL_div\"]\n",
    "\n",
    "nn2"
   ]
  },
  {
   "cell_type": "code",
   "execution_count": 346,
   "metadata": {},
   "outputs": [
    {
     "data": {
      "text/html": [
       "<div>\n",
       "<style scoped>\n",
       "    .dataframe tbody tr th:only-of-type {\n",
       "        vertical-align: middle;\n",
       "    }\n",
       "\n",
       "    .dataframe tbody tr th {\n",
       "        vertical-align: top;\n",
       "    }\n",
       "\n",
       "    .dataframe thead th {\n",
       "        text-align: right;\n",
       "    }\n",
       "</style>\n",
       "<table border=\"1\" class=\"dataframe\">\n",
       "  <thead>\n",
       "    <tr style=\"text-align: right;\">\n",
       "      <th></th>\n",
       "      <th>y_actual</th>\n",
       "      <th>y_pred</th>\n",
       "    </tr>\n",
       "  </thead>\n",
       "  <tbody>\n",
       "    <tr>\n",
       "      <th>0</th>\n",
       "      <td>0</td>\n",
       "      <td>0.0</td>\n",
       "    </tr>\n",
       "    <tr>\n",
       "      <th>1</th>\n",
       "      <td>0</td>\n",
       "      <td>1.0</td>\n",
       "    </tr>\n",
       "    <tr>\n",
       "      <th>2</th>\n",
       "      <td>0</td>\n",
       "      <td>0.0</td>\n",
       "    </tr>\n",
       "    <tr>\n",
       "      <th>3</th>\n",
       "      <td>0</td>\n",
       "      <td>0.0</td>\n",
       "    </tr>\n",
       "    <tr>\n",
       "      <th>4</th>\n",
       "      <td>0</td>\n",
       "      <td>0.0</td>\n",
       "    </tr>\n",
       "    <tr>\n",
       "      <th>...</th>\n",
       "      <td>...</td>\n",
       "      <td>...</td>\n",
       "    </tr>\n",
       "    <tr>\n",
       "      <th>1995</th>\n",
       "      <td>1</td>\n",
       "      <td>1.0</td>\n",
       "    </tr>\n",
       "    <tr>\n",
       "      <th>1996</th>\n",
       "      <td>0</td>\n",
       "      <td>0.0</td>\n",
       "    </tr>\n",
       "    <tr>\n",
       "      <th>1997</th>\n",
       "      <td>0</td>\n",
       "      <td>0.0</td>\n",
       "    </tr>\n",
       "    <tr>\n",
       "      <th>1998</th>\n",
       "      <td>1</td>\n",
       "      <td>1.0</td>\n",
       "    </tr>\n",
       "    <tr>\n",
       "      <th>1999</th>\n",
       "      <td>1</td>\n",
       "      <td>1.0</td>\n",
       "    </tr>\n",
       "  </tbody>\n",
       "</table>\n",
       "<p>2000 rows × 2 columns</p>\n",
       "</div>"
      ],
      "text/plain": [
       "      y_actual  y_pred\n",
       "0            0     0.0\n",
       "1            0     1.0\n",
       "2            0     0.0\n",
       "3            0     0.0\n",
       "4            0     0.0\n",
       "...        ...     ...\n",
       "1995         1     1.0\n",
       "1996         0     0.0\n",
       "1997         0     0.0\n",
       "1998         1     1.0\n",
       "1999         1     1.0\n",
       "\n",
       "[2000 rows x 2 columns]"
      ]
     },
     "execution_count": 346,
     "metadata": {},
     "output_type": "execute_result"
    }
   ],
   "source": [
    "# Determing higher confidence NN and choosing that arm\n",
    "\n",
    "for i in range(0,len(nn1)):\n",
    "    if nn1.loc[i,\"conf\"] > nn2.loc[i,\"conf\"]:\n",
    "        ans.loc[i,\"y_pred\"] = nn1.loc[i,\"y_pred\"]\n",
    "    else:\n",
    "        ans.loc[i,\"y_pred\"] = nn2.loc[i,\"y_pred\"]\n",
    "\n",
    "ans"
   ]
  },
  {
   "cell_type": "markdown",
   "metadata": {},
   "source": [
    "#### Comparing performance"
   ]
  },
  {
   "cell_type": "code",
   "execution_count": 347,
   "metadata": {},
   "outputs": [],
   "source": [
    "# NN1 performance\n",
    "cost1 = 0\n",
    "for i in range(0,len(nn1)):\n",
    "    if nn1.loc[i,\"y_pred\"] != ans.loc[i,\"y_actual\"]:\n",
    "        cost1 += 1\n",
    "    else:\n",
    "        pass\n",
    "\n",
    "# NN2 performance\n",
    "cost2 = 0\n",
    "for i in range(0,len(nn2)):\n",
    "    if nn2.loc[i,\"y_pred\"] != ans.loc[i,\"y_actual\"]:\n",
    "        cost2 += 1\n",
    "    else:\n",
    "        pass\n",
    "\n",
    "# Combined performance\n",
    "cost3 = 0\n",
    "for i in range(0,len(nn1)):\n",
    "    if ans.loc[i,\"y_pred\"] != ans.loc[i,\"y_actual\"]:\n",
    "        cost3 += 1\n",
    "    else:\n",
    "        pass"
   ]
  },
  {
   "cell_type": "code",
   "execution_count": 348,
   "metadata": {},
   "outputs": [
    {
     "name": "stdout",
     "output_type": "stream",
     "text": [
      "Error count for NN1:53, NN2:71, Combined:52\n"
     ]
    }
   ],
   "source": [
    "print(f\"Error count for NN1:{cost1}, NN2:{cost2}, Combined:{cost3}\")"
   ]
  }
 ],
 "metadata": {
  "kernelspec": {
   "display_name": "Python 3",
   "language": "python",
   "name": "python3"
  },
  "language_info": {
   "codemirror_mode": {
    "name": "ipython",
    "version": 3
   },
   "file_extension": ".py",
   "mimetype": "text/x-python",
   "name": "python",
   "nbconvert_exporter": "python",
   "pygments_lexer": "ipython3",
   "version": "3.8.8"
  }
 },
 "nbformat": 4,
 "nbformat_minor": 4
}
