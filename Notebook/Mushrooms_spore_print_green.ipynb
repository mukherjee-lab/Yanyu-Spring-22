{
 "cells": [
  {
   "cell_type": "markdown",
   "metadata": {},
   "source": [
    "# MUSHROOMS"
   ]
  },
  {
   "cell_type": "markdown",
   "metadata": {},
   "source": [
    "## Binary Classification"
   ]
  },
  {
   "cell_type": "markdown",
   "metadata": {},
   "source": [
    "### Imports"
   ]
  },
  {
   "cell_type": "code",
   "execution_count": 63,
   "metadata": {},
   "outputs": [],
   "source": [
    "import os\n",
    "import pandas as pd\n",
    "import numpy as np\n",
    "\n",
    "import tensorflow as tf\n",
    "from tensorflow import keras\n",
    "\n",
    "import matplotlib.pyplot as plt"
   ]
  },
  {
   "cell_type": "markdown",
   "metadata": {},
   "source": [
    "### Load Data"
   ]
  },
  {
   "cell_type": "code",
   "execution_count": 64,
   "metadata": {},
   "outputs": [],
   "source": [
    "DATA_PATH = '../DATA/'\n",
    "FILE_NAME = 'mushrooms.csv'\n",
    "def load_data(data_path=DATA_PATH, file_name=FILE_NAME):\n",
    "    csv_path = os.path.join(data_path, file_name)\n",
    "    return pd.read_csv(csv_path)\n",
    "\n",
    "dataset = load_data()"
   ]
  },
  {
   "cell_type": "markdown",
   "metadata": {},
   "source": [
    "### View Data and Informations"
   ]
  },
  {
   "cell_type": "code",
   "execution_count": 65,
   "metadata": {},
   "outputs": [
    {
     "data": {
      "text/html": [
       "<div>\n",
       "<style scoped>\n",
       "    .dataframe tbody tr th:only-of-type {\n",
       "        vertical-align: middle;\n",
       "    }\n",
       "\n",
       "    .dataframe tbody tr th {\n",
       "        vertical-align: top;\n",
       "    }\n",
       "\n",
       "    .dataframe thead th {\n",
       "        text-align: right;\n",
       "    }\n",
       "</style>\n",
       "<table border=\"1\" class=\"dataframe\">\n",
       "  <thead>\n",
       "    <tr style=\"text-align: right;\">\n",
       "      <th></th>\n",
       "      <th>class</th>\n",
       "      <th>cap-shape</th>\n",
       "      <th>cap-surface</th>\n",
       "      <th>cap-color</th>\n",
       "      <th>bruises</th>\n",
       "      <th>odor</th>\n",
       "      <th>gill-attachment</th>\n",
       "      <th>gill-spacing</th>\n",
       "      <th>gill-size</th>\n",
       "      <th>gill-color</th>\n",
       "      <th>...</th>\n",
       "      <th>stalk-surface-below-ring</th>\n",
       "      <th>stalk-color-above-ring</th>\n",
       "      <th>stalk-color-below-ring</th>\n",
       "      <th>veil-type</th>\n",
       "      <th>veil-color</th>\n",
       "      <th>ring-number</th>\n",
       "      <th>ring-type</th>\n",
       "      <th>spore-print-color</th>\n",
       "      <th>population</th>\n",
       "      <th>habitat</th>\n",
       "    </tr>\n",
       "  </thead>\n",
       "  <tbody>\n",
       "    <tr>\n",
       "      <th>0</th>\n",
       "      <td>p</td>\n",
       "      <td>x</td>\n",
       "      <td>s</td>\n",
       "      <td>n</td>\n",
       "      <td>t</td>\n",
       "      <td>p</td>\n",
       "      <td>f</td>\n",
       "      <td>c</td>\n",
       "      <td>n</td>\n",
       "      <td>k</td>\n",
       "      <td>...</td>\n",
       "      <td>s</td>\n",
       "      <td>w</td>\n",
       "      <td>w</td>\n",
       "      <td>p</td>\n",
       "      <td>w</td>\n",
       "      <td>o</td>\n",
       "      <td>p</td>\n",
       "      <td>k</td>\n",
       "      <td>s</td>\n",
       "      <td>u</td>\n",
       "    </tr>\n",
       "    <tr>\n",
       "      <th>1</th>\n",
       "      <td>e</td>\n",
       "      <td>x</td>\n",
       "      <td>s</td>\n",
       "      <td>y</td>\n",
       "      <td>t</td>\n",
       "      <td>a</td>\n",
       "      <td>f</td>\n",
       "      <td>c</td>\n",
       "      <td>b</td>\n",
       "      <td>k</td>\n",
       "      <td>...</td>\n",
       "      <td>s</td>\n",
       "      <td>w</td>\n",
       "      <td>w</td>\n",
       "      <td>p</td>\n",
       "      <td>w</td>\n",
       "      <td>o</td>\n",
       "      <td>p</td>\n",
       "      <td>n</td>\n",
       "      <td>n</td>\n",
       "      <td>g</td>\n",
       "    </tr>\n",
       "    <tr>\n",
       "      <th>2</th>\n",
       "      <td>e</td>\n",
       "      <td>b</td>\n",
       "      <td>s</td>\n",
       "      <td>w</td>\n",
       "      <td>t</td>\n",
       "      <td>l</td>\n",
       "      <td>f</td>\n",
       "      <td>c</td>\n",
       "      <td>b</td>\n",
       "      <td>n</td>\n",
       "      <td>...</td>\n",
       "      <td>s</td>\n",
       "      <td>w</td>\n",
       "      <td>w</td>\n",
       "      <td>p</td>\n",
       "      <td>w</td>\n",
       "      <td>o</td>\n",
       "      <td>p</td>\n",
       "      <td>n</td>\n",
       "      <td>n</td>\n",
       "      <td>m</td>\n",
       "    </tr>\n",
       "    <tr>\n",
       "      <th>3</th>\n",
       "      <td>p</td>\n",
       "      <td>x</td>\n",
       "      <td>y</td>\n",
       "      <td>w</td>\n",
       "      <td>t</td>\n",
       "      <td>p</td>\n",
       "      <td>f</td>\n",
       "      <td>c</td>\n",
       "      <td>n</td>\n",
       "      <td>n</td>\n",
       "      <td>...</td>\n",
       "      <td>s</td>\n",
       "      <td>w</td>\n",
       "      <td>w</td>\n",
       "      <td>p</td>\n",
       "      <td>w</td>\n",
       "      <td>o</td>\n",
       "      <td>p</td>\n",
       "      <td>k</td>\n",
       "      <td>s</td>\n",
       "      <td>u</td>\n",
       "    </tr>\n",
       "    <tr>\n",
       "      <th>4</th>\n",
       "      <td>e</td>\n",
       "      <td>x</td>\n",
       "      <td>s</td>\n",
       "      <td>g</td>\n",
       "      <td>f</td>\n",
       "      <td>n</td>\n",
       "      <td>f</td>\n",
       "      <td>w</td>\n",
       "      <td>b</td>\n",
       "      <td>k</td>\n",
       "      <td>...</td>\n",
       "      <td>s</td>\n",
       "      <td>w</td>\n",
       "      <td>w</td>\n",
       "      <td>p</td>\n",
       "      <td>w</td>\n",
       "      <td>o</td>\n",
       "      <td>e</td>\n",
       "      <td>n</td>\n",
       "      <td>a</td>\n",
       "      <td>g</td>\n",
       "    </tr>\n",
       "  </tbody>\n",
       "</table>\n",
       "<p>5 rows × 23 columns</p>\n",
       "</div>"
      ],
      "text/plain": [
       "  class cap-shape cap-surface cap-color bruises odor gill-attachment  \\\n",
       "0     p         x           s         n       t    p               f   \n",
       "1     e         x           s         y       t    a               f   \n",
       "2     e         b           s         w       t    l               f   \n",
       "3     p         x           y         w       t    p               f   \n",
       "4     e         x           s         g       f    n               f   \n",
       "\n",
       "  gill-spacing gill-size gill-color  ... stalk-surface-below-ring  \\\n",
       "0            c         n          k  ...                        s   \n",
       "1            c         b          k  ...                        s   \n",
       "2            c         b          n  ...                        s   \n",
       "3            c         n          n  ...                        s   \n",
       "4            w         b          k  ...                        s   \n",
       "\n",
       "  stalk-color-above-ring stalk-color-below-ring veil-type veil-color  \\\n",
       "0                      w                      w         p          w   \n",
       "1                      w                      w         p          w   \n",
       "2                      w                      w         p          w   \n",
       "3                      w                      w         p          w   \n",
       "4                      w                      w         p          w   \n",
       "\n",
       "  ring-number ring-type spore-print-color population habitat  \n",
       "0           o         p                 k          s       u  \n",
       "1           o         p                 n          n       g  \n",
       "2           o         p                 n          n       m  \n",
       "3           o         p                 k          s       u  \n",
       "4           o         e                 n          a       g  \n",
       "\n",
       "[5 rows x 23 columns]"
      ]
     },
     "execution_count": 65,
     "metadata": {},
     "output_type": "execute_result"
    }
   ],
   "source": [
    "dataset.head()"
   ]
  },
  {
   "cell_type": "code",
   "execution_count": 66,
   "metadata": {},
   "outputs": [
    {
     "name": "stdout",
     "output_type": "stream",
     "text": [
      "<class 'pandas.core.frame.DataFrame'>\n",
      "RangeIndex: 8124 entries, 0 to 8123\n",
      "Data columns (total 23 columns):\n",
      " #   Column                    Non-Null Count  Dtype \n",
      "---  ------                    --------------  ----- \n",
      " 0   class                     8124 non-null   object\n",
      " 1   cap-shape                 8124 non-null   object\n",
      " 2   cap-surface               8124 non-null   object\n",
      " 3   cap-color                 8124 non-null   object\n",
      " 4   bruises                   8124 non-null   object\n",
      " 5   odor                      8124 non-null   object\n",
      " 6   gill-attachment           8124 non-null   object\n",
      " 7   gill-spacing              8124 non-null   object\n",
      " 8   gill-size                 8124 non-null   object\n",
      " 9   gill-color                8124 non-null   object\n",
      " 10  stalk-shape               8124 non-null   object\n",
      " 11  stalk-root                8124 non-null   object\n",
      " 12  stalk-surface-above-ring  8124 non-null   object\n",
      " 13  stalk-surface-below-ring  8124 non-null   object\n",
      " 14  stalk-color-above-ring    8124 non-null   object\n",
      " 15  stalk-color-below-ring    8124 non-null   object\n",
      " 16  veil-type                 8124 non-null   object\n",
      " 17  veil-color                8124 non-null   object\n",
      " 18  ring-number               8124 non-null   object\n",
      " 19  ring-type                 8124 non-null   object\n",
      " 20  spore-print-color         8124 non-null   object\n",
      " 21  population                8124 non-null   object\n",
      " 22  habitat                   8124 non-null   object\n",
      "dtypes: object(23)\n",
      "memory usage: 1.4+ MB\n"
     ]
    }
   ],
   "source": [
    "dataset.info()"
   ]
  },
  {
   "cell_type": "code",
   "execution_count": 67,
   "metadata": {},
   "outputs": [
    {
     "name": "stdout",
     "output_type": "stream",
     "text": [
      "Edible:\t   4208 \n",
      "Poisonous: 3916\n"
     ]
    }
   ],
   "source": [
    "edible, poisonous = dataset['class'].value_counts()\n",
    "\n",
    "print(\"Edible:\\t  \", edible,\"\\nPoisonous:\", poisonous)"
   ]
  },
  {
   "cell_type": "code",
   "execution_count": 68,
   "metadata": {},
   "outputs": [
    {
     "name": "stdout",
     "output_type": "stream",
     "text": [
      "0 - Edible:    4208 \n",
      "1 - Poisonous: 3916\n"
     ]
    }
   ],
   "source": [
    "# Categorical to numerical\n",
    "labels = {'e': 0, 'p': 1}\n",
    "dataset['class'].replace(labels, inplace=True)\n",
    "\n",
    "edible, poisonous = dataset['class'].value_counts()\n",
    "print(\"0 - Edible:   \", edible,\"\\n1 - Poisonous:\", poisonous)"
   ]
  },
  {
   "cell_type": "markdown",
   "metadata": {},
   "source": [
    "### Split Dataset"
   ]
  },
  {
   "cell_type": "markdown",
   "metadata": {},
   "source": [
    "#### Get the Labels"
   ]
  },
  {
   "cell_type": "code",
   "execution_count": 69,
   "metadata": {},
   "outputs": [
    {
     "name": "stdout",
     "output_type": "stream",
     "text": [
      "X: (8124, 22) \n",
      "y: (8124,)\n"
     ]
    }
   ],
   "source": [
    "X, y =  dataset.drop('class', axis=1), dataset['class'].copy()\n",
    "\n",
    "print(\"X:\",X.shape,\"\\ny:\",y.shape)"
   ]
  },
  {
   "cell_type": "markdown",
   "metadata": {},
   "source": [
    "#### Train Set and Test Set"
   ]
  },
  {
   "cell_type": "code",
   "execution_count": 70,
   "metadata": {},
   "outputs": [
    {
     "name": "stderr",
     "output_type": "stream",
     "text": [
      "C:\\Users\\xieya\\AppData\\Local\\Temp/ipykernel_21392/358321903.py:4: DeprecationWarning: The default dtype for empty Series will be 'object' instead of 'float64' in a future version. Specify a dtype explicitly to silence this warning.\n",
      "  y_green = pd.Series()\n",
      "C:\\Users\\xieya\\AppData\\Local\\Temp/ipykernel_21392/358321903.py:5: DeprecationWarning: The default dtype for empty Series will be 'object' instead of 'float64' in a future version. Specify a dtype explicitly to silence this warning.\n",
      "  y_not_green = pd.Series()\n"
     ]
    }
   ],
   "source": [
    "from sklearn.model_selection import train_test_split\n",
    "X_green = pd.DataFrame()\n",
    "X_not_green = pd.DataFrame()\n",
    "y_green = pd.Series()\n",
    "y_not_green = pd.Series()\n",
    "for i in range(0,len(X)):\n",
    "    if X.loc[i,\"spore-print-color\"] == \"r\":\n",
    "        X_green = X_green.append(X.iloc[i,:])\n",
    "        y_green = y_green.append(pd.Series(y.iloc[i]))\n",
    "    else:\n",
    "        X_not_green = X_not_green.append(X.iloc[i,:])\n",
    "        y_not_green = y_not_green.append(pd.Series(y.iloc[i]))"
   ]
  },
  {
   "cell_type": "code",
   "execution_count": 71,
   "metadata": {},
   "outputs": [],
   "source": [
    "# X_test_green, X_train_green, y_test_green, y_train_green = train_test_split(X_green, y_green, test_size=1, random_state=29)\n",
    "X_train_not_green, X_test_not_green, y_train_not_green, y_test_not_green = train_test_split(X_not_green, y_not_green, test_size=1-(6905/(8124-len(X_green))), random_state=29)\n",
    "\n",
    "# print(X_test_green)\n",
    "X_train_green = (X_train_not_green)\n",
    "X_test_green = X_green.append(X_test_not_green)\n",
    "y_train_green = (y_train_not_green)\n",
    "y_test_green = y_green.append(y_test_not_green)"
   ]
  },
  {
   "cell_type": "code",
   "execution_count": 118,
   "metadata": {},
   "outputs": [],
   "source": [
    "from sklearn.utils import shuffle\n",
    "X_train_full = shuffle(X_train_green, random_state=29)\n",
    "X_test = shuffle(X_test_green, random_state=29)\n",
    "y_train_full = shuffle(y_train_green, random_state=29)\n",
    "y_test = shuffle(y_test_green, random_state=29)"
   ]
  },
  {
   "cell_type": "code",
   "execution_count": 119,
   "metadata": {},
   "outputs": [],
   "source": [
    "# from sklearn.model_selection import train_test_split\n",
    "\n",
    "# X_train_full, X_test, y_train_full, y_test = train_test_split(X, y, test_size=0.15, random_state=29)\n",
    "\n",
    "# print(\"85% - X_train size:\", X_train_full.shape[0], \" y_train size:\", y_train_full.shape[0])\n",
    "# print(\"15% - X_test size: \", X_test.shape[0], \" y_test size: \", y_test.shape[0])"
   ]
  },
  {
   "cell_type": "markdown",
   "metadata": {},
   "source": [
    "#### Validation Set"
   ]
  },
  {
   "cell_type": "code",
   "execution_count": 120,
   "metadata": {},
   "outputs": [
    {
     "name": "stdout",
     "output_type": "stream",
     "text": [
      "X_train: 6405 y_train 6405\n",
      "X_valid:  500 y_valid  500\n"
     ]
    }
   ],
   "source": [
    "X_valid, X_train = X_train_full[:500], X_train_full[500:]\n",
    "y_valid, y_train = y_train_full[:500], y_train_full[500:]\n",
    "\n",
    "print(\"X_train:\", X_train.shape[0], \"y_train\", y_train.shape[0])\n",
    "print(\"X_valid: \", X_valid.shape[0], \"y_valid \", y_valid.shape[0])"
   ]
  },
  {
   "cell_type": "markdown",
   "metadata": {},
   "source": [
    "### Prepare the Data"
   ]
  },
  {
   "cell_type": "markdown",
   "metadata": {},
   "source": [
    "#### Data Transformation"
   ]
  },
  {
   "cell_type": "code",
   "execution_count": 121,
   "metadata": {},
   "outputs": [],
   "source": [
    "from sklearn.pipeline import Pipeline\n",
    "from sklearn.preprocessing import OrdinalEncoder\n",
    "from sklearn.compose import ColumnTransformer\n",
    "\n",
    "cat_attr_pipeline = Pipeline([\n",
    "                        ('encoder', OrdinalEncoder())\n",
    "                    ])\n",
    "\n",
    "cols = list(X)\n",
    "pipeline = ColumnTransformer([\n",
    "                ('cat_attr_pipeline', cat_attr_pipeline, cols)\n",
    "            ])\n",
    "\n",
    "\n",
    "X_train = pipeline.fit_transform(X_train)\n",
    "X_valid = pipeline.fit_transform(X_valid)\n",
    "X_test  = pipeline.fit_transform(X_test)"
   ]
  },
  {
   "cell_type": "markdown",
   "metadata": {},
   "source": [
    "### Neural Network"
   ]
  },
  {
   "cell_type": "markdown",
   "metadata": {},
   "source": [
    "#### Model"
   ]
  },
  {
   "cell_type": "code",
   "execution_count": 122,
   "metadata": {},
   "outputs": [],
   "source": [
    "from tensorflow.keras.models import Sequential\n",
    "from tensorflow.keras.layers import InputLayer, Dense"
   ]
  },
  {
   "cell_type": "code",
   "execution_count": 123,
   "metadata": {},
   "outputs": [],
   "source": [
    "tf.random.set_seed(29)"
   ]
  },
  {
   "cell_type": "code",
   "execution_count": 124,
   "metadata": {},
   "outputs": [],
   "source": [
    "model = Sequential([\n",
    "    InputLayer(input_shape=(22,)),    # input  layer\n",
    "    Dense(45, activation='relu'),     # hidden layer\n",
    "    Dense(1,   activation='sigmoid')  # output layer\n",
    "])"
   ]
  },
  {
   "cell_type": "code",
   "execution_count": 125,
   "metadata": {},
   "outputs": [
    {
     "name": "stdout",
     "output_type": "stream",
     "text": [
      "Model: \"sequential_4\"\n",
      "_________________________________________________________________\n",
      " Layer (type)                Output Shape              Param #   \n",
      "=================================================================\n",
      " dense_8 (Dense)             (None, 45)                1035      \n",
      "                                                                 \n",
      " dense_9 (Dense)             (None, 1)                 46        \n",
      "                                                                 \n",
      "=================================================================\n",
      "Total params: 1,081\n",
      "Trainable params: 1,081\n",
      "Non-trainable params: 0\n",
      "_________________________________________________________________\n"
     ]
    }
   ],
   "source": [
    "model.summary()"
   ]
  },
  {
   "cell_type": "markdown",
   "metadata": {},
   "source": [
    "#### Compile the Model"
   ]
  },
  {
   "cell_type": "code",
   "execution_count": 126,
   "metadata": {},
   "outputs": [],
   "source": [
    "model.compile(loss='binary_crossentropy',\n",
    "             optimizer='sgd',\n",
    "             metrics=['accuracy'])"
   ]
  },
  {
   "cell_type": "markdown",
   "metadata": {},
   "source": [
    "#### Prepare Callbacks"
   ]
  },
  {
   "cell_type": "code",
   "execution_count": 127,
   "metadata": {},
   "outputs": [],
   "source": [
    "from tensorflow.keras.callbacks import ModelCheckpoint, EarlyStopping\n",
    "\n",
    "checkpoint_cb = ModelCheckpoint('../SavedModels/best_model.h5',\n",
    "                                save_best_only=True)\n",
    "\n",
    "early_stopping_cb = EarlyStopping(patience=3,\n",
    "                                  restore_best_weights=True)"
   ]
  },
  {
   "cell_type": "markdown",
   "metadata": {},
   "source": [
    "### Training"
   ]
  },
  {
   "cell_type": "code",
   "execution_count": 128,
   "metadata": {},
   "outputs": [
    {
     "name": "stdout",
     "output_type": "stream",
     "text": [
      "Epoch 1/100\n",
      "201/201 [==============================] - 2s 4ms/step - loss: 0.4216 - accuracy: 0.8354 - val_loss: 0.4092 - val_accuracy: 0.8540\n",
      "Epoch 2/100\n",
      "201/201 [==============================] - 1s 3ms/step - loss: 0.3026 - accuracy: 0.8920 - val_loss: 0.2963 - val_accuracy: 0.8920\n",
      "Epoch 3/100\n",
      "201/201 [==============================] - 1s 3ms/step - loss: 0.2645 - accuracy: 0.9124 - val_loss: 0.2981 - val_accuracy: 0.8840\n",
      "Epoch 4/100\n",
      "201/201 [==============================] - 1s 3ms/step - loss: 0.2397 - accuracy: 0.9235 - val_loss: 0.2722 - val_accuracy: 0.8960\n",
      "Epoch 5/100\n",
      "201/201 [==============================] - 1s 3ms/step - loss: 0.2195 - accuracy: 0.9329 - val_loss: 0.2267 - val_accuracy: 0.9120\n",
      "Epoch 6/100\n",
      "201/201 [==============================] - 0s 2ms/step - loss: 0.2038 - accuracy: 0.9357 - val_loss: 0.2307 - val_accuracy: 0.9100\n",
      "Epoch 7/100\n",
      "201/201 [==============================] - 1s 3ms/step - loss: 0.1873 - accuracy: 0.9386 - val_loss: 0.2062 - val_accuracy: 0.9240\n",
      "Epoch 8/100\n",
      "201/201 [==============================] - 1s 3ms/step - loss: 0.1742 - accuracy: 0.9424 - val_loss: 0.1960 - val_accuracy: 0.9220\n",
      "Epoch 9/100\n",
      "201/201 [==============================] - 1s 3ms/step - loss: 0.1604 - accuracy: 0.9482 - val_loss: 0.1833 - val_accuracy: 0.9280\n",
      "Epoch 10/100\n",
      "201/201 [==============================] - 0s 2ms/step - loss: 0.1496 - accuracy: 0.9499 - val_loss: 0.2289 - val_accuracy: 0.9060\n",
      "Epoch 11/100\n",
      "201/201 [==============================] - 1s 5ms/step - loss: 0.1388 - accuracy: 0.9539 - val_loss: 0.1462 - val_accuracy: 0.9620\n",
      "Epoch 12/100\n",
      "201/201 [==============================] - 1s 4ms/step - loss: 0.1303 - accuracy: 0.9593 - val_loss: 0.1866 - val_accuracy: 0.9200\n",
      "Epoch 13/100\n",
      "201/201 [==============================] - 0s 2ms/step - loss: 0.1221 - accuracy: 0.9610 - val_loss: 0.1541 - val_accuracy: 0.9440\n",
      "Epoch 14/100\n",
      "201/201 [==============================] - 1s 3ms/step - loss: 0.1138 - accuracy: 0.9672 - val_loss: 0.1238 - val_accuracy: 0.9580\n",
      "Epoch 15/100\n",
      "201/201 [==============================] - 1s 5ms/step - loss: 0.1079 - accuracy: 0.9692 - val_loss: 0.1390 - val_accuracy: 0.9520\n",
      "Epoch 16/100\n",
      "201/201 [==============================] - 1s 3ms/step - loss: 0.1018 - accuracy: 0.9717 - val_loss: 0.1719 - val_accuracy: 0.9300\n",
      "Epoch 17/100\n",
      "201/201 [==============================] - 1s 4ms/step - loss: 0.0967 - accuracy: 0.9747 - val_loss: 0.1198 - val_accuracy: 0.9620\n",
      "Epoch 18/100\n",
      "201/201 [==============================] - 1s 4ms/step - loss: 0.0910 - accuracy: 0.9744 - val_loss: 0.1296 - val_accuracy: 0.9540\n",
      "Epoch 19/100\n",
      "201/201 [==============================] - 1s 4ms/step - loss: 0.0861 - accuracy: 0.9764 - val_loss: 0.1027 - val_accuracy: 0.9640\n",
      "Epoch 20/100\n",
      "201/201 [==============================] - 1s 4ms/step - loss: 0.0825 - accuracy: 0.9781 - val_loss: 0.1432 - val_accuracy: 0.9440\n",
      "Epoch 21/100\n",
      "201/201 [==============================] - 1s 3ms/step - loss: 0.0785 - accuracy: 0.9797 - val_loss: 0.0914 - val_accuracy: 0.9700\n",
      "Epoch 22/100\n",
      "201/201 [==============================] - 0s 2ms/step - loss: 0.0749 - accuracy: 0.9825 - val_loss: 0.1123 - val_accuracy: 0.9620\n",
      "Epoch 23/100\n",
      "201/201 [==============================] - 1s 3ms/step - loss: 0.0717 - accuracy: 0.9819 - val_loss: 0.0952 - val_accuracy: 0.9680\n",
      "Epoch 24/100\n",
      "201/201 [==============================] - 1s 3ms/step - loss: 0.0674 - accuracy: 0.9866 - val_loss: 0.0805 - val_accuracy: 0.9700\n",
      "Epoch 25/100\n",
      "201/201 [==============================] - 1s 4ms/step - loss: 0.0651 - accuracy: 0.9855 - val_loss: 0.1267 - val_accuracy: 0.9560\n",
      "Epoch 26/100\n",
      "201/201 [==============================] - 0s 2ms/step - loss: 0.0618 - accuracy: 0.9864 - val_loss: 0.0722 - val_accuracy: 0.9740\n",
      "Epoch 27/100\n",
      "201/201 [==============================] - 1s 3ms/step - loss: 0.0590 - accuracy: 0.9883 - val_loss: 0.0712 - val_accuracy: 0.9720\n",
      "Epoch 28/100\n",
      "201/201 [==============================] - 1s 4ms/step - loss: 0.0559 - accuracy: 0.9889 - val_loss: 0.0754 - val_accuracy: 0.9720\n",
      "Epoch 29/100\n",
      "201/201 [==============================] - 0s 2ms/step - loss: 0.0541 - accuracy: 0.9900 - val_loss: 0.0756 - val_accuracy: 0.9720\n",
      "Epoch 30/100\n",
      "201/201 [==============================] - 1s 4ms/step - loss: 0.0519 - accuracy: 0.9891 - val_loss: 0.0644 - val_accuracy: 0.9760\n",
      "Epoch 31/100\n",
      "201/201 [==============================] - 1s 3ms/step - loss: 0.0490 - accuracy: 0.9917 - val_loss: 0.0627 - val_accuracy: 0.9800\n",
      "Epoch 32/100\n",
      "201/201 [==============================] - 0s 2ms/step - loss: 0.0478 - accuracy: 0.9923 - val_loss: 0.0832 - val_accuracy: 0.9680\n",
      "Epoch 33/100\n",
      "201/201 [==============================] - 1s 3ms/step - loss: 0.0454 - accuracy: 0.9917 - val_loss: 0.0624 - val_accuracy: 0.9780\n",
      "Epoch 34/100\n",
      "201/201 [==============================] - 1s 3ms/step - loss: 0.0431 - accuracy: 0.9931 - val_loss: 0.0617 - val_accuracy: 0.9760\n",
      "Epoch 35/100\n",
      "201/201 [==============================] - 1s 6ms/step - loss: 0.0418 - accuracy: 0.9930 - val_loss: 0.0546 - val_accuracy: 0.9860\n",
      "Epoch 36/100\n",
      "201/201 [==============================] - 1s 4ms/step - loss: 0.0400 - accuracy: 0.9934 - val_loss: 0.0720 - val_accuracy: 0.9720\n",
      "Epoch 37/100\n",
      "201/201 [==============================] - 1s 3ms/step - loss: 0.0384 - accuracy: 0.9934 - val_loss: 0.0656 - val_accuracy: 0.9740\n",
      "Epoch 38/100\n",
      "201/201 [==============================] - 1s 4ms/step - loss: 0.0370 - accuracy: 0.9936 - val_loss: 0.0506 - val_accuracy: 0.9840\n",
      "Epoch 39/100\n",
      "201/201 [==============================] - 0s 2ms/step - loss: 0.0354 - accuracy: 0.9944 - val_loss: 0.2794 - val_accuracy: 0.8920\n",
      "Epoch 40/100\n",
      "201/201 [==============================] - 0s 2ms/step - loss: 0.0373 - accuracy: 0.9938 - val_loss: 0.1135 - val_accuracy: 0.9560\n",
      "Epoch 41/100\n",
      "201/201 [==============================] - 1s 4ms/step - loss: 0.0327 - accuracy: 0.9952 - val_loss: 0.0661 - val_accuracy: 0.9700\n"
     ]
    }
   ],
   "source": [
    "train_model = model.fit(X_train, y_train,\n",
    "                        epochs=100,\n",
    "                        validation_data=(X_valid, y_valid),\n",
    "                        callbacks=[checkpoint_cb, early_stopping_cb])\n",
    "                        \n"
   ]
  },
  {
   "cell_type": "markdown",
   "metadata": {},
   "source": [
    "#### Learning Curves"
   ]
  },
  {
   "cell_type": "code",
   "execution_count": 129,
   "metadata": {},
   "outputs": [
    {
     "data": {
      "image/png": "[encoded data removed]",
      "text/plain": [
       "<Figure size 576x360 with 1 Axes>"
      ]
     },
     "metadata": {
      "needs_background": "light"
     },
     "output_type": "display_data"
    }
   ],
   "source": [
    "pd.DataFrame(train_model.history).plot(figsize=(8,5))\n",
    "plt.grid(True)\n",
    "plt.gca().set_ylim(0,1)\n",
    "plt.show()"
   ]
  },
  {
   "cell_type": "markdown",
   "metadata": {},
   "source": [
    "### Evaluate the Best Model on Test Set"
   ]
  },
  {
   "cell_type": "code",
   "execution_count": 130,
   "metadata": {},
   "outputs": [
    {
     "name": "stdout",
     "output_type": "stream",
     "text": [
      "39/39 [==============================] - 0s 2ms/step - loss: 0.2882 - accuracy: 0.9327\n",
      "test loss, test acc: [0.28817814588546753, 0.9327317476272583]\n"
     ]
    }
   ],
   "source": [
    "results = model.evaluate(X_test, y_test)\n",
    "print(\"test loss, test acc:\", results)"
   ]
  },
  {
   "cell_type": "markdown",
   "metadata": {},
   "source": [
    "#### Confusion Matrix"
   ]
  },
  {
   "cell_type": "code",
   "execution_count": 131,
   "metadata": {},
   "outputs": [],
   "source": [
    "import seaborn as sns\n",
    "\n",
    "#Parameters\n",
    "title = 'Confusion Matrix'\n",
    "custom_color = '#ffa600'   \n",
    "\n",
    "#Function for drawing confusion matrix\n",
    "def draw_confusion_matrix(cm, title = title, color = custom_color):\n",
    "    palette = sns.light_palette(color, as_cmap=True)\n",
    "    ax = plt.subplot()\n",
    "    sns.heatmap(cm, annot=True, ax=ax, fmt='d', cmap=palette)\n",
    "    # Title\n",
    "    ax.set_title('\\n' + title + '\\n',\n",
    "                 fontweight='bold',\n",
    "                 fontstyle='normal', \n",
    "                )\n",
    "    # x y labels \n",
    "    ax.set_xlabel('Predicted', fontweight='bold')\n",
    "    ax.set_ylabel('Actual', fontweight='bold');\n",
    "    # Classes names\n",
    "    x_names = ['Poisonous', 'Edible']\n",
    "    y_names = ['Poisonous', 'Edible']\n",
    "    ax.xaxis.set_ticklabels(x_names, ha = 'center')\n",
    "    ax.yaxis.set_ticklabels(y_names, va = 'center')"
   ]
  },
  {
   "cell_type": "code",
   "execution_count": 132,
   "metadata": {},
   "outputs": [
    {
     "data": {
      "image/png": "[encoded data removed]",
      "text/plain": [
       "<Figure size 432x288 with 2 Axes>"
      ]
     },
     "metadata": {
      "needs_background": "light"
     },
     "output_type": "display_data"
    }
   ],
   "source": [
    "from sklearn.metrics import confusion_matrix\n",
    "\n",
    "y_test_pred = (model.predict(X_test) > 0.5).astype(\"int32\")\n",
    "cm = confusion_matrix(y_test, y_test_pred)\n",
    "\n",
    "draw_confusion_matrix(cm)"
   ]
  },
  {
   "cell_type": "markdown",
   "metadata": {},
   "source": [
    "#### ROC Curve"
   ]
  },
  {
   "cell_type": "code",
   "execution_count": 133,
   "metadata": {},
   "outputs": [],
   "source": [
    "#Function for plotting the ROC curve\n",
    "def plot_roc_curve(fpr, tpr, roc_auc):\n",
    "    plt.plot(fpr, tpr, custom_color, label='Area: %0.3f' %roc_auc, linewidth=2)\n",
    "    plt.plot([0, 1], [0, 1], 'k--')\n",
    "    plt.title('ROC Curve')\n",
    "    plt.xlabel('False Positive Rate')\n",
    "    plt.ylabel('True Positive Rate - Recall')\n",
    "    plt.legend(loc='lower right')\n",
    "    plt.show()"
   ]
  },
  {
   "cell_type": "code",
   "execution_count": 134,
   "metadata": {},
   "outputs": [
    {
     "data": {
      "image/png": "[encoded data removed]",
      "text/plain": [
       "<Figure size 432x288 with 1 Axes>"
      ]
     },
     "metadata": {
      "needs_background": "light"
     },
     "output_type": "display_data"
    }
   ],
   "source": [
    "from sklearn.metrics import roc_curve, auc\n",
    "\n",
    "y_test_prob = model.predict(X_test)\n",
    "\n",
    "fpr, tpr, _ = roc_curve(y_test, y_test_prob)\n",
    "roc_auc = auc(fpr, tpr)\n",
    "\n",
    "plot_roc_curve(fpr, tpr, roc_auc)"
   ]
  },
  {
   "cell_type": "markdown",
   "metadata": {},
   "source": [
    "### Make Some Predictions"
   ]
  },
  {
   "cell_type": "code",
   "execution_count": 135,
   "metadata": {},
   "outputs": [
    {
     "name": "stdout",
     "output_type": "stream",
     "text": [
      "[[0.925]\n",
      " [0.947]\n",
      " [0.703]\n",
      " [0.003]\n",
      " [0.006]\n",
      " [0.006]\n",
      " [0.993]\n",
      " [1.   ]\n",
      " [0.024]\n",
      " [0.007]]\n"
     ]
    }
   ],
   "source": [
    "X_new = X_test[1100:1110]\n",
    "y_prob = model.predict(X_new)\n",
    "print(y_prob.round(3))"
   ]
  },
  {
   "cell_type": "code",
   "execution_count": 136,
   "metadata": {},
   "outputs": [
    {
     "name": "stdout",
     "output_type": "stream",
     "text": [
      "[[1]\n",
      " [1]\n",
      " [1]\n",
      " [0]\n",
      " [0]\n",
      " [0]\n",
      " [1]\n",
      " [1]\n",
      " [0]\n",
      " [0]]\n"
     ]
    }
   ],
   "source": [
    "y_pred = (model.predict(X_new) > 0.5).astype(\"int32\")\n",
    "print(y_pred)"
   ]
  },
  {
   "cell_type": "markdown",
   "metadata": {},
   "source": [
    "## KL Divergence"
   ]
  },
  {
   "cell_type": "code",
   "execution_count": 137,
   "metadata": {},
   "outputs": [
    {
     "name": "stdout",
     "output_type": "stream",
     "text": [
      "        X_pred  y_pred  y_actual\n",
      "0     0.950270       1         1\n",
      "1     0.996801       1         1\n",
      "2     0.000707       0         0\n",
      "3     0.013098       0         0\n",
      "4     0.909754       1         1\n",
      "...        ...     ...       ...\n",
      "1214  0.000197       0         0\n",
      "1215  0.078956       0         0\n",
      "1216  0.996752       1         1\n",
      "1217  0.003230       0         0\n",
      "1218  0.998898       1         1\n",
      "\n",
      "[1219 rows x 3 columns]\n"
     ]
    }
   ],
   "source": [
    "# X_new = X_test[:5]\n",
    "X_df = pd.DataFrame(model.predict(X_test))\n",
    "y_test_pred = pd.DataFrame(y_test_pred).reset_index(drop=True)\n",
    "X_df = pd.concat([X_df, y_test_pred], axis=1)\n",
    "y_test = y_test.reset_index(drop=True)\n",
    "X_df = pd.concat([X_df, y_test], axis=1)\n",
    "X_df.columns = [\"X_pred\",\"y_pred\",\"y_actual\"]\n",
    "print(X_df)"
   ]
  },
  {
   "cell_type": "code",
   "execution_count": 138,
   "metadata": {},
   "outputs": [
    {
     "name": "stdout",
     "output_type": "stream",
     "text": [
      "        KL_div abs distance correctness\n",
      "0      0.19772     0.900539           1\n",
      "1     0.021573     0.993602           1\n",
      "2     0.005837     0.998586           1\n",
      "3     0.069795     0.973804           1\n",
      "4     0.303106     0.819509           1\n",
      "...        ...          ...         ...\n",
      "1214  0.001874     0.999607           1\n",
      "1215  0.276212     0.842088           1\n",
      "1216  0.021854     0.993504           1\n",
      "1217  0.021752     0.993539           1\n",
      "1218  0.008605     0.997797           1\n",
      "\n",
      "[1219 rows x 3 columns]\n"
     ]
    }
   ],
   "source": [
    "import math\n",
    "table = pd.DataFrame(columns=[\"KL_div\",\"abs distance\",\"correctness\"])\n",
    "for i in range(0,len(X_df)):\n",
    "    # KL divergence\n",
    "    p = X_df.loc[i,\"X_pred\"]\n",
    "    kl = -(p*math.log(p) + (1-p)*math.log(1-p))\n",
    "    table.loc[i,\"KL_div\"] = kl\n",
    "    # absolute distance\n",
    "    abs_dist = 2*abs(0.5-p)\n",
    "    table.loc[i,\"abs distance\"] = abs_dist\n",
    "    # correctness\n",
    "    y_pred = X_df.loc[i,\"y_pred\"]\n",
    "    y_act = X_df.loc[i,\"y_actual\"]\n",
    "    if y_pred == y_act:\n",
    "        table.loc[i,\"correctness\"] = 1 # correct prediction\n",
    "    else:\n",
    "        table.loc[i,\"correctness\"] = 0 # wrong prediction\n",
    "\n",
    "print(table)"
   ]
  },
  {
   "cell_type": "code",
   "execution_count": 139,
   "metadata": {},
   "outputs": [
    {
     "name": "stdout",
     "output_type": "stream",
     "text": [
      "            correctness  count    percent\n",
      "KL_div                                   \n",
      "(0.0, 0.1]          817    857  95.332555\n",
      "(0.1, 0.2]          145    163  88.957055\n",
      "(0.2, 0.3]           66     74  89.189189\n",
      "(0.3, 0.4]           35     40  87.500000\n",
      "(0.4, 0.5]           24     27  88.888889\n",
      "(0.5, 0.6]           32     36  88.888889\n",
      "(0.6, 0.7]           18     22  81.818182\n"
     ]
    }
   ],
   "source": [
    "table[\"count\"] = 1\n",
    "correctness = table[[\"correctness\",\"count\"]].groupby(pd.cut(table[\"KL_div\"], np.arange(0, 0.8, 0.1))).apply(sum)\n",
    "correctness[\"percent\"] = 100*(correctness[\"correctness\"]/correctness[\"count\"])\n",
    "print(correctness)"
   ]
  },
  {
   "cell_type": "code",
   "execution_count": 140,
   "metadata": {},
   "outputs": [
    {
     "data": {
      "text/plain": [
       "Text(0, 0.5, '% correct')"
      ]
     },
     "execution_count": 140,
     "metadata": {},
     "output_type": "execute_result"
    },
    {
     "data": {
      "image/png": "[encoded data removed]",
      "text/plain": [
       "<Figure size 432x288 with 1 Axes>"
      ]
     },
     "metadata": {
      "needs_background": "light"
     },
     "output_type": "display_data"
    }
   ],
   "source": [
    "index = []\n",
    "for i in (correctness.index):\n",
    "    index.append(str(i))\n",
    "plt.bar(index,correctness[\"percent\"], width=0.7)\n",
    "for index,data in enumerate(correctness[\"percent\"]):\n",
    "    plt.text(x=index , y =data+1 , s=f\"{round(data,2)}\" , fontdict=dict(fontsize=15),ha='center')\n",
    "plt.ylim(0,110)\n",
    "plt.xlabel(\"KL Divergence\")\n",
    "plt.ylabel(\"% correct\")"
   ]
  }
 ],
 "metadata": {
  "kernelspec": {
   "display_name": "Python 3",
   "language": "python",
   "name": "python3"
  },
  "language_info": {
   "codemirror_mode": {
    "name": "ipython",
    "version": 3
   },
   "file_extension": ".py",
   "mimetype": "text/x-python",
   "name": "python",
   "nbconvert_exporter": "python",
   "pygments_lexer": "ipython3",
   "version": "3.8.8"
  }
 },
 "nbformat": 4,
 "nbformat_minor": 4
}
