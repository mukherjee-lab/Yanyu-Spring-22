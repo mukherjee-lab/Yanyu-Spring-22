{
 "cells": [
  {
   "cell_type": "markdown",
   "metadata": {},
   "source": [
    "# MUSHROOMS"
   ]
  },
  {
   "cell_type": "markdown",
   "metadata": {},
   "source": [
    "## Binary Classification"
   ]
  },
  {
   "cell_type": "markdown",
   "metadata": {},
   "source": [
    "### Imports"
   ]
  },
  {
   "cell_type": "code",
   "execution_count": 1,
   "metadata": {},
   "outputs": [],
   "source": [
    "import os\n",
    "import pandas as pd\n",
    "import numpy as np\n",
    "\n",
    "import tensorflow as tf\n",
    "from tensorflow import keras\n",
    "\n",
    "import matplotlib.pyplot as plt"
   ]
  },
  {
   "cell_type": "markdown",
   "metadata": {},
   "source": [
    "### Load Data"
   ]
  },
  {
   "cell_type": "code",
   "execution_count": 2,
   "metadata": {},
   "outputs": [],
   "source": [
    "DATA_PATH = '../DATA/'\n",
    "FILE_NAME = 'mushrooms.csv'\n",
    "def load_data(data_path=DATA_PATH, file_name=FILE_NAME):\n",
    "    csv_path = os.path.join(data_path, file_name)\n",
    "    return pd.read_csv(csv_path)\n",
    "\n",
    "dataset = load_data()"
   ]
  },
  {
   "cell_type": "markdown",
   "metadata": {},
   "source": [
    "### View Data and Informations"
   ]
  },
  {
   "cell_type": "code",
   "execution_count": 3,
   "metadata": {},
   "outputs": [
    {
     "data": {
      "text/html": [
       "<div>\n",
       "<style scoped>\n",
       "    .dataframe tbody tr th:only-of-type {\n",
       "        vertical-align: middle;\n",
       "    }\n",
       "\n",
       "    .dataframe tbody tr th {\n",
       "        vertical-align: top;\n",
       "    }\n",
       "\n",
       "    .dataframe thead th {\n",
       "        text-align: right;\n",
       "    }\n",
       "</style>\n",
       "<table border=\"1\" class=\"dataframe\">\n",
       "  <thead>\n",
       "    <tr style=\"text-align: right;\">\n",
       "      <th></th>\n",
       "      <th>class</th>\n",
       "      <th>cap-shape</th>\n",
       "      <th>cap-surface</th>\n",
       "      <th>cap-color</th>\n",
       "      <th>bruises</th>\n",
       "      <th>odor</th>\n",
       "      <th>gill-attachment</th>\n",
       "      <th>gill-spacing</th>\n",
       "      <th>gill-size</th>\n",
       "      <th>gill-color</th>\n",
       "      <th>...</th>\n",
       "      <th>stalk-surface-below-ring</th>\n",
       "      <th>stalk-color-above-ring</th>\n",
       "      <th>stalk-color-below-ring</th>\n",
       "      <th>veil-type</th>\n",
       "      <th>veil-color</th>\n",
       "      <th>ring-number</th>\n",
       "      <th>ring-type</th>\n",
       "      <th>spore-print-color</th>\n",
       "      <th>population</th>\n",
       "      <th>habitat</th>\n",
       "    </tr>\n",
       "  </thead>\n",
       "  <tbody>\n",
       "    <tr>\n",
       "      <th>0</th>\n",
       "      <td>p</td>\n",
       "      <td>x</td>\n",
       "      <td>s</td>\n",
       "      <td>n</td>\n",
       "      <td>t</td>\n",
       "      <td>p</td>\n",
       "      <td>f</td>\n",
       "      <td>c</td>\n",
       "      <td>n</td>\n",
       "      <td>k</td>\n",
       "      <td>...</td>\n",
       "      <td>s</td>\n",
       "      <td>w</td>\n",
       "      <td>w</td>\n",
       "      <td>p</td>\n",
       "      <td>w</td>\n",
       "      <td>o</td>\n",
       "      <td>p</td>\n",
       "      <td>k</td>\n",
       "      <td>s</td>\n",
       "      <td>u</td>\n",
       "    </tr>\n",
       "    <tr>\n",
       "      <th>1</th>\n",
       "      <td>e</td>\n",
       "      <td>x</td>\n",
       "      <td>s</td>\n",
       "      <td>y</td>\n",
       "      <td>t</td>\n",
       "      <td>a</td>\n",
       "      <td>f</td>\n",
       "      <td>c</td>\n",
       "      <td>b</td>\n",
       "      <td>k</td>\n",
       "      <td>...</td>\n",
       "      <td>s</td>\n",
       "      <td>w</td>\n",
       "      <td>w</td>\n",
       "      <td>p</td>\n",
       "      <td>w</td>\n",
       "      <td>o</td>\n",
       "      <td>p</td>\n",
       "      <td>n</td>\n",
       "      <td>n</td>\n",
       "      <td>g</td>\n",
       "    </tr>\n",
       "    <tr>\n",
       "      <th>2</th>\n",
       "      <td>e</td>\n",
       "      <td>b</td>\n",
       "      <td>s</td>\n",
       "      <td>w</td>\n",
       "      <td>t</td>\n",
       "      <td>l</td>\n",
       "      <td>f</td>\n",
       "      <td>c</td>\n",
       "      <td>b</td>\n",
       "      <td>n</td>\n",
       "      <td>...</td>\n",
       "      <td>s</td>\n",
       "      <td>w</td>\n",
       "      <td>w</td>\n",
       "      <td>p</td>\n",
       "      <td>w</td>\n",
       "      <td>o</td>\n",
       "      <td>p</td>\n",
       "      <td>n</td>\n",
       "      <td>n</td>\n",
       "      <td>m</td>\n",
       "    </tr>\n",
       "    <tr>\n",
       "      <th>3</th>\n",
       "      <td>p</td>\n",
       "      <td>x</td>\n",
       "      <td>y</td>\n",
       "      <td>w</td>\n",
       "      <td>t</td>\n",
       "      <td>p</td>\n",
       "      <td>f</td>\n",
       "      <td>c</td>\n",
       "      <td>n</td>\n",
       "      <td>n</td>\n",
       "      <td>...</td>\n",
       "      <td>s</td>\n",
       "      <td>w</td>\n",
       "      <td>w</td>\n",
       "      <td>p</td>\n",
       "      <td>w</td>\n",
       "      <td>o</td>\n",
       "      <td>p</td>\n",
       "      <td>k</td>\n",
       "      <td>s</td>\n",
       "      <td>u</td>\n",
       "    </tr>\n",
       "    <tr>\n",
       "      <th>4</th>\n",
       "      <td>e</td>\n",
       "      <td>x</td>\n",
       "      <td>s</td>\n",
       "      <td>g</td>\n",
       "      <td>f</td>\n",
       "      <td>n</td>\n",
       "      <td>f</td>\n",
       "      <td>w</td>\n",
       "      <td>b</td>\n",
       "      <td>k</td>\n",
       "      <td>...</td>\n",
       "      <td>s</td>\n",
       "      <td>w</td>\n",
       "      <td>w</td>\n",
       "      <td>p</td>\n",
       "      <td>w</td>\n",
       "      <td>o</td>\n",
       "      <td>e</td>\n",
       "      <td>n</td>\n",
       "      <td>a</td>\n",
       "      <td>g</td>\n",
       "    </tr>\n",
       "  </tbody>\n",
       "</table>\n",
       "<p>5 rows × 23 columns</p>\n",
       "</div>"
      ],
      "text/plain": [
       "  class cap-shape cap-surface cap-color bruises odor gill-attachment  \\\n",
       "0     p         x           s         n       t    p               f   \n",
       "1     e         x           s         y       t    a               f   \n",
       "2     e         b           s         w       t    l               f   \n",
       "3     p         x           y         w       t    p               f   \n",
       "4     e         x           s         g       f    n               f   \n",
       "\n",
       "  gill-spacing gill-size gill-color  ... stalk-surface-below-ring  \\\n",
       "0            c         n          k  ...                        s   \n",
       "1            c         b          k  ...                        s   \n",
       "2            c         b          n  ...                        s   \n",
       "3            c         n          n  ...                        s   \n",
       "4            w         b          k  ...                        s   \n",
       "\n",
       "  stalk-color-above-ring stalk-color-below-ring veil-type veil-color  \\\n",
       "0                      w                      w         p          w   \n",
       "1                      w                      w         p          w   \n",
       "2                      w                      w         p          w   \n",
       "3                      w                      w         p          w   \n",
       "4                      w                      w         p          w   \n",
       "\n",
       "  ring-number ring-type spore-print-color population habitat  \n",
       "0           o         p                 k          s       u  \n",
       "1           o         p                 n          n       g  \n",
       "2           o         p                 n          n       m  \n",
       "3           o         p                 k          s       u  \n",
       "4           o         e                 n          a       g  \n",
       "\n",
       "[5 rows x 23 columns]"
      ]
     },
     "execution_count": 3,
     "metadata": {},
     "output_type": "execute_result"
    }
   ],
   "source": [
    "dataset.head()"
   ]
  },
  {
   "cell_type": "code",
   "execution_count": 4,
   "metadata": {},
   "outputs": [
    {
     "name": "stdout",
     "output_type": "stream",
     "text": [
      "<class 'pandas.core.frame.DataFrame'>\n",
      "RangeIndex: 8124 entries, 0 to 8123\n",
      "Data columns (total 23 columns):\n",
      " #   Column                    Non-Null Count  Dtype \n",
      "---  ------                    --------------  ----- \n",
      " 0   class                     8124 non-null   object\n",
      " 1   cap-shape                 8124 non-null   object\n",
      " 2   cap-surface               8124 non-null   object\n",
      " 3   cap-color                 8124 non-null   object\n",
      " 4   bruises                   8124 non-null   object\n",
      " 5   odor                      8124 non-null   object\n",
      " 6   gill-attachment           8124 non-null   object\n",
      " 7   gill-spacing              8124 non-null   object\n",
      " 8   gill-size                 8124 non-null   object\n",
      " 9   gill-color                8124 non-null   object\n",
      " 10  stalk-shape               8124 non-null   object\n",
      " 11  stalk-root                8124 non-null   object\n",
      " 12  stalk-surface-above-ring  8124 non-null   object\n",
      " 13  stalk-surface-below-ring  8124 non-null   object\n",
      " 14  stalk-color-above-ring    8124 non-null   object\n",
      " 15  stalk-color-below-ring    8124 non-null   object\n",
      " 16  veil-type                 8124 non-null   object\n",
      " 17  veil-color                8124 non-null   object\n",
      " 18  ring-number               8124 non-null   object\n",
      " 19  ring-type                 8124 non-null   object\n",
      " 20  spore-print-color         8124 non-null   object\n",
      " 21  population                8124 non-null   object\n",
      " 22  habitat                   8124 non-null   object\n",
      "dtypes: object(23)\n",
      "memory usage: 1.4+ MB\n"
     ]
    }
   ],
   "source": [
    "dataset.info()"
   ]
  },
  {
   "cell_type": "code",
   "execution_count": 5,
   "metadata": {},
   "outputs": [
    {
     "name": "stdout",
     "output_type": "stream",
     "text": [
      "Edible:\t   4208 \n",
      "Poisonous: 3916\n"
     ]
    }
   ],
   "source": [
    "edible, poisonous = dataset['class'].value_counts()\n",
    "\n",
    "print(\"Edible:\\t  \", edible,\"\\nPoisonous:\", poisonous)"
   ]
  },
  {
   "cell_type": "code",
   "execution_count": 6,
   "metadata": {},
   "outputs": [
    {
     "name": "stdout",
     "output_type": "stream",
     "text": [
      "0 - Edible:    4208 \n",
      "1 - Poisonous: 3916\n"
     ]
    }
   ],
   "source": [
    "# Categorical to numerical\n",
    "labels = {'e': 0, 'p': 1}\n",
    "dataset['class'].replace(labels, inplace=True)\n",
    "\n",
    "edible, poisonous = dataset['class'].value_counts()\n",
    "print(\"0 - Edible:   \", edible,\"\\n1 - Poisonous:\", poisonous)"
   ]
  },
  {
   "cell_type": "markdown",
   "metadata": {},
   "source": [
    "# NN1 Stalk Root - Rooted (r)"
   ]
  },
  {
   "cell_type": "markdown",
   "metadata": {},
   "source": [
    "### Split Dataset"
   ]
  },
  {
   "cell_type": "markdown",
   "metadata": {},
   "source": [
    "#### Get the Labels"
   ]
  },
  {
   "cell_type": "code",
   "execution_count": 7,
   "metadata": {},
   "outputs": [
    {
     "name": "stdout",
     "output_type": "stream",
     "text": [
      "X: (8124, 22) \n",
      "y: (8124,)\n"
     ]
    }
   ],
   "source": [
    "X, y =  dataset.drop('class', axis=1), dataset['class'].copy()\n",
    "\n",
    "print(\"X:\",X.shape,\"\\ny:\",y.shape)"
   ]
  },
  {
   "cell_type": "markdown",
   "metadata": {},
   "source": [
    "#### Train Set and Test Set"
   ]
  },
  {
   "cell_type": "code",
   "execution_count": 8,
   "metadata": {},
   "outputs": [],
   "source": [
    "from sklearn.model_selection import train_test_split\n",
    "X_white = pd.DataFrame()\n",
    "X_not_white = pd.DataFrame()\n",
    "y_white = pd.Series(dtype='float64')\n",
    "y_not_white = pd.Series(dtype='float64')\n",
    "for i in range(0,len(X)):\n",
    "    if X.loc[i,\"stalk-root\"] == \"r\":\n",
    "        X_white = X_white.append(X.iloc[i,:])\n",
    "        y_white = y_white.append(pd.Series(y.iloc[i]))\n",
    "    else:\n",
    "        X_not_white = X_not_white.append(X.iloc[i,:])\n",
    "        y_not_white = y_not_white.append(pd.Series(y.iloc[i]))"
   ]
  },
  {
   "cell_type": "code",
   "execution_count": 9,
   "metadata": {},
   "outputs": [],
   "source": [
    "X_train_not_white, X_test_not_white, y_train_not_white, y_test_not_white = train_test_split(X_not_white, y_not_white, test_size=1-(6905/(8124-len(X_white))), random_state=87)\n",
    "\n",
    "# print(X_test_white)\n",
    "X_train_white = (X_train_not_white)\n",
    "# X_test_white = X_white.append(X_test_not_white)\n",
    "y_train_white = (y_train_not_white)\n",
    "# y_test_white = y_white.append(y_test_not_white)"
   ]
  },
  {
   "cell_type": "code",
   "execution_count": 10,
   "metadata": {},
   "outputs": [],
   "source": [
    "from sklearn.utils import shuffle\n",
    "X_train_full1 = shuffle(X_train_white, random_state=87)\n",
    "X_test = shuffle(X, random_state=87).iloc[2000:4000]\n",
    "y_train_full1 = shuffle(y_train_white, random_state=87)\n",
    "y_test = shuffle(y, random_state=87).iloc[2000:4000]"
   ]
  },
  {
   "cell_type": "code",
   "execution_count": 11,
   "metadata": {},
   "outputs": [],
   "source": [
    "# print(X_test[:5])\n",
    "# print(y_test.loc[:,\"0\"])\n",
    "# from sklearn.model_selection import train_test_split\n",
    "\n",
    "# X_train_full, X_test, y_train_full, y_test = train_test_split(X, y, test_size=0.15, random_state=87)\n",
    "\n",
    "# print(\"85% - X_train size:\", X_train_full.shape[0], \" y_train size:\", y_train_full.shape[0])\n",
    "# print(\"15% - X_test size: \", X_test.shape[0], \" y_test size: \", y_test.shape[0])"
   ]
  },
  {
   "cell_type": "markdown",
   "metadata": {},
   "source": [
    "#### Validation Set"
   ]
  },
  {
   "cell_type": "code",
   "execution_count": 12,
   "metadata": {},
   "outputs": [
    {
     "name": "stdout",
     "output_type": "stream",
     "text": [
      "X_train: 6404 y_train 6404\n",
      "X_valid:  500 y_valid  500\n",
      "X_test:  2000 y_test  2000\n"
     ]
    }
   ],
   "source": [
    "X_valid1, X_train1 = X_train_full1[:500], X_train_full1[500:]\n",
    "y_valid1, y_train1 = y_train_full1[:500], y_train_full1[500:]\n",
    "\n",
    "print(\"X_train:\", X_train1.shape[0], \"y_train\", y_train1.shape[0])\n",
    "print(\"X_valid: \", X_valid1.shape[0], \"y_valid \", y_valid1.shape[0])\n",
    "print(\"X_test: \", X_test.shape[0], \"y_test \", X_test.shape[0])\n"
   ]
  },
  {
   "cell_type": "markdown",
   "metadata": {},
   "source": [
    "### Prepare the Data"
   ]
  },
  {
   "cell_type": "markdown",
   "metadata": {},
   "source": [
    "#### Data Transformation"
   ]
  },
  {
   "cell_type": "code",
   "execution_count": 13,
   "metadata": {},
   "outputs": [],
   "source": [
    "from sklearn.pipeline import Pipeline\n",
    "from sklearn.preprocessing import OrdinalEncoder\n",
    "from sklearn.compose import ColumnTransformer\n",
    "\n",
    "cat_attr_pipeline = Pipeline([\n",
    "                        ('encoder', OrdinalEncoder())\n",
    "                    ])\n",
    "\n",
    "cols = list(X)\n",
    "pipeline = ColumnTransformer([\n",
    "                ('cat_attr_pipeline', cat_attr_pipeline, cols)\n",
    "            ])\n",
    "\n",
    "\n",
    "X_train1 = pipeline.fit_transform(X_train1)\n",
    "X_valid1 = pipeline.fit_transform(X_valid1)\n",
    "X_test1  = pipeline.fit_transform(X_test)"
   ]
  },
  {
   "cell_type": "markdown",
   "metadata": {},
   "source": [
    "### Neural Network"
   ]
  },
  {
   "cell_type": "markdown",
   "metadata": {},
   "source": [
    "#### Model"
   ]
  },
  {
   "cell_type": "code",
   "execution_count": 14,
   "metadata": {},
   "outputs": [],
   "source": [
    "from tensorflow.keras.models import Sequential\n",
    "from tensorflow.keras.layers import InputLayer, Dense"
   ]
  },
  {
   "cell_type": "code",
   "execution_count": 15,
   "metadata": {},
   "outputs": [],
   "source": [
    "# tf.random.set_random_seed(87)\n",
    "tf.random.set_seed(87)"
   ]
  },
  {
   "cell_type": "code",
   "execution_count": 16,
   "metadata": {},
   "outputs": [],
   "source": [
    "model1 = Sequential([\n",
    "    InputLayer(input_shape=(22,)),    # input  layer\n",
    "    Dense(45, activation='relu'),     # hidden layer\n",
    "    Dense(1,   activation='sigmoid')  # output layer\n",
    "])"
   ]
  },
  {
   "cell_type": "code",
   "execution_count": 17,
   "metadata": {},
   "outputs": [
    {
     "name": "stdout",
     "output_type": "stream",
     "text": [
      "Model: \"sequential\"\n",
      "_________________________________________________________________\n",
      " Layer (type)                Output Shape              Param #   \n",
      "=================================================================\n",
      " dense (Dense)               (None, 45)                1035      \n",
      "                                                                 \n",
      " dense_1 (Dense)             (None, 1)                 46        \n",
      "                                                                 \n",
      "=================================================================\n",
      "Total params: 1,081\n",
      "Trainable params: 1,081\n",
      "Non-trainable params: 0\n",
      "_________________________________________________________________\n"
     ]
    }
   ],
   "source": [
    "model1.summary()"
   ]
  },
  {
   "cell_type": "markdown",
   "metadata": {},
   "source": [
    "#### Compile the Model"
   ]
  },
  {
   "cell_type": "code",
   "execution_count": 18,
   "metadata": {},
   "outputs": [],
   "source": [
    "model1.compile(loss='binary_crossentropy',\n",
    "             optimizer='sgd',\n",
    "             metrics=['accuracy'])"
   ]
  },
  {
   "cell_type": "markdown",
   "metadata": {},
   "source": [
    "#### Prepare Callbacks"
   ]
  },
  {
   "cell_type": "code",
   "execution_count": 19,
   "metadata": {},
   "outputs": [],
   "source": [
    "from tensorflow.keras.callbacks import ModelCheckpoint, EarlyStopping\n",
    "\n",
    "checkpoint_cb = ModelCheckpoint('../SavedModels/best_model.h5',\n",
    "                                save_best_only=True)\n",
    "\n",
    "early_stopping_cb = EarlyStopping(patience=3,\n",
    "                                  restore_best_weights=True)"
   ]
  },
  {
   "cell_type": "markdown",
   "metadata": {},
   "source": [
    "### Training"
   ]
  },
  {
   "cell_type": "code",
   "execution_count": 20,
   "metadata": {},
   "outputs": [
    {
     "name": "stdout",
     "output_type": "stream",
     "text": [
      "Epoch 1/100\n",
      "201/201 [==============================] - 1s 2ms/step - loss: 0.4446 - accuracy: 0.8300 - val_loss: 0.3598 - val_accuracy: 0.8760\n",
      "Epoch 2/100\n",
      "201/201 [==============================] - 0s 938us/step - loss: 0.3055 - accuracy: 0.8933 - val_loss: 0.2637 - val_accuracy: 0.9200\n",
      "Epoch 3/100\n",
      "201/201 [==============================] - 0s 873us/step - loss: 0.2596 - accuracy: 0.9087 - val_loss: 0.2456 - val_accuracy: 0.9220\n",
      "Epoch 4/100\n",
      "201/201 [==============================] - 0s 855us/step - loss: 0.2307 - accuracy: 0.9179 - val_loss: 0.1913 - val_accuracy: 0.9440\n",
      "Epoch 5/100\n",
      "201/201 [==============================] - 0s 842us/step - loss: 0.2083 - accuracy: 0.9222 - val_loss: 0.1997 - val_accuracy: 0.9320\n",
      "Epoch 6/100\n",
      "201/201 [==============================] - 0s 869us/step - loss: 0.1926 - accuracy: 0.9283 - val_loss: 0.1614 - val_accuracy: 0.9500\n",
      "Epoch 7/100\n",
      "201/201 [==============================] - 0s 908us/step - loss: 0.1757 - accuracy: 0.9364 - val_loss: 0.1457 - val_accuracy: 0.9520\n",
      "Epoch 8/100\n",
      "201/201 [==============================] - 0s 882us/step - loss: 0.1634 - accuracy: 0.9425 - val_loss: 0.1314 - val_accuracy: 0.9540\n",
      "Epoch 9/100\n",
      "201/201 [==============================] - 0s 1ms/step - loss: 0.1498 - accuracy: 0.9474 - val_loss: 0.1200 - val_accuracy: 0.9600\n",
      "Epoch 10/100\n",
      "201/201 [==============================] - 0s 943us/step - loss: 0.1397 - accuracy: 0.9507 - val_loss: 0.1436 - val_accuracy: 0.9480\n",
      "Epoch 11/100\n",
      "201/201 [==============================] - 0s 888us/step - loss: 0.1299 - accuracy: 0.9567 - val_loss: 0.1006 - val_accuracy: 0.9680\n",
      "Epoch 12/100\n",
      "201/201 [==============================] - 0s 1ms/step - loss: 0.1222 - accuracy: 0.9625 - val_loss: 0.0973 - val_accuracy: 0.9700\n",
      "Epoch 13/100\n",
      "201/201 [==============================] - 0s 1ms/step - loss: 0.1148 - accuracy: 0.9642 - val_loss: 0.0911 - val_accuracy: 0.9680\n",
      "Epoch 14/100\n",
      "201/201 [==============================] - 0s 1ms/step - loss: 0.1089 - accuracy: 0.9660 - val_loss: 0.0858 - val_accuracy: 0.9760\n",
      "Epoch 15/100\n",
      "201/201 [==============================] - 0s 1ms/step - loss: 0.1019 - accuracy: 0.9699 - val_loss: 0.1171 - val_accuracy: 0.9480\n",
      "Epoch 16/100\n",
      "201/201 [==============================] - 0s 1ms/step - loss: 0.0972 - accuracy: 0.9720 - val_loss: 0.0768 - val_accuracy: 0.9780\n",
      "Epoch 17/100\n",
      "201/201 [==============================] - 0s 1ms/step - loss: 0.0917 - accuracy: 0.9720 - val_loss: 0.1227 - val_accuracy: 0.9540\n",
      "Epoch 18/100\n",
      "201/201 [==============================] - 0s 1ms/step - loss: 0.0875 - accuracy: 0.9761 - val_loss: 0.0670 - val_accuracy: 0.9800\n",
      "Epoch 19/100\n",
      "201/201 [==============================] - 0s 1ms/step - loss: 0.0839 - accuracy: 0.9763 - val_loss: 0.0644 - val_accuracy: 0.9820\n",
      "Epoch 20/100\n",
      "201/201 [==============================] - 0s 1ms/step - loss: 0.0787 - accuracy: 0.9788 - val_loss: 0.0605 - val_accuracy: 0.9840\n",
      "Epoch 21/100\n",
      "201/201 [==============================] - 0s 1ms/step - loss: 0.0753 - accuracy: 0.9789 - val_loss: 0.0599 - val_accuracy: 0.9820\n",
      "Epoch 22/100\n",
      "201/201 [==============================] - 0s 1ms/step - loss: 0.0717 - accuracy: 0.9809 - val_loss: 0.0590 - val_accuracy: 0.9820\n",
      "Epoch 23/100\n",
      "201/201 [==============================] - 0s 1ms/step - loss: 0.0686 - accuracy: 0.9820 - val_loss: 0.0581 - val_accuracy: 0.9800\n",
      "Epoch 24/100\n",
      "201/201 [==============================] - 0s 2ms/step - loss: 0.0653 - accuracy: 0.9834 - val_loss: 0.0559 - val_accuracy: 0.9820\n",
      "Epoch 25/100\n",
      "201/201 [==============================] - 0s 1ms/step - loss: 0.0624 - accuracy: 0.9836 - val_loss: 0.0555 - val_accuracy: 0.9840\n",
      "Epoch 26/100\n",
      "201/201 [==============================] - 0s 1ms/step - loss: 0.0595 - accuracy: 0.9853 - val_loss: 0.0486 - val_accuracy: 0.9860\n",
      "Epoch 27/100\n",
      "201/201 [==============================] - 0s 1ms/step - loss: 0.0578 - accuracy: 0.9850 - val_loss: 0.0462 - val_accuracy: 0.9860\n",
      "Epoch 28/100\n",
      "201/201 [==============================] - 0s 1ms/step - loss: 0.0542 - accuracy: 0.9884 - val_loss: 0.0455 - val_accuracy: 0.9860\n",
      "Epoch 29/100\n",
      "201/201 [==============================] - 0s 1ms/step - loss: 0.0525 - accuracy: 0.9880 - val_loss: 0.0448 - val_accuracy: 0.9860\n",
      "Epoch 30/100\n",
      "201/201 [==============================] - 0s 1ms/step - loss: 0.0503 - accuracy: 0.9875 - val_loss: 0.0414 - val_accuracy: 0.9860\n",
      "Epoch 31/100\n",
      "201/201 [==============================] - 0s 1ms/step - loss: 0.0484 - accuracy: 0.9884 - val_loss: 0.0478 - val_accuracy: 0.9900\n",
      "Epoch 32/100\n",
      "201/201 [==============================] - 0s 1ms/step - loss: 0.0471 - accuracy: 0.9886 - val_loss: 0.0408 - val_accuracy: 0.9880\n",
      "Epoch 33/100\n",
      "201/201 [==============================] - 0s 1ms/step - loss: 0.0449 - accuracy: 0.9895 - val_loss: 0.0400 - val_accuracy: 0.9880\n",
      "Epoch 34/100\n",
      "201/201 [==============================] - 0s 1ms/step - loss: 0.0429 - accuracy: 0.9911 - val_loss: 0.0408 - val_accuracy: 0.9860\n",
      "Epoch 35/100\n",
      "201/201 [==============================] - 0s 1ms/step - loss: 0.0423 - accuracy: 0.9903 - val_loss: 0.0395 - val_accuracy: 0.9880\n",
      "Epoch 36/100\n",
      "201/201 [==============================] - 0s 1ms/step - loss: 0.0405 - accuracy: 0.9911 - val_loss: 0.1157 - val_accuracy: 0.9540\n",
      "Epoch 37/100\n",
      "201/201 [==============================] - 0s 1ms/step - loss: 0.0399 - accuracy: 0.9908 - val_loss: 0.0383 - val_accuracy: 0.9900\n",
      "Epoch 38/100\n",
      "201/201 [==============================] - 0s 2ms/step - loss: 0.0375 - accuracy: 0.9916 - val_loss: 0.0537 - val_accuracy: 0.9900\n",
      "Epoch 39/100\n",
      "201/201 [==============================] - 0s 1ms/step - loss: 0.0363 - accuracy: 0.9927 - val_loss: 0.0385 - val_accuracy: 0.9860\n",
      "Epoch 40/100\n",
      "201/201 [==============================] - 0s 1ms/step - loss: 0.0349 - accuracy: 0.9931 - val_loss: 0.0313 - val_accuracy: 0.9960\n",
      "Epoch 41/100\n",
      "201/201 [==============================] - 0s 1ms/step - loss: 0.0339 - accuracy: 0.9934 - val_loss: 0.0345 - val_accuracy: 0.9900\n",
      "Epoch 42/100\n",
      "201/201 [==============================] - 0s 1ms/step - loss: 0.0332 - accuracy: 0.9938 - val_loss: 0.0321 - val_accuracy: 0.9900\n",
      "Epoch 43/100\n",
      "201/201 [==============================] - 0s 2ms/step - loss: 0.0318 - accuracy: 0.9941 - val_loss: 0.0301 - val_accuracy: 0.9940\n",
      "Epoch 44/100\n",
      "201/201 [==============================] - 0s 1ms/step - loss: 0.0309 - accuracy: 0.9945 - val_loss: 0.0417 - val_accuracy: 0.9900\n",
      "Epoch 45/100\n",
      "201/201 [==============================] - 0s 781us/step - loss: 0.0299 - accuracy: 0.9959 - val_loss: 0.0312 - val_accuracy: 0.9940\n",
      "Epoch 46/100\n",
      "201/201 [==============================] - 0s 1ms/step - loss: 0.0287 - accuracy: 0.9956 - val_loss: 0.0334 - val_accuracy: 0.9920\n"
     ]
    }
   ],
   "source": [
    "train_model1 = model1.fit(X_train1, y_train1,\n",
    "                        epochs=100,\n",
    "                        validation_data=(X_valid1, y_valid1),\n",
    "                        callbacks=[checkpoint_cb, early_stopping_cb])\n",
    "                        \n"
   ]
  },
  {
   "cell_type": "markdown",
   "metadata": {},
   "source": [
    "### Evaluate the Best Model on Test Set"
   ]
  },
  {
   "cell_type": "code",
   "execution_count": 21,
   "metadata": {},
   "outputs": [
    {
     "name": "stdout",
     "output_type": "stream",
     "text": [
      "63/63 [==============================] - 0s 965us/step - loss: 0.0504 - accuracy: 0.9820\n",
      "test loss, test acc: [0.05038202181458473, 0.9819999933242798]\n"
     ]
    }
   ],
   "source": [
    "results1 = model1.evaluate(X_test1, y_test)\n",
    "print(\"test loss, test acc:\", results1)"
   ]
  },
  {
   "cell_type": "markdown",
   "metadata": {},
   "source": [
    "### Make Some Predictions"
   ]
  },
  {
   "cell_type": "code",
   "execution_count": 22,
   "metadata": {},
   "outputs": [],
   "source": [
    "X_new1 = X_test1[:5]\n",
    "y_prob1 = model1.predict(X_new1)\n",
    "# print(y_prob.round(3))"
   ]
  },
  {
   "cell_type": "code",
   "execution_count": 23,
   "metadata": {},
   "outputs": [],
   "source": [
    "y_pred1 = (model1.predict(X_new1) > 0.5).astype(\"int32\")\n",
    "# print(y_pred)\n",
    "y_test_pred = (model1.predict(X_test1) > 0.5).astype(\"int32\")"
   ]
  },
  {
   "cell_type": "markdown",
   "metadata": {},
   "source": [
    "## KL Divergence"
   ]
  },
  {
   "cell_type": "code",
   "execution_count": 24,
   "metadata": {},
   "outputs": [
    {
     "name": "stdout",
     "output_type": "stream",
     "text": [
      "        X_pred  y_pred  y_actual\n",
      "0     0.000742       0         0\n",
      "1     0.001965       0         0\n",
      "2     0.017646       0         0\n",
      "3     0.000112       0         0\n",
      "4     0.993644       1         1\n",
      "...        ...     ...       ...\n",
      "1995  0.700004       1         1\n",
      "1996  0.004045       0         0\n",
      "1997  0.964448       1         1\n",
      "1998  0.009363       0         0\n",
      "1999  0.999706       1         1\n",
      "\n",
      "[2000 rows x 3 columns]\n"
     ]
    }
   ],
   "source": [
    "# X_new = X_test[:5]\n",
    "X_df1 = pd.DataFrame(model1.predict(X_test1))\n",
    "y_test_pred1 = pd.DataFrame(y_test_pred).reset_index(drop=True)\n",
    "X_df1 = pd.concat([X_df1, y_test_pred1], axis=1)\n",
    "y_test1 = y_test.reset_index(drop=True)\n",
    "X_df1 = pd.concat([X_df1, y_test1], axis=1)\n",
    "X_df1.columns = [\"X_pred\",\"y_pred\",\"y_actual\"]\n",
    "print(X_df1)"
   ]
  },
  {
   "cell_type": "code",
   "execution_count": 25,
   "metadata": {},
   "outputs": [
    {
     "name": "stdout",
     "output_type": "stream",
     "text": [
      "        KL_div abs_distance correctness  y_pred\n",
      "0     0.006085     0.998517           1     0.0\n",
      "1     0.014208      0.99607           1     0.0\n",
      "2     0.088731     0.964708           1     0.0\n",
      "3     0.001132     0.999776           1     0.0\n",
      "4     0.038488     0.987287           1     1.0\n",
      "...        ...          ...         ...     ...\n",
      "1995  0.610861     0.400008           1     1.0\n",
      "1996  0.026323     0.991911           1     0.0\n",
      "1997  0.153541     0.928896           1     1.0\n",
      "1998  0.053054     0.981274           1     0.0\n",
      "1999  0.002685     0.999412           1     1.0\n",
      "\n",
      "[2000 rows x 4 columns]\n"
     ]
    }
   ],
   "source": [
    "import math\n",
    "table1 = pd.DataFrame(columns=[\"KL_div\",\"abs_distance\",\"correctness\"])\n",
    "for i in range(0,len(X_df1)):\n",
    "    # KL divergence\n",
    "    p = X_df1.loc[i,\"X_pred\"]\n",
    "    try:\n",
    "        kl = -(p*math.log(p) + (1-p)*math.log(1-p))\n",
    "    except:\n",
    "        kl = 0\n",
    "    table1.loc[i,\"KL_div\"] = kl\n",
    "    # absolute distance\n",
    "    abs_dist = 2*abs(0.5-p)\n",
    "    table1.loc[i,\"abs_distance\"] = abs_dist\n",
    "    # correctness\n",
    "    y_pred1 = X_df1.loc[i,\"y_pred\"]\n",
    "    y_act1 = X_df1.loc[i,\"y_actual\"]\n",
    "    if y_pred1 == y_act1:\n",
    "        table1.loc[i,\"correctness\"] = 1 # correct prediction\n",
    "    else:\n",
    "        table1.loc[i,\"correctness\"] = 0 # wrong prediction\n",
    "    table1.loc[i,\"y_pred\"] = y_pred1\n",
    "\n",
    "print(table1)"
   ]
  },
  {
   "cell_type": "code",
   "execution_count": 32,
   "metadata": {},
   "outputs": [
    {
     "name": "stdout",
     "output_type": "stream",
     "text": [
      "              correctness  count    percent\n",
      "abs_distance                               \n",
      "(0.0, 0.1]              7     16  43.750000\n",
      "(0.1, 0.2]              7      9  77.777778\n",
      "(0.2, 0.3]              7     11  63.636364\n",
      "(0.3, 0.4]              6     11  54.545455\n",
      "(0.4, 0.5]             20     26  76.923077\n",
      "(0.5, 0.6]             16     20  80.000000\n",
      "(0.6, 0.7]             22     23  95.652174\n",
      "(0.7, 0.8]             47     49  95.918367\n",
      "(0.8, 0.9]             97     99  97.979798\n",
      "(0.9, 1.0]           1735   1736  99.942396\n"
     ]
    }
   ],
   "source": [
    "table1[\"count\"] = 1\n",
    "correctness1 = table1[[\"correctness\",\"count\"]].groupby(pd.cut(table1[\"abs_distance\"], np.arange(0, 1.1, 0.1))).apply(sum)\n",
    "correctness1[\"percent\"] = 100*(correctness1[\"correctness\"]/correctness1[\"count\"])\n",
    "print(correctness1)"
   ]
  },
  {
   "cell_type": "code",
   "execution_count": 34,
   "metadata": {},
   "outputs": [
    {
     "data": {
      "text/plain": [
       "Text(0, 0.5, '% correct')"
      ]
     },
     "execution_count": 34,
     "metadata": {},
     "output_type": "execute_result"
    },
    {
     "data": {
      "image/png": "[encoded data removed]",
      "text/plain": [
       "<Figure size 432x288 with 1 Axes>"
      ]
     },
     "metadata": {
      "needs_background": "light"
     },
     "output_type": "display_data"
    }
   ],
   "source": [
    "index = []\n",
    "for i in (correctness1.index):\n",
    "    index.append(str(i))\n",
    "plt.bar(index,correctness1[\"percent\"], width=0.7)\n",
    "for index,data in enumerate(correctness1[\"percent\"]):\n",
    "    plt.text(x=index , y =data+1 , s=f\"{round(data,2)}\" , fontdict=dict(fontsize=12),ha='center')\n",
    "plt.ylim(0,110)\n",
    "plt.xlabel(\"Absolute Distance\")\n",
    "plt.ylabel(\"% correct\")"
   ]
  },
  {
   "cell_type": "markdown",
   "metadata": {},
   "source": [
    "### Confidence"
   ]
  },
  {
   "cell_type": "code",
   "execution_count": 40,
   "metadata": {},
   "outputs": [
    {
     "data": {
      "text/plain": [
       "Text(0, 0.5, '% correct')"
      ]
     },
     "execution_count": 40,
     "metadata": {},
     "output_type": "execute_result"
    },
    {
     "data": {
      "image/png": "[encoded data removed]",
      "text/plain": [
       "<Figure size 432x288 with 1 Axes>"
      ]
     },
     "metadata": {
      "needs_background": "light"
     },
     "output_type": "display_data"
    }
   ],
   "source": [
    "abs1 = table1[[\"correctness\",\"count\"]].groupby(pd.cut(table1[\"abs_distance\"], np.arange(0, 1.1, 0.1))).apply(sum)\n",
    "abs1[\"percent\"] = (abs1[\"correctness\"]/abs1[\"count\"])\n",
    "abs1.dropna(inplace=True)\n",
    "plt.scatter(np.arange(0, 1, 0.1), abs1[\"percent\"])\n",
    "plt.xlabel(\"abs_distance\")\n",
    "plt.ylabel(\"% correct\")"
   ]
  },
  {
   "cell_type": "code",
   "execution_count": 44,
   "metadata": {},
   "outputs": [],
   "source": [
    "# Linear Regression\n",
    "from sklearn.linear_model import LinearRegression\n",
    "\n",
    "x_reg1 = np.arange(0, 1, 0.1).reshape((-1, 1))\n",
    "y_reg1 = abs1[\"percent\"]\n",
    "reg_model1 = LinearRegression().fit(x_reg1,y_reg1)"
   ]
  },
  {
   "cell_type": "code",
   "execution_count": 45,
   "metadata": {},
   "outputs": [
    {
     "name": "stdout",
     "output_type": "stream",
     "text": [
      "intercept(alpha): 0.5311382789902761\n",
      "slope(theta): [0.56663807]\n"
     ]
    }
   ],
   "source": [
    "print('intercept(alpha):', reg_model1.intercept_)\n",
    "print('slope(theta):', reg_model1.coef_)"
   ]
  },
  {
   "cell_type": "markdown",
   "metadata": {},
   "source": [
    "# NN2 Odor - Almond (a)"
   ]
  },
  {
   "cell_type": "markdown",
   "metadata": {},
   "source": [
    "#### Train Set and Test Set"
   ]
  },
  {
   "cell_type": "code",
   "execution_count": 46,
   "metadata": {},
   "outputs": [],
   "source": [
    "from sklearn.model_selection import train_test_split\n",
    "X_green = pd.DataFrame()\n",
    "X_not_green = pd.DataFrame()\n",
    "y_green = pd.Series(dtype='float64')\n",
    "y_not_green = pd.Series(dtype='float64')\n",
    "for i in range(0,len(X)):\n",
    "    if X.loc[i,\"odor\"] == \"a\":\n",
    "        X_green = X_green.append(X.iloc[i,:])\n",
    "        y_green = y_green.append(pd.Series(y.iloc[i]))\n",
    "    else:\n",
    "        X_not_green = X_not_green.append(X.iloc[i,:])\n",
    "        y_not_green = y_not_green.append(pd.Series(y.iloc[i]))"
   ]
  },
  {
   "cell_type": "code",
   "execution_count": 47,
   "metadata": {},
   "outputs": [],
   "source": [
    "# X_test_green, X_train_green, y_test_green, y_train_green = train_test_split(X_green, y_green, test_size=1, random_state=87)\n",
    "X_train_not_green, X_test_not_green, y_train_not_green, y_test_not_green = train_test_split(X_not_green, y_not_green, test_size=1-(6905/(8124-len(X_green))), random_state=87)\n",
    "\n",
    "# print(X_test_green)\n",
    "X_train_green = (X_train_not_green)\n",
    "X_test_green = X_green.append(X_test_not_green)\n",
    "y_train_green = (y_train_not_green)\n",
    "y_test_green = y_green.append(y_test_not_green)"
   ]
  },
  {
   "cell_type": "code",
   "execution_count": 48,
   "metadata": {},
   "outputs": [],
   "source": [
    "from sklearn.utils import shuffle\n",
    "X_train_full2 = shuffle(X_train_green, random_state=87)\n",
    "# X_test2 = shuffle(X_test_green, random_state=87)\n",
    "y_train_full2 = shuffle(y_train_green, random_state=87)\n",
    "# y_test2 = shuffle(y_test_green, random_state=87)"
   ]
  },
  {
   "cell_type": "markdown",
   "metadata": {},
   "source": [
    "#### Validation Set"
   ]
  },
  {
   "cell_type": "code",
   "execution_count": 49,
   "metadata": {},
   "outputs": [
    {
     "name": "stdout",
     "output_type": "stream",
     "text": [
      "X_train: 6404 y_train 6404\n",
      "X_valid:  500 y_valid  500\n",
      "X_test:  2000 y_test  2000\n"
     ]
    }
   ],
   "source": [
    "X_valid2, X_train2 = X_train_full2[:500], X_train_full2[500:]\n",
    "y_valid2, y_train2 = y_train_full2[:500], y_train_full2[500:]\n",
    "\n",
    "print(\"X_train:\", X_train2.shape[0], \"y_train\", y_train2.shape[0])\n",
    "print(\"X_valid: \", X_valid2.shape[0], \"y_valid \", y_valid2.shape[0])\n",
    "print(\"X_test: \", X_test.shape[0], \"y_test \", X_test.shape[0])\n"
   ]
  },
  {
   "cell_type": "markdown",
   "metadata": {},
   "source": [
    "### Prepare the Data"
   ]
  },
  {
   "cell_type": "markdown",
   "metadata": {},
   "source": [
    "#### Data Transformation"
   ]
  },
  {
   "cell_type": "code",
   "execution_count": 50,
   "metadata": {},
   "outputs": [],
   "source": [
    "from sklearn.pipeline import Pipeline\n",
    "from sklearn.preprocessing import OrdinalEncoder\n",
    "from sklearn.compose import ColumnTransformer\n",
    "\n",
    "cat_attr_pipeline = Pipeline([\n",
    "                        ('encoder', OrdinalEncoder())\n",
    "                    ])\n",
    "\n",
    "cols = list(X)\n",
    "pipeline = ColumnTransformer([\n",
    "                ('cat_attr_pipeline', cat_attr_pipeline, cols)\n",
    "            ])\n",
    "\n",
    "\n",
    "X_train2 = pipeline.fit_transform(X_train2)\n",
    "X_valid2 = pipeline.fit_transform(X_valid2)\n",
    "X_test2  = pipeline.fit_transform(X_test)\n",
    "y_test2 = y_test"
   ]
  },
  {
   "cell_type": "markdown",
   "metadata": {},
   "source": [
    "### Neural Network"
   ]
  },
  {
   "cell_type": "markdown",
   "metadata": {},
   "source": [
    "#### Model"
   ]
  },
  {
   "cell_type": "code",
   "execution_count": 51,
   "metadata": {},
   "outputs": [],
   "source": [
    "from tensorflow.keras.models import Sequential\n",
    "from tensorflow.keras.layers import InputLayer, Dense"
   ]
  },
  {
   "cell_type": "code",
   "execution_count": 52,
   "metadata": {},
   "outputs": [],
   "source": [
    "# tf.random.set_random_seed(87)\n",
    "tf.random.set_seed(87)"
   ]
  },
  {
   "cell_type": "code",
   "execution_count": 53,
   "metadata": {},
   "outputs": [],
   "source": [
    "model2 = Sequential([\n",
    "    InputLayer(input_shape=(22,)),    # input  layer\n",
    "    Dense(45, activation='relu'),     # hidden layer\n",
    "    Dense(1,   activation='sigmoid')  # output layer\n",
    "])"
   ]
  },
  {
   "cell_type": "code",
   "execution_count": 54,
   "metadata": {},
   "outputs": [
    {
     "name": "stdout",
     "output_type": "stream",
     "text": [
      "Model: \"sequential_1\"\n",
      "_________________________________________________________________\n",
      " Layer (type)                Output Shape              Param #   \n",
      "=================================================================\n",
      " dense_2 (Dense)             (None, 45)                1035      \n",
      "                                                                 \n",
      " dense_3 (Dense)             (None, 1)                 46        \n",
      "                                                                 \n",
      "=================================================================\n",
      "Total params: 1,081\n",
      "Trainable params: 1,081\n",
      "Non-trainable params: 0\n",
      "_________________________________________________________________\n"
     ]
    }
   ],
   "source": [
    "model2.summary()"
   ]
  },
  {
   "cell_type": "markdown",
   "metadata": {},
   "source": [
    "#### Compile the Model"
   ]
  },
  {
   "cell_type": "code",
   "execution_count": 55,
   "metadata": {},
   "outputs": [],
   "source": [
    "model2.compile(loss='binary_crossentropy',\n",
    "             optimizer='sgd',\n",
    "             metrics=['accuracy'])"
   ]
  },
  {
   "cell_type": "markdown",
   "metadata": {},
   "source": [
    "#### Prepare Callbacks"
   ]
  },
  {
   "cell_type": "code",
   "execution_count": 56,
   "metadata": {},
   "outputs": [],
   "source": [
    "from tensorflow.keras.callbacks import ModelCheckpoint, EarlyStopping\n",
    "\n",
    "checkpoint_cb = ModelCheckpoint('../SavedModels/best_model.h5',\n",
    "                                save_best_only=True)\n",
    "\n",
    "early_stopping_cb = EarlyStopping(patience=3,\n",
    "                                  restore_best_weights=True)"
   ]
  },
  {
   "cell_type": "markdown",
   "metadata": {},
   "source": [
    "### Training"
   ]
  },
  {
   "cell_type": "code",
   "execution_count": 57,
   "metadata": {},
   "outputs": [
    {
     "name": "stdout",
     "output_type": "stream",
     "text": [
      "Epoch 1/100\n",
      "201/201 [==============================] - 1s 2ms/step - loss: 0.4270 - accuracy: 0.8435 - val_loss: 0.3198 - val_accuracy: 0.8980\n",
      "Epoch 2/100\n",
      "201/201 [==============================] - 0s 1ms/step - loss: 0.2810 - accuracy: 0.9066 - val_loss: 0.2625 - val_accuracy: 0.9180\n",
      "Epoch 3/100\n",
      "201/201 [==============================] - 0s 1ms/step - loss: 0.2378 - accuracy: 0.9166 - val_loss: 0.2565 - val_accuracy: 0.8920\n",
      "Epoch 4/100\n",
      "201/201 [==============================] - 0s 1ms/step - loss: 0.2119 - accuracy: 0.9232 - val_loss: 0.2221 - val_accuracy: 0.9280\n",
      "Epoch 5/100\n",
      "201/201 [==============================] - 0s 1ms/step - loss: 0.1937 - accuracy: 0.9269 - val_loss: 0.2283 - val_accuracy: 0.9020\n",
      "Epoch 6/100\n",
      "201/201 [==============================] - 0s 1ms/step - loss: 0.1809 - accuracy: 0.9288 - val_loss: 0.2644 - val_accuracy: 0.9120\n",
      "Epoch 7/100\n",
      "201/201 [==============================] - 0s 1ms/step - loss: 0.1688 - accuracy: 0.9322 - val_loss: 0.2008 - val_accuracy: 0.9380\n",
      "Epoch 8/100\n",
      "201/201 [==============================] - 0s 1ms/step - loss: 0.1569 - accuracy: 0.9352 - val_loss: 0.1967 - val_accuracy: 0.9340\n",
      "Epoch 9/100\n",
      "201/201 [==============================] - 0s 1ms/step - loss: 0.1466 - accuracy: 0.9418 - val_loss: 0.1901 - val_accuracy: 0.9380\n",
      "Epoch 10/100\n",
      "201/201 [==============================] - 0s 1ms/step - loss: 0.1384 - accuracy: 0.9438 - val_loss: 0.1735 - val_accuracy: 0.9440\n",
      "Epoch 11/100\n",
      "201/201 [==============================] - 0s 1ms/step - loss: 0.1290 - accuracy: 0.9507 - val_loss: 0.1631 - val_accuracy: 0.9440\n",
      "Epoch 12/100\n",
      "201/201 [==============================] - 0s 1ms/step - loss: 0.1225 - accuracy: 0.9533 - val_loss: 0.1633 - val_accuracy: 0.9260\n",
      "Epoch 13/100\n",
      "201/201 [==============================] - 0s 1ms/step - loss: 0.1135 - accuracy: 0.9594 - val_loss: 0.2308 - val_accuracy: 0.9160\n",
      "Epoch 14/100\n",
      "201/201 [==============================] - 0s 1ms/step - loss: 0.1075 - accuracy: 0.9633 - val_loss: 0.1362 - val_accuracy: 0.9480\n",
      "Epoch 15/100\n",
      "201/201 [==============================] - 0s 1ms/step - loss: 0.1009 - accuracy: 0.9660 - val_loss: 0.1522 - val_accuracy: 0.9480\n",
      "Epoch 16/100\n",
      "201/201 [==============================] - 0s 2ms/step - loss: 0.0935 - accuracy: 0.9680 - val_loss: 0.1605 - val_accuracy: 0.9440\n",
      "Epoch 17/100\n",
      "201/201 [==============================] - 0s 2ms/step - loss: 0.0878 - accuracy: 0.9733 - val_loss: 0.1206 - val_accuracy: 0.9560\n",
      "Epoch 18/100\n",
      "201/201 [==============================] - 0s 1ms/step - loss: 0.0828 - accuracy: 0.9761 - val_loss: 0.1436 - val_accuracy: 0.9360\n",
      "Epoch 19/100\n",
      "201/201 [==============================] - 0s 807us/step - loss: 0.0780 - accuracy: 0.9774 - val_loss: 0.1113 - val_accuracy: 0.9600\n",
      "Epoch 20/100\n",
      "201/201 [==============================] - 0s 850us/step - loss: 0.0728 - accuracy: 0.9797 - val_loss: 0.1012 - val_accuracy: 0.9660\n",
      "Epoch 21/100\n",
      "201/201 [==============================] - 0s 739us/step - loss: 0.0693 - accuracy: 0.9799 - val_loss: 0.1592 - val_accuracy: 0.9320\n",
      "Epoch 22/100\n",
      "201/201 [==============================] - 0s 976us/step - loss: 0.0661 - accuracy: 0.9836 - val_loss: 0.0916 - val_accuracy: 0.9740\n",
      "Epoch 23/100\n",
      "201/201 [==============================] - 0s 770us/step - loss: 0.0622 - accuracy: 0.9839 - val_loss: 0.0911 - val_accuracy: 0.9680\n",
      "Epoch 24/100\n",
      "201/201 [==============================] - 0s 777us/step - loss: 0.0583 - accuracy: 0.9855 - val_loss: 0.0866 - val_accuracy: 0.9700\n",
      "Epoch 25/100\n",
      "201/201 [==============================] - 0s 907us/step - loss: 0.0558 - accuracy: 0.9867 - val_loss: 0.0829 - val_accuracy: 0.9740\n",
      "Epoch 26/100\n",
      "201/201 [==============================] - 0s 1ms/step - loss: 0.0530 - accuracy: 0.9872 - val_loss: 0.0824 - val_accuracy: 0.9660\n",
      "Epoch 27/100\n",
      "201/201 [==============================] - 0s 866us/step - loss: 0.0508 - accuracy: 0.9863 - val_loss: 0.0757 - val_accuracy: 0.9780\n",
      "Epoch 28/100\n",
      "201/201 [==============================] - 0s 816us/step - loss: 0.0480 - accuracy: 0.9880 - val_loss: 0.1260 - val_accuracy: 0.9460\n",
      "Epoch 29/100\n",
      "201/201 [==============================] - 0s 912us/step - loss: 0.0462 - accuracy: 0.9878 - val_loss: 0.0702 - val_accuracy: 0.9780\n",
      "Epoch 30/100\n",
      "201/201 [==============================] - 0s 868us/step - loss: 0.0439 - accuracy: 0.9899 - val_loss: 0.0679 - val_accuracy: 0.9760\n",
      "Epoch 31/100\n",
      "201/201 [==============================] - 0s 941us/step - loss: 0.0427 - accuracy: 0.9900 - val_loss: 0.0698 - val_accuracy: 0.9760\n",
      "Epoch 32/100\n",
      "201/201 [==============================] - 0s 736us/step - loss: 0.0408 - accuracy: 0.9900 - val_loss: 0.0773 - val_accuracy: 0.9720\n",
      "Epoch 33/100\n",
      "201/201 [==============================] - 0s 829us/step - loss: 0.0386 - accuracy: 0.9908 - val_loss: 0.0612 - val_accuracy: 0.9800\n",
      "Epoch 34/100\n",
      "201/201 [==============================] - 0s 752us/step - loss: 0.0373 - accuracy: 0.9906 - val_loss: 0.1264 - val_accuracy: 0.9520\n",
      "Epoch 35/100\n",
      "201/201 [==============================] - 0s 853us/step - loss: 0.0365 - accuracy: 0.9916 - val_loss: 0.0582 - val_accuracy: 0.9840\n",
      "Epoch 36/100\n",
      "201/201 [==============================] - 0s 771us/step - loss: 0.0342 - accuracy: 0.9920 - val_loss: 0.0681 - val_accuracy: 0.9760\n",
      "Epoch 37/100\n",
      "201/201 [==============================] - 0s 793us/step - loss: 0.0334 - accuracy: 0.9927 - val_loss: 0.0549 - val_accuracy: 0.9820\n",
      "Epoch 38/100\n",
      "201/201 [==============================] - 0s 739us/step - loss: 0.0321 - accuracy: 0.9930 - val_loss: 0.2112 - val_accuracy: 0.8960\n",
      "Epoch 39/100\n",
      "201/201 [==============================] - 0s 927us/step - loss: 0.0327 - accuracy: 0.9934 - val_loss: 0.0547 - val_accuracy: 0.9800\n",
      "Epoch 40/100\n",
      "201/201 [==============================] - 0s 749us/step - loss: 0.0301 - accuracy: 0.9939 - val_loss: 0.0571 - val_accuracy: 0.9780\n",
      "Epoch 41/100\n",
      "201/201 [==============================] - 0s 920us/step - loss: 0.0286 - accuracy: 0.9945 - val_loss: 0.0493 - val_accuracy: 0.9820\n",
      "Epoch 42/100\n",
      "201/201 [==============================] - 0s 837us/step - loss: 0.0280 - accuracy: 0.9942 - val_loss: 0.0503 - val_accuracy: 0.9880\n",
      "Epoch 43/100\n",
      "201/201 [==============================] - 0s 825us/step - loss: 0.0270 - accuracy: 0.9941 - val_loss: 0.0483 - val_accuracy: 0.9820\n",
      "Epoch 44/100\n",
      "201/201 [==============================] - 0s 855us/step - loss: 0.0261 - accuracy: 0.9952 - val_loss: 0.0449 - val_accuracy: 0.9820\n",
      "Epoch 45/100\n",
      "201/201 [==============================] - 0s 828us/step - loss: 0.0254 - accuracy: 0.9950 - val_loss: 0.0439 - val_accuracy: 0.9840\n",
      "Epoch 46/100\n",
      "201/201 [==============================] - 0s 838us/step - loss: 0.0245 - accuracy: 0.9956 - val_loss: 0.0490 - val_accuracy: 0.9800\n",
      "Epoch 47/100\n",
      "201/201 [==============================] - 0s 857us/step - loss: 0.0236 - accuracy: 0.9959 - val_loss: 0.0428 - val_accuracy: 0.9820\n",
      "Epoch 48/100\n",
      "201/201 [==============================] - 0s 887us/step - loss: 0.0232 - accuracy: 0.9953 - val_loss: 0.0399 - val_accuracy: 0.9900\n",
      "Epoch 49/100\n",
      "201/201 [==============================] - 0s 932us/step - loss: 0.0224 - accuracy: 0.9966 - val_loss: 0.0465 - val_accuracy: 0.9800\n",
      "Epoch 50/100\n",
      "201/201 [==============================] - 0s 736us/step - loss: 0.0218 - accuracy: 0.9964 - val_loss: 0.0440 - val_accuracy: 0.9820\n",
      "Epoch 51/100\n",
      "201/201 [==============================] - 0s 757us/step - loss: 0.0210 - accuracy: 0.9958 - val_loss: 0.0406 - val_accuracy: 0.9840\n"
     ]
    }
   ],
   "source": [
    "train_model2 = model2.fit(X_train2, y_train2,\n",
    "                        epochs=100,\n",
    "                        validation_data=(X_valid2, y_valid2),\n",
    "                        callbacks=[checkpoint_cb, early_stopping_cb])\n",
    "                        \n"
   ]
  },
  {
   "cell_type": "markdown",
   "metadata": {},
   "source": [
    "### Evaluate the Best Model on Test Set"
   ]
  },
  {
   "cell_type": "code",
   "execution_count": 58,
   "metadata": {},
   "outputs": [
    {
     "name": "stdout",
     "output_type": "stream",
     "text": [
      "63/63 [==============================] - 0s 840us/step - loss: 0.0788 - accuracy: 0.9665\n",
      "test loss, test acc: [0.07879919558763504, 0.9664999842643738]\n"
     ]
    }
   ],
   "source": [
    "results2 = model2.evaluate(X_test2, y_test2)\n",
    "print(\"test loss, test acc:\", results2)"
   ]
  },
  {
   "cell_type": "markdown",
   "metadata": {},
   "source": [
    "### Make Some Predictions"
   ]
  },
  {
   "cell_type": "code",
   "execution_count": 59,
   "metadata": {},
   "outputs": [],
   "source": [
    "X_new2 = X_test2[1100:1110]\n",
    "y_prob2 = model2.predict(X_new2)\n",
    "# print(y_prob2.round(3))"
   ]
  },
  {
   "cell_type": "code",
   "execution_count": 60,
   "metadata": {},
   "outputs": [],
   "source": [
    "y_pred2 = (model2.predict(X_new2) > 0.5).astype(\"int32\")\n",
    "# print(y_pred2)\n",
    "y_test_pred2 = (model2.predict(X_test2) > 0.5).astype(\"int32\")"
   ]
  },
  {
   "cell_type": "markdown",
   "metadata": {},
   "source": [
    "## KL Divergence"
   ]
  },
  {
   "cell_type": "code",
   "execution_count": 61,
   "metadata": {},
   "outputs": [
    {
     "name": "stdout",
     "output_type": "stream",
     "text": [
      "        X_pred  y_pred  y_actual\n",
      "0     0.000563       0         0\n",
      "1     0.001067       0         0\n",
      "2     0.017092       0         0\n",
      "3     0.000098       0         0\n",
      "4     0.989279       1         1\n",
      "...        ...     ...       ...\n",
      "1995  0.512429       1         1\n",
      "1996  0.138356       0         0\n",
      "1997  0.950168       1         1\n",
      "1998  0.544643       1         0\n",
      "1999  0.999727       1         1\n",
      "\n",
      "[2000 rows x 3 columns]\n"
     ]
    }
   ],
   "source": [
    "# X_new = X_test[:5]\n",
    "X_df2 = pd.DataFrame(model2.predict(X_test2))\n",
    "y_test_pred2 = pd.DataFrame(y_test_pred2).reset_index(drop=True)\n",
    "X_df2 = pd.concat([X_df2, y_test_pred2], axis=1)\n",
    "y_test2 = y_test2.reset_index(drop=True)\n",
    "X_df2 = pd.concat([X_df2, y_test2], axis=1)\n",
    "X_df2.columns = [\"X_pred\",\"y_pred\",\"y_actual\"]\n",
    "print(X_df2)"
   ]
  },
  {
   "cell_type": "code",
   "execution_count": 62,
   "metadata": {},
   "outputs": [
    {
     "name": "stdout",
     "output_type": "stream",
     "text": [
      "        KL_div abs_distance y_pred correctness\n",
      "0     0.004772     0.998875      0           1\n",
      "1     0.008369     0.997866      0           1\n",
      "2     0.086494     0.965816      0           1\n",
      "3     0.001004     0.999804      0           1\n",
      "4     0.059289     0.978558      1           1\n",
      "...        ...          ...    ...         ...\n",
      "1995  0.692838     0.024858      1           1\n",
      "1996  0.401968     0.723288      0           1\n",
      "1997   0.19802     0.900336      1           1\n",
      "1998  0.689156     0.089287      1           0\n",
      "1999  0.002515     0.999454      1           1\n",
      "\n",
      "[2000 rows x 4 columns]\n"
     ]
    }
   ],
   "source": [
    "import math\n",
    "table2 = pd.DataFrame(columns=[\"KL_div\",\"abs_distance\",\"y_pred\",\"correctness\"])\n",
    "for i in range(0,len(X_df2)):\n",
    "    # KL divergence\n",
    "    p = X_df2.loc[i,\"X_pred\"]\n",
    "    kl = -(p*math.log(p) + (1-p)*math.log(1-p))\n",
    "    table2.loc[i,\"KL_div\"] = kl\n",
    "    # absolute distance\n",
    "    abs_dist = 2*abs(0.5-p)\n",
    "    table2.loc[i,\"abs_distance\"] = abs_dist\n",
    "    # correctness\n",
    "    y_pred = X_df2.loc[i,\"y_pred\"]\n",
    "    y_act = X_df2.loc[i,\"y_actual\"]\n",
    "    if y_pred == y_act:\n",
    "        table2.loc[i,\"correctness\"] = 1 # correct prediction\n",
    "    else:\n",
    "        table2.loc[i,\"correctness\"] = 0 # wrong prediction\n",
    "    table2.loc[i,\"y_pred\"] = y_pred\n",
    "\n",
    "print(table2)"
   ]
  },
  {
   "cell_type": "code",
   "execution_count": 63,
   "metadata": {},
   "outputs": [
    {
     "name": "stdout",
     "output_type": "stream",
     "text": [
      "              correctness  count     percent\n",
      "abs_distance                                \n",
      "(0.0, 0.1]              6     15   40.000000\n",
      "(0.1, 0.2]             10     28   35.714286\n",
      "(0.2, 0.3]             20     25   80.000000\n",
      "(0.3, 0.4]              6     16   37.500000\n",
      "(0.4, 0.5]             18     24   75.000000\n",
      "(0.5, 0.6]             28     35   80.000000\n",
      "(0.6, 0.7]             50     54   92.592593\n",
      "(0.7, 0.8]             79     85   92.941176\n",
      "(0.8, 0.9]            147    149   98.657718\n",
      "(0.9, 1.0]           1569   1569  100.000000\n"
     ]
    }
   ],
   "source": [
    "table2[\"count\"] = 1\n",
    "correctness2 = table2[[\"correctness\",\"count\"]].groupby(pd.cut(table2[\"abs_distance\"], np.arange(0, 1.1, 0.1))).apply(sum)\n",
    "correctness2[\"percent\"] = 100*(correctness2[\"correctness\"]/correctness2[\"count\"])\n",
    "print(correctness2)"
   ]
  },
  {
   "cell_type": "code",
   "execution_count": 64,
   "metadata": {},
   "outputs": [
    {
     "data": {
      "text/plain": [
       "Text(0, 0.5, '% correct')"
      ]
     },
     "execution_count": 64,
     "metadata": {},
     "output_type": "execute_result"
    },
    {
     "data": {
      "image/png": "[encoded data removed]",
      "text/plain": [
       "<Figure size 432x288 with 1 Axes>"
      ]
     },
     "metadata": {
      "needs_background": "light"
     },
     "output_type": "display_data"
    }
   ],
   "source": [
    "index = []\n",
    "for i in (correctness2.index):\n",
    "    index.append(str(i))\n",
    "plt.bar(index,correctness2[\"percent\"], width=0.7)\n",
    "for index,data in enumerate(correctness2[\"percent\"]):\n",
    "    plt.text(x=index , y =data+1 , s=f\"{round(data,2)}\" , fontdict=dict(fontsize=12),ha='center')\n",
    "plt.ylim(0,110)\n",
    "plt.xlabel(\"abs_distance\")\n",
    "plt.ylabel(\"% correct\")"
   ]
  },
  {
   "cell_type": "markdown",
   "metadata": {},
   "source": [
    "### Confidence"
   ]
  },
  {
   "cell_type": "code",
   "execution_count": 65,
   "metadata": {},
   "outputs": [
    {
     "data": {
      "text/plain": [
       "<matplotlib.collections.PathCollection at 0x24124391700>"
      ]
     },
     "execution_count": 65,
     "metadata": {},
     "output_type": "execute_result"
    },
    {
     "data": {
      "image/png": "[encoded data removed]",
      "text/plain": [
       "<Figure size 432x288 with 1 Axes>"
      ]
     },
     "metadata": {
      "needs_background": "light"
     },
     "output_type": "display_data"
    }
   ],
   "source": [
    "abs2 = table2[[\"correctness\",\"count\"]].groupby(pd.cut(table2[\"abs_distance\"], np.arange(0, 1.1, 0.1))).apply(sum)\n",
    "abs2[\"percent\"] = (abs2[\"correctness\"]/abs2[\"count\"])\n",
    "abs2.dropna(inplace=True)\n",
    "plt.scatter(np.arange(0, 1, 0.1), abs2[\"percent\"])\n",
    "# print(kl)\n",
    "# print(np.arange(0, 0.7, 0.05))"
   ]
  },
  {
   "cell_type": "code",
   "execution_count": 66,
   "metadata": {},
   "outputs": [],
   "source": [
    "# Linear Regression\n",
    "from sklearn.linear_model import LinearRegression\n",
    "\n",
    "x_reg2 = np.arange(0, 1, 0.1).reshape((-1, 1))\n",
    "y_reg2 = abs2[\"percent\"]\n",
    "reg_model2 = LinearRegression().fit(x_reg2,y_reg2)"
   ]
  },
  {
   "cell_type": "code",
   "execution_count": 67,
   "metadata": {},
   "outputs": [
    {
     "name": "stdout",
     "output_type": "stream",
     "text": [
      "intercept(alpha): 0.40088185826835626\n",
      "slope(theta): [0.73671981]\n"
     ]
    }
   ],
   "source": [
    "print('intercept(alpha):', reg_model2.intercept_)\n",
    "print('slope(theta):', reg_model2.coef_)"
   ]
  },
  {
   "cell_type": "markdown",
   "metadata": {},
   "source": [
    "## Algorithm C: It = argmax(Ct,i)"
   ]
  },
  {
   "cell_type": "code",
   "execution_count": 68,
   "metadata": {},
   "outputs": [],
   "source": [
    "# Correct answer\n",
    "ans = pd.DataFrame(X_df2[\"y_actual\"])\n",
    "\n",
    "# NN1\n",
    "alpha1 = reg_model1.intercept_\n",
    "theta1 = reg_model1.coef_\n",
    "\n",
    "# NN2\n",
    "alpha2 = reg_model2.intercept_\n",
    "theta2 = reg_model2.coef_"
   ]
  },
  {
   "cell_type": "code",
   "execution_count": 75,
   "metadata": {},
   "outputs": [
    {
     "name": "stdout",
     "output_type": "stream",
     "text": [
      "              correctness  count   percent\n",
      "abs_distance                              \n",
      "(0.0, 0.05]             2      4  0.500000\n",
      "(0.05, 0.1]             4     11  0.363636\n",
      "(0.1, 0.15]             4     18  0.222222\n",
      "(0.15, 0.2]             6     10  0.600000\n",
      "(0.2, 0.25]             9     13  0.692308\n",
      "(0.25, 0.3]            11     12  0.916667\n",
      "(0.3, 0.35]             2      7  0.285714\n",
      "(0.35, 0.4]             4      9  0.444444\n",
      "(0.4, 0.45]            12     15  0.800000\n",
      "(0.45, 0.5]             6      9  0.666667\n",
      "(0.5, 0.55]            11     15  0.733333\n",
      "(0.55, 0.6]            17     20  0.850000\n",
      "(0.6, 0.65]            27     29  0.931034\n",
      "(0.65, 0.7]            23     25  0.920000\n",
      "(0.7, 0.75]            33     36  0.916667\n",
      "(0.75, 0.8]            46     49  0.938776\n",
      "(0.8, 0.85]            54     55  0.981818\n",
      "(0.85, 0.9]            93     94  0.989362\n",
      "(0.9, 0.95]           162    162  1.000000\n"
     ]
    }
   ],
   "source": [
    "abs_dist_table1 = table1[[\"correctness\",\"count\"]].groupby(pd.cut(table1[\"abs_distance\"], np.arange(0, 1, 0.05))).apply(sum)\n",
    "abs_dist_table1[\"percent\"] = (abs_dist_table1[\"correctness\"]/abs_dist_table1[\"count\"])\n",
    "\n",
    "abs_dist_table2 = table2[[\"correctness\",\"count\"]].groupby(pd.cut(table2[\"abs_distance\"], np.arange(0, 1, 0.05))).apply(sum)\n",
    "abs_dist_table2[\"percent\"] = (abs_dist_table2[\"correctness\"]/abs_dist_table2[\"count\"])\n",
    "print(abs_dist_table2)"
   ]
  },
  {
   "cell_type": "code",
   "execution_count": 83,
   "metadata": {},
   "outputs": [
    {
     "data": {
      "text/html": [
       "<div>\n",
       "<style scoped>\n",
       "    .dataframe tbody tr th:only-of-type {\n",
       "        vertical-align: middle;\n",
       "    }\n",
       "\n",
       "    .dataframe tbody tr th {\n",
       "        vertical-align: top;\n",
       "    }\n",
       "\n",
       "    .dataframe thead th {\n",
       "        text-align: right;\n",
       "    }\n",
       "</style>\n",
       "<table border=\"1\" class=\"dataframe\">\n",
       "  <thead>\n",
       "    <tr style=\"text-align: right;\">\n",
       "      <th></th>\n",
       "      <th>abs_distance</th>\n",
       "      <th>y_pred</th>\n",
       "      <th>count</th>\n",
       "      <th>conf</th>\n",
       "    </tr>\n",
       "  </thead>\n",
       "  <tbody>\n",
       "    <tr>\n",
       "      <th>0</th>\n",
       "      <td>0.998517</td>\n",
       "      <td>0.0</td>\n",
       "      <td>1</td>\n",
       "      <td>1.096936</td>\n",
       "    </tr>\n",
       "    <tr>\n",
       "      <th>1</th>\n",
       "      <td>0.99607</td>\n",
       "      <td>0.0</td>\n",
       "      <td>1</td>\n",
       "      <td>1.09555</td>\n",
       "    </tr>\n",
       "    <tr>\n",
       "      <th>2</th>\n",
       "      <td>0.964708</td>\n",
       "      <td>0.0</td>\n",
       "      <td>1</td>\n",
       "      <td>1.077779</td>\n",
       "    </tr>\n",
       "    <tr>\n",
       "      <th>3</th>\n",
       "      <td>0.999776</td>\n",
       "      <td>0.0</td>\n",
       "      <td>1</td>\n",
       "      <td>1.097649</td>\n",
       "    </tr>\n",
       "    <tr>\n",
       "      <th>4</th>\n",
       "      <td>0.987287</td>\n",
       "      <td>1.0</td>\n",
       "      <td>1</td>\n",
       "      <td>1.090573</td>\n",
       "    </tr>\n",
       "    <tr>\n",
       "      <th>...</th>\n",
       "      <td>...</td>\n",
       "      <td>...</td>\n",
       "      <td>...</td>\n",
       "      <td>...</td>\n",
       "    </tr>\n",
       "    <tr>\n",
       "      <th>1995</th>\n",
       "      <td>0.400008</td>\n",
       "      <td>1.0</td>\n",
       "      <td>1</td>\n",
       "      <td>0.757798</td>\n",
       "    </tr>\n",
       "    <tr>\n",
       "      <th>1996</th>\n",
       "      <td>0.991911</td>\n",
       "      <td>0.0</td>\n",
       "      <td>1</td>\n",
       "      <td>1.093193</td>\n",
       "    </tr>\n",
       "    <tr>\n",
       "      <th>1997</th>\n",
       "      <td>0.928896</td>\n",
       "      <td>1.0</td>\n",
       "      <td>1</td>\n",
       "      <td>1.057486</td>\n",
       "    </tr>\n",
       "    <tr>\n",
       "      <th>1998</th>\n",
       "      <td>0.981274</td>\n",
       "      <td>0.0</td>\n",
       "      <td>1</td>\n",
       "      <td>1.087165</td>\n",
       "    </tr>\n",
       "    <tr>\n",
       "      <th>1999</th>\n",
       "      <td>0.999412</td>\n",
       "      <td>1.0</td>\n",
       "      <td>1</td>\n",
       "      <td>1.097443</td>\n",
       "    </tr>\n",
       "  </tbody>\n",
       "</table>\n",
       "<p>2000 rows × 4 columns</p>\n",
       "</div>"
      ],
      "text/plain": [
       "     abs_distance  y_pred  count      conf\n",
       "0        0.998517     0.0      1  1.096936\n",
       "1         0.99607     0.0      1   1.09555\n",
       "2        0.964708     0.0      1  1.077779\n",
       "3        0.999776     0.0      1  1.097649\n",
       "4        0.987287     1.0      1  1.090573\n",
       "...           ...     ...    ...       ...\n",
       "1995     0.400008     1.0      1  0.757798\n",
       "1996     0.991911     0.0      1  1.093193\n",
       "1997     0.928896     1.0      1  1.057486\n",
       "1998     0.981274     0.0      1  1.087165\n",
       "1999     0.999412     1.0      1  1.097443\n",
       "\n",
       "[2000 rows x 4 columns]"
      ]
     },
     "execution_count": 83,
     "metadata": {},
     "output_type": "execute_result"
    }
   ],
   "source": [
    "# Creating NN tables\n",
    "nn1 = table1.drop([\"KL_div\",\"correctness\"], axis=1)\n",
    "nn1[\"conf\"] = alpha1 + theta1 * nn1[\"abs_distance\"]\n",
    "\n",
    "# for i in range(0,len(nn1)):\n",
    "#     nn1.loc[i,\"conf\"] = abs_dist_table1.loc[nn1.loc[i,\"KL_div\"],\"percent\"]\n",
    "\n",
    "nn2 = table2.drop([\"KL_div\",\"correctness\"], axis=1)\n",
    "nn2[\"conf\"] = alpha2 + theta2 * nn2[\"abs_distance\"]\n",
    "\n",
    "# for i in range(0,len(nn2)):\n",
    "#     nn2.loc[i,\"conf\"] = abs_dist_table2.loc[nn2.loc[i,\"KL_div\"],\"percent\"]\n",
    "nn1"
   ]
  },
  {
   "cell_type": "code",
   "execution_count": 84,
   "metadata": {},
   "outputs": [
    {
     "data": {
      "text/html": [
       "<div>\n",
       "<style scoped>\n",
       "    .dataframe tbody tr th:only-of-type {\n",
       "        vertical-align: middle;\n",
       "    }\n",
       "\n",
       "    .dataframe tbody tr th {\n",
       "        vertical-align: top;\n",
       "    }\n",
       "\n",
       "    .dataframe thead th {\n",
       "        text-align: right;\n",
       "    }\n",
       "</style>\n",
       "<table border=\"1\" class=\"dataframe\">\n",
       "  <thead>\n",
       "    <tr style=\"text-align: right;\">\n",
       "      <th></th>\n",
       "      <th>y_actual</th>\n",
       "      <th>y_pred</th>\n",
       "      <th>chosen_NN</th>\n",
       "      <th>chosen_conf</th>\n",
       "      <th>not_NN</th>\n",
       "      <th>not_conf</th>\n",
       "    </tr>\n",
       "  </thead>\n",
       "  <tbody>\n",
       "    <tr>\n",
       "      <th>0</th>\n",
       "      <td>0</td>\n",
       "      <td>0.0</td>\n",
       "      <td>2.0</td>\n",
       "      <td>1.136773</td>\n",
       "      <td>1.0</td>\n",
       "      <td>1.096936</td>\n",
       "    </tr>\n",
       "    <tr>\n",
       "      <th>1</th>\n",
       "      <td>0</td>\n",
       "      <td>0.0</td>\n",
       "      <td>2.0</td>\n",
       "      <td>1.136029</td>\n",
       "      <td>1.0</td>\n",
       "      <td>1.095550</td>\n",
       "    </tr>\n",
       "    <tr>\n",
       "      <th>2</th>\n",
       "      <td>0</td>\n",
       "      <td>0.0</td>\n",
       "      <td>2.0</td>\n",
       "      <td>1.112418</td>\n",
       "      <td>1.0</td>\n",
       "      <td>1.077779</td>\n",
       "    </tr>\n",
       "    <tr>\n",
       "      <th>3</th>\n",
       "      <td>0</td>\n",
       "      <td>0.0</td>\n",
       "      <td>2.0</td>\n",
       "      <td>1.137457</td>\n",
       "      <td>1.0</td>\n",
       "      <td>1.097649</td>\n",
       "    </tr>\n",
       "    <tr>\n",
       "      <th>4</th>\n",
       "      <td>1</td>\n",
       "      <td>1.0</td>\n",
       "      <td>2.0</td>\n",
       "      <td>1.121805</td>\n",
       "      <td>1.0</td>\n",
       "      <td>1.090573</td>\n",
       "    </tr>\n",
       "    <tr>\n",
       "      <th>...</th>\n",
       "      <td>...</td>\n",
       "      <td>...</td>\n",
       "      <td>...</td>\n",
       "      <td>...</td>\n",
       "      <td>...</td>\n",
       "      <td>...</td>\n",
       "    </tr>\n",
       "    <tr>\n",
       "      <th>1995</th>\n",
       "      <td>1</td>\n",
       "      <td>1.0</td>\n",
       "      <td>1.0</td>\n",
       "      <td>0.757798</td>\n",
       "      <td>2.0</td>\n",
       "      <td>0.419195</td>\n",
       "    </tr>\n",
       "    <tr>\n",
       "      <th>1996</th>\n",
       "      <td>0</td>\n",
       "      <td>0.0</td>\n",
       "      <td>1.0</td>\n",
       "      <td>1.093193</td>\n",
       "      <td>2.0</td>\n",
       "      <td>0.933743</td>\n",
       "    </tr>\n",
       "    <tr>\n",
       "      <th>1997</th>\n",
       "      <td>1</td>\n",
       "      <td>1.0</td>\n",
       "      <td>2.0</td>\n",
       "      <td>1.064177</td>\n",
       "      <td>1.0</td>\n",
       "      <td>1.057486</td>\n",
       "    </tr>\n",
       "    <tr>\n",
       "      <th>1998</th>\n",
       "      <td>0</td>\n",
       "      <td>0.0</td>\n",
       "      <td>1.0</td>\n",
       "      <td>1.087165</td>\n",
       "      <td>2.0</td>\n",
       "      <td>0.466661</td>\n",
       "    </tr>\n",
       "    <tr>\n",
       "      <th>1999</th>\n",
       "      <td>1</td>\n",
       "      <td>1.0</td>\n",
       "      <td>2.0</td>\n",
       "      <td>1.137199</td>\n",
       "      <td>1.0</td>\n",
       "      <td>1.097443</td>\n",
       "    </tr>\n",
       "  </tbody>\n",
       "</table>\n",
       "<p>2000 rows × 6 columns</p>\n",
       "</div>"
      ],
      "text/plain": [
       "      y_actual  y_pred  chosen_NN  chosen_conf  not_NN  not_conf\n",
       "0            0     0.0        2.0     1.136773     1.0  1.096936\n",
       "1            0     0.0        2.0     1.136029     1.0  1.095550\n",
       "2            0     0.0        2.0     1.112418     1.0  1.077779\n",
       "3            0     0.0        2.0     1.137457     1.0  1.097649\n",
       "4            1     1.0        2.0     1.121805     1.0  1.090573\n",
       "...        ...     ...        ...          ...     ...       ...\n",
       "1995         1     1.0        1.0     0.757798     2.0  0.419195\n",
       "1996         0     0.0        1.0     1.093193     2.0  0.933743\n",
       "1997         1     1.0        2.0     1.064177     1.0  1.057486\n",
       "1998         0     0.0        1.0     1.087165     2.0  0.466661\n",
       "1999         1     1.0        2.0     1.137199     1.0  1.097443\n",
       "\n",
       "[2000 rows x 6 columns]"
      ]
     },
     "execution_count": 84,
     "metadata": {},
     "output_type": "execute_result"
    }
   ],
   "source": [
    "# Determing higher confidence NN and choosing that arm\n",
    "\n",
    "for i in range(0,len(nn1)):\n",
    "    if nn1.loc[i,\"conf\"] > nn2.loc[i,\"conf\"]:\n",
    "        ans.loc[i,\"y_pred\"] = nn1.loc[i,\"y_pred\"]\n",
    "        ans.loc[i,\"chosen_NN\"] = 1\n",
    "        ans.loc[i,\"chosen_conf\"] = nn1.loc[i,\"conf\"]\n",
    "\n",
    "        ans.loc[i,\"not_NN\"] = 2\n",
    "        ans.loc[i,\"not_conf\"] = nn2.loc[i,\"conf\"]\n",
    "    else:\n",
    "        ans.loc[i,\"y_pred\"] = nn2.loc[i,\"y_pred\"]\n",
    "        ans.loc[i,\"chosen_NN\"] = 2\n",
    "        ans.loc[i,\"chosen_conf\"] = nn2.loc[i,\"conf\"]\n",
    "\n",
    "        ans.loc[i,\"not_NN\"] = 1\n",
    "        ans.loc[i,\"not_conf\"] = nn1.loc[i,\"conf\"]\n",
    "\n",
    "ans"
   ]
  },
  {
   "cell_type": "markdown",
   "metadata": {},
   "source": [
    "#### Comparing performance"
   ]
  },
  {
   "cell_type": "code",
   "execution_count": 85,
   "metadata": {},
   "outputs": [],
   "source": [
    "wrong_record = \"\"\n",
    "# NN1 performance\n",
    "cost1 = 0\n",
    "for i in range(0,len(nn1)):\n",
    "    if nn1.loc[i,\"y_pred\"] != ans.loc[i,\"y_actual\"]:\n",
    "        # cost1 += 1 * nn1.loc[i,\"conf\"]\n",
    "        cost1 += 1\n",
    "    else:\n",
    "        pass\n",
    "\n",
    "# NN2 performance\n",
    "cost2 = 0\n",
    "for i in range(0,len(nn2)):\n",
    "    if nn2.loc[i,\"y_pred\"] != ans.loc[i,\"y_actual\"]:\n",
    "        # cost2 += 1 * nn2.loc[i,\"conf\"]\n",
    "        cost2 += 1\n",
    "    else:\n",
    "        pass\n",
    "\n",
    "# Combined performance\n",
    "cost3 = 0\n",
    "for i in range(0,len(nn1)):\n",
    "    chosen_nn = int(ans.loc[i,\"chosen_NN\"])\n",
    "    chosen_nn_conf = round(ans.loc[i,\"chosen_conf\"],3)\n",
    "    not_nn = int(ans.loc[i,\"not_NN\"])\n",
    "    not_nn_conf = round(ans.loc[i,\"not_conf\"],3)\n",
    "    if ans.loc[i,\"y_pred\"] != ans.loc[i,\"y_actual\"]:\n",
    "        cost3 += 1\n",
    "        # cost3 += 1 * ans.loc[i,\"chosen_conf\"]\n",
    "        wrong_record = wrong_record + (f\"{i}: Wrong NN:{chosen_nn}, Conf:{chosen_nn_conf} - Other NN{not_nn}, Conf:{not_nn_conf} \") + \"\\n\"\n",
    "    else:\n",
    "        pass"
   ]
  },
  {
   "cell_type": "code",
   "execution_count": 86,
   "metadata": {},
   "outputs": [
    {
     "name": "stdout",
     "output_type": "stream",
     "text": [
      "119: Wrong NN:2, Conf:0.659 - Other NN1, Conf:0.633 \n",
      "234: Wrong NN:2, Conf:0.874 - Other NN1, Conf:0.551 \n",
      "271: Wrong NN:1, Conf:0.788 - Other NN2, Conf:0.44 \n",
      "292: Wrong NN:1, Conf:0.716 - Other NN2, Conf:0.503 \n",
      "471: Wrong NN:2, Conf:0.73 - Other NN1, Conf:0.552 \n",
      "633: Wrong NN:2, Conf:0.555 - Other NN1, Conf:0.531 \n",
      "669: Wrong NN:2, Conf:0.876 - Other NN1, Conf:0.79 \n",
      "815: Wrong NN:1, Conf:0.646 - Other NN2, Conf:0.523 \n",
      "842: Wrong NN:1, Conf:0.579 - Other NN2, Conf:0.472 \n",
      "931: Wrong NN:2, Conf:0.783 - Other NN1, Conf:0.585 \n",
      "990: Wrong NN:2, Conf:1.047 - Other NN1, Conf:0.911 \n",
      "1275: Wrong NN:1, Conf:0.867 - Other NN2, Conf:0.781 \n",
      "1395: Wrong NN:1, Conf:0.672 - Other NN2, Conf:0.524 \n",
      "1460: Wrong NN:1, Conf:0.793 - Other NN2, Conf:0.757 \n",
      "1595: Wrong NN:2, Conf:0.667 - Other NN1, Conf:0.661 \n",
      "1683: Wrong NN:1, Conf:0.997 - Other NN2, Conf:0.886 \n",
      "1735: Wrong NN:1, Conf:0.686 - Other NN2, Conf:0.433 \n",
      "1821: Wrong NN:1, Conf:1.042 - Other NN2, Conf:0.973 \n",
      "1834: Wrong NN:1, Conf:0.867 - Other NN2, Conf:0.797 \n",
      "1844: Wrong NN:1, Conf:1.04 - Other NN2, Conf:0.993 \n",
      "1856: Wrong NN:1, Conf:0.71 - Other NN2, Conf:0.613 \n",
      "1858: Wrong NN:2, Conf:0.72 - Other NN1, Conf:0.618 \n",
      "1861: Wrong NN:1, Conf:0.94 - Other NN2, Conf:0.733 \n",
      "1916: Wrong NN:1, Conf:0.8 - Other NN2, Conf:0.473 \n",
      "1947: Wrong NN:1, Conf:0.748 - Other NN2, Conf:0.556 \n",
      "1957: Wrong NN:2, Conf:0.96 - Other NN1, Conf:0.838 \n",
      "1986: Wrong NN:2, Conf:0.574 - Other NN1, Conf:0.572 \n",
      "\n",
      "Error count for NN1:36, NN2:67, Combined:27\n"
     ]
    }
   ],
   "source": [
    "print(wrong_record)\n",
    "print(f\"Error count for NN1:{cost1}, NN2:{cost2}, Combined:{cost3}\")\n"
   ]
  }
 ],
 "metadata": {
  "interpreter": {
   "hash": "b3ba2566441a7c06988d0923437866b63cedc61552a5af99d1f4fb67d367b25f"
  },
  "kernelspec": {
   "display_name": "Python 3.8.8 64-bit ('base': conda)",
   "language": "python",
   "name": "python3"
  },
  "language_info": {
   "codemirror_mode": {
    "name": "ipython",
    "version": 3
   },
   "file_extension": ".py",
   "mimetype": "text/x-python",
   "name": "python",
   "nbconvert_exporter": "python",
   "pygments_lexer": "ipython3",
   "version": "3.8.8"
  },
  "orig_nbformat": 4
 },
 "nbformat": 4,
 "nbformat_minor": 2
}
