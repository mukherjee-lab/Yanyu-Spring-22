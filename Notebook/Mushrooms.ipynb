{
 "cells": [
  {
   "cell_type": "markdown",
   "metadata": {},
   "source": [
    "# MUSHROOMS"
   ]
  },
  {
   "cell_type": "markdown",
   "metadata": {},
   "source": [
    "## Binary Classification"
   ]
  },
  {
   "cell_type": "markdown",
   "metadata": {},
   "source": [
    "### Imports"
   ]
  },
  {
   "cell_type": "code",
   "execution_count": 1,
   "metadata": {},
   "outputs": [],
   "source": [
    "import os\n",
    "import pandas as pd\n",
    "import numpy as np\n",
    "\n",
    "import tensorflow as tf\n",
    "from tensorflow import keras\n",
    "\n",
    "import matplotlib.pyplot as plt"
   ]
  },
  {
   "cell_type": "markdown",
   "metadata": {},
   "source": [
    "### Load Data"
   ]
  },
  {
   "cell_type": "code",
   "execution_count": 2,
   "metadata": {},
   "outputs": [],
   "source": [
    "DATA_PATH = '../DATA/'\n",
    "FILE_NAME = 'mushrooms.csv'\n",
    "def load_data(data_path=DATA_PATH, file_name=FILE_NAME):\n",
    "    csv_path = os.path.join(data_path, file_name)\n",
    "    return pd.read_csv(csv_path)\n",
    "\n",
    "dataset = load_data()"
   ]
  },
  {
   "cell_type": "markdown",
   "metadata": {},
   "source": [
    "### View Data and Informations"
   ]
  },
  {
   "cell_type": "code",
   "execution_count": 3,
   "metadata": {},
   "outputs": [
    {
     "data": {
      "text/html": [
       "<div>\n",
       "<style scoped>\n",
       "    .dataframe tbody tr th:only-of-type {\n",
       "        vertical-align: middle;\n",
       "    }\n",
       "\n",
       "    .dataframe tbody tr th {\n",
       "        vertical-align: top;\n",
       "    }\n",
       "\n",
       "    .dataframe thead th {\n",
       "        text-align: right;\n",
       "    }\n",
       "</style>\n",
       "<table border=\"1\" class=\"dataframe\">\n",
       "  <thead>\n",
       "    <tr style=\"text-align: right;\">\n",
       "      <th></th>\n",
       "      <th>class</th>\n",
       "      <th>cap-shape</th>\n",
       "      <th>cap-surface</th>\n",
       "      <th>cap-color</th>\n",
       "      <th>bruises</th>\n",
       "      <th>odor</th>\n",
       "      <th>gill-attachment</th>\n",
       "      <th>gill-spacing</th>\n",
       "      <th>gill-size</th>\n",
       "      <th>gill-color</th>\n",
       "      <th>...</th>\n",
       "      <th>stalk-surface-below-ring</th>\n",
       "      <th>stalk-color-above-ring</th>\n",
       "      <th>stalk-color-below-ring</th>\n",
       "      <th>veil-type</th>\n",
       "      <th>veil-color</th>\n",
       "      <th>ring-number</th>\n",
       "      <th>ring-type</th>\n",
       "      <th>spore-print-color</th>\n",
       "      <th>population</th>\n",
       "      <th>habitat</th>\n",
       "    </tr>\n",
       "  </thead>\n",
       "  <tbody>\n",
       "    <tr>\n",
       "      <th>0</th>\n",
       "      <td>p</td>\n",
       "      <td>x</td>\n",
       "      <td>s</td>\n",
       "      <td>n</td>\n",
       "      <td>t</td>\n",
       "      <td>p</td>\n",
       "      <td>f</td>\n",
       "      <td>c</td>\n",
       "      <td>n</td>\n",
       "      <td>k</td>\n",
       "      <td>...</td>\n",
       "      <td>s</td>\n",
       "      <td>w</td>\n",
       "      <td>w</td>\n",
       "      <td>p</td>\n",
       "      <td>w</td>\n",
       "      <td>o</td>\n",
       "      <td>p</td>\n",
       "      <td>k</td>\n",
       "      <td>s</td>\n",
       "      <td>u</td>\n",
       "    </tr>\n",
       "    <tr>\n",
       "      <th>1</th>\n",
       "      <td>e</td>\n",
       "      <td>x</td>\n",
       "      <td>s</td>\n",
       "      <td>y</td>\n",
       "      <td>t</td>\n",
       "      <td>a</td>\n",
       "      <td>f</td>\n",
       "      <td>c</td>\n",
       "      <td>b</td>\n",
       "      <td>k</td>\n",
       "      <td>...</td>\n",
       "      <td>s</td>\n",
       "      <td>w</td>\n",
       "      <td>w</td>\n",
       "      <td>p</td>\n",
       "      <td>w</td>\n",
       "      <td>o</td>\n",
       "      <td>p</td>\n",
       "      <td>n</td>\n",
       "      <td>n</td>\n",
       "      <td>g</td>\n",
       "    </tr>\n",
       "    <tr>\n",
       "      <th>2</th>\n",
       "      <td>e</td>\n",
       "      <td>b</td>\n",
       "      <td>s</td>\n",
       "      <td>w</td>\n",
       "      <td>t</td>\n",
       "      <td>l</td>\n",
       "      <td>f</td>\n",
       "      <td>c</td>\n",
       "      <td>b</td>\n",
       "      <td>n</td>\n",
       "      <td>...</td>\n",
       "      <td>s</td>\n",
       "      <td>w</td>\n",
       "      <td>w</td>\n",
       "      <td>p</td>\n",
       "      <td>w</td>\n",
       "      <td>o</td>\n",
       "      <td>p</td>\n",
       "      <td>n</td>\n",
       "      <td>n</td>\n",
       "      <td>m</td>\n",
       "    </tr>\n",
       "    <tr>\n",
       "      <th>3</th>\n",
       "      <td>p</td>\n",
       "      <td>x</td>\n",
       "      <td>y</td>\n",
       "      <td>w</td>\n",
       "      <td>t</td>\n",
       "      <td>p</td>\n",
       "      <td>f</td>\n",
       "      <td>c</td>\n",
       "      <td>n</td>\n",
       "      <td>n</td>\n",
       "      <td>...</td>\n",
       "      <td>s</td>\n",
       "      <td>w</td>\n",
       "      <td>w</td>\n",
       "      <td>p</td>\n",
       "      <td>w</td>\n",
       "      <td>o</td>\n",
       "      <td>p</td>\n",
       "      <td>k</td>\n",
       "      <td>s</td>\n",
       "      <td>u</td>\n",
       "    </tr>\n",
       "    <tr>\n",
       "      <th>4</th>\n",
       "      <td>e</td>\n",
       "      <td>x</td>\n",
       "      <td>s</td>\n",
       "      <td>g</td>\n",
       "      <td>f</td>\n",
       "      <td>n</td>\n",
       "      <td>f</td>\n",
       "      <td>w</td>\n",
       "      <td>b</td>\n",
       "      <td>k</td>\n",
       "      <td>...</td>\n",
       "      <td>s</td>\n",
       "      <td>w</td>\n",
       "      <td>w</td>\n",
       "      <td>p</td>\n",
       "      <td>w</td>\n",
       "      <td>o</td>\n",
       "      <td>e</td>\n",
       "      <td>n</td>\n",
       "      <td>a</td>\n",
       "      <td>g</td>\n",
       "    </tr>\n",
       "  </tbody>\n",
       "</table>\n",
       "<p>5 rows × 23 columns</p>\n",
       "</div>"
      ],
      "text/plain": [
       "  class cap-shape cap-surface cap-color bruises odor gill-attachment  \\\n",
       "0     p         x           s         n       t    p               f   \n",
       "1     e         x           s         y       t    a               f   \n",
       "2     e         b           s         w       t    l               f   \n",
       "3     p         x           y         w       t    p               f   \n",
       "4     e         x           s         g       f    n               f   \n",
       "\n",
       "  gill-spacing gill-size gill-color  ... stalk-surface-below-ring  \\\n",
       "0            c         n          k  ...                        s   \n",
       "1            c         b          k  ...                        s   \n",
       "2            c         b          n  ...                        s   \n",
       "3            c         n          n  ...                        s   \n",
       "4            w         b          k  ...                        s   \n",
       "\n",
       "  stalk-color-above-ring stalk-color-below-ring veil-type veil-color  \\\n",
       "0                      w                      w         p          w   \n",
       "1                      w                      w         p          w   \n",
       "2                      w                      w         p          w   \n",
       "3                      w                      w         p          w   \n",
       "4                      w                      w         p          w   \n",
       "\n",
       "  ring-number ring-type spore-print-color population habitat  \n",
       "0           o         p                 k          s       u  \n",
       "1           o         p                 n          n       g  \n",
       "2           o         p                 n          n       m  \n",
       "3           o         p                 k          s       u  \n",
       "4           o         e                 n          a       g  \n",
       "\n",
       "[5 rows x 23 columns]"
      ]
     },
     "execution_count": 3,
     "metadata": {},
     "output_type": "execute_result"
    }
   ],
   "source": [
    "dataset.head()"
   ]
  },
  {
   "cell_type": "code",
   "execution_count": 4,
   "metadata": {},
   "outputs": [
    {
     "name": "stdout",
     "output_type": "stream",
     "text": [
      "<class 'pandas.core.frame.DataFrame'>\n",
      "RangeIndex: 8124 entries, 0 to 8123\n",
      "Data columns (total 23 columns):\n",
      " #   Column                    Non-Null Count  Dtype \n",
      "---  ------                    --------------  ----- \n",
      " 0   class                     8124 non-null   object\n",
      " 1   cap-shape                 8124 non-null   object\n",
      " 2   cap-surface               8124 non-null   object\n",
      " 3   cap-color                 8124 non-null   object\n",
      " 4   bruises                   8124 non-null   object\n",
      " 5   odor                      8124 non-null   object\n",
      " 6   gill-attachment           8124 non-null   object\n",
      " 7   gill-spacing              8124 non-null   object\n",
      " 8   gill-size                 8124 non-null   object\n",
      " 9   gill-color                8124 non-null   object\n",
      " 10  stalk-shape               8124 non-null   object\n",
      " 11  stalk-root                8124 non-null   object\n",
      " 12  stalk-surface-above-ring  8124 non-null   object\n",
      " 13  stalk-surface-below-ring  8124 non-null   object\n",
      " 14  stalk-color-above-ring    8124 non-null   object\n",
      " 15  stalk-color-below-ring    8124 non-null   object\n",
      " 16  veil-type                 8124 non-null   object\n",
      " 17  veil-color                8124 non-null   object\n",
      " 18  ring-number               8124 non-null   object\n",
      " 19  ring-type                 8124 non-null   object\n",
      " 20  spore-print-color         8124 non-null   object\n",
      " 21  population                8124 non-null   object\n",
      " 22  habitat                   8124 non-null   object\n",
      "dtypes: object(23)\n",
      "memory usage: 1.4+ MB\n"
     ]
    }
   ],
   "source": [
    "dataset.info()"
   ]
  },
  {
   "cell_type": "code",
   "execution_count": 5,
   "metadata": {},
   "outputs": [
    {
     "name": "stdout",
     "output_type": "stream",
     "text": [
      "Edible:\t   4208 \n",
      "Poisonous: 3916\n"
     ]
    }
   ],
   "source": [
    "edible, poisonous = dataset['class'].value_counts()\n",
    "\n",
    "print(\"Edible:\\t  \", edible,\"\\nPoisonous:\", poisonous)"
   ]
  },
  {
   "cell_type": "code",
   "execution_count": 6,
   "metadata": {},
   "outputs": [
    {
     "name": "stdout",
     "output_type": "stream",
     "text": [
      "0 - Edible:    4208 \n",
      "1 - Poisonous: 3916\n"
     ]
    }
   ],
   "source": [
    "# categorical to numerical\n",
    "labels = {'e': 0, 'p': 1}\n",
    "dataset['class'].replace(labels, inplace=True)\n",
    "\n",
    "edible, poisonous = dataset['class'].value_counts()\n",
    "print(\"0 - Edible:   \", edible,\"\\n1 - Poisonous:\", poisonous)"
   ]
  },
  {
   "cell_type": "markdown",
   "metadata": {},
   "source": [
    "### Split Datset"
   ]
  },
  {
   "cell_type": "markdown",
   "metadata": {},
   "source": [
    "#### Get the Labels"
   ]
  },
  {
   "cell_type": "code",
   "execution_count": 7,
   "metadata": {},
   "outputs": [
    {
     "name": "stdout",
     "output_type": "stream",
     "text": [
      "X: (8124, 22) \n",
      "y: (8124,)\n"
     ]
    }
   ],
   "source": [
    "X, y =  dataset.drop('class', axis=1), dataset['class'].copy()\n",
    "\n",
    "print(\"X:\",X.shape,\"\\ny:\",y.shape)"
   ]
  },
  {
   "cell_type": "markdown",
   "metadata": {},
   "source": [
    "#### Train Set and Test Set"
   ]
  },
  {
   "cell_type": "code",
   "execution_count": 8,
   "metadata": {},
   "outputs": [
    {
     "name": "stdout",
     "output_type": "stream",
     "text": [
      "85% - X_train size: 6905  y_train size: 6905\n",
      "15% - X_test size:  1219  y_test size:  1219\n"
     ]
    }
   ],
   "source": [
    "from sklearn.model_selection import train_test_split\n",
    "\n",
    "X_train_full, X_test, y_train_full, y_test = train_test_split(X, y, test_size=0.15, random_state=42)\n",
    "\n",
    "print(\"85% - X_train size:\", X_train_full.shape[0], \" y_train size:\", y_train_full.shape[0])\n",
    "print(\"15% - X_test size: \", X_test.shape[0], \" y_test size: \", y_test.shape[0])"
   ]
  },
  {
   "cell_type": "markdown",
   "metadata": {},
   "source": [
    "#### Validation Set"
   ]
  },
  {
   "cell_type": "code",
   "execution_count": 9,
   "metadata": {},
   "outputs": [
    {
     "name": "stdout",
     "output_type": "stream",
     "text": [
      "X_train: 6405 y_train 6405\n",
      "X_valid:  500 y_valid  500\n"
     ]
    }
   ],
   "source": [
    "X_valid, X_train = X_train_full[:500], X_train_full[500:]\n",
    "y_valid, y_train = y_train_full[:500], y_train_full[500:]\n",
    "\n",
    "print(\"X_train:\", X_train.shape[0], \"y_train\", y_train.shape[0])\n",
    "print(\"X_valid: \", X_valid.shape[0], \"y_valid \", y_valid.shape[0])"
   ]
  },
  {
   "cell_type": "markdown",
   "metadata": {},
   "source": [
    "### Prepare the Data"
   ]
  },
  {
   "cell_type": "markdown",
   "metadata": {},
   "source": [
    "#### Data Transformation"
   ]
  },
  {
   "cell_type": "code",
   "execution_count": 10,
   "metadata": {},
   "outputs": [],
   "source": [
    "from sklearn.pipeline import Pipeline\n",
    "from sklearn.preprocessing import OrdinalEncoder\n",
    "from sklearn.compose import ColumnTransformer\n",
    "\n",
    "cat_attr_pipeline = Pipeline([\n",
    "                        ('encoder', OrdinalEncoder())\n",
    "                    ])\n",
    "\n",
    "cols = list(X)\n",
    "pipeline = ColumnTransformer([\n",
    "                ('cat_attr_pipeline', cat_attr_pipeline, cols)\n",
    "            ])\n",
    "\n",
    "\n",
    "X_train = pipeline.fit_transform(X_train)\n",
    "X_valid = pipeline.fit_transform(X_valid)\n",
    "X_test  = pipeline.fit_transform(X_test)"
   ]
  },
  {
   "cell_type": "markdown",
   "metadata": {},
   "source": [
    "### Neural Network"
   ]
  },
  {
   "cell_type": "markdown",
   "metadata": {},
   "source": [
    "#### Model"
   ]
  },
  {
   "cell_type": "code",
   "execution_count": 11,
   "metadata": {},
   "outputs": [],
   "source": [
    "from tensorflow.keras.models import Sequential\n",
    "from tensorflow.keras.layers import InputLayer, Dense"
   ]
  },
  {
   "cell_type": "code",
   "execution_count": 12,
   "metadata": {},
   "outputs": [],
   "source": [
    "tf.random.set_seed(42)"
   ]
  },
  {
   "cell_type": "code",
   "execution_count": 13,
   "metadata": {},
   "outputs": [],
   "source": [
    "model = Sequential([\n",
    "    InputLayer(input_shape=(22,)),    # input  layer\n",
    "    Dense(45, activation='relu'),     # hidden layer\n",
    "    Dense(1,   activation='sigmoid')  # output layer\n",
    "])"
   ]
  },
  {
   "cell_type": "code",
   "execution_count": 14,
   "metadata": {},
   "outputs": [
    {
     "name": "stdout",
     "output_type": "stream",
     "text": [
      "Model: \"sequential\"\n",
      "_________________________________________________________________\n",
      "Layer (type)                 Output Shape              Param #   \n",
      "=================================================================\n",
      "dense (Dense)                (None, 45)                1035      \n",
      "_________________________________________________________________\n",
      "dense_1 (Dense)              (None, 1)                 46        \n",
      "=================================================================\n",
      "Total params: 1,081\n",
      "Trainable params: 1,081\n",
      "Non-trainable params: 0\n",
      "_________________________________________________________________\n"
     ]
    }
   ],
   "source": [
    "model.summary()"
   ]
  },
  {
   "cell_type": "markdown",
   "metadata": {},
   "source": [
    "#### Compile the Model"
   ]
  },
  {
   "cell_type": "code",
   "execution_count": 15,
   "metadata": {},
   "outputs": [],
   "source": [
    "model.compile(loss='binary_crossentropy',\n",
    "             optimizer='sgd',\n",
    "             metrics=['accuracy'])"
   ]
  },
  {
   "cell_type": "markdown",
   "metadata": {},
   "source": [
    "#### Prepare Callbacks"
   ]
  },
  {
   "cell_type": "code",
   "execution_count": 16,
   "metadata": {},
   "outputs": [],
   "source": [
    "from tensorflow.keras.callbacks import ModelCheckpoint, EarlyStopping\n",
    "\n",
    "checkpoint_cb = ModelCheckpoint('../SavedModels/best_model.h5',\n",
    "                                save_best_only=True)\n",
    "\n",
    "early_stopping_cb = EarlyStopping(patience=3,\n",
    "                                  restore_best_weights=True)"
   ]
  },
  {
   "cell_type": "markdown",
   "metadata": {},
   "source": [
    "### Training"
   ]
  },
  {
   "cell_type": "code",
   "execution_count": 17,
   "metadata": {},
   "outputs": [
    {
     "name": "stdout",
     "output_type": "stream",
     "text": [
      "Train on 6405 samples, validate on 500 samples\n",
      "Epoch 1/100\n",
      "6405/6405 [==============================] - 1s 119us/sample - loss: 0.4699 - accuracy: 0.8006 - val_loss: 0.3927 - val_accuracy: 0.8380\n",
      "Epoch 2/100\n",
      "6405/6405 [==============================] - 0s 62us/sample - loss: 0.3372 - accuracy: 0.8792 - val_loss: 0.3539 - val_accuracy: 0.8560\n",
      "Epoch 3/100\n",
      "6405/6405 [==============================] - 0s 61us/sample - loss: 0.2872 - accuracy: 0.8985 - val_loss: 0.2778 - val_accuracy: 0.8980\n",
      "Epoch 4/100\n",
      "6405/6405 [==============================] - 0s 66us/sample - loss: 0.2514 - accuracy: 0.9105 - val_loss: 0.2519 - val_accuracy: 0.9100\n",
      "Epoch 5/100\n",
      "6405/6405 [==============================] - 0s 59us/sample - loss: 0.2250 - accuracy: 0.9213 - val_loss: 0.2476 - val_accuracy: 0.9040\n",
      "Epoch 6/100\n",
      "6405/6405 [==============================] - 0s 64us/sample - loss: 0.2034 - accuracy: 0.9286 - val_loss: 0.2080 - val_accuracy: 0.9140\n",
      "Epoch 7/100\n",
      "6405/6405 [==============================] - 0s 62us/sample - loss: 0.1851 - accuracy: 0.9354 - val_loss: 0.1968 - val_accuracy: 0.9220\n",
      "Epoch 8/100\n",
      "6405/6405 [==============================] - 0s 64us/sample - loss: 0.1692 - accuracy: 0.9450 - val_loss: 0.1791 - val_accuracy: 0.9300\n",
      "Epoch 9/100\n",
      "6405/6405 [==============================] - 0s 64us/sample - loss: 0.1561 - accuracy: 0.9504 - val_loss: 0.1735 - val_accuracy: 0.9380\n",
      "Epoch 10/100\n",
      "6405/6405 [==============================] - 0s 61us/sample - loss: 0.1429 - accuracy: 0.9557 - val_loss: 0.1566 - val_accuracy: 0.9380\n",
      "Epoch 11/100\n",
      "6405/6405 [==============================] - 0s 60us/sample - loss: 0.1338 - accuracy: 0.9580 - val_loss: 0.1580 - val_accuracy: 0.9360\n",
      "Epoch 12/100\n",
      "6405/6405 [==============================] - 0s 75us/sample - loss: 0.1248 - accuracy: 0.9613 - val_loss: 0.1355 - val_accuracy: 0.9460\n",
      "Epoch 13/100\n",
      "6405/6405 [==============================] - 0s 65us/sample - loss: 0.1144 - accuracy: 0.9657 - val_loss: 0.1341 - val_accuracy: 0.9480\n",
      "Epoch 14/100\n",
      "6405/6405 [==============================] - 0s 73us/sample - loss: 0.1073 - accuracy: 0.9685 - val_loss: 0.1541 - val_accuracy: 0.9420\n",
      "Epoch 15/100\n",
      "6405/6405 [==============================] - 0s 65us/sample - loss: 0.0999 - accuracy: 0.9700 - val_loss: 0.1255 - val_accuracy: 0.9540\n",
      "Epoch 16/100\n",
      "6405/6405 [==============================] - 0s 71us/sample - loss: 0.0931 - accuracy: 0.9731 - val_loss: 0.1050 - val_accuracy: 0.9680\n",
      "Epoch 17/100\n",
      "6405/6405 [==============================] - 0s 62us/sample - loss: 0.0874 - accuracy: 0.9750 - val_loss: 0.1006 - val_accuracy: 0.9660\n",
      "Epoch 18/100\n",
      "6405/6405 [==============================] - 0s 73us/sample - loss: 0.0821 - accuracy: 0.9767 - val_loss: 0.0905 - val_accuracy: 0.9760\n",
      "Epoch 19/100\n",
      "6405/6405 [==============================] - 0s 72us/sample - loss: 0.0776 - accuracy: 0.9794 - val_loss: 0.0885 - val_accuracy: 0.9720\n",
      "Epoch 20/100\n",
      "6405/6405 [==============================] - 0s 60us/sample - loss: 0.0733 - accuracy: 0.9802 - val_loss: 0.0836 - val_accuracy: 0.9760\n",
      "Epoch 21/100\n",
      "6405/6405 [==============================] - 0s 62us/sample - loss: 0.0697 - accuracy: 0.9814 - val_loss: 0.0878 - val_accuracy: 0.9700\n",
      "Epoch 22/100\n",
      "6405/6405 [==============================] - 0s 64us/sample - loss: 0.0663 - accuracy: 0.9811 - val_loss: 0.0720 - val_accuracy: 0.9800\n",
      "Epoch 23/100\n",
      "6405/6405 [==============================] - 0s 60us/sample - loss: 0.0629 - accuracy: 0.9828 - val_loss: 0.1776 - val_accuracy: 0.9300\n",
      "Epoch 24/100\n",
      "6405/6405 [==============================] - 0s 64us/sample - loss: 0.0602 - accuracy: 0.9836 - val_loss: 0.0660 - val_accuracy: 0.9880\n",
      "Epoch 25/100\n",
      "6405/6405 [==============================] - 0s 60us/sample - loss: 0.0570 - accuracy: 0.9847 - val_loss: 0.0644 - val_accuracy: 0.9820\n",
      "Epoch 26/100\n",
      "6405/6405 [==============================] - 0s 74us/sample - loss: 0.0542 - accuracy: 0.9861 - val_loss: 0.0614 - val_accuracy: 0.9820\n",
      "Epoch 27/100\n",
      "6405/6405 [==============================] - 0s 73us/sample - loss: 0.0513 - accuracy: 0.9863 - val_loss: 0.0774 - val_accuracy: 0.9740\n",
      "Epoch 28/100\n",
      "6405/6405 [==============================] - 0s 70us/sample - loss: 0.0502 - accuracy: 0.9863 - val_loss: 0.0549 - val_accuracy: 0.9880\n",
      "Epoch 29/100\n",
      "6405/6405 [==============================] - 0s 76us/sample - loss: 0.0470 - accuracy: 0.9877 - val_loss: 0.0548 - val_accuracy: 0.9840\n",
      "Epoch 30/100\n",
      "6405/6405 [==============================] - 1s 79us/sample - loss: 0.0442 - accuracy: 0.9884 - val_loss: 0.0531 - val_accuracy: 0.9840\n",
      "Epoch 31/100\n",
      "6405/6405 [==============================] - 0s 69us/sample - loss: 0.0432 - accuracy: 0.9892 - val_loss: 0.0541 - val_accuracy: 0.9880\n",
      "Epoch 32/100\n",
      "6405/6405 [==============================] - 0s 73us/sample - loss: 0.0412 - accuracy: 0.9913 - val_loss: 0.0491 - val_accuracy: 0.9900\n",
      "Epoch 33/100\n",
      "6405/6405 [==============================] - 0s 66us/sample - loss: 0.0396 - accuracy: 0.9909 - val_loss: 0.0446 - val_accuracy: 0.9880\n",
      "Epoch 34/100\n",
      "6405/6405 [==============================] - 0s 65us/sample - loss: 0.0382 - accuracy: 0.9916 - val_loss: 0.0443 - val_accuracy: 0.9920\n",
      "Epoch 35/100\n",
      "6405/6405 [==============================] - 0s 67us/sample - loss: 0.0368 - accuracy: 0.9914 - val_loss: 0.0431 - val_accuracy: 0.9920\n",
      "Epoch 36/100\n",
      "6405/6405 [==============================] - 0s 61us/sample - loss: 0.0353 - accuracy: 0.9920 - val_loss: 0.0408 - val_accuracy: 0.9880\n",
      "Epoch 37/100\n",
      "6405/6405 [==============================] - 0s 63us/sample - loss: 0.0338 - accuracy: 0.9923 - val_loss: 0.0395 - val_accuracy: 0.9900\n",
      "Epoch 38/100\n",
      "6405/6405 [==============================] - 0s 60us/sample - loss: 0.0328 - accuracy: 0.9930 - val_loss: 0.0387 - val_accuracy: 0.9920\n",
      "Epoch 39/100\n",
      "6405/6405 [==============================] - 0s 63us/sample - loss: 0.0313 - accuracy: 0.9948 - val_loss: 0.0369 - val_accuracy: 0.9880\n",
      "Epoch 40/100\n",
      "6405/6405 [==============================] - 0s 56us/sample - loss: 0.0305 - accuracy: 0.9944 - val_loss: 0.0589 - val_accuracy: 0.9860\n",
      "Epoch 41/100\n",
      "6405/6405 [==============================] - 0s 61us/sample - loss: 0.0303 - accuracy: 0.9944 - val_loss: 0.0451 - val_accuracy: 0.9920\n",
      "Epoch 42/100\n",
      "6405/6405 [==============================] - 0s 58us/sample - loss: 0.0281 - accuracy: 0.9953 - val_loss: 0.0341 - val_accuracy: 0.9920\n",
      "Epoch 43/100\n",
      "6405/6405 [==============================] - 0s 58us/sample - loss: 0.0277 - accuracy: 0.9953 - val_loss: 0.0347 - val_accuracy: 0.9920\n",
      "Epoch 44/100\n",
      "6405/6405 [==============================] - 0s 59us/sample - loss: 0.0268 - accuracy: 0.9952 - val_loss: 0.0323 - val_accuracy: 0.9920\n",
      "Epoch 45/100\n",
      "6405/6405 [==============================] - 0s 58us/sample - loss: 0.0263 - accuracy: 0.9952 - val_loss: 0.0311 - val_accuracy: 0.9920\n",
      "Epoch 46/100\n",
      "6405/6405 [==============================] - 0s 63us/sample - loss: 0.0253 - accuracy: 0.9947 - val_loss: 0.0303 - val_accuracy: 0.9940\n",
      "Epoch 47/100\n",
      "6405/6405 [==============================] - 0s 57us/sample - loss: 0.0244 - accuracy: 0.9963 - val_loss: 0.0527 - val_accuracy: 0.9860\n",
      "Epoch 48/100\n",
      "6405/6405 [==============================] - 0s 62us/sample - loss: 0.0241 - accuracy: 0.9959 - val_loss: 0.0296 - val_accuracy: 0.9940\n",
      "Epoch 49/100\n",
      "6405/6405 [==============================] - 0s 57us/sample - loss: 0.0231 - accuracy: 0.9966 - val_loss: 0.0275 - val_accuracy: 0.9940\n",
      "Epoch 50/100\n",
      "6405/6405 [==============================] - 0s 57us/sample - loss: 0.0226 - accuracy: 0.9967 - val_loss: 0.0327 - val_accuracy: 0.9920\n",
      "Epoch 51/100\n",
      "6405/6405 [==============================] - 0s 58us/sample - loss: 0.0220 - accuracy: 0.9963 - val_loss: 0.0303 - val_accuracy: 0.9920\n",
      "Epoch 52/100\n",
      "6405/6405 [==============================] - 0s 57us/sample - loss: 0.0211 - accuracy: 0.9972 - val_loss: 0.0313 - val_accuracy: 0.9900\n"
     ]
    }
   ],
   "source": [
    "train_model = model.fit(X_train, y_train,\n",
    "                          epochs=100,\n",
    "                          validation_data=(X_valid, y_valid),\n",
    "                          callbacks=[checkpoint_cb,\n",
    "                                     early_stopping_cb])"
   ]
  },
  {
   "cell_type": "markdown",
   "metadata": {},
   "source": [
    "#### Learning Curves"
   ]
  },
  {
   "cell_type": "code",
   "execution_count": 18,
   "metadata": {},
   "outputs": [
    {
     "data": {
      "image/png": "[encoded data removed]",
      "text/plain": [
       "<Figure size 576x360 with 1 Axes>"
      ]
     },
     "metadata": {
      "needs_background": "light"
     },
     "output_type": "display_data"
    }
   ],
   "source": [
    "pd.DataFrame(train_model.history).plot(figsize=(8,5))\n",
    "plt.grid(True)\n",
    "plt.gca().set_ylim(0,1)\n",
    "plt.show()"
   ]
  },
  {
   "cell_type": "markdown",
   "metadata": {},
   "source": [
    "### Evaluate the Best Model on Test Set"
   ]
  },
  {
   "cell_type": "code",
   "execution_count": 19,
   "metadata": {},
   "outputs": [
    {
     "name": "stdout",
     "output_type": "stream",
     "text": [
      "1219/1219 [==============================] - 0s 38us/sample - loss: 0.0276 - accuracy: 0.9967\n"
     ]
    },
    {
     "data": {
      "text/plain": [
       "[0.027585508578424085, 0.99671865]"
      ]
     },
     "execution_count": 19,
     "metadata": {},
     "output_type": "execute_result"
    }
   ],
   "source": [
    "model.evaluate(X_test, y_test)"
   ]
  },
  {
   "cell_type": "markdown",
   "metadata": {},
   "source": [
    "#### Confusion Matrix"
   ]
  },
  {
   "cell_type": "code",
   "execution_count": 20,
   "metadata": {},
   "outputs": [],
   "source": [
    "import seaborn as sns\n",
    "\n",
    "#Parameters\n",
    "title = 'Confusion Matrix'\n",
    "custom_color = '#ffa600'   \n",
    "\n",
    "#Function for drawing confusion matrix\n",
    "def draw_confusion_matrix(cm, title = title, color = custom_color):\n",
    "    palette = sns.light_palette(color, as_cmap=True)\n",
    "    ax = plt.subplot()\n",
    "    sns.heatmap(cm, annot=True, ax=ax, fmt='d', cmap=palette)\n",
    "    # Title\n",
    "    ax.set_title('\\n' + title + '\\n',\n",
    "                 fontweight='bold',\n",
    "                 fontstyle='normal', \n",
    "                )\n",
    "    # x y labels \n",
    "    ax.set_xlabel('Predicted', fontweight='bold')\n",
    "    ax.set_ylabel('Actual', fontweight='bold');\n",
    "    # Classes names\n",
    "    x_names = ['Poisonous', 'Edible']\n",
    "    y_names = ['Poisonous', 'Edible']\n",
    "    ax.xaxis.set_ticklabels(x_names, ha = 'center')\n",
    "    ax.yaxis.set_ticklabels(y_names, va = 'center')"
   ]
  },
  {
   "cell_type": "code",
   "execution_count": 21,
   "metadata": {},
   "outputs": [
    {
     "data": {
      "image/png": "[encoded data removed]",
      "text/plain": [
       "<Figure size 432x288 with 2 Axes>"
      ]
     },
     "metadata": {
      "needs_background": "light"
     },
     "output_type": "display_data"
    }
   ],
   "source": [
    "from sklearn.metrics import confusion_matrix\n",
    "\n",
    "y_test_pred = model.predict_classes(X_test)\n",
    "cm = confusion_matrix(y_test, y_test_pred)\n",
    "\n",
    "draw_confusion_matrix(cm)"
   ]
  },
  {
   "cell_type": "markdown",
   "metadata": {},
   "source": [
    "#### ROC Curve"
   ]
  },
  {
   "cell_type": "code",
   "execution_count": 22,
   "metadata": {},
   "outputs": [],
   "source": [
    "#Function for plotting the ROC curve\n",
    "def plot_roc_curve(fpr, tpr, roc_auc):\n",
    "    plt.plot(fpr, tpr, custom_color, label='Area: %0.3f' %roc_auc, linewidth=2)\n",
    "    plt.plot([0, 1], [0, 1], 'k--')\n",
    "    plt.title('ROC Curve')\n",
    "    plt.xlabel('False Positive Rate')\n",
    "    plt.ylabel('True Positive Rate - Recall')\n",
    "    plt.legend(loc='lower right')\n",
    "    plt.show()"
   ]
  },
  {
   "cell_type": "code",
   "execution_count": 23,
   "metadata": {},
   "outputs": [
    {
     "data": {
      "image/png": "[encoded data removed]",
      "text/plain": [
       "<Figure size 432x288 with 1 Axes>"
      ]
     },
     "metadata": {
      "needs_background": "light"
     },
     "output_type": "display_data"
    }
   ],
   "source": [
    "from sklearn.metrics import roc_curve, auc\n",
    "\n",
    "y_test_prob = model.predict(X_test)\n",
    "\n",
    "fpr, tpr, _ = roc_curve(y_test, y_test_prob)\n",
    "roc_auc = auc(fpr, tpr)\n",
    "\n",
    "plot_roc_curve(fpr, tpr, roc_auc)"
   ]
  },
  {
   "cell_type": "markdown",
   "metadata": {},
   "source": [
    "### Make Some Predictions"
   ]
  },
  {
   "cell_type": "code",
   "execution_count": 24,
   "metadata": {},
   "outputs": [
    {
     "name": "stdout",
     "output_type": "stream",
     "text": [
      "[[0.001]\n",
      " [0.998]\n",
      " [1.   ]\n",
      " [0.056]\n",
      " [0.999]]\n"
     ]
    }
   ],
   "source": [
    "X_new = X_test[:5]\n",
    "y_prob = model.predict(X_new)\n",
    "print(y_prob.round(3))"
   ]
  },
  {
   "cell_type": "code",
   "execution_count": 25,
   "metadata": {},
   "outputs": [
    {
     "name": "stdout",
     "output_type": "stream",
     "text": [
      "[[0]\n",
      " [1]\n",
      " [1]\n",
      " [0]\n",
      " [1]]\n"
     ]
    }
   ],
   "source": [
    "y_pred = model.predict_classes(X_new)\n",
    "print(y_pred)"
   ]
  },
  {
   "cell_type": "code",
   "execution_count": null,
   "metadata": {},
   "outputs": [],
   "source": []
  }
 ],
 "metadata": {
  "kernelspec": {
   "display_name": "Python 3",
   "language": "python",
   "name": "python3"
  },
  "language_info": {
   "codemirror_mode": {
    "name": "ipython",
    "version": 3
   },
   "file_extension": ".py",
   "mimetype": "text/x-python",
   "name": "python",
   "nbconvert_exporter": "python",
   "pygments_lexer": "ipython3",
   "version": "3.6.9"
  }
 },
 "nbformat": 4,
 "nbformat_minor": 4
}
