{
 "cells": [
  {
   "cell_type": "markdown",
   "metadata": {},
   "source": [
    "# MUSHROOMS"
   ]
  },
  {
   "cell_type": "markdown",
   "metadata": {},
   "source": [
    "## Binary Classification"
   ]
  },
  {
   "cell_type": "markdown",
   "metadata": {},
   "source": [
    "### Imports"
   ]
  },
  {
   "cell_type": "code",
   "execution_count": 2,
   "metadata": {},
   "outputs": [],
   "source": [
    "import os\n",
    "import pandas as pd\n",
    "import numpy as np\n",
    "\n",
    "import tensorflow as tf\n",
    "from tensorflow import keras\n",
    "\n",
    "import matplotlib.pyplot as plt"
   ]
  },
  {
   "cell_type": "markdown",
   "metadata": {},
   "source": [
    "### Load Data"
   ]
  },
  {
   "cell_type": "code",
   "execution_count": 3,
   "metadata": {},
   "outputs": [],
   "source": [
    "DATA_PATH = '../DATA/'\n",
    "FILE_NAME = 'mushrooms.csv'\n",
    "def load_data(data_path=DATA_PATH, file_name=FILE_NAME):\n",
    "    csv_path = os.path.join(data_path, file_name)\n",
    "    return pd.read_csv(csv_path)\n",
    "\n",
    "dataset = load_data()"
   ]
  },
  {
   "cell_type": "markdown",
   "metadata": {},
   "source": [
    "### View Data and Informations"
   ]
  },
  {
   "cell_type": "code",
   "execution_count": 4,
   "metadata": {},
   "outputs": [
    {
     "data": {
      "text/html": [
       "<div>\n",
       "<style scoped>\n",
       "    .dataframe tbody tr th:only-of-type {\n",
       "        vertical-align: middle;\n",
       "    }\n",
       "\n",
       "    .dataframe tbody tr th {\n",
       "        vertical-align: top;\n",
       "    }\n",
       "\n",
       "    .dataframe thead th {\n",
       "        text-align: right;\n",
       "    }\n",
       "</style>\n",
       "<table border=\"1\" class=\"dataframe\">\n",
       "  <thead>\n",
       "    <tr style=\"text-align: right;\">\n",
       "      <th></th>\n",
       "      <th>class</th>\n",
       "      <th>cap-shape</th>\n",
       "      <th>cap-surface</th>\n",
       "      <th>cap-color</th>\n",
       "      <th>bruises</th>\n",
       "      <th>odor</th>\n",
       "      <th>gill-attachment</th>\n",
       "      <th>gill-spacing</th>\n",
       "      <th>gill-size</th>\n",
       "      <th>gill-color</th>\n",
       "      <th>...</th>\n",
       "      <th>stalk-surface-below-ring</th>\n",
       "      <th>stalk-color-above-ring</th>\n",
       "      <th>stalk-color-below-ring</th>\n",
       "      <th>veil-type</th>\n",
       "      <th>veil-color</th>\n",
       "      <th>ring-number</th>\n",
       "      <th>ring-type</th>\n",
       "      <th>spore-print-color</th>\n",
       "      <th>population</th>\n",
       "      <th>habitat</th>\n",
       "    </tr>\n",
       "  </thead>\n",
       "  <tbody>\n",
       "    <tr>\n",
       "      <th>0</th>\n",
       "      <td>p</td>\n",
       "      <td>x</td>\n",
       "      <td>s</td>\n",
       "      <td>n</td>\n",
       "      <td>t</td>\n",
       "      <td>p</td>\n",
       "      <td>f</td>\n",
       "      <td>c</td>\n",
       "      <td>n</td>\n",
       "      <td>k</td>\n",
       "      <td>...</td>\n",
       "      <td>s</td>\n",
       "      <td>w</td>\n",
       "      <td>w</td>\n",
       "      <td>p</td>\n",
       "      <td>w</td>\n",
       "      <td>o</td>\n",
       "      <td>p</td>\n",
       "      <td>k</td>\n",
       "      <td>s</td>\n",
       "      <td>u</td>\n",
       "    </tr>\n",
       "    <tr>\n",
       "      <th>1</th>\n",
       "      <td>e</td>\n",
       "      <td>x</td>\n",
       "      <td>s</td>\n",
       "      <td>y</td>\n",
       "      <td>t</td>\n",
       "      <td>a</td>\n",
       "      <td>f</td>\n",
       "      <td>c</td>\n",
       "      <td>b</td>\n",
       "      <td>k</td>\n",
       "      <td>...</td>\n",
       "      <td>s</td>\n",
       "      <td>w</td>\n",
       "      <td>w</td>\n",
       "      <td>p</td>\n",
       "      <td>w</td>\n",
       "      <td>o</td>\n",
       "      <td>p</td>\n",
       "      <td>n</td>\n",
       "      <td>n</td>\n",
       "      <td>g</td>\n",
       "    </tr>\n",
       "    <tr>\n",
       "      <th>2</th>\n",
       "      <td>e</td>\n",
       "      <td>b</td>\n",
       "      <td>s</td>\n",
       "      <td>w</td>\n",
       "      <td>t</td>\n",
       "      <td>l</td>\n",
       "      <td>f</td>\n",
       "      <td>c</td>\n",
       "      <td>b</td>\n",
       "      <td>n</td>\n",
       "      <td>...</td>\n",
       "      <td>s</td>\n",
       "      <td>w</td>\n",
       "      <td>w</td>\n",
       "      <td>p</td>\n",
       "      <td>w</td>\n",
       "      <td>o</td>\n",
       "      <td>p</td>\n",
       "      <td>n</td>\n",
       "      <td>n</td>\n",
       "      <td>m</td>\n",
       "    </tr>\n",
       "    <tr>\n",
       "      <th>3</th>\n",
       "      <td>p</td>\n",
       "      <td>x</td>\n",
       "      <td>y</td>\n",
       "      <td>w</td>\n",
       "      <td>t</td>\n",
       "      <td>p</td>\n",
       "      <td>f</td>\n",
       "      <td>c</td>\n",
       "      <td>n</td>\n",
       "      <td>n</td>\n",
       "      <td>...</td>\n",
       "      <td>s</td>\n",
       "      <td>w</td>\n",
       "      <td>w</td>\n",
       "      <td>p</td>\n",
       "      <td>w</td>\n",
       "      <td>o</td>\n",
       "      <td>p</td>\n",
       "      <td>k</td>\n",
       "      <td>s</td>\n",
       "      <td>u</td>\n",
       "    </tr>\n",
       "    <tr>\n",
       "      <th>4</th>\n",
       "      <td>e</td>\n",
       "      <td>x</td>\n",
       "      <td>s</td>\n",
       "      <td>g</td>\n",
       "      <td>f</td>\n",
       "      <td>n</td>\n",
       "      <td>f</td>\n",
       "      <td>w</td>\n",
       "      <td>b</td>\n",
       "      <td>k</td>\n",
       "      <td>...</td>\n",
       "      <td>s</td>\n",
       "      <td>w</td>\n",
       "      <td>w</td>\n",
       "      <td>p</td>\n",
       "      <td>w</td>\n",
       "      <td>o</td>\n",
       "      <td>e</td>\n",
       "      <td>n</td>\n",
       "      <td>a</td>\n",
       "      <td>g</td>\n",
       "    </tr>\n",
       "  </tbody>\n",
       "</table>\n",
       "<p>5 rows × 23 columns</p>\n",
       "</div>"
      ],
      "text/plain": [
       "  class cap-shape cap-surface cap-color bruises odor gill-attachment  \\\n",
       "0     p         x           s         n       t    p               f   \n",
       "1     e         x           s         y       t    a               f   \n",
       "2     e         b           s         w       t    l               f   \n",
       "3     p         x           y         w       t    p               f   \n",
       "4     e         x           s         g       f    n               f   \n",
       "\n",
       "  gill-spacing gill-size gill-color  ... stalk-surface-below-ring  \\\n",
       "0            c         n          k  ...                        s   \n",
       "1            c         b          k  ...                        s   \n",
       "2            c         b          n  ...                        s   \n",
       "3            c         n          n  ...                        s   \n",
       "4            w         b          k  ...                        s   \n",
       "\n",
       "  stalk-color-above-ring stalk-color-below-ring veil-type veil-color  \\\n",
       "0                      w                      w         p          w   \n",
       "1                      w                      w         p          w   \n",
       "2                      w                      w         p          w   \n",
       "3                      w                      w         p          w   \n",
       "4                      w                      w         p          w   \n",
       "\n",
       "  ring-number ring-type spore-print-color population habitat  \n",
       "0           o         p                 k          s       u  \n",
       "1           o         p                 n          n       g  \n",
       "2           o         p                 n          n       m  \n",
       "3           o         p                 k          s       u  \n",
       "4           o         e                 n          a       g  \n",
       "\n",
       "[5 rows x 23 columns]"
      ]
     },
     "execution_count": 4,
     "metadata": {},
     "output_type": "execute_result"
    }
   ],
   "source": [
    "dataset.head()"
   ]
  },
  {
   "cell_type": "code",
   "execution_count": 5,
   "metadata": {},
   "outputs": [
    {
     "name": "stdout",
     "output_type": "stream",
     "text": [
      "<class 'pandas.core.frame.DataFrame'>\n",
      "RangeIndex: 8124 entries, 0 to 8123\n",
      "Data columns (total 23 columns):\n",
      " #   Column                    Non-Null Count  Dtype \n",
      "---  ------                    --------------  ----- \n",
      " 0   class                     8124 non-null   object\n",
      " 1   cap-shape                 8124 non-null   object\n",
      " 2   cap-surface               8124 non-null   object\n",
      " 3   cap-color                 8124 non-null   object\n",
      " 4   bruises                   8124 non-null   object\n",
      " 5   odor                      8124 non-null   object\n",
      " 6   gill-attachment           8124 non-null   object\n",
      " 7   gill-spacing              8124 non-null   object\n",
      " 8   gill-size                 8124 non-null   object\n",
      " 9   gill-color                8124 non-null   object\n",
      " 10  stalk-shape               8124 non-null   object\n",
      " 11  stalk-root                8124 non-null   object\n",
      " 12  stalk-surface-above-ring  8124 non-null   object\n",
      " 13  stalk-surface-below-ring  8124 non-null   object\n",
      " 14  stalk-color-above-ring    8124 non-null   object\n",
      " 15  stalk-color-below-ring    8124 non-null   object\n",
      " 16  veil-type                 8124 non-null   object\n",
      " 17  veil-color                8124 non-null   object\n",
      " 18  ring-number               8124 non-null   object\n",
      " 19  ring-type                 8124 non-null   object\n",
      " 20  spore-print-color         8124 non-null   object\n",
      " 21  population                8124 non-null   object\n",
      " 22  habitat                   8124 non-null   object\n",
      "dtypes: object(23)\n",
      "memory usage: 1.4+ MB\n"
     ]
    }
   ],
   "source": [
    "dataset.info()"
   ]
  },
  {
   "cell_type": "code",
   "execution_count": 6,
   "metadata": {},
   "outputs": [
    {
     "name": "stdout",
     "output_type": "stream",
     "text": [
      "Edible:\t   4208 \n",
      "Poisonous: 3916\n"
     ]
    }
   ],
   "source": [
    "edible, poisonous = dataset['class'].value_counts()\n",
    "\n",
    "print(\"Edible:\\t  \", edible,\"\\nPoisonous:\", poisonous)"
   ]
  },
  {
   "cell_type": "code",
   "execution_count": 7,
   "metadata": {},
   "outputs": [
    {
     "name": "stdout",
     "output_type": "stream",
     "text": [
      "0 - Edible:    4208 \n",
      "1 - Poisonous: 3916\n"
     ]
    }
   ],
   "source": [
    "# Categorical to numerical\n",
    "labels = {'e': 0, 'p': 1}\n",
    "dataset['class'].replace(labels, inplace=True)\n",
    "\n",
    "edible, poisonous = dataset['class'].value_counts()\n",
    "print(\"0 - Edible:   \", edible,\"\\n1 - Poisonous:\", poisonous)"
   ]
  },
  {
   "cell_type": "markdown",
   "metadata": {},
   "source": [
    "### Split Dataset"
   ]
  },
  {
   "cell_type": "markdown",
   "metadata": {},
   "source": [
    "#### Get the Labels"
   ]
  },
  {
   "cell_type": "code",
   "execution_count": 8,
   "metadata": {},
   "outputs": [
    {
     "name": "stdout",
     "output_type": "stream",
     "text": [
      "X: (8124, 22) \n",
      "y: (8124,)\n"
     ]
    }
   ],
   "source": [
    "X, y =  dataset.drop('class', axis=1), dataset['class'].copy()\n",
    "\n",
    "print(\"X:\",X.shape,\"\\ny:\",y.shape)"
   ]
  },
  {
   "cell_type": "markdown",
   "metadata": {},
   "source": [
    "#### Train Set and Test Set"
   ]
  },
  {
   "cell_type": "code",
   "execution_count": 9,
   "metadata": {},
   "outputs": [],
   "source": [
    "from sklearn.model_selection import train_test_split\n",
    "X_white = pd.DataFrame()\n",
    "X_not_white = pd.DataFrame()\n",
    "y_white = pd.Series(dtype='float64')\n",
    "y_not_white = pd.Series(dtype='float64')\n",
    "for i in range(0,len(X)):\n",
    "    if X.loc[i,\"cap-color\"] == \"w\":\n",
    "        X_white = X_white.append(X.iloc[i,:])\n",
    "        y_white = y_white.append(pd.Series(y.iloc[i]))\n",
    "    else:\n",
    "        X_not_white = X_not_white.append(X.iloc[i,:])\n",
    "        y_not_white = y_not_white.append(pd.Series(y.iloc[i]))"
   ]
  },
  {
   "cell_type": "code",
   "execution_count": 10,
   "metadata": {},
   "outputs": [],
   "source": [
    "X_train_not_white, X_test_not_white, y_train_not_white, y_test_not_white = train_test_split(X_not_white, y_not_white, test_size=1-(6905/(8124-len(X_white))), random_state=29)\n",
    "\n",
    "# print(X_test_white)\n",
    "X_train_white = (X_train_not_white)\n",
    "X_test_white = X_white.append(X_test_not_white)\n",
    "y_train_white = (y_train_not_white)\n",
    "y_test_white = y_white.append(y_test_not_white)"
   ]
  },
  {
   "cell_type": "code",
   "execution_count": 11,
   "metadata": {},
   "outputs": [],
   "source": [
    "from sklearn.utils import shuffle\n",
    "X_train_full = shuffle(X_train_white, random_state=29)\n",
    "X_test = shuffle(X_test_white, random_state=29)\n",
    "y_train_full = shuffle(y_train_white, random_state=29)\n",
    "y_test = shuffle(y_test_white, random_state=29)"
   ]
  },
  {
   "cell_type": "code",
   "execution_count": 12,
   "metadata": {},
   "outputs": [],
   "source": [
    "# print(X_test[:5])\n",
    "# print(y_test.loc[:,\"0\"])\n",
    "# from sklearn.model_selection import train_test_split\n",
    "\n",
    "# X_train_full, X_test, y_train_full, y_test = train_test_split(X, y, test_size=0.15, random_state=29)\n",
    "\n",
    "# print(\"85% - X_train size:\", X_train_full.shape[0], \" y_train size:\", y_train_full.shape[0])\n",
    "# print(\"15% - X_test size: \", X_test.shape[0], \" y_test size: \", y_test.shape[0])"
   ]
  },
  {
   "cell_type": "markdown",
   "metadata": {},
   "source": [
    "#### Validation Set"
   ]
  },
  {
   "cell_type": "code",
   "execution_count": 13,
   "metadata": {},
   "outputs": [
    {
     "name": "stdout",
     "output_type": "stream",
     "text": [
      "X_train: 6405 y_train 6405\n",
      "X_valid:  500 y_valid  500\n",
      "X_test:  1219\n"
     ]
    }
   ],
   "source": [
    "X_valid, X_train = X_train_full[:500], X_train_full[500:]\n",
    "y_valid, y_train = y_train_full[:500], y_train_full[500:]\n",
    "\n",
    "print(\"X_train:\", X_train.shape[0], \"y_train\", y_train.shape[0])\n",
    "print(\"X_valid: \", X_valid.shape[0], \"y_valid \", y_valid.shape[0])\n",
    "print(\"X_test: \", X_test.shape[0])"
   ]
  },
  {
   "cell_type": "markdown",
   "metadata": {},
   "source": [
    "### Prepare the Data"
   ]
  },
  {
   "cell_type": "markdown",
   "metadata": {},
   "source": [
    "#### Data Transformation"
   ]
  },
  {
   "cell_type": "code",
   "execution_count": 14,
   "metadata": {},
   "outputs": [],
   "source": [
    "from sklearn.pipeline import Pipeline\n",
    "from sklearn.preprocessing import OrdinalEncoder\n",
    "from sklearn.compose import ColumnTransformer\n",
    "\n",
    "cat_attr_pipeline = Pipeline([\n",
    "                        ('encoder', OrdinalEncoder())\n",
    "                    ])\n",
    "\n",
    "cols = list(X)\n",
    "pipeline = ColumnTransformer([\n",
    "                ('cat_attr_pipeline', cat_attr_pipeline, cols)\n",
    "            ])\n",
    "\n",
    "\n",
    "X_train = pipeline.fit_transform(X_train)\n",
    "X_valid = pipeline.fit_transform(X_valid)\n",
    "X_test  = pipeline.fit_transform(X_test)"
   ]
  },
  {
   "cell_type": "markdown",
   "metadata": {},
   "source": [
    "### Neural Network"
   ]
  },
  {
   "cell_type": "markdown",
   "metadata": {},
   "source": [
    "#### Model"
   ]
  },
  {
   "cell_type": "code",
   "execution_count": 15,
   "metadata": {},
   "outputs": [],
   "source": [
    "from tensorflow.keras.models import Sequential\n",
    "from tensorflow.keras.layers import InputLayer, Dense"
   ]
  },
  {
   "cell_type": "code",
   "execution_count": 16,
   "metadata": {},
   "outputs": [],
   "source": [
    "tf.random.set_seed(29)"
   ]
  },
  {
   "cell_type": "code",
   "execution_count": 17,
   "metadata": {},
   "outputs": [],
   "source": [
    "model = Sequential([\n",
    "    InputLayer(input_shape=(22,)),    # input  layer\n",
    "    Dense(45, activation='relu'),     # hidden layer\n",
    "    Dense(1,   activation='sigmoid')  # output layer\n",
    "])"
   ]
  },
  {
   "cell_type": "code",
   "execution_count": 18,
   "metadata": {},
   "outputs": [
    {
     "name": "stdout",
     "output_type": "stream",
     "text": [
      "Model: \"sequential\"\n",
      "_________________________________________________________________\n",
      " Layer (type)                Output Shape              Param #   \n",
      "=================================================================\n",
      " dense (Dense)               (None, 45)                1035      \n",
      "                                                                 \n",
      " dense_1 (Dense)             (None, 1)                 46        \n",
      "                                                                 \n",
      "=================================================================\n",
      "Total params: 1,081\n",
      "Trainable params: 1,081\n",
      "Non-trainable params: 0\n",
      "_________________________________________________________________\n"
     ]
    }
   ],
   "source": [
    "model.summary()"
   ]
  },
  {
   "cell_type": "markdown",
   "metadata": {},
   "source": [
    "#### Compile the Model"
   ]
  },
  {
   "cell_type": "code",
   "execution_count": 19,
   "metadata": {},
   "outputs": [],
   "source": [
    "model.compile(loss='binary_crossentropy',\n",
    "             optimizer='sgd',\n",
    "             metrics=['accuracy'])"
   ]
  },
  {
   "cell_type": "markdown",
   "metadata": {},
   "source": [
    "#### Prepare Callbacks"
   ]
  },
  {
   "cell_type": "code",
   "execution_count": 20,
   "metadata": {},
   "outputs": [],
   "source": [
    "from tensorflow.keras.callbacks import ModelCheckpoint, EarlyStopping\n",
    "\n",
    "checkpoint_cb = ModelCheckpoint('../SavedModels/best_model.h5',\n",
    "                                save_best_only=True)\n",
    "\n",
    "early_stopping_cb = EarlyStopping(patience=3,\n",
    "                                  restore_best_weights=True)"
   ]
  },
  {
   "cell_type": "markdown",
   "metadata": {},
   "source": [
    "### Training"
   ]
  },
  {
   "cell_type": "code",
   "execution_count": 21,
   "metadata": {},
   "outputs": [
    {
     "name": "stdout",
     "output_type": "stream",
     "text": [
      "Epoch 1/100\n",
      "201/201 [==============================] - 2s 4ms/step - loss: 0.3957 - accuracy: 0.8495 - val_loss: 0.3534 - val_accuracy: 0.8840\n",
      "Epoch 2/100\n",
      "201/201 [==============================] - 0s 1ms/step - loss: 0.2769 - accuracy: 0.9105 - val_loss: 0.2984 - val_accuracy: 0.9120\n",
      "Epoch 3/100\n",
      "201/201 [==============================] - 0s 2ms/step - loss: 0.2397 - accuracy: 0.9290 - val_loss: 0.2499 - val_accuracy: 0.9220\n",
      "Epoch 4/100\n",
      "201/201 [==============================] - 0s 1ms/step - loss: 0.2170 - accuracy: 0.9393 - val_loss: 0.2171 - val_accuracy: 0.9440\n",
      "Epoch 5/100\n",
      "201/201 [==============================] - 0s 2ms/step - loss: 0.1989 - accuracy: 0.9488 - val_loss: 0.1903 - val_accuracy: 0.9500\n",
      "Epoch 6/100\n",
      "201/201 [==============================] - 0s 1ms/step - loss: 0.1846 - accuracy: 0.9499 - val_loss: 0.1800 - val_accuracy: 0.9520\n",
      "Epoch 7/100\n",
      "201/201 [==============================] - 0s 1ms/step - loss: 0.1722 - accuracy: 0.9522 - val_loss: 0.2727 - val_accuracy: 0.9160\n",
      "Epoch 8/100\n",
      "201/201 [==============================] - 0s 1ms/step - loss: 0.1626 - accuracy: 0.9524 - val_loss: 0.1796 - val_accuracy: 0.9460\n",
      "Epoch 9/100\n",
      "201/201 [==============================] - 1s 3ms/step - loss: 0.1522 - accuracy: 0.9535 - val_loss: 0.1554 - val_accuracy: 0.9440\n",
      "Epoch 10/100\n",
      "201/201 [==============================] - 0s 2ms/step - loss: 0.1426 - accuracy: 0.9550 - val_loss: 0.1864 - val_accuracy: 0.9420\n",
      "Epoch 11/100\n",
      "201/201 [==============================] - 1s 2ms/step - loss: 0.1368 - accuracy: 0.9530 - val_loss: 0.1294 - val_accuracy: 0.9600\n",
      "Epoch 12/100\n",
      "201/201 [==============================] - 1s 3ms/step - loss: 0.1286 - accuracy: 0.9574 - val_loss: 0.1464 - val_accuracy: 0.9500\n",
      "Epoch 13/100\n",
      "201/201 [==============================] - 1s 3ms/step - loss: 0.1213 - accuracy: 0.9596 - val_loss: 0.1185 - val_accuracy: 0.9680\n",
      "Epoch 14/100\n",
      "201/201 [==============================] - 1s 3ms/step - loss: 0.1156 - accuracy: 0.9633 - val_loss: 0.1125 - val_accuracy: 0.9680\n",
      "Epoch 15/100\n",
      "201/201 [==============================] - 1s 3ms/step - loss: 0.1101 - accuracy: 0.9646 - val_loss: 0.1050 - val_accuracy: 0.9720\n",
      "Epoch 16/100\n",
      "201/201 [==============================] - 1s 3ms/step - loss: 0.1053 - accuracy: 0.9663 - val_loss: 0.0998 - val_accuracy: 0.9720\n",
      "Epoch 17/100\n",
      "201/201 [==============================] - 1s 4ms/step - loss: 0.1000 - accuracy: 0.9653 - val_loss: 0.0960 - val_accuracy: 0.9760\n",
      "Epoch 18/100\n",
      "201/201 [==============================] - 0s 2ms/step - loss: 0.0963 - accuracy: 0.9703 - val_loss: 0.0964 - val_accuracy: 0.9700\n",
      "Epoch 19/100\n",
      "201/201 [==============================] - 1s 3ms/step - loss: 0.0919 - accuracy: 0.9716 - val_loss: 0.1081 - val_accuracy: 0.9680\n",
      "Epoch 20/100\n",
      "201/201 [==============================] - 1s 3ms/step - loss: 0.0886 - accuracy: 0.9714 - val_loss: 0.0885 - val_accuracy: 0.9780\n",
      "Epoch 21/100\n",
      "201/201 [==============================] - 1s 4ms/step - loss: 0.0847 - accuracy: 0.9728 - val_loss: 0.0853 - val_accuracy: 0.9800\n",
      "Epoch 22/100\n",
      "201/201 [==============================] - 0s 1ms/step - loss: 0.0819 - accuracy: 0.9763 - val_loss: 0.0798 - val_accuracy: 0.9800\n",
      "Epoch 23/100\n",
      "201/201 [==============================] - 0s 1ms/step - loss: 0.0788 - accuracy: 0.9772 - val_loss: 0.0789 - val_accuracy: 0.9800\n",
      "Epoch 24/100\n",
      "201/201 [==============================] - 0s 1ms/step - loss: 0.0750 - accuracy: 0.9783 - val_loss: 0.0759 - val_accuracy: 0.9800\n",
      "Epoch 25/100\n",
      "201/201 [==============================] - 0s 1ms/step - loss: 0.0728 - accuracy: 0.9805 - val_loss: 0.0799 - val_accuracy: 0.9820\n",
      "Epoch 26/100\n",
      "201/201 [==============================] - 0s 1ms/step - loss: 0.0705 - accuracy: 0.9810 - val_loss: 0.0701 - val_accuracy: 0.9820\n",
      "Epoch 27/100\n",
      "201/201 [==============================] - 0s 1ms/step - loss: 0.0670 - accuracy: 0.9827 - val_loss: 0.0716 - val_accuracy: 0.9820\n",
      "Epoch 28/100\n",
      "201/201 [==============================] - 0s 1ms/step - loss: 0.0646 - accuracy: 0.9831 - val_loss: 0.0653 - val_accuracy: 0.9860\n",
      "Epoch 29/100\n",
      "201/201 [==============================] - 0s 1ms/step - loss: 0.0622 - accuracy: 0.9838 - val_loss: 0.0642 - val_accuracy: 0.9820\n",
      "Epoch 30/100\n",
      "201/201 [==============================] - 0s 2ms/step - loss: 0.0601 - accuracy: 0.9861 - val_loss: 0.0630 - val_accuracy: 0.9820\n",
      "Epoch 31/100\n",
      "201/201 [==============================] - 0s 2ms/step - loss: 0.0581 - accuracy: 0.9856 - val_loss: 0.0617 - val_accuracy: 0.9820\n",
      "Epoch 32/100\n",
      "201/201 [==============================] - 1s 3ms/step - loss: 0.0559 - accuracy: 0.9859 - val_loss: 0.1933 - val_accuracy: 0.9140\n",
      "Epoch 33/100\n",
      "201/201 [==============================] - 1s 4ms/step - loss: 0.0550 - accuracy: 0.9869 - val_loss: 0.0555 - val_accuracy: 0.9860\n",
      "Epoch 34/100\n",
      "201/201 [==============================] - 0s 1ms/step - loss: 0.0518 - accuracy: 0.9883 - val_loss: 0.0538 - val_accuracy: 0.9860\n",
      "Epoch 35/100\n",
      "201/201 [==============================] - 0s 2ms/step - loss: 0.0499 - accuracy: 0.9895 - val_loss: 0.0808 - val_accuracy: 0.9700\n",
      "Epoch 36/100\n",
      "201/201 [==============================] - 1s 3ms/step - loss: 0.0483 - accuracy: 0.9895 - val_loss: 0.0514 - val_accuracy: 0.9860\n",
      "Epoch 37/100\n",
      "201/201 [==============================] - 1s 4ms/step - loss: 0.0472 - accuracy: 0.9899 - val_loss: 0.0525 - val_accuracy: 0.9880\n",
      "Epoch 38/100\n",
      "201/201 [==============================] - 1s 4ms/step - loss: 0.0449 - accuracy: 0.9906 - val_loss: 0.0487 - val_accuracy: 0.9880\n",
      "Epoch 39/100\n",
      "201/201 [==============================] - 1s 3ms/step - loss: 0.0441 - accuracy: 0.9902 - val_loss: 0.0493 - val_accuracy: 0.9880\n",
      "Epoch 40/100\n",
      "201/201 [==============================] - 1s 5ms/step - loss: 0.0422 - accuracy: 0.9911 - val_loss: 0.0453 - val_accuracy: 0.9880\n",
      "Epoch 41/100\n",
      "201/201 [==============================] - 1s 4ms/step - loss: 0.0407 - accuracy: 0.9916 - val_loss: 0.0438 - val_accuracy: 0.9880\n",
      "Epoch 42/100\n",
      "201/201 [==============================] - 1s 3ms/step - loss: 0.0394 - accuracy: 0.9919 - val_loss: 0.0446 - val_accuracy: 0.9880\n",
      "Epoch 43/100\n",
      "201/201 [==============================] - 1s 3ms/step - loss: 0.0383 - accuracy: 0.9923 - val_loss: 0.0471 - val_accuracy: 0.9860\n",
      "Epoch 44/100\n",
      "201/201 [==============================] - 0s 2ms/step - loss: 0.0368 - accuracy: 0.9919 - val_loss: 0.0406 - val_accuracy: 0.9900\n",
      "Epoch 45/100\n",
      "201/201 [==============================] - 1s 3ms/step - loss: 0.0359 - accuracy: 0.9927 - val_loss: 0.0392 - val_accuracy: 0.9920\n",
      "Epoch 46/100\n",
      "201/201 [==============================] - 1s 3ms/step - loss: 0.0347 - accuracy: 0.9934 - val_loss: 0.0383 - val_accuracy: 0.9920\n",
      "Epoch 47/100\n",
      "201/201 [==============================] - 1s 3ms/step - loss: 0.0332 - accuracy: 0.9939 - val_loss: 0.0422 - val_accuracy: 0.9900\n",
      "Epoch 48/100\n",
      "201/201 [==============================] - 0s 2ms/step - loss: 0.0324 - accuracy: 0.9931 - val_loss: 0.0367 - val_accuracy: 0.9920\n",
      "Epoch 49/100\n",
      "201/201 [==============================] - 0s 2ms/step - loss: 0.0317 - accuracy: 0.9939 - val_loss: 0.0416 - val_accuracy: 0.9940\n",
      "Epoch 50/100\n",
      "201/201 [==============================] - 0s 2ms/step - loss: 0.0311 - accuracy: 0.9934 - val_loss: 0.0344 - val_accuracy: 0.9920\n",
      "Epoch 51/100\n",
      "201/201 [==============================] - 0s 2ms/step - loss: 0.0298 - accuracy: 0.9944 - val_loss: 0.0372 - val_accuracy: 0.9900\n",
      "Epoch 52/100\n",
      "201/201 [==============================] - 0s 2ms/step - loss: 0.0292 - accuracy: 0.9947 - val_loss: 0.0333 - val_accuracy: 0.9920\n",
      "Epoch 53/100\n",
      "201/201 [==============================] - 1s 4ms/step - loss: 0.0279 - accuracy: 0.9952 - val_loss: 0.0328 - val_accuracy: 0.9900\n",
      "Epoch 54/100\n",
      "201/201 [==============================] - 0s 2ms/step - loss: 0.0277 - accuracy: 0.9950 - val_loss: 0.0314 - val_accuracy: 0.9940\n",
      "Epoch 55/100\n",
      "201/201 [==============================] - 0s 2ms/step - loss: 0.0267 - accuracy: 0.9952 - val_loss: 0.0338 - val_accuracy: 0.9920\n",
      "Epoch 56/100\n",
      "201/201 [==============================] - 1s 4ms/step - loss: 0.0258 - accuracy: 0.9955 - val_loss: 0.0299 - val_accuracy: 0.9920\n",
      "Epoch 57/100\n",
      "201/201 [==============================] - 0s 2ms/step - loss: 0.0255 - accuracy: 0.9952 - val_loss: 0.0288 - val_accuracy: 0.9920\n",
      "Epoch 58/100\n",
      "201/201 [==============================] - 0s 2ms/step - loss: 0.0244 - accuracy: 0.9959 - val_loss: 0.0278 - val_accuracy: 0.9940\n",
      "Epoch 59/100\n",
      "201/201 [==============================] - 0s 2ms/step - loss: 0.0235 - accuracy: 0.9959 - val_loss: 0.0277 - val_accuracy: 0.9920\n",
      "Epoch 60/100\n",
      "201/201 [==============================] - 0s 1ms/step - loss: 0.0230 - accuracy: 0.9961 - val_loss: 0.0267 - val_accuracy: 0.9940\n",
      "Epoch 61/100\n",
      "201/201 [==============================] - 0s 1ms/step - loss: 0.0227 - accuracy: 0.9958 - val_loss: 0.0289 - val_accuracy: 0.9900\n",
      "Epoch 62/100\n",
      "201/201 [==============================] - 0s 1ms/step - loss: 0.0218 - accuracy: 0.9966 - val_loss: 0.0292 - val_accuracy: 0.9940\n",
      "Epoch 63/100\n",
      "201/201 [==============================] - 0s 1ms/step - loss: 0.0216 - accuracy: 0.9972 - val_loss: 0.0242 - val_accuracy: 0.9940\n",
      "Epoch 64/100\n",
      "201/201 [==============================] - 0s 1ms/step - loss: 0.0209 - accuracy: 0.9973 - val_loss: 0.0244 - val_accuracy: 0.9940\n",
      "Epoch 65/100\n",
      "201/201 [==============================] - 0s 1ms/step - loss: 0.0204 - accuracy: 0.9966 - val_loss: 0.0243 - val_accuracy: 0.9960\n",
      "Epoch 66/100\n",
      "201/201 [==============================] - 0s 1ms/step - loss: 0.0199 - accuracy: 0.9966 - val_loss: 0.0236 - val_accuracy: 0.9980\n",
      "Epoch 67/100\n",
      "201/201 [==============================] - 0s 1ms/step - loss: 0.0194 - accuracy: 0.9977 - val_loss: 0.0229 - val_accuracy: 0.9980\n",
      "Epoch 68/100\n",
      "201/201 [==============================] - 1s 3ms/step - loss: 0.0188 - accuracy: 0.9973 - val_loss: 0.0218 - val_accuracy: 0.9960\n",
      "Epoch 69/100\n",
      "201/201 [==============================] - 0s 2ms/step - loss: 0.0183 - accuracy: 0.9969 - val_loss: 0.0214 - val_accuracy: 0.9980\n",
      "Epoch 70/100\n",
      "201/201 [==============================] - 0s 2ms/step - loss: 0.0181 - accuracy: 0.9975 - val_loss: 0.0209 - val_accuracy: 0.9960\n",
      "Epoch 71/100\n",
      "201/201 [==============================] - 0s 2ms/step - loss: 0.0177 - accuracy: 0.9977 - val_loss: 0.0212 - val_accuracy: 0.9940\n",
      "Epoch 72/100\n",
      "201/201 [==============================] - 0s 2ms/step - loss: 0.0171 - accuracy: 0.9977 - val_loss: 0.0249 - val_accuracy: 0.9920\n",
      "Epoch 73/100\n",
      "201/201 [==============================] - 0s 1ms/step - loss: 0.0168 - accuracy: 0.9975 - val_loss: 0.0201 - val_accuracy: 0.9980\n",
      "Epoch 74/100\n",
      "201/201 [==============================] - 0s 1ms/step - loss: 0.0165 - accuracy: 0.9978 - val_loss: 0.0423 - val_accuracy: 0.9840\n",
      "Epoch 75/100\n",
      "201/201 [==============================] - 0s 2ms/step - loss: 0.0167 - accuracy: 0.9978 - val_loss: 0.0189 - val_accuracy: 0.9980\n",
      "Epoch 76/100\n",
      "201/201 [==============================] - 0s 1ms/step - loss: 0.0158 - accuracy: 0.9978 - val_loss: 0.0189 - val_accuracy: 1.0000\n",
      "Epoch 77/100\n",
      "201/201 [==============================] - 1s 3ms/step - loss: 0.0155 - accuracy: 0.9984 - val_loss: 0.0213 - val_accuracy: 0.9940\n",
      "Epoch 78/100\n",
      "201/201 [==============================] - 0s 2ms/step - loss: 0.0152 - accuracy: 0.9983 - val_loss: 0.0176 - val_accuracy: 0.9980\n",
      "Epoch 79/100\n",
      "201/201 [==============================] - 0s 2ms/step - loss: 0.0146 - accuracy: 0.9984 - val_loss: 0.0174 - val_accuracy: 0.9980\n",
      "Epoch 80/100\n",
      "201/201 [==============================] - 0s 1ms/step - loss: 0.0144 - accuracy: 0.9984 - val_loss: 0.0201 - val_accuracy: 0.9920\n",
      "Epoch 81/100\n",
      "201/201 [==============================] - 0s 2ms/step - loss: 0.0142 - accuracy: 0.9986 - val_loss: 0.0171 - val_accuracy: 0.9960\n",
      "Epoch 82/100\n",
      "201/201 [==============================] - 0s 1ms/step - loss: 0.0138 - accuracy: 0.9986 - val_loss: 0.0160 - val_accuracy: 0.9980\n",
      "Epoch 83/100\n",
      "201/201 [==============================] - 0s 1ms/step - loss: 0.0135 - accuracy: 0.9989 - val_loss: 0.0183 - val_accuracy: 0.9940\n",
      "Epoch 84/100\n",
      "201/201 [==============================] - 0s 1ms/step - loss: 0.0133 - accuracy: 0.9989 - val_loss: 0.0196 - val_accuracy: 0.9940\n",
      "Epoch 85/100\n",
      "201/201 [==============================] - 0s 1ms/step - loss: 0.0132 - accuracy: 0.9984 - val_loss: 0.1799 - val_accuracy: 0.9240\n"
     ]
    }
   ],
   "source": [
    "train_model = model.fit(X_train, y_train,\n",
    "                        epochs=100,\n",
    "                        validation_data=(X_valid, y_valid),\n",
    "                        callbacks=[checkpoint_cb, early_stopping_cb])\n",
    "                        \n"
   ]
  },
  {
   "cell_type": "markdown",
   "metadata": {},
   "source": [
    "#### Learning Curves"
   ]
  },
  {
   "cell_type": "code",
   "execution_count": 22,
   "metadata": {},
   "outputs": [
    {
     "data": {
      "image/png": "[encoded data removed]",
      "text/plain": [
       "<Figure size 576x360 with 1 Axes>"
      ]
     },
     "metadata": {
      "needs_background": "light"
     },
     "output_type": "display_data"
    }
   ],
   "source": [
    "pd.DataFrame(train_model.history).plot(figsize=(8,5))\n",
    "plt.grid(True)\n",
    "plt.gca().set_ylim(0,1)\n",
    "plt.show()"
   ]
  },
  {
   "cell_type": "markdown",
   "metadata": {},
   "source": [
    "### Evaluate the Best Model on Test Set"
   ]
  },
  {
   "cell_type": "code",
   "execution_count": 23,
   "metadata": {},
   "outputs": [
    {
     "name": "stdout",
     "output_type": "stream",
     "text": [
      "39/39 [==============================] - 0s 2ms/step - loss: 0.2818 - accuracy: 0.8975\n",
      "test loss, test acc: [0.28180769085884094, 0.8974569439888]\n"
     ]
    }
   ],
   "source": [
    "results = model.evaluate(X_test, y_test)\n",
    "print(\"test loss, test acc:\", results)"
   ]
  },
  {
   "cell_type": "markdown",
   "metadata": {},
   "source": [
    "#### Confusion Matrix"
   ]
  },
  {
   "cell_type": "code",
   "execution_count": 24,
   "metadata": {},
   "outputs": [],
   "source": [
    "import seaborn as sns\n",
    "\n",
    "#Parameters\n",
    "title = 'Confusion Matrix'\n",
    "custom_color = '#ffa600'   \n",
    "\n",
    "#Function for drawing confusion matrix\n",
    "def draw_confusion_matrix(cm, title = title, color = custom_color):\n",
    "    palette = sns.light_palette(color, as_cmap=True)\n",
    "    ax = plt.subplot()\n",
    "    sns.heatmap(cm, annot=True, ax=ax, fmt='d', cmap=palette)\n",
    "    # Title\n",
    "    ax.set_title('\\n' + title + '\\n',\n",
    "                 fontweight='bold',\n",
    "                 fontstyle='normal', \n",
    "                )\n",
    "    # x y labels \n",
    "    ax.set_xlabel('Predicted', fontweight='bold')\n",
    "    ax.set_ylabel('Actual', fontweight='bold');\n",
    "    # Classes names\n",
    "    x_names = ['Poisonous', 'Edible']\n",
    "    y_names = ['Poisonous', 'Edible']\n",
    "    ax.xaxis.set_ticklabels(x_names, ha = 'center')\n",
    "    ax.yaxis.set_ticklabels(y_names, va = 'center')"
   ]
  },
  {
   "cell_type": "code",
   "execution_count": 25,
   "metadata": {},
   "outputs": [
    {
     "data": {
      "image/png": "[encoded data removed]",
      "text/plain": [
       "<Figure size 432x288 with 2 Axes>"
      ]
     },
     "metadata": {
      "needs_background": "light"
     },
     "output_type": "display_data"
    }
   ],
   "source": [
    "from sklearn.metrics import confusion_matrix\n",
    "\n",
    "y_test_pred = (model.predict(X_test) > 0.5).astype(\"int32\")\n",
    "cm = confusion_matrix(y_test, y_test_pred)\n",
    "\n",
    "draw_confusion_matrix(cm)"
   ]
  },
  {
   "cell_type": "markdown",
   "metadata": {},
   "source": [
    "#### ROC Curve"
   ]
  },
  {
   "cell_type": "code",
   "execution_count": 26,
   "metadata": {},
   "outputs": [],
   "source": [
    "#Function for plotting the ROC curve\n",
    "def plot_roc_curve(fpr, tpr, roc_auc):\n",
    "    plt.plot(fpr, tpr, custom_color, label='Area: %0.3f' %roc_auc, linewidth=2)\n",
    "    plt.plot([0, 1], [0, 1], 'k--')\n",
    "    plt.title('ROC Curve')\n",
    "    plt.xlabel('False Positive Rate')\n",
    "    plt.ylabel('True Positive Rate - Recall')\n",
    "    plt.legend(loc='lower right')\n",
    "    plt.show()"
   ]
  },
  {
   "cell_type": "code",
   "execution_count": 27,
   "metadata": {},
   "outputs": [
    {
     "data": {
      "image/png": "[encoded data removed]",
      "text/plain": [
       "<Figure size 432x288 with 1 Axes>"
      ]
     },
     "metadata": {
      "needs_background": "light"
     },
     "output_type": "display_data"
    }
   ],
   "source": [
    "from sklearn.metrics import roc_curve, auc\n",
    "\n",
    "y_test_prob = model.predict(X_test)\n",
    "\n",
    "fpr, tpr, _ = roc_curve(y_test, y_test_prob)\n",
    "roc_auc = auc(fpr, tpr)\n",
    "\n",
    "plot_roc_curve(fpr, tpr, roc_auc)"
   ]
  },
  {
   "cell_type": "markdown",
   "metadata": {},
   "source": [
    "### Make Some Predictions"
   ]
  },
  {
   "cell_type": "code",
   "execution_count": 28,
   "metadata": {},
   "outputs": [],
   "source": [
    "X_new = X_test[:5]\n",
    "y_prob = model.predict(X_new)\n",
    "# print(y_prob.round(3))"
   ]
  },
  {
   "cell_type": "code",
   "execution_count": 29,
   "metadata": {},
   "outputs": [],
   "source": [
    "y_pred = (model.predict(X_new) > 0.5).astype(\"int32\")\n",
    "# print(y_pred)"
   ]
  },
  {
   "cell_type": "markdown",
   "metadata": {},
   "source": [
    "## KL Divergence"
   ]
  },
  {
   "cell_type": "code",
   "execution_count": 30,
   "metadata": {},
   "outputs": [
    {
     "name": "stdout",
     "output_type": "stream",
     "text": [
      "        X_pred  y_pred  y_actual\n",
      "0     0.000116       0         0\n",
      "1     0.127891       0         0\n",
      "2     0.000540       0         0\n",
      "3     0.788046       1         1\n",
      "4     0.132845       0         0\n",
      "...        ...     ...       ...\n",
      "1214  0.000052       0         0\n",
      "1215  0.133728       0         1\n",
      "1216  0.824403       1         1\n",
      "1217  0.000416       0         0\n",
      "1218  0.019239       0         0\n",
      "\n",
      "[1219 rows x 3 columns]\n"
     ]
    }
   ],
   "source": [
    "# X_new = X_test[:5]\n",
    "X_df = pd.DataFrame(model.predict(X_test))\n",
    "y_test_pred = pd.DataFrame(y_test_pred).reset_index(drop=True)\n",
    "X_df = pd.concat([X_df, y_test_pred], axis=1)\n",
    "y_test = y_test.reset_index(drop=True)\n",
    "X_df = pd.concat([X_df, y_test], axis=1)\n",
    "X_df.columns = [\"X_pred\",\"y_pred\",\"y_actual\"]\n",
    "print(X_df)"
   ]
  },
  {
   "cell_type": "code",
   "execution_count": 31,
   "metadata": {},
   "outputs": [
    {
     "name": "stdout",
     "output_type": "stream",
     "text": [
      "        KL_div abs distance correctness\n",
      "0      0.00117     0.999767           1\n",
      "1     0.382358     0.744218           1\n",
      "2     0.004601      0.99892           1\n",
      "3     0.516534     0.576092           1\n",
      "4     0.391759      0.73431           1\n",
      "...        ...          ...         ...\n",
      "1214   0.00056     0.999897           1\n",
      "1215  0.393412     0.732544           0\n",
      "1216  0.464651     0.648806           1\n",
      "1217  0.003651     0.999169           1\n",
      "1218  0.095063     0.961522           1\n",
      "\n",
      "[1219 rows x 3 columns]\n"
     ]
    }
   ],
   "source": [
    "import math\n",
    "table = pd.DataFrame(columns=[\"KL_div\",\"abs distance\",\"correctness\"])\n",
    "for i in range(0,len(X_df)):\n",
    "    # KL divergence\n",
    "    p = X_df.loc[i,\"X_pred\"]\n",
    "    kl = -(p*math.log(p) + (1-p)*math.log(1-p))\n",
    "    table.loc[i,\"KL_div\"] = kl\n",
    "    # absolute distance\n",
    "    abs_dist = 2*abs(0.5-p)\n",
    "    table.loc[i,\"abs distance\"] = abs_dist\n",
    "    # correctness\n",
    "    y_pred = X_df.loc[i,\"y_pred\"]\n",
    "    y_act = X_df.loc[i,\"y_actual\"]\n",
    "    if y_pred == y_act:\n",
    "        table.loc[i,\"correctness\"] = 1 # correct prediction\n",
    "    else:\n",
    "        table.loc[i,\"correctness\"] = 0 # wrong prediction\n",
    "\n",
    "print(table)"
   ]
  },
  {
   "cell_type": "code",
   "execution_count": 32,
   "metadata": {},
   "outputs": [
    {
     "name": "stdout",
     "output_type": "stream",
     "text": [
      "            correctness  count     percent\n",
      "KL_div                                    \n",
      "(0.0, 0.1]          460    460  100.000000\n",
      "(0.1, 0.2]          117    134   87.313433\n",
      "(0.2, 0.3]           97    107   90.654206\n",
      "(0.3, 0.4]           87     99   87.878788\n",
      "(0.4, 0.5]           92    101   91.089109\n",
      "(0.5, 0.6]           96    109   88.073394\n",
      "(0.6, 0.7]          145    209   69.377990\n"
     ]
    }
   ],
   "source": [
    "table[\"count\"] = 1\n",
    "correctness = table[[\"correctness\",\"count\"]].groupby(pd.cut(table[\"KL_div\"], np.arange(0, 0.8, 0.1))).apply(sum)\n",
    "correctness[\"percent\"] = 100*(correctness[\"correctness\"]/correctness[\"count\"])\n",
    "print(correctness)"
   ]
  },
  {
   "cell_type": "code",
   "execution_count": 33,
   "metadata": {},
   "outputs": [
    {
     "data": {
      "text/plain": [
       "Text(0, 0.5, '% correct')"
      ]
     },
     "execution_count": 33,
     "metadata": {},
     "output_type": "execute_result"
    },
    {
     "data": {
      "image/png": "[encoded data removed]",
      "text/plain": [
       "<Figure size 432x288 with 1 Axes>"
      ]
     },
     "metadata": {
      "needs_background": "light"
     },
     "output_type": "display_data"
    }
   ],
   "source": [
    "index = []\n",
    "for i in (correctness.index):\n",
    "    index.append(str(i))\n",
    "plt.bar(index,correctness[\"percent\"], width=0.7)\n",
    "for index,data in enumerate(correctness[\"percent\"]):\n",
    "    plt.text(x=index , y =data+1 , s=f\"{round(data,2)}\" , fontdict=dict(fontsize=15),ha='center')\n",
    "plt.ylim(0,110)\n",
    "plt.xlabel(\"KL Divergence\")\n",
    "plt.ylabel(\"% correct\")"
   ]
  },
  {
   "cell_type": "markdown",
   "metadata": {},
   "source": [
    "### Confidence"
   ]
  },
  {
   "cell_type": "code",
   "execution_count": 34,
   "metadata": {},
   "outputs": [
    {
     "data": {
      "text/plain": [
       "<matplotlib.collections.PathCollection at 0x1ab8af0bfa0>"
      ]
     },
     "execution_count": 34,
     "metadata": {},
     "output_type": "execute_result"
    },
    {
     "data": {
      "image/png": "[encoded data removed]",
      "text/plain": [
       "<Figure size 432x288 with 1 Axes>"
      ]
     },
     "metadata": {
      "needs_background": "light"
     },
     "output_type": "display_data"
    }
   ],
   "source": [
    "kl = table[[\"correctness\",\"count\"]].groupby(pd.cut(table[\"KL_div\"], np.arange(0, 0.8, 0.05))).apply(sum)\n",
    "kl[\"percent\"] = (kl[\"correctness\"]/kl[\"count\"])\n",
    "kl.dropna(inplace=True)\n",
    "plt.scatter(np.arange(0, 0.70, 0.05), kl[\"percent\"])\n",
    "# print(kl)\n",
    "# print(np.arange(0, 0.7, 0.05))"
   ]
  },
  {
   "cell_type": "code",
   "execution_count": 35,
   "metadata": {},
   "outputs": [],
   "source": [
    "# Linear Regression\n",
    "from sklearn.linear_model import LinearRegression\n",
    "\n",
    "x = np.arange(0, 0.70, 0.05).reshape((-1, 1))\n",
    "y = kl[\"percent\"]\n",
    "model = LinearRegression().fit(x,y)"
   ]
  },
  {
   "cell_type": "code",
   "execution_count": 36,
   "metadata": {},
   "outputs": [
    {
     "name": "stdout",
     "output_type": "stream",
     "text": [
      "intercept(alpha): 0.9776182950505219\n",
      "slope(theta): [-0.29425788]\n"
     ]
    }
   ],
   "source": [
    "print('intercept(alpha):', model.intercept_)\n",
    "print('slope(theta):', model.coef_)"
   ]
  },
  {
   "cell_type": "markdown",
   "metadata": {},
   "source": [
    "## Algorithm C: It = argmax(Ct,i)"
   ]
  }
 ],
 "metadata": {
  "kernelspec": {
   "display_name": "Python 3",
   "language": "python",
   "name": "python3"
  },
  "language_info": {
   "codemirror_mode": {
    "name": "ipython",
    "version": 3
   },
   "file_extension": ".py",
   "mimetype": "text/x-python",
   "name": "python",
   "nbconvert_exporter": "python",
   "pygments_lexer": "ipython3",
   "version": "3.8.8"
  }
 },
 "nbformat": 4,
 "nbformat_minor": 4
}
