{
 "cells": [
  {
   "cell_type": "markdown",
   "metadata": {},
   "source": [
    "# MUSHROOMS"
   ]
  },
  {
   "cell_type": "markdown",
   "metadata": {},
   "source": [
    "## Binary Classification"
   ]
  },
  {
   "cell_type": "markdown",
   "metadata": {},
   "source": [
    "### Imports"
   ]
  },
  {
   "cell_type": "code",
   "execution_count": 1,
   "metadata": {},
   "outputs": [],
   "source": [
    "import os\n",
    "import pandas as pd\n",
    "import numpy as np\n",
    "\n",
    "import tensorflow as tf\n",
    "from tensorflow import keras\n",
    "\n",
    "import matplotlib.pyplot as plt"
   ]
  },
  {
   "cell_type": "markdown",
   "metadata": {},
   "source": [
    "### Load Data"
   ]
  },
  {
   "cell_type": "code",
   "execution_count": 2,
   "metadata": {},
   "outputs": [],
   "source": [
    "DATA_PATH = '../DATA/'\n",
    "FILE_NAME = 'mushrooms.csv'\n",
    "def load_data(data_path=DATA_PATH, file_name=FILE_NAME):\n",
    "    csv_path = os.path.join(data_path, file_name)\n",
    "    return pd.read_csv(csv_path)\n",
    "\n",
    "dataset = load_data()"
   ]
  },
  {
   "cell_type": "markdown",
   "metadata": {},
   "source": [
    "### View Data and Informations"
   ]
  },
  {
   "cell_type": "code",
   "execution_count": 3,
   "metadata": {},
   "outputs": [
    {
     "data": {
      "text/html": [
       "<div>\n",
       "<style scoped>\n",
       "    .dataframe tbody tr th:only-of-type {\n",
       "        vertical-align: middle;\n",
       "    }\n",
       "\n",
       "    .dataframe tbody tr th {\n",
       "        vertical-align: top;\n",
       "    }\n",
       "\n",
       "    .dataframe thead th {\n",
       "        text-align: right;\n",
       "    }\n",
       "</style>\n",
       "<table border=\"1\" class=\"dataframe\">\n",
       "  <thead>\n",
       "    <tr style=\"text-align: right;\">\n",
       "      <th></th>\n",
       "      <th>class</th>\n",
       "      <th>cap-shape</th>\n",
       "      <th>cap-surface</th>\n",
       "      <th>cap-color</th>\n",
       "      <th>bruises</th>\n",
       "      <th>odor</th>\n",
       "      <th>gill-attachment</th>\n",
       "      <th>gill-spacing</th>\n",
       "      <th>gill-size</th>\n",
       "      <th>gill-color</th>\n",
       "      <th>...</th>\n",
       "      <th>stalk-surface-below-ring</th>\n",
       "      <th>stalk-color-above-ring</th>\n",
       "      <th>stalk-color-below-ring</th>\n",
       "      <th>veil-type</th>\n",
       "      <th>veil-color</th>\n",
       "      <th>ring-number</th>\n",
       "      <th>ring-type</th>\n",
       "      <th>spore-print-color</th>\n",
       "      <th>population</th>\n",
       "      <th>habitat</th>\n",
       "    </tr>\n",
       "  </thead>\n",
       "  <tbody>\n",
       "    <tr>\n",
       "      <th>0</th>\n",
       "      <td>p</td>\n",
       "      <td>x</td>\n",
       "      <td>s</td>\n",
       "      <td>n</td>\n",
       "      <td>t</td>\n",
       "      <td>p</td>\n",
       "      <td>f</td>\n",
       "      <td>c</td>\n",
       "      <td>n</td>\n",
       "      <td>k</td>\n",
       "      <td>...</td>\n",
       "      <td>s</td>\n",
       "      <td>w</td>\n",
       "      <td>w</td>\n",
       "      <td>p</td>\n",
       "      <td>w</td>\n",
       "      <td>o</td>\n",
       "      <td>p</td>\n",
       "      <td>k</td>\n",
       "      <td>s</td>\n",
       "      <td>u</td>\n",
       "    </tr>\n",
       "    <tr>\n",
       "      <th>1</th>\n",
       "      <td>e</td>\n",
       "      <td>x</td>\n",
       "      <td>s</td>\n",
       "      <td>y</td>\n",
       "      <td>t</td>\n",
       "      <td>a</td>\n",
       "      <td>f</td>\n",
       "      <td>c</td>\n",
       "      <td>b</td>\n",
       "      <td>k</td>\n",
       "      <td>...</td>\n",
       "      <td>s</td>\n",
       "      <td>w</td>\n",
       "      <td>w</td>\n",
       "      <td>p</td>\n",
       "      <td>w</td>\n",
       "      <td>o</td>\n",
       "      <td>p</td>\n",
       "      <td>n</td>\n",
       "      <td>n</td>\n",
       "      <td>g</td>\n",
       "    </tr>\n",
       "    <tr>\n",
       "      <th>2</th>\n",
       "      <td>e</td>\n",
       "      <td>b</td>\n",
       "      <td>s</td>\n",
       "      <td>w</td>\n",
       "      <td>t</td>\n",
       "      <td>l</td>\n",
       "      <td>f</td>\n",
       "      <td>c</td>\n",
       "      <td>b</td>\n",
       "      <td>n</td>\n",
       "      <td>...</td>\n",
       "      <td>s</td>\n",
       "      <td>w</td>\n",
       "      <td>w</td>\n",
       "      <td>p</td>\n",
       "      <td>w</td>\n",
       "      <td>o</td>\n",
       "      <td>p</td>\n",
       "      <td>n</td>\n",
       "      <td>n</td>\n",
       "      <td>m</td>\n",
       "    </tr>\n",
       "    <tr>\n",
       "      <th>3</th>\n",
       "      <td>p</td>\n",
       "      <td>x</td>\n",
       "      <td>y</td>\n",
       "      <td>w</td>\n",
       "      <td>t</td>\n",
       "      <td>p</td>\n",
       "      <td>f</td>\n",
       "      <td>c</td>\n",
       "      <td>n</td>\n",
       "      <td>n</td>\n",
       "      <td>...</td>\n",
       "      <td>s</td>\n",
       "      <td>w</td>\n",
       "      <td>w</td>\n",
       "      <td>p</td>\n",
       "      <td>w</td>\n",
       "      <td>o</td>\n",
       "      <td>p</td>\n",
       "      <td>k</td>\n",
       "      <td>s</td>\n",
       "      <td>u</td>\n",
       "    </tr>\n",
       "    <tr>\n",
       "      <th>4</th>\n",
       "      <td>e</td>\n",
       "      <td>x</td>\n",
       "      <td>s</td>\n",
       "      <td>g</td>\n",
       "      <td>f</td>\n",
       "      <td>n</td>\n",
       "      <td>f</td>\n",
       "      <td>w</td>\n",
       "      <td>b</td>\n",
       "      <td>k</td>\n",
       "      <td>...</td>\n",
       "      <td>s</td>\n",
       "      <td>w</td>\n",
       "      <td>w</td>\n",
       "      <td>p</td>\n",
       "      <td>w</td>\n",
       "      <td>o</td>\n",
       "      <td>e</td>\n",
       "      <td>n</td>\n",
       "      <td>a</td>\n",
       "      <td>g</td>\n",
       "    </tr>\n",
       "  </tbody>\n",
       "</table>\n",
       "<p>5 rows × 23 columns</p>\n",
       "</div>"
      ],
      "text/plain": [
       "  class cap-shape cap-surface cap-color bruises odor gill-attachment  \\\n",
       "0     p         x           s         n       t    p               f   \n",
       "1     e         x           s         y       t    a               f   \n",
       "2     e         b           s         w       t    l               f   \n",
       "3     p         x           y         w       t    p               f   \n",
       "4     e         x           s         g       f    n               f   \n",
       "\n",
       "  gill-spacing gill-size gill-color  ... stalk-surface-below-ring  \\\n",
       "0            c         n          k  ...                        s   \n",
       "1            c         b          k  ...                        s   \n",
       "2            c         b          n  ...                        s   \n",
       "3            c         n          n  ...                        s   \n",
       "4            w         b          k  ...                        s   \n",
       "\n",
       "  stalk-color-above-ring stalk-color-below-ring veil-type veil-color  \\\n",
       "0                      w                      w         p          w   \n",
       "1                      w                      w         p          w   \n",
       "2                      w                      w         p          w   \n",
       "3                      w                      w         p          w   \n",
       "4                      w                      w         p          w   \n",
       "\n",
       "  ring-number ring-type spore-print-color population habitat  \n",
       "0           o         p                 k          s       u  \n",
       "1           o         p                 n          n       g  \n",
       "2           o         p                 n          n       m  \n",
       "3           o         p                 k          s       u  \n",
       "4           o         e                 n          a       g  \n",
       "\n",
       "[5 rows x 23 columns]"
      ]
     },
     "execution_count": 3,
     "metadata": {},
     "output_type": "execute_result"
    }
   ],
   "source": [
    "dataset.head()"
   ]
  },
  {
   "cell_type": "code",
   "execution_count": 4,
   "metadata": {},
   "outputs": [
    {
     "name": "stdout",
     "output_type": "stream",
     "text": [
      "<class 'pandas.core.frame.DataFrame'>\n",
      "RangeIndex: 8124 entries, 0 to 8123\n",
      "Data columns (total 23 columns):\n",
      " #   Column                    Non-Null Count  Dtype \n",
      "---  ------                    --------------  ----- \n",
      " 0   class                     8124 non-null   object\n",
      " 1   cap-shape                 8124 non-null   object\n",
      " 2   cap-surface               8124 non-null   object\n",
      " 3   cap-color                 8124 non-null   object\n",
      " 4   bruises                   8124 non-null   object\n",
      " 5   odor                      8124 non-null   object\n",
      " 6   gill-attachment           8124 non-null   object\n",
      " 7   gill-spacing              8124 non-null   object\n",
      " 8   gill-size                 8124 non-null   object\n",
      " 9   gill-color                8124 non-null   object\n",
      " 10  stalk-shape               8124 non-null   object\n",
      " 11  stalk-root                8124 non-null   object\n",
      " 12  stalk-surface-above-ring  8124 non-null   object\n",
      " 13  stalk-surface-below-ring  8124 non-null   object\n",
      " 14  stalk-color-above-ring    8124 non-null   object\n",
      " 15  stalk-color-below-ring    8124 non-null   object\n",
      " 16  veil-type                 8124 non-null   object\n",
      " 17  veil-color                8124 non-null   object\n",
      " 18  ring-number               8124 non-null   object\n",
      " 19  ring-type                 8124 non-null   object\n",
      " 20  spore-print-color         8124 non-null   object\n",
      " 21  population                8124 non-null   object\n",
      " 22  habitat                   8124 non-null   object\n",
      "dtypes: object(23)\n",
      "memory usage: 1.4+ MB\n"
     ]
    }
   ],
   "source": [
    "dataset.info()"
   ]
  },
  {
   "cell_type": "code",
   "execution_count": 5,
   "metadata": {},
   "outputs": [
    {
     "name": "stdout",
     "output_type": "stream",
     "text": [
      "Edible:\t   4208 \n",
      "Poisonous: 3916\n"
     ]
    }
   ],
   "source": [
    "edible, poisonous = dataset['class'].value_counts()\n",
    "\n",
    "print(\"Edible:\\t  \", edible,\"\\nPoisonous:\", poisonous)"
   ]
  },
  {
   "cell_type": "code",
   "execution_count": 6,
   "metadata": {},
   "outputs": [
    {
     "name": "stdout",
     "output_type": "stream",
     "text": [
      "0 - Edible:    4208 \n",
      "1 - Poisonous: 3916\n"
     ]
    }
   ],
   "source": [
    "# Categorical to numerical\n",
    "labels = {'e': 0, 'p': 1}\n",
    "dataset['class'].replace(labels, inplace=True)\n",
    "\n",
    "edible, poisonous = dataset['class'].value_counts()\n",
    "print(\"0 - Edible:   \", edible,\"\\n1 - Poisonous:\", poisonous)"
   ]
  },
  {
   "cell_type": "markdown",
   "metadata": {},
   "source": [
    "### Split Dataset"
   ]
  },
  {
   "cell_type": "markdown",
   "metadata": {},
   "source": [
    "#### Get the Labels"
   ]
  },
  {
   "cell_type": "code",
   "execution_count": 7,
   "metadata": {},
   "outputs": [
    {
     "name": "stdout",
     "output_type": "stream",
     "text": [
      "X: (8124, 22) \n",
      "y: (8124,)\n"
     ]
    }
   ],
   "source": [
    "X, y =  dataset.drop('class', axis=1), dataset['class'].copy()\n",
    "\n",
    "print(\"X:\",X.shape,\"\\ny:\",y.shape)"
   ]
  },
  {
   "cell_type": "markdown",
   "metadata": {},
   "source": [
    "#### Train Set and Test Set"
   ]
  },
  {
   "cell_type": "code",
   "execution_count": 11,
   "metadata": {},
   "outputs": [
    {
     "name": "stderr",
     "output_type": "stream",
     "text": [
      "C:\\Users\\xieya\\AppData\\Local\\Temp/ipykernel_17920/275533079.py:4: DeprecationWarning: The default dtype for empty Series will be 'object' instead of 'float64' in a future version. Specify a dtype explicitly to silence this warning.\n",
      "  y_cap = pd.Series()\n",
      "C:\\Users\\xieya\\AppData\\Local\\Temp/ipykernel_17920/275533079.py:5: DeprecationWarning: The default dtype for empty Series will be 'object' instead of 'float64' in a future version. Specify a dtype explicitly to silence this warning.\n",
      "  y_no_cap = pd.Series()\n"
     ]
    }
   ],
   "source": [
    "from sklearn.model_selection import train_test_split\n",
    "X_cap = pd.DataFrame()\n",
    "X_no_cap = pd.DataFrame()\n",
    "y_cap = pd.Series(dtype='float64')\n",
    "y_no_cap = pd.Series(dtype='float64')\n",
    "for i in range(0,len(X)):\n",
    "    if X.loc[i,\"cap-shape\"] == \"k\":\n",
    "        X_cap = X_cap.append(X.iloc[i,:])\n",
    "        y_cap = y_cap.append(pd.Series(y.iloc[i]))\n",
    "    else:\n",
    "        X_no_cap = X_no_cap.append(X.iloc[i,:])\n",
    "        y_no_cap = y_no_cap.append(pd.Series(y.iloc[i]))\n",
    "\n",
    "X_train_no_cap, X_test_no_cap, y_train_no_cap, y_test_no_cap = train_test_split(X_no_cap, y_no_cap, test_size=0.0536, random_state=42)\n",
    "\n",
    "# print(X_test_cap)\n",
    "X_train_cap = X_train_cap.append(X_train_no_cap)\n",
    "X_test_cap = X_test_cap.append(X_test_no_cap)\n",
    "y_train_cap = y_train_cap.append(y_train_no_cap)\n",
    "y_test_cap = y_test_cap.append(y_test_no_cap)\n"
   ]
  },
  {
   "cell_type": "code",
   "execution_count": 31,
   "metadata": {},
   "outputs": [],
   "source": [
    "X_train_no_cap, X_test_no_cap, y_train_no_cap, y_test_no_cap = train_test_split(X_no_cap, y_no_cap, test_size=1-(6905/(8124-len(X_cap))), random_state=42)\n",
    "\n",
    "# print(X_test_white)\n",
    "X_train_cap = (X_train_no_cap)\n",
    "X_test_cap = X_test_cap.append(X_test_no_cap)\n",
    "y_train_cap = (y_train_no_cap)\n",
    "y_test_cap = y_test_cap.append(y_test_no_cap)"
   ]
  },
  {
   "cell_type": "code",
   "execution_count": 32,
   "metadata": {},
   "outputs": [],
   "source": [
    "from sklearn.utils import shuffle\n",
    "X_train_full = shuffle(X_train_cap, random_state=42)\n",
    "X_test = shuffle(X_test_cap, random_state=42)\n",
    "y_train_full = shuffle(y_train_cap, random_state=42)\n",
    "y_test = shuffle(y_test_cap, random_state=42)"
   ]
  },
  {
   "cell_type": "code",
   "execution_count": 33,
   "metadata": {},
   "outputs": [],
   "source": [
    "# from sklearn.model_selection import train_test_split\n",
    "\n",
    "# X_train_full, X_test, y_train_full, y_test = train_test_split(X, y, test_size=0.15, random_state=42)\n",
    "\n",
    "# print(\"85% - X_train size:\", X_train_full.shape[0], \" y_train size:\", y_train_full.shape[0])\n",
    "# print(\"15% - X_test size: \", X_test.shape[0], \" y_test size: \", y_test.shape[0])"
   ]
  },
  {
   "cell_type": "markdown",
   "metadata": {},
   "source": [
    "#### Validation Set"
   ]
  },
  {
   "cell_type": "code",
   "execution_count": 34,
   "metadata": {},
   "outputs": [
    {
     "name": "stdout",
     "output_type": "stream",
     "text": [
      "X_train: 6405 y_train 6405\n",
      "X_valid:  500 y_valid  500\n"
     ]
    }
   ],
   "source": [
    "X_valid, X_train = X_train_full[:500], X_train_full[500:]\n",
    "y_valid, y_train = y_train_full[:500], y_train_full[500:]\n",
    "\n",
    "print(\"X_train:\", X_train.shape[0], \"y_train\", y_train.shape[0])\n",
    "print(\"X_valid: \", X_valid.shape[0], \"y_valid \", y_valid.shape[0])"
   ]
  },
  {
   "cell_type": "markdown",
   "metadata": {},
   "source": [
    "### Prepare the Data"
   ]
  },
  {
   "cell_type": "markdown",
   "metadata": {},
   "source": [
    "#### Data Transformation"
   ]
  },
  {
   "cell_type": "code",
   "execution_count": 35,
   "metadata": {},
   "outputs": [],
   "source": [
    "from sklearn.pipeline import Pipeline\n",
    "from sklearn.preprocessing import OrdinalEncoder\n",
    "from sklearn.compose import ColumnTransformer\n",
    "\n",
    "cat_attr_pipeline = Pipeline([\n",
    "                        ('encoder', OrdinalEncoder())\n",
    "                    ])\n",
    "\n",
    "cols = list(X)\n",
    "pipeline = ColumnTransformer([\n",
    "                ('cat_attr_pipeline', cat_attr_pipeline, cols)\n",
    "            ])\n",
    "\n",
    "\n",
    "X_train = pipeline.fit_transform(X_train)\n",
    "X_valid = pipeline.fit_transform(X_valid)\n",
    "X_test  = pipeline.fit_transform(X_test)"
   ]
  },
  {
   "cell_type": "markdown",
   "metadata": {},
   "source": [
    "### Neural Network"
   ]
  },
  {
   "cell_type": "markdown",
   "metadata": {},
   "source": [
    "#### Model"
   ]
  },
  {
   "cell_type": "code",
   "execution_count": 36,
   "metadata": {},
   "outputs": [],
   "source": [
    "from tensorflow.keras.models import Sequential\n",
    "from tensorflow.keras.layers import InputLayer, Dense"
   ]
  },
  {
   "cell_type": "code",
   "execution_count": 37,
   "metadata": {},
   "outputs": [],
   "source": [
    "tf.random.set_seed(42)"
   ]
  },
  {
   "cell_type": "code",
   "execution_count": 38,
   "metadata": {},
   "outputs": [],
   "source": [
    "model = Sequential([\n",
    "    InputLayer(input_shape=(22,)),    # input  layer\n",
    "    Dense(45, activation='relu'),     # hidden layer\n",
    "    Dense(1,   activation='sigmoid')  # output layer\n",
    "])"
   ]
  },
  {
   "cell_type": "code",
   "execution_count": 39,
   "metadata": {},
   "outputs": [
    {
     "name": "stdout",
     "output_type": "stream",
     "text": [
      "Model: \"sequential_1\"\n",
      "_________________________________________________________________\n",
      " Layer (type)                Output Shape              Param #   \n",
      "=================================================================\n",
      " dense_2 (Dense)             (None, 45)                1035      \n",
      "                                                                 \n",
      " dense_3 (Dense)             (None, 1)                 46        \n",
      "                                                                 \n",
      "=================================================================\n",
      "Total params: 1,081\n",
      "Trainable params: 1,081\n",
      "Non-trainable params: 0\n",
      "_________________________________________________________________\n"
     ]
    }
   ],
   "source": [
    "model.summary()"
   ]
  },
  {
   "cell_type": "markdown",
   "metadata": {},
   "source": [
    "#### Compile the Model"
   ]
  },
  {
   "cell_type": "code",
   "execution_count": 40,
   "metadata": {},
   "outputs": [],
   "source": [
    "model.compile(loss='binary_crossentropy',\n",
    "             optimizer='sgd',\n",
    "             metrics=['accuracy'])"
   ]
  },
  {
   "cell_type": "markdown",
   "metadata": {},
   "source": [
    "#### Prepare Callbacks"
   ]
  },
  {
   "cell_type": "code",
   "execution_count": 41,
   "metadata": {},
   "outputs": [],
   "source": [
    "from tensorflow.keras.callbacks import ModelCheckpoint, EarlyStopping\n",
    "\n",
    "checkpoint_cb = ModelCheckpoint('../SavedModels/best_model.h5',\n",
    "                                save_best_only=True)\n",
    "\n",
    "early_stopping_cb = EarlyStopping(patience=3,\n",
    "                                  restore_best_weights=True)"
   ]
  },
  {
   "cell_type": "markdown",
   "metadata": {},
   "source": [
    "### Training"
   ]
  },
  {
   "cell_type": "code",
   "execution_count": 42,
   "metadata": {},
   "outputs": [
    {
     "name": "stdout",
     "output_type": "stream",
     "text": [
      "Epoch 1/100\n",
      "201/201 [==============================] - 1s 4ms/step - loss: 0.4880 - accuracy: 0.7899 - val_loss: 0.3883 - val_accuracy: 0.8600\n",
      "Epoch 2/100\n",
      "201/201 [==============================] - 1s 3ms/step - loss: 0.3450 - accuracy: 0.8745 - val_loss: 0.3258 - val_accuracy: 0.8980\n",
      "Epoch 3/100\n",
      "201/201 [==============================] - 0s 2ms/step - loss: 0.2884 - accuracy: 0.9037 - val_loss: 0.2922 - val_accuracy: 0.9080\n",
      "Epoch 4/100\n",
      "201/201 [==============================] - 1s 3ms/step - loss: 0.2520 - accuracy: 0.9119 - val_loss: 0.2664 - val_accuracy: 0.9060\n",
      "Epoch 5/100\n",
      "201/201 [==============================] - 1s 3ms/step - loss: 0.2251 - accuracy: 0.9208 - val_loss: 0.2643 - val_accuracy: 0.9120\n",
      "Epoch 6/100\n",
      "201/201 [==============================] - 1s 3ms/step - loss: 0.2029 - accuracy: 0.9263 - val_loss: 0.2232 - val_accuracy: 0.9140\n",
      "Epoch 7/100\n",
      "201/201 [==============================] - 1s 4ms/step - loss: 0.1831 - accuracy: 0.9358 - val_loss: 0.2070 - val_accuracy: 0.9220\n",
      "Epoch 8/100\n",
      "201/201 [==============================] - 1s 3ms/step - loss: 0.1665 - accuracy: 0.9444 - val_loss: 0.1896 - val_accuracy: 0.9260\n",
      "Epoch 9/100\n",
      "201/201 [==============================] - 1s 4ms/step - loss: 0.1531 - accuracy: 0.9504 - val_loss: 0.2138 - val_accuracy: 0.9240\n",
      "Epoch 10/100\n",
      "201/201 [==============================] - 1s 4ms/step - loss: 0.1400 - accuracy: 0.9569 - val_loss: 0.1635 - val_accuracy: 0.9480\n",
      "Epoch 11/100\n",
      "201/201 [==============================] - 1s 2ms/step - loss: 0.1288 - accuracy: 0.9602 - val_loss: 0.1541 - val_accuracy: 0.9500\n",
      "Epoch 12/100\n",
      "201/201 [==============================] - 1s 5ms/step - loss: 0.1186 - accuracy: 0.9644 - val_loss: 0.1414 - val_accuracy: 0.9560\n",
      "Epoch 13/100\n",
      "201/201 [==============================] - 1s 5ms/step - loss: 0.1100 - accuracy: 0.9685 - val_loss: 0.1413 - val_accuracy: 0.9520\n",
      "Epoch 14/100\n",
      "201/201 [==============================] - 1s 5ms/step - loss: 0.1025 - accuracy: 0.9706 - val_loss: 0.1214 - val_accuracy: 0.9660\n",
      "Epoch 15/100\n",
      "201/201 [==============================] - 1s 5ms/step - loss: 0.0949 - accuracy: 0.9738 - val_loss: 0.1208 - val_accuracy: 0.9620\n",
      "Epoch 16/100\n",
      "201/201 [==============================] - 1s 4ms/step - loss: 0.0894 - accuracy: 0.9746 - val_loss: 0.1097 - val_accuracy: 0.9720\n",
      "Epoch 17/100\n",
      "201/201 [==============================] - 1s 3ms/step - loss: 0.0828 - accuracy: 0.9781 - val_loss: 0.1137 - val_accuracy: 0.9700\n",
      "Epoch 18/100\n",
      "201/201 [==============================] - 1s 3ms/step - loss: 0.0783 - accuracy: 0.9789 - val_loss: 0.0977 - val_accuracy: 0.9740\n",
      "Epoch 19/100\n",
      "201/201 [==============================] - 1s 3ms/step - loss: 0.0736 - accuracy: 0.9806 - val_loss: 0.0923 - val_accuracy: 0.9740\n",
      "Epoch 20/100\n",
      "201/201 [==============================] - 1s 4ms/step - loss: 0.0698 - accuracy: 0.9819 - val_loss: 0.0849 - val_accuracy: 0.9780\n",
      "Epoch 21/100\n",
      "201/201 [==============================] - 1s 5ms/step - loss: 0.0658 - accuracy: 0.9838 - val_loss: 0.0856 - val_accuracy: 0.9740\n",
      "Epoch 22/100\n",
      "201/201 [==============================] - 1s 5ms/step - loss: 0.0623 - accuracy: 0.9828 - val_loss: 0.0994 - val_accuracy: 0.9640\n",
      "Epoch 23/100\n",
      "201/201 [==============================] - 0s 2ms/step - loss: 0.0594 - accuracy: 0.9859 - val_loss: 0.0754 - val_accuracy: 0.9800\n",
      "Epoch 24/100\n",
      "201/201 [==============================] - 0s 2ms/step - loss: 0.0566 - accuracy: 0.9855 - val_loss: 0.0708 - val_accuracy: 0.9800\n",
      "Epoch 25/100\n",
      "201/201 [==============================] - 1s 3ms/step - loss: 0.0530 - accuracy: 0.9880 - val_loss: 0.0731 - val_accuracy: 0.9880\n",
      "Epoch 26/100\n",
      "201/201 [==============================] - 1s 3ms/step - loss: 0.0512 - accuracy: 0.9889 - val_loss: 0.0645 - val_accuracy: 0.9820\n",
      "Epoch 27/100\n",
      "201/201 [==============================] - 1s 3ms/step - loss: 0.0484 - accuracy: 0.9892 - val_loss: 0.0619 - val_accuracy: 0.9820\n",
      "Epoch 28/100\n",
      "201/201 [==============================] - 1s 4ms/step - loss: 0.0461 - accuracy: 0.9894 - val_loss: 0.0626 - val_accuracy: 0.9800\n",
      "Epoch 29/100\n",
      "201/201 [==============================] - 1s 4ms/step - loss: 0.0442 - accuracy: 0.9897 - val_loss: 0.0651 - val_accuracy: 0.9780\n",
      "Epoch 30/100\n",
      "201/201 [==============================] - 1s 4ms/step - loss: 0.0425 - accuracy: 0.9905 - val_loss: 0.0594 - val_accuracy: 0.9800\n",
      "Epoch 31/100\n",
      "201/201 [==============================] - 1s 3ms/step - loss: 0.0406 - accuracy: 0.9909 - val_loss: 0.0666 - val_accuracy: 0.9780\n",
      "Epoch 32/100\n",
      "201/201 [==============================] - 1s 4ms/step - loss: 0.0389 - accuracy: 0.9913 - val_loss: 0.0501 - val_accuracy: 0.9880\n",
      "Epoch 33/100\n",
      "201/201 [==============================] - 0s 2ms/step - loss: 0.0376 - accuracy: 0.9917 - val_loss: 0.0602 - val_accuracy: 0.9920\n",
      "Epoch 34/100\n",
      "201/201 [==============================] - 1s 4ms/step - loss: 0.0363 - accuracy: 0.9930 - val_loss: 0.0479 - val_accuracy: 0.9880\n",
      "Epoch 35/100\n",
      "201/201 [==============================] - 1s 4ms/step - loss: 0.0343 - accuracy: 0.9934 - val_loss: 0.0461 - val_accuracy: 0.9860\n",
      "Epoch 36/100\n",
      "201/201 [==============================] - 0s 2ms/step - loss: 0.0335 - accuracy: 0.9931 - val_loss: 0.0516 - val_accuracy: 0.9800\n",
      "Epoch 37/100\n",
      "201/201 [==============================] - 0s 2ms/step - loss: 0.0321 - accuracy: 0.9927 - val_loss: 0.0467 - val_accuracy: 0.9820\n",
      "Epoch 38/100\n",
      "201/201 [==============================] - 1s 2ms/step - loss: 0.0312 - accuracy: 0.9944 - val_loss: 0.0463 - val_accuracy: 0.9800\n"
     ]
    }
   ],
   "source": [
    "train_model = model.fit(X_train, y_train,\n",
    "                        epochs=100,\n",
    "                        validation_data=(X_valid, y_valid),\n",
    "                        callbacks=[checkpoint_cb, early_stopping_cb])\n",
    "                        \n"
   ]
  },
  {
   "cell_type": "markdown",
   "metadata": {},
   "source": [
    "#### Learning Curves"
   ]
  },
  {
   "cell_type": "code",
   "execution_count": 43,
   "metadata": {},
   "outputs": [
    {
     "data": {
      "image/png": "[encoded data removed]",
      "text/plain": [
       "<Figure size 576x360 with 1 Axes>"
      ]
     },
     "metadata": {
      "needs_background": "light"
     },
     "output_type": "display_data"
    }
   ],
   "source": [
    "pd.DataFrame(train_model.history).plot(figsize=(8,5))\n",
    "plt.grid(True)\n",
    "plt.gca().set_ylim(0,1)\n",
    "plt.show()"
   ]
  },
  {
   "cell_type": "markdown",
   "metadata": {},
   "source": [
    "### Evaluate the Best Model on Test Set"
   ]
  },
  {
   "cell_type": "code",
   "execution_count": 44,
   "metadata": {},
   "outputs": [
    {
     "name": "stdout",
     "output_type": "stream",
     "text": [
      "25/25 [==============================] - 0s 2ms/step - loss: 0.0411 - accuracy: 0.9898\n",
      "test loss, test acc: [0.04110058397054672, 0.9897959232330322]\n"
     ]
    }
   ],
   "source": [
    "results = model.evaluate(X_test, y_test)\n",
    "print(\"test loss, test acc:\", results)"
   ]
  },
  {
   "cell_type": "markdown",
   "metadata": {},
   "source": [
    "#### Confusion Matrix"
   ]
  },
  {
   "cell_type": "code",
   "execution_count": 45,
   "metadata": {},
   "outputs": [],
   "source": [
    "import seaborn as sns\n",
    "\n",
    "#Parameters\n",
    "title = 'Confusion Matrix'\n",
    "custom_color = '#ffa600'   \n",
    "\n",
    "#Function for drawing confusion matrix\n",
    "def draw_confusion_matrix(cm, title = title, color = custom_color):\n",
    "    palette = sns.light_palette(color, as_cmap=True)\n",
    "    ax = plt.subplot()\n",
    "    sns.heatmap(cm, annot=True, ax=ax, fmt='d', cmap=palette)\n",
    "    # Title\n",
    "    ax.set_title('\\n' + title + '\\n',\n",
    "                 fontweight='bold',\n",
    "                 fontstyle='normal', \n",
    "                )\n",
    "    # x y labels \n",
    "    ax.set_xlabel('Predicted', fontweight='bold')\n",
    "    ax.set_ylabel('Actual', fontweight='bold');\n",
    "    # Classes names\n",
    "    x_names = ['Poisonous', 'Edible']\n",
    "    y_names = ['Poisonous', 'Edible']\n",
    "    ax.xaxis.set_ticklabels(x_names, ha = 'center')\n",
    "    ax.yaxis.set_ticklabels(y_names, va = 'center')"
   ]
  },
  {
   "cell_type": "code",
   "execution_count": 46,
   "metadata": {},
   "outputs": [
    {
     "data": {
      "image/png": "[encoded data removed]",
      "text/plain": [
       "<Figure size 432x288 with 2 Axes>"
      ]
     },
     "metadata": {
      "needs_background": "light"
     },
     "output_type": "display_data"
    }
   ],
   "source": [
    "from sklearn.metrics import confusion_matrix\n",
    "\n",
    "y_test_pred = (model.predict(X_test) > 0.5).astype(\"int32\")\n",
    "cm = confusion_matrix(y_test, y_test_pred)\n",
    "\n",
    "draw_confusion_matrix(cm)"
   ]
  },
  {
   "cell_type": "markdown",
   "metadata": {},
   "source": [
    "#### ROC Curve"
   ]
  },
  {
   "cell_type": "code",
   "execution_count": 47,
   "metadata": {},
   "outputs": [],
   "source": [
    "#Function for plotting the ROC curve\n",
    "def plot_roc_curve(fpr, tpr, roc_auc):\n",
    "    plt.plot(fpr, tpr, custom_color, label='Area: %0.3f' %roc_auc, linewidth=2)\n",
    "    plt.plot([0, 1], [0, 1], 'k--')\n",
    "    plt.title('ROC Curve')\n",
    "    plt.xlabel('False Positive Rate')\n",
    "    plt.ylabel('True Positive Rate - Recall')\n",
    "    plt.legend(loc='lower right')\n",
    "    plt.show()"
   ]
  },
  {
   "cell_type": "code",
   "execution_count": 48,
   "metadata": {},
   "outputs": [
    {
     "data": {
      "image/png": "[encoded data removed]",
      "text/plain": [
       "<Figure size 432x288 with 1 Axes>"
      ]
     },
     "metadata": {
      "needs_background": "light"
     },
     "output_type": "display_data"
    }
   ],
   "source": [
    "from sklearn.metrics import roc_curve, auc\n",
    "\n",
    "y_test_prob = model.predict(X_test)\n",
    "\n",
    "fpr, tpr, _ = roc_curve(y_test, y_test_prob)\n",
    "roc_auc = auc(fpr, tpr)\n",
    "\n",
    "plot_roc_curve(fpr, tpr, roc_auc)"
   ]
  },
  {
   "cell_type": "markdown",
   "metadata": {},
   "source": [
    "### Make Some Predictions"
   ]
  },
  {
   "cell_type": "code",
   "execution_count": 49,
   "metadata": {},
   "outputs": [
    {
     "name": "stdout",
     "output_type": "stream",
     "text": [
      "[[0.003]\n",
      " [0.046]\n",
      " [0.812]\n",
      " [0.002]\n",
      " [0.011]]\n"
     ]
    }
   ],
   "source": [
    "X_new = X_test[:5]\n",
    "y_prob = model.predict(X_new)\n",
    "print(y_prob.round(3))"
   ]
  },
  {
   "cell_type": "code",
   "execution_count": 50,
   "metadata": {},
   "outputs": [
    {
     "name": "stdout",
     "output_type": "stream",
     "text": [
      "[[0]\n",
      " [0]\n",
      " [1]\n",
      " [0]\n",
      " [0]]\n"
     ]
    }
   ],
   "source": [
    "y_pred = (model.predict(X_new) > 0.5).astype(\"int32\")\n",
    "print(y_pred)"
   ]
  }
 ],
 "metadata": {
  "kernelspec": {
   "display_name": "Python 3",
   "language": "python",
   "name": "python3"
  },
  "language_info": {
   "codemirror_mode": {
    "name": "ipython",
    "version": 3
   },
   "file_extension": ".py",
   "mimetype": "text/x-python",
   "name": "python",
   "nbconvert_exporter": "python",
   "pygments_lexer": "ipython3",
   "version": "3.8.8"
  }
 },
 "nbformat": 4,
 "nbformat_minor": 4
}
