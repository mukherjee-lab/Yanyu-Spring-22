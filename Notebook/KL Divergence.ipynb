{
 "cells": [
  {
   "cell_type": "markdown",
   "metadata": {},
   "source": [
    "# MUSHROOMS"
   ]
  },
  {
   "cell_type": "markdown",
   "metadata": {},
   "source": [
    "## Binary Classification"
   ]
  },
  {
   "cell_type": "markdown",
   "metadata": {},
   "source": [
    "### Imports"
   ]
  },
  {
   "cell_type": "code",
   "execution_count": 1,
   "metadata": {},
   "outputs": [],
   "source": [
    "import os\n",
    "import pandas as pd\n",
    "import numpy as np\n",
    "\n",
    "import tensorflow as tf\n",
    "from tensorflow import keras\n",
    "\n",
    "import matplotlib.pyplot as plt"
   ]
  },
  {
   "cell_type": "markdown",
   "metadata": {},
   "source": [
    "### Load Data"
   ]
  },
  {
   "cell_type": "code",
   "execution_count": 2,
   "metadata": {},
   "outputs": [],
   "source": [
    "DATA_PATH = '../DATA/'\n",
    "FILE_NAME = 'mushrooms.csv'\n",
    "def load_data(data_path=DATA_PATH, file_name=FILE_NAME):\n",
    "    csv_path = os.path.join(data_path, file_name)\n",
    "    return pd.read_csv(csv_path)\n",
    "\n",
    "dataset = load_data()"
   ]
  },
  {
   "cell_type": "markdown",
   "metadata": {},
   "source": [
    "### View Data and Informations"
   ]
  },
  {
   "cell_type": "code",
   "execution_count": 3,
   "metadata": {},
   "outputs": [
    {
     "data": {
      "text/html": [
       "<div>\n",
       "<style scoped>\n",
       "    .dataframe tbody tr th:only-of-type {\n",
       "        vertical-align: middle;\n",
       "    }\n",
       "\n",
       "    .dataframe tbody tr th {\n",
       "        vertical-align: top;\n",
       "    }\n",
       "\n",
       "    .dataframe thead th {\n",
       "        text-align: right;\n",
       "    }\n",
       "</style>\n",
       "<table border=\"1\" class=\"dataframe\">\n",
       "  <thead>\n",
       "    <tr style=\"text-align: right;\">\n",
       "      <th></th>\n",
       "      <th>class</th>\n",
       "      <th>cap-shape</th>\n",
       "      <th>cap-surface</th>\n",
       "      <th>cap-color</th>\n",
       "      <th>bruises</th>\n",
       "      <th>odor</th>\n",
       "      <th>gill-attachment</th>\n",
       "      <th>gill-spacing</th>\n",
       "      <th>gill-size</th>\n",
       "      <th>gill-color</th>\n",
       "      <th>...</th>\n",
       "      <th>stalk-surface-below-ring</th>\n",
       "      <th>stalk-color-above-ring</th>\n",
       "      <th>stalk-color-below-ring</th>\n",
       "      <th>veil-type</th>\n",
       "      <th>veil-color</th>\n",
       "      <th>ring-number</th>\n",
       "      <th>ring-type</th>\n",
       "      <th>spore-print-color</th>\n",
       "      <th>population</th>\n",
       "      <th>habitat</th>\n",
       "    </tr>\n",
       "  </thead>\n",
       "  <tbody>\n",
       "    <tr>\n",
       "      <th>0</th>\n",
       "      <td>p</td>\n",
       "      <td>x</td>\n",
       "      <td>s</td>\n",
       "      <td>n</td>\n",
       "      <td>t</td>\n",
       "      <td>p</td>\n",
       "      <td>f</td>\n",
       "      <td>c</td>\n",
       "      <td>n</td>\n",
       "      <td>k</td>\n",
       "      <td>...</td>\n",
       "      <td>s</td>\n",
       "      <td>w</td>\n",
       "      <td>w</td>\n",
       "      <td>p</td>\n",
       "      <td>w</td>\n",
       "      <td>o</td>\n",
       "      <td>p</td>\n",
       "      <td>k</td>\n",
       "      <td>s</td>\n",
       "      <td>u</td>\n",
       "    </tr>\n",
       "    <tr>\n",
       "      <th>1</th>\n",
       "      <td>e</td>\n",
       "      <td>x</td>\n",
       "      <td>s</td>\n",
       "      <td>y</td>\n",
       "      <td>t</td>\n",
       "      <td>a</td>\n",
       "      <td>f</td>\n",
       "      <td>c</td>\n",
       "      <td>b</td>\n",
       "      <td>k</td>\n",
       "      <td>...</td>\n",
       "      <td>s</td>\n",
       "      <td>w</td>\n",
       "      <td>w</td>\n",
       "      <td>p</td>\n",
       "      <td>w</td>\n",
       "      <td>o</td>\n",
       "      <td>p</td>\n",
       "      <td>n</td>\n",
       "      <td>n</td>\n",
       "      <td>g</td>\n",
       "    </tr>\n",
       "    <tr>\n",
       "      <th>2</th>\n",
       "      <td>e</td>\n",
       "      <td>b</td>\n",
       "      <td>s</td>\n",
       "      <td>w</td>\n",
       "      <td>t</td>\n",
       "      <td>l</td>\n",
       "      <td>f</td>\n",
       "      <td>c</td>\n",
       "      <td>b</td>\n",
       "      <td>n</td>\n",
       "      <td>...</td>\n",
       "      <td>s</td>\n",
       "      <td>w</td>\n",
       "      <td>w</td>\n",
       "      <td>p</td>\n",
       "      <td>w</td>\n",
       "      <td>o</td>\n",
       "      <td>p</td>\n",
       "      <td>n</td>\n",
       "      <td>n</td>\n",
       "      <td>m</td>\n",
       "    </tr>\n",
       "    <tr>\n",
       "      <th>3</th>\n",
       "      <td>p</td>\n",
       "      <td>x</td>\n",
       "      <td>y</td>\n",
       "      <td>w</td>\n",
       "      <td>t</td>\n",
       "      <td>p</td>\n",
       "      <td>f</td>\n",
       "      <td>c</td>\n",
       "      <td>n</td>\n",
       "      <td>n</td>\n",
       "      <td>...</td>\n",
       "      <td>s</td>\n",
       "      <td>w</td>\n",
       "      <td>w</td>\n",
       "      <td>p</td>\n",
       "      <td>w</td>\n",
       "      <td>o</td>\n",
       "      <td>p</td>\n",
       "      <td>k</td>\n",
       "      <td>s</td>\n",
       "      <td>u</td>\n",
       "    </tr>\n",
       "    <tr>\n",
       "      <th>4</th>\n",
       "      <td>e</td>\n",
       "      <td>x</td>\n",
       "      <td>s</td>\n",
       "      <td>g</td>\n",
       "      <td>f</td>\n",
       "      <td>n</td>\n",
       "      <td>f</td>\n",
       "      <td>w</td>\n",
       "      <td>b</td>\n",
       "      <td>k</td>\n",
       "      <td>...</td>\n",
       "      <td>s</td>\n",
       "      <td>w</td>\n",
       "      <td>w</td>\n",
       "      <td>p</td>\n",
       "      <td>w</td>\n",
       "      <td>o</td>\n",
       "      <td>e</td>\n",
       "      <td>n</td>\n",
       "      <td>a</td>\n",
       "      <td>g</td>\n",
       "    </tr>\n",
       "  </tbody>\n",
       "</table>\n",
       "<p>5 rows × 23 columns</p>\n",
       "</div>"
      ],
      "text/plain": [
       "  class cap-shape cap-surface cap-color bruises odor gill-attachment  \\\n",
       "0     p         x           s         n       t    p               f   \n",
       "1     e         x           s         y       t    a               f   \n",
       "2     e         b           s         w       t    l               f   \n",
       "3     p         x           y         w       t    p               f   \n",
       "4     e         x           s         g       f    n               f   \n",
       "\n",
       "  gill-spacing gill-size gill-color  ... stalk-surface-below-ring  \\\n",
       "0            c         n          k  ...                        s   \n",
       "1            c         b          k  ...                        s   \n",
       "2            c         b          n  ...                        s   \n",
       "3            c         n          n  ...                        s   \n",
       "4            w         b          k  ...                        s   \n",
       "\n",
       "  stalk-color-above-ring stalk-color-below-ring veil-type veil-color  \\\n",
       "0                      w                      w         p          w   \n",
       "1                      w                      w         p          w   \n",
       "2                      w                      w         p          w   \n",
       "3                      w                      w         p          w   \n",
       "4                      w                      w         p          w   \n",
       "\n",
       "  ring-number ring-type spore-print-color population habitat  \n",
       "0           o         p                 k          s       u  \n",
       "1           o         p                 n          n       g  \n",
       "2           o         p                 n          n       m  \n",
       "3           o         p                 k          s       u  \n",
       "4           o         e                 n          a       g  \n",
       "\n",
       "[5 rows x 23 columns]"
      ]
     },
     "execution_count": 3,
     "metadata": {},
     "output_type": "execute_result"
    }
   ],
   "source": [
    "dataset.head()"
   ]
  },
  {
   "cell_type": "code",
   "execution_count": 4,
   "metadata": {},
   "outputs": [
    {
     "name": "stdout",
     "output_type": "stream",
     "text": [
      "<class 'pandas.core.frame.DataFrame'>\n",
      "RangeIndex: 8124 entries, 0 to 8123\n",
      "Data columns (total 23 columns):\n",
      " #   Column                    Non-Null Count  Dtype \n",
      "---  ------                    --------------  ----- \n",
      " 0   class                     8124 non-null   object\n",
      " 1   cap-shape                 8124 non-null   object\n",
      " 2   cap-surface               8124 non-null   object\n",
      " 3   cap-color                 8124 non-null   object\n",
      " 4   bruises                   8124 non-null   object\n",
      " 5   odor                      8124 non-null   object\n",
      " 6   gill-attachment           8124 non-null   object\n",
      " 7   gill-spacing              8124 non-null   object\n",
      " 8   gill-size                 8124 non-null   object\n",
      " 9   gill-color                8124 non-null   object\n",
      " 10  stalk-shape               8124 non-null   object\n",
      " 11  stalk-root                8124 non-null   object\n",
      " 12  stalk-surface-above-ring  8124 non-null   object\n",
      " 13  stalk-surface-below-ring  8124 non-null   object\n",
      " 14  stalk-color-above-ring    8124 non-null   object\n",
      " 15  stalk-color-below-ring    8124 non-null   object\n",
      " 16  veil-type                 8124 non-null   object\n",
      " 17  veil-color                8124 non-null   object\n",
      " 18  ring-number               8124 non-null   object\n",
      " 19  ring-type                 8124 non-null   object\n",
      " 20  spore-print-color         8124 non-null   object\n",
      " 21  population                8124 non-null   object\n",
      " 22  habitat                   8124 non-null   object\n",
      "dtypes: object(23)\n",
      "memory usage: 1.4+ MB\n"
     ]
    }
   ],
   "source": [
    "dataset.info()"
   ]
  },
  {
   "cell_type": "code",
   "execution_count": 5,
   "metadata": {},
   "outputs": [
    {
     "name": "stdout",
     "output_type": "stream",
     "text": [
      "Edible:\t   4208 \n",
      "Poisonous: 3916\n"
     ]
    }
   ],
   "source": [
    "edible, poisonous = dataset['class'].value_counts()\n",
    "\n",
    "print(\"Edible:\\t  \", edible,\"\\nPoisonous:\", poisonous)"
   ]
  },
  {
   "cell_type": "code",
   "execution_count": 6,
   "metadata": {},
   "outputs": [
    {
     "name": "stdout",
     "output_type": "stream",
     "text": [
      "0 - Edible:    4208 \n",
      "1 - Poisonous: 3916\n"
     ]
    }
   ],
   "source": [
    "# Categorical to numerical\n",
    "labels = {'e': 0, 'p': 1}\n",
    "dataset['class'].replace(labels, inplace=True)\n",
    "\n",
    "edible, poisonous = dataset['class'].value_counts()\n",
    "print(\"0 - Edible:   \", edible,\"\\n1 - Poisonous:\", poisonous)"
   ]
  },
  {
   "cell_type": "markdown",
   "metadata": {},
   "source": [
    "# NN1 Stalk Root - Rooted (r)"
   ]
  },
  {
   "cell_type": "markdown",
   "metadata": {},
   "source": [
    "### Split Dataset"
   ]
  },
  {
   "cell_type": "markdown",
   "metadata": {},
   "source": [
    "#### Get the Labels"
   ]
  },
  {
   "cell_type": "code",
   "execution_count": 7,
   "metadata": {},
   "outputs": [
    {
     "name": "stdout",
     "output_type": "stream",
     "text": [
      "X: (8124, 22) \n",
      "y: (8124,)\n"
     ]
    }
   ],
   "source": [
    "X, y =  dataset.drop('class', axis=1), dataset['class'].copy()\n",
    "\n",
    "print(\"X:\",X.shape,\"\\ny:\",y.shape)"
   ]
  },
  {
   "cell_type": "markdown",
   "metadata": {},
   "source": [
    "#### Train Set and Test Set"
   ]
  },
  {
   "cell_type": "code",
   "execution_count": 8,
   "metadata": {},
   "outputs": [],
   "source": [
    "from sklearn.model_selection import train_test_split\n",
    "X_white = pd.DataFrame()\n",
    "X_not_white = pd.DataFrame()\n",
    "y_white = pd.Series(dtype='float64')\n",
    "y_not_white = pd.Series(dtype='float64')\n",
    "for i in range(0,len(X)):\n",
    "    if X.loc[i,\"stalk-root\"] == \"r\":\n",
    "        X_white = X_white.append(X.iloc[i,:])\n",
    "        y_white = y_white.append(pd.Series(y.iloc[i]))\n",
    "    else:\n",
    "        X_not_white = X_not_white.append(X.iloc[i,:])\n",
    "        y_not_white = y_not_white.append(pd.Series(y.iloc[i]))"
   ]
  },
  {
   "cell_type": "code",
   "execution_count": 9,
   "metadata": {},
   "outputs": [],
   "source": [
    "X_train_not_white, X_test_not_white, y_train_not_white, y_test_not_white = train_test_split(X_not_white, y_not_white, test_size=1-(6905/(8124-len(X_white))), random_state=72)\n",
    "\n",
    "# print(X_test_white)\n",
    "X_train_white = (X_train_not_white)\n",
    "# X_test_white = X_white.append(X_test_not_white)\n",
    "y_train_white = (y_train_not_white)\n",
    "# y_test_white = y_white.append(y_test_not_white)"
   ]
  },
  {
   "cell_type": "code",
   "execution_count": 10,
   "metadata": {},
   "outputs": [],
   "source": [
    "from sklearn.utils import shuffle\n",
    "X_train_full1 = shuffle(X_train_white, random_state=72)\n",
    "X_test = shuffle(X, random_state=72).iloc[2000:4000]\n",
    "y_train_full1 = shuffle(y_train_white, random_state=72)\n",
    "y_test = shuffle(y, random_state=72).iloc[2000:4000]"
   ]
  },
  {
   "cell_type": "code",
   "execution_count": 11,
   "metadata": {},
   "outputs": [],
   "source": [
    "# print(X_test[:5])\n",
    "# print(y_test.loc[:,\"0\"])\n",
    "# from sklearn.model_selection import train_test_split\n",
    "\n",
    "# X_train_full, X_test, y_train_full, y_test = train_test_split(X, y, test_size=0.15, random_state=72)\n",
    "\n",
    "# print(\"85% - X_train size:\", X_train_full.shape[0], \" y_train size:\", y_train_full.shape[0])\n",
    "# print(\"15% - X_test size: \", X_test.shape[0], \" y_test size: \", y_test.shape[0])"
   ]
  },
  {
   "cell_type": "markdown",
   "metadata": {},
   "source": [
    "#### Validation Set"
   ]
  },
  {
   "cell_type": "code",
   "execution_count": 12,
   "metadata": {},
   "outputs": [
    {
     "name": "stdout",
     "output_type": "stream",
     "text": [
      "X_train: 6404 y_train 6404\n",
      "X_valid:  500 y_valid  500\n",
      "X_test:  2000 y_test  2000\n"
     ]
    }
   ],
   "source": [
    "X_valid1, X_train1 = X_train_full1[:500], X_train_full1[500:]\n",
    "y_valid1, y_train1 = y_train_full1[:500], y_train_full1[500:]\n",
    "\n",
    "print(\"X_train:\", X_train1.shape[0], \"y_train\", y_train1.shape[0])\n",
    "print(\"X_valid: \", X_valid1.shape[0], \"y_valid \", y_valid1.shape[0])\n",
    "print(\"X_test: \", X_test.shape[0], \"y_test \", X_test.shape[0])\n"
   ]
  },
  {
   "cell_type": "markdown",
   "metadata": {},
   "source": [
    "### Prepare the Data"
   ]
  },
  {
   "cell_type": "markdown",
   "metadata": {},
   "source": [
    "#### Data Transformation"
   ]
  },
  {
   "cell_type": "code",
   "execution_count": 13,
   "metadata": {},
   "outputs": [],
   "source": [
    "from sklearn.pipeline import Pipeline\n",
    "from sklearn.preprocessing import OrdinalEncoder\n",
    "from sklearn.compose import ColumnTransformer\n",
    "\n",
    "cat_attr_pipeline = Pipeline([\n",
    "                        ('encoder', OrdinalEncoder())\n",
    "                    ])\n",
    "\n",
    "cols = list(X)\n",
    "pipeline = ColumnTransformer([\n",
    "                ('cat_attr_pipeline', cat_attr_pipeline, cols)\n",
    "            ])\n",
    "\n",
    "\n",
    "X_train1 = pipeline.fit_transform(X_train1)\n",
    "X_valid1 = pipeline.fit_transform(X_valid1)\n",
    "X_test1  = pipeline.fit_transform(X_test)"
   ]
  },
  {
   "cell_type": "markdown",
   "metadata": {},
   "source": [
    "### Neural Network"
   ]
  },
  {
   "cell_type": "markdown",
   "metadata": {},
   "source": [
    "#### Model"
   ]
  },
  {
   "cell_type": "code",
   "execution_count": 14,
   "metadata": {},
   "outputs": [],
   "source": [
    "from tensorflow.keras.models import Sequential\n",
    "from tensorflow.keras.layers import InputLayer, Dense"
   ]
  },
  {
   "cell_type": "code",
   "execution_count": 15,
   "metadata": {},
   "outputs": [],
   "source": [
    "# tf.random.set_random_seed(72)\n",
    "tf.random.set_seed(72)"
   ]
  },
  {
   "cell_type": "code",
   "execution_count": 16,
   "metadata": {},
   "outputs": [],
   "source": [
    "model1 = Sequential([\n",
    "    InputLayer(input_shape=(22,)),    # input  layer\n",
    "    Dense(45, activation='relu'),     # hidden layer\n",
    "    Dense(1,   activation='sigmoid')  # output layer\n",
    "])"
   ]
  },
  {
   "cell_type": "code",
   "execution_count": 17,
   "metadata": {},
   "outputs": [
    {
     "name": "stdout",
     "output_type": "stream",
     "text": [
      "Model: \"sequential\"\n",
      "_________________________________________________________________\n",
      " Layer (type)                Output Shape              Param #   \n",
      "=================================================================\n",
      " dense (Dense)               (None, 45)                1035      \n",
      "                                                                 \n",
      " dense_1 (Dense)             (None, 1)                 46        \n",
      "                                                                 \n",
      "=================================================================\n",
      "Total params: 1,081\n",
      "Trainable params: 1,081\n",
      "Non-trainable params: 0\n",
      "_________________________________________________________________\n"
     ]
    }
   ],
   "source": [
    "model1.summary()"
   ]
  },
  {
   "cell_type": "markdown",
   "metadata": {},
   "source": [
    "#### Compile the Model"
   ]
  },
  {
   "cell_type": "code",
   "execution_count": 18,
   "metadata": {},
   "outputs": [],
   "source": [
    "model1.compile(loss='binary_crossentropy',\n",
    "             optimizer='sgd',\n",
    "             metrics=['accuracy'])"
   ]
  },
  {
   "cell_type": "markdown",
   "metadata": {},
   "source": [
    "#### Prepare Callbacks"
   ]
  },
  {
   "cell_type": "code",
   "execution_count": 19,
   "metadata": {},
   "outputs": [],
   "source": [
    "from tensorflow.keras.callbacks import ModelCheckpoint, EarlyStopping\n",
    "\n",
    "checkpoint_cb = ModelCheckpoint('../SavedModels/best_model.h5',\n",
    "                                save_best_only=True)\n",
    "\n",
    "early_stopping_cb = EarlyStopping(patience=3,\n",
    "                                  restore_best_weights=True)"
   ]
  },
  {
   "cell_type": "markdown",
   "metadata": {},
   "source": [
    "### Training"
   ]
  },
  {
   "cell_type": "code",
   "execution_count": 20,
   "metadata": {},
   "outputs": [
    {
     "name": "stdout",
     "output_type": "stream",
     "text": [
      "Epoch 1/100\n",
      "201/201 [==============================] - 2s 4ms/step - loss: 0.4403 - accuracy: 0.8189 - val_loss: 0.4308 - val_accuracy: 0.8480\n",
      "Epoch 2/100\n",
      "201/201 [==============================] - 0s 2ms/step - loss: 0.3264 - accuracy: 0.8876 - val_loss: 0.3536 - val_accuracy: 0.8720\n",
      "Epoch 3/100\n",
      "201/201 [==============================] - 0s 2ms/step - loss: 0.2823 - accuracy: 0.9005 - val_loss: 0.3081 - val_accuracy: 0.8820\n",
      "Epoch 4/100\n",
      "201/201 [==============================] - 0s 2ms/step - loss: 0.2511 - accuracy: 0.9104 - val_loss: 0.2733 - val_accuracy: 0.9020\n",
      "Epoch 5/100\n",
      "201/201 [==============================] - 0s 2ms/step - loss: 0.2293 - accuracy: 0.9218 - val_loss: 0.3504 - val_accuracy: 0.8860\n",
      "Epoch 6/100\n",
      "201/201 [==============================] - 0s 1ms/step - loss: 0.2116 - accuracy: 0.9241 - val_loss: 0.2951 - val_accuracy: 0.9100\n",
      "Epoch 7/100\n",
      "201/201 [==============================] - 0s 2ms/step - loss: 0.1949 - accuracy: 0.9350 - val_loss: 0.2275 - val_accuracy: 0.9180\n",
      "Epoch 8/100\n",
      "201/201 [==============================] - 0s 2ms/step - loss: 0.1822 - accuracy: 0.9383 - val_loss: 0.2387 - val_accuracy: 0.9120\n",
      "Epoch 9/100\n",
      "201/201 [==============================] - 0s 2ms/step - loss: 0.1717 - accuracy: 0.9433 - val_loss: 0.2076 - val_accuracy: 0.9200\n",
      "Epoch 10/100\n",
      "201/201 [==============================] - 0s 2ms/step - loss: 0.1616 - accuracy: 0.9457 - val_loss: 0.2763 - val_accuracy: 0.9060\n",
      "Epoch 11/100\n",
      "201/201 [==============================] - 1s 3ms/step - loss: 0.1520 - accuracy: 0.9508 - val_loss: 0.2140 - val_accuracy: 0.9160\n",
      "Epoch 12/100\n",
      "201/201 [==============================] - 1s 3ms/step - loss: 0.1441 - accuracy: 0.9503 - val_loss: 0.2304 - val_accuracy: 0.9200\n"
     ]
    }
   ],
   "source": [
    "train_model1 = model1.fit(X_train1, y_train1,\n",
    "                        epochs=100,\n",
    "                        validation_data=(X_valid1, y_valid1),\n",
    "                        callbacks=[checkpoint_cb, early_stopping_cb])\n",
    "                        \n"
   ]
  },
  {
   "cell_type": "markdown",
   "metadata": {},
   "source": [
    "### Evaluate the Best Model on Test Set"
   ]
  },
  {
   "cell_type": "code",
   "execution_count": 21,
   "metadata": {},
   "outputs": [
    {
     "name": "stdout",
     "output_type": "stream",
     "text": [
      "63/63 [==============================] - 0s 2ms/step - loss: 0.1885 - accuracy: 0.9330\n",
      "test loss, test acc: [0.18847693502902985, 0.9330000281333923]\n"
     ]
    }
   ],
   "source": [
    "results1 = model1.evaluate(X_test1, y_test)\n",
    "print(\"test loss, test acc:\", results1)"
   ]
  },
  {
   "cell_type": "markdown",
   "metadata": {},
   "source": [
    "### Make Some Predictions"
   ]
  },
  {
   "cell_type": "code",
   "execution_count": 22,
   "metadata": {},
   "outputs": [],
   "source": [
    "X_new1 = X_test1[:5]\n",
    "y_prob1 = model1.predict(X_new1)\n",
    "# print(y_prob.round(3))"
   ]
  },
  {
   "cell_type": "code",
   "execution_count": 23,
   "metadata": {},
   "outputs": [],
   "source": [
    "y_pred1 = (model1.predict(X_new1) > 0.5).astype(\"int32\")\n",
    "# print(y_pred)\n",
    "y_test_pred = (model1.predict(X_test1) > 0.5).astype(\"int32\")"
   ]
  },
  {
   "cell_type": "markdown",
   "metadata": {},
   "source": [
    "## KL Divergence"
   ]
  },
  {
   "cell_type": "code",
   "execution_count": 24,
   "metadata": {},
   "outputs": [
    {
     "name": "stdout",
     "output_type": "stream",
     "text": [
      "        X_pred  y_pred  y_actual\n",
      "0     0.890338       1         1\n",
      "1     0.983991       1         1\n",
      "2     0.990202       1         1\n",
      "3     0.136305       0         0\n",
      "4     0.004605       0         0\n",
      "...        ...     ...       ...\n",
      "1995  0.224071       0         0\n",
      "1996  0.940148       1         1\n",
      "1997  0.175713       0         0\n",
      "1998  0.939668       1         1\n",
      "1999  0.993468       1         1\n",
      "\n",
      "[2000 rows x 3 columns]\n"
     ]
    }
   ],
   "source": [
    "# X_new = X_test[:5]\n",
    "X_df1 = pd.DataFrame(model1.predict(X_test1))\n",
    "y_test_pred1 = pd.DataFrame(y_test_pred).reset_index(drop=True)\n",
    "X_df1 = pd.concat([X_df1, y_test_pred1], axis=1)\n",
    "y_test1 = y_test.reset_index(drop=True)\n",
    "X_df1 = pd.concat([X_df1, y_test1], axis=1)\n",
    "X_df1.columns = [\"X_pred\",\"y_pred\",\"y_actual\"]\n",
    "print(X_df1)"
   ]
  },
  {
   "cell_type": "code",
   "execution_count": 25,
   "metadata": {},
   "outputs": [
    {
     "name": "stdout",
     "output_type": "stream",
     "text": [
      "        KL_div abs_distance correctness  y_pred\n",
      "0     0.345807     0.780677           1     1.0\n",
      "1     0.082071     0.967982           1     1.0\n",
      "2     0.055071     0.980404           1     1.0\n",
      "3     0.398199      0.72739           1     0.0\n",
      "4      0.02937     0.990791           1     0.0\n",
      "...        ...          ...         ...     ...\n",
      "1995  0.532012     0.551859           1     0.0\n",
      "1996  0.226559     0.880296           1     1.0\n",
      "1997  0.464831     0.648573           1     0.0\n",
      "1998   0.22788     0.879336           1     1.0\n",
      "1999  0.039374     0.986936           1     1.0\n",
      "\n",
      "[2000 rows x 4 columns]\n"
     ]
    }
   ],
   "source": [
    "import math\n",
    "table1 = pd.DataFrame(columns=[\"KL_div\",\"abs_distance\",\"correctness\"])\n",
    "for i in range(0,len(X_df1)):\n",
    "    # KL divergence\n",
    "    p = X_df1.loc[i,\"X_pred\"]\n",
    "    try:\n",
    "        kl = -(p*math.log(p) + (1-p)*math.log(1-p))\n",
    "    except:\n",
    "        kl = 0\n",
    "    table1.loc[i,\"KL_div\"] = kl\n",
    "    # absolute distance\n",
    "    abs_dist = 2*abs(0.5-p)\n",
    "    table1.loc[i,\"abs_distance\"] = abs_dist\n",
    "    # correctness\n",
    "    y_pred1 = X_df1.loc[i,\"y_pred\"]\n",
    "    y_act1 = X_df1.loc[i,\"y_actual\"]\n",
    "    if y_pred1 == y_act1:\n",
    "        table1.loc[i,\"correctness\"] = 1 # correct prediction\n",
    "    else:\n",
    "        table1.loc[i,\"correctness\"] = 0 # wrong prediction\n",
    "    table1.loc[i,\"y_pred\"] = y_pred1\n",
    "\n",
    "print(table1)"
   ]
  },
  {
   "cell_type": "code",
   "execution_count": 26,
   "metadata": {},
   "outputs": [
    {
     "name": "stdout",
     "output_type": "stream",
     "text": [
      "            correctness  count     percent\n",
      "KL_div                                    \n",
      "(0.0, 0.1]          576    576  100.000000\n",
      "(0.1, 0.2]          462    469   98.507463\n",
      "(0.2, 0.3]          256    268   95.522388\n",
      "(0.3, 0.4]          203    211   96.208531\n",
      "(0.4, 0.5]          135    156   86.538462\n",
      "(0.5, 0.6]          105    129   81.395349\n",
      "(0.6, 0.7]          129    191   67.539267\n"
     ]
    }
   ],
   "source": [
    "table1[\"count\"] = 1\n",
    "correctness1 = table1[[\"correctness\",\"count\"]].groupby(pd.cut(table1[\"KL_div\"], np.arange(0, 0.8, 0.1))).apply(sum)\n",
    "correctness1[\"percent\"] = 100*(correctness1[\"correctness\"]/correctness1[\"count\"])\n",
    "print(correctness1)"
   ]
  },
  {
   "cell_type": "code",
   "execution_count": 27,
   "metadata": {},
   "outputs": [
    {
     "data": {
      "text/plain": [
       "Text(0, 0.5, '% correct')"
      ]
     },
     "execution_count": 27,
     "metadata": {},
     "output_type": "execute_result"
    },
    {
     "data": {
      "image/png": "[encoded data removed]",
      "text/plain": [
       "<Figure size 432x288 with 1 Axes>"
      ]
     },
     "metadata": {
      "needs_background": "light"
     },
     "output_type": "display_data"
    }
   ],
   "source": [
    "index = []\n",
    "for i in (correctness1.index):\n",
    "    index.append(str(i))\n",
    "plt.bar(index,correctness1[\"percent\"], width=0.7)\n",
    "for index,data in enumerate(correctness1[\"percent\"]):\n",
    "    plt.text(x=index , y =data+1 , s=f\"{round(data,2)}\" , fontdict=dict(fontsize=15),ha='center')\n",
    "plt.ylim(0,110)\n",
    "plt.xlabel(\"KL Divergence\")\n",
    "plt.ylabel(\"% correct\")"
   ]
  },
  {
   "cell_type": "markdown",
   "metadata": {},
   "source": [
    "### Confidence"
   ]
  },
  {
   "cell_type": "code",
   "execution_count": 28,
   "metadata": {},
   "outputs": [
    {
     "data": {
      "text/plain": [
       "Text(0, 0.5, '% correct')"
      ]
     },
     "execution_count": 28,
     "metadata": {},
     "output_type": "execute_result"
    },
    {
     "data": {
      "image/png": "[encoded data removed]",
      "text/plain": [
       "<Figure size 432x288 with 1 Axes>"
      ]
     },
     "metadata": {
      "needs_background": "light"
     },
     "output_type": "display_data"
    }
   ],
   "source": [
    "kl1 = table1[[\"correctness\",\"count\"]].groupby(pd.cut(table1[\"KL_div\"], np.arange(0, 0.80, 0.1))).apply(sum)\n",
    "kl1[\"percent\"] = (kl1[\"correctness\"]/kl1[\"count\"])\n",
    "kl1.dropna(inplace=True)\n",
    "plt.scatter(np.arange(0, 0.70, 0.1), kl1[\"percent\"])\n",
    "plt.xlabel(\"KL Divergence\")\n",
    "plt.ylabel(\"% correct\")"
   ]
  },
  {
   "cell_type": "code",
   "execution_count": 29,
   "metadata": {},
   "outputs": [],
   "source": [
    "# Linear Regression\n",
    "from sklearn.linear_model import LinearRegression\n",
    "\n",
    "x_reg1 = np.arange(0, 0.70, 0.1).reshape((-1, 1))\n",
    "y_reg1 = kl1[\"percent\"]\n",
    "reg_model1 = LinearRegression().fit(x_reg1,y_reg1)"
   ]
  },
  {
   "cell_type": "code",
   "execution_count": 30,
   "metadata": {},
   "outputs": [
    {
     "name": "stdout",
     "output_type": "stream",
     "text": [
      "intercept(alpha): 1.0445060340327998\n",
      "slope(theta): [-0.5021084]\n"
     ]
    }
   ],
   "source": [
    "print('intercept(alpha):', reg_model1.intercept_)\n",
    "print('slope(theta):', reg_model1.coef_)"
   ]
  },
  {
   "cell_type": "markdown",
   "metadata": {},
   "source": [
    "# NN2 Odor - Almond (a)"
   ]
  },
  {
   "cell_type": "markdown",
   "metadata": {},
   "source": [
    "#### Train Set and Test Set"
   ]
  },
  {
   "cell_type": "code",
   "execution_count": 31,
   "metadata": {},
   "outputs": [],
   "source": [
    "from sklearn.model_selection import train_test_split\n",
    "X_green = pd.DataFrame()\n",
    "X_not_green = pd.DataFrame()\n",
    "y_green = pd.Series(dtype='float64')\n",
    "y_not_green = pd.Series(dtype='float64')\n",
    "for i in range(0,len(X)):\n",
    "    if X.loc[i,\"odor\"] == \"a\":\n",
    "        X_green = X_green.append(X.iloc[i,:])\n",
    "        y_green = y_green.append(pd.Series(y.iloc[i]))\n",
    "    else:\n",
    "        X_not_green = X_not_green.append(X.iloc[i,:])\n",
    "        y_not_green = y_not_green.append(pd.Series(y.iloc[i]))"
   ]
  },
  {
   "cell_type": "code",
   "execution_count": 32,
   "metadata": {},
   "outputs": [],
   "source": [
    "# X_test_green, X_train_green, y_test_green, y_train_green = train_test_split(X_green, y_green, test_size=1, random_state=72)\n",
    "X_train_not_green, X_test_not_green, y_train_not_green, y_test_not_green = train_test_split(X_not_green, y_not_green, test_size=1-(6905/(8124-len(X_green))), random_state=72)\n",
    "\n",
    "# print(X_test_green)\n",
    "X_train_green = (X_train_not_green)\n",
    "X_test_green = X_green.append(X_test_not_green)\n",
    "y_train_green = (y_train_not_green)\n",
    "y_test_green = y_green.append(y_test_not_green)"
   ]
  },
  {
   "cell_type": "code",
   "execution_count": 33,
   "metadata": {},
   "outputs": [],
   "source": [
    "from sklearn.utils import shuffle\n",
    "X_train_full2 = shuffle(X_train_green, random_state=72)\n",
    "# X_test2 = shuffle(X_test_green, random_state=72)\n",
    "y_train_full2 = shuffle(y_train_green, random_state=72)\n",
    "# y_test2 = shuffle(y_test_green, random_state=72)"
   ]
  },
  {
   "cell_type": "markdown",
   "metadata": {},
   "source": [
    "#### Validation Set"
   ]
  },
  {
   "cell_type": "code",
   "execution_count": 34,
   "metadata": {},
   "outputs": [
    {
     "name": "stdout",
     "output_type": "stream",
     "text": [
      "X_train: 6404 y_train 6404\n",
      "X_valid:  500 y_valid  500\n",
      "X_test:  2000 y_test  2000\n"
     ]
    }
   ],
   "source": [
    "X_valid2, X_train2 = X_train_full2[:500], X_train_full2[500:]\n",
    "y_valid2, y_train2 = y_train_full2[:500], y_train_full2[500:]\n",
    "\n",
    "print(\"X_train:\", X_train2.shape[0], \"y_train\", y_train2.shape[0])\n",
    "print(\"X_valid: \", X_valid2.shape[0], \"y_valid \", y_valid2.shape[0])\n",
    "print(\"X_test: \", X_test.shape[0], \"y_test \", X_test.shape[0])\n"
   ]
  },
  {
   "cell_type": "markdown",
   "metadata": {},
   "source": [
    "### Prepare the Data"
   ]
  },
  {
   "cell_type": "markdown",
   "metadata": {},
   "source": [
    "#### Data Transformation"
   ]
  },
  {
   "cell_type": "code",
   "execution_count": 35,
   "metadata": {},
   "outputs": [],
   "source": [
    "from sklearn.pipeline import Pipeline\n",
    "from sklearn.preprocessing import OrdinalEncoder\n",
    "from sklearn.compose import ColumnTransformer\n",
    "\n",
    "cat_attr_pipeline = Pipeline([\n",
    "                        ('encoder', OrdinalEncoder())\n",
    "                    ])\n",
    "\n",
    "cols = list(X)\n",
    "pipeline = ColumnTransformer([\n",
    "                ('cat_attr_pipeline', cat_attr_pipeline, cols)\n",
    "            ])\n",
    "\n",
    "\n",
    "X_train2 = pipeline.fit_transform(X_train2)\n",
    "X_valid2 = pipeline.fit_transform(X_valid2)\n",
    "X_test2  = pipeline.fit_transform(X_test)\n",
    "y_test2 = y_test"
   ]
  },
  {
   "cell_type": "markdown",
   "metadata": {},
   "source": [
    "### Neural Network"
   ]
  },
  {
   "cell_type": "markdown",
   "metadata": {},
   "source": [
    "#### Model"
   ]
  },
  {
   "cell_type": "code",
   "execution_count": 36,
   "metadata": {},
   "outputs": [],
   "source": [
    "from tensorflow.keras.models import Sequential\n",
    "from tensorflow.keras.layers import InputLayer, Dense"
   ]
  },
  {
   "cell_type": "code",
   "execution_count": 37,
   "metadata": {},
   "outputs": [],
   "source": [
    "# tf.random.set_random_seed(72)\n",
    "tf.random.set_seed(72)"
   ]
  },
  {
   "cell_type": "code",
   "execution_count": 38,
   "metadata": {},
   "outputs": [],
   "source": [
    "model2 = Sequential([\n",
    "    InputLayer(input_shape=(22,)),    # input  layer\n",
    "    Dense(45, activation='relu'),     # hidden layer\n",
    "    Dense(1,   activation='sigmoid')  # output layer\n",
    "])"
   ]
  },
  {
   "cell_type": "code",
   "execution_count": 39,
   "metadata": {},
   "outputs": [
    {
     "name": "stdout",
     "output_type": "stream",
     "text": [
      "Model: \"sequential_1\"\n",
      "_________________________________________________________________\n",
      " Layer (type)                Output Shape              Param #   \n",
      "=================================================================\n",
      " dense_2 (Dense)             (None, 45)                1035      \n",
      "                                                                 \n",
      " dense_3 (Dense)             (None, 1)                 46        \n",
      "                                                                 \n",
      "=================================================================\n",
      "Total params: 1,081\n",
      "Trainable params: 1,081\n",
      "Non-trainable params: 0\n",
      "_________________________________________________________________\n"
     ]
    }
   ],
   "source": [
    "model2.summary()"
   ]
  },
  {
   "cell_type": "markdown",
   "metadata": {},
   "source": [
    "#### Compile the Model"
   ]
  },
  {
   "cell_type": "code",
   "execution_count": 40,
   "metadata": {},
   "outputs": [],
   "source": [
    "model2.compile(loss='binary_crossentropy',\n",
    "             optimizer='sgd',\n",
    "             metrics=['accuracy'])"
   ]
  },
  {
   "cell_type": "markdown",
   "metadata": {},
   "source": [
    "#### Prepare Callbacks"
   ]
  },
  {
   "cell_type": "code",
   "execution_count": 41,
   "metadata": {},
   "outputs": [],
   "source": [
    "from tensorflow.keras.callbacks import ModelCheckpoint, EarlyStopping\n",
    "\n",
    "checkpoint_cb = ModelCheckpoint('../SavedModels/best_model.h5',\n",
    "                                save_best_only=True)\n",
    "\n",
    "early_stopping_cb = EarlyStopping(patience=3,\n",
    "                                  restore_best_weights=True)"
   ]
  },
  {
   "cell_type": "markdown",
   "metadata": {},
   "source": [
    "### Training"
   ]
  },
  {
   "cell_type": "code",
   "execution_count": 42,
   "metadata": {},
   "outputs": [
    {
     "name": "stdout",
     "output_type": "stream",
     "text": [
      "Epoch 1/100\n",
      "201/201 [==============================] - 2s 4ms/step - loss: 0.4308 - accuracy: 0.8278 - val_loss: 0.3330 - val_accuracy: 0.8980\n",
      "Epoch 2/100\n",
      "201/201 [==============================] - 1s 3ms/step - loss: 0.3061 - accuracy: 0.9004 - val_loss: 0.3208 - val_accuracy: 0.8980\n",
      "Epoch 3/100\n",
      "201/201 [==============================] - 1s 5ms/step - loss: 0.2615 - accuracy: 0.9144 - val_loss: 0.2815 - val_accuracy: 0.9100\n",
      "Epoch 4/100\n",
      "201/201 [==============================] - 1s 3ms/step - loss: 0.2320 - accuracy: 0.9243 - val_loss: 0.2425 - val_accuracy: 0.9400\n",
      "Epoch 5/100\n",
      "201/201 [==============================] - 1s 4ms/step - loss: 0.2100 - accuracy: 0.9265 - val_loss: 0.2165 - val_accuracy: 0.9360\n",
      "Epoch 6/100\n",
      "201/201 [==============================] - 1s 3ms/step - loss: 0.1973 - accuracy: 0.9304 - val_loss: 0.2063 - val_accuracy: 0.9360\n",
      "Epoch 7/100\n",
      "201/201 [==============================] - 0s 2ms/step - loss: 0.1830 - accuracy: 0.9346 - val_loss: 0.2374 - val_accuracy: 0.9240\n",
      "Epoch 8/100\n",
      "201/201 [==============================] - 1s 3ms/step - loss: 0.1717 - accuracy: 0.9402 - val_loss: 0.1818 - val_accuracy: 0.9360\n",
      "Epoch 9/100\n",
      "201/201 [==============================] - 0s 2ms/step - loss: 0.1615 - accuracy: 0.9414 - val_loss: 0.1752 - val_accuracy: 0.9380\n",
      "Epoch 10/100\n",
      "201/201 [==============================] - 1s 3ms/step - loss: 0.1531 - accuracy: 0.9469 - val_loss: 0.1693 - val_accuracy: 0.9380\n",
      "Epoch 11/100\n",
      "201/201 [==============================] - 1s 4ms/step - loss: 0.1469 - accuracy: 0.9463 - val_loss: 0.1626 - val_accuracy: 0.9380\n",
      "Epoch 12/100\n",
      "201/201 [==============================] - 1s 6ms/step - loss: 0.1381 - accuracy: 0.9483 - val_loss: 0.1575 - val_accuracy: 0.9380\n",
      "Epoch 13/100\n",
      "201/201 [==============================] - 1s 5ms/step - loss: 0.1315 - accuracy: 0.9519 - val_loss: 0.1542 - val_accuracy: 0.9440\n",
      "Epoch 14/100\n",
      "201/201 [==============================] - 1s 4ms/step - loss: 0.1258 - accuracy: 0.9532 - val_loss: 0.1463 - val_accuracy: 0.9380\n",
      "Epoch 15/100\n",
      "201/201 [==============================] - 1s 2ms/step - loss: 0.1190 - accuracy: 0.9578 - val_loss: 0.1586 - val_accuracy: 0.9440\n",
      "Epoch 16/100\n",
      "201/201 [==============================] - 1s 3ms/step - loss: 0.1136 - accuracy: 0.9596 - val_loss: 0.1307 - val_accuracy: 0.9420\n",
      "Epoch 17/100\n",
      "201/201 [==============================] - 1s 4ms/step - loss: 0.1075 - accuracy: 0.9628 - val_loss: 0.1252 - val_accuracy: 0.9440\n",
      "Epoch 18/100\n",
      "201/201 [==============================] - 1s 3ms/step - loss: 0.1028 - accuracy: 0.9650 - val_loss: 0.1229 - val_accuracy: 0.9560\n",
      "Epoch 19/100\n",
      "201/201 [==============================] - 1s 3ms/step - loss: 0.0981 - accuracy: 0.9664 - val_loss: 0.1160 - val_accuracy: 0.9520\n",
      "Epoch 20/100\n",
      "201/201 [==============================] - 1s 3ms/step - loss: 0.0946 - accuracy: 0.9689 - val_loss: 0.1170 - val_accuracy: 0.9480\n",
      "Epoch 21/100\n",
      "201/201 [==============================] - 1s 5ms/step - loss: 0.0894 - accuracy: 0.9730 - val_loss: 0.1078 - val_accuracy: 0.9580\n",
      "Epoch 22/100\n",
      "201/201 [==============================] - 1s 3ms/step - loss: 0.0853 - accuracy: 0.9738 - val_loss: 0.1005 - val_accuracy: 0.9640\n",
      "Epoch 23/100\n",
      "201/201 [==============================] - 0s 2ms/step - loss: 0.0795 - accuracy: 0.9775 - val_loss: 0.1153 - val_accuracy: 0.9540\n",
      "Epoch 24/100\n",
      "201/201 [==============================] - 0s 2ms/step - loss: 0.0768 - accuracy: 0.9786 - val_loss: 0.0933 - val_accuracy: 0.9660\n",
      "Epoch 25/100\n",
      "201/201 [==============================] - 0s 2ms/step - loss: 0.0726 - accuracy: 0.9802 - val_loss: 0.1166 - val_accuracy: 0.9480\n",
      "Epoch 26/100\n",
      "201/201 [==============================] - 0s 2ms/step - loss: 0.0692 - accuracy: 0.9806 - val_loss: 0.0998 - val_accuracy: 0.9580\n",
      "Epoch 27/100\n",
      "201/201 [==============================] - 0s 2ms/step - loss: 0.0665 - accuracy: 0.9820 - val_loss: 0.0952 - val_accuracy: 0.9660\n"
     ]
    }
   ],
   "source": [
    "train_model2 = model2.fit(X_train2, y_train2,\n",
    "                        epochs=100,\n",
    "                        validation_data=(X_valid2, y_valid2),\n",
    "                        callbacks=[checkpoint_cb, early_stopping_cb])\n",
    "                        \n"
   ]
  },
  {
   "cell_type": "markdown",
   "metadata": {},
   "source": [
    "### Evaluate the Best Model on Test Set"
   ]
  },
  {
   "cell_type": "code",
   "execution_count": 43,
   "metadata": {},
   "outputs": [
    {
     "name": "stdout",
     "output_type": "stream",
     "text": [
      "63/63 [==============================] - 0s 1ms/step - loss: 0.1530 - accuracy: 0.9400\n",
      "test loss, test acc: [0.15304043889045715, 0.9399999976158142]\n"
     ]
    }
   ],
   "source": [
    "results2 = model2.evaluate(X_test2, y_test2)\n",
    "print(\"test loss, test acc:\", results2)"
   ]
  },
  {
   "cell_type": "markdown",
   "metadata": {},
   "source": [
    "### Make Some Predictions"
   ]
  },
  {
   "cell_type": "code",
   "execution_count": 44,
   "metadata": {},
   "outputs": [],
   "source": [
    "X_new2 = X_test2[1100:1110]\n",
    "y_prob2 = model2.predict(X_new2)\n",
    "# print(y_prob2.round(3))"
   ]
  },
  {
   "cell_type": "code",
   "execution_count": 45,
   "metadata": {},
   "outputs": [],
   "source": [
    "y_pred2 = (model2.predict(X_new2) > 0.5).astype(\"int32\")\n",
    "# print(y_pred2)\n",
    "y_test_pred2 = (model2.predict(X_test2) > 0.5).astype(\"int32\")"
   ]
  },
  {
   "cell_type": "markdown",
   "metadata": {},
   "source": [
    "## KL Divergence"
   ]
  },
  {
   "cell_type": "code",
   "execution_count": 46,
   "metadata": {},
   "outputs": [
    {
     "name": "stdout",
     "output_type": "stream",
     "text": [
      "        X_pred  y_pred  y_actual\n",
      "0     0.796298       1         1\n",
      "1     0.997703       1         1\n",
      "2     0.999727       1         1\n",
      "3     0.031210       0         0\n",
      "4     0.000931       0         0\n",
      "...        ...     ...       ...\n",
      "1995  0.050126       0         0\n",
      "1996  0.915256       1         1\n",
      "1997  0.018911       0         0\n",
      "1998  0.906875       1         1\n",
      "1999  0.994766       1         1\n",
      "\n",
      "[2000 rows x 3 columns]\n"
     ]
    }
   ],
   "source": [
    "# X_new = X_test[:5]\n",
    "X_df2 = pd.DataFrame(model2.predict(X_test2))\n",
    "y_test_pred2 = pd.DataFrame(y_test_pred2).reset_index(drop=True)\n",
    "X_df2 = pd.concat([X_df2, y_test_pred2], axis=1)\n",
    "y_test2 = y_test2.reset_index(drop=True)\n",
    "X_df2 = pd.concat([X_df2, y_test2], axis=1)\n",
    "X_df2.columns = [\"X_pred\",\"y_pred\",\"y_actual\"]\n",
    "print(X_df2)"
   ]
  },
  {
   "cell_type": "code",
   "execution_count": 47,
   "metadata": {},
   "outputs": [
    {
     "name": "stdout",
     "output_type": "stream",
     "text": [
      "        KL_div abs_distance y_pred correctness\n",
      "0     0.505491     0.592597      1           1\n",
      "1     0.016252     0.995406      1           1\n",
      "2     0.002517     0.999453      1           1\n",
      "3     0.138923      0.93758      0           1\n",
      "4      0.00743     0.998137      0           1\n",
      "...        ...          ...    ...         ...\n",
      "1995  0.198885     0.899749      0           1\n",
      "1996  0.290206     0.830512      1           1\n",
      "1997  0.093771     0.962178      0           1\n",
      "1998  0.309709      0.81375      1           1\n",
      "1999   0.03271     0.989533      1           1\n",
      "\n",
      "[2000 rows x 4 columns]\n"
     ]
    }
   ],
   "source": [
    "import math\n",
    "table2 = pd.DataFrame(columns=[\"KL_div\",\"abs_distance\",\"y_pred\",\"correctness\"])\n",
    "for i in range(0,len(X_df2)):\n",
    "    # KL divergence\n",
    "    p = X_df2.loc[i,\"X_pred\"]\n",
    "    kl = -(p*math.log(p) + (1-p)*math.log(1-p))\n",
    "    table2.loc[i,\"KL_div\"] = kl\n",
    "    # absolute distance\n",
    "    abs_dist = 2*abs(0.5-p)\n",
    "    table2.loc[i,\"abs_distance\"] = abs_dist\n",
    "    # correctness\n",
    "    y_pred = X_df2.loc[i,\"y_pred\"]\n",
    "    y_act = X_df2.loc[i,\"y_actual\"]\n",
    "    if y_pred == y_act:\n",
    "        table2.loc[i,\"correctness\"] = 1 # correct prediction\n",
    "    else:\n",
    "        table2.loc[i,\"correctness\"] = 0 # wrong prediction\n",
    "    table2.loc[i,\"y_pred\"] = y_pred\n",
    "\n",
    "print(table2)"
   ]
  },
  {
   "cell_type": "code",
   "execution_count": 64,
   "metadata": {},
   "outputs": [
    {
     "data": {
      "text/plain": [
       "0.056001534354847386"
      ]
     },
     "execution_count": 64,
     "metadata": {},
     "output_type": "execute_result"
    }
   ],
   "source": [
    "p = 0.99\n",
    "-(p*math.log(p) + (1-p)*math.log(1-p))"
   ]
  },
  {
   "cell_type": "code",
   "execution_count": 48,
   "metadata": {},
   "outputs": [
    {
     "name": "stdout",
     "output_type": "stream",
     "text": [
      "            correctness  count     percent\n",
      "KL_div                                    \n",
      "(0.0, 0.1]         1081   1081  100.000000\n",
      "(0.1, 0.2]          257    261   98.467433\n",
      "(0.2, 0.3]          160    168   95.238095\n",
      "(0.3, 0.4]          126    134   94.029851\n",
      "(0.4, 0.5]           84    110   76.363636\n",
      "(0.5, 0.6]           83    112   74.107143\n",
      "(0.6, 0.7]           89    134   66.417910\n"
     ]
    }
   ],
   "source": [
    "table2[\"count\"] = 1\n",
    "correctness2 = table2[[\"correctness\",\"count\"]].groupby(pd.cut(table2[\"KL_div\"], np.arange(0, 0.8, 0.1))).apply(sum)\n",
    "correctness2[\"percent\"] = 100*(correctness2[\"correctness\"]/correctness2[\"count\"])\n",
    "print(correctness2)"
   ]
  },
  {
   "cell_type": "code",
   "execution_count": 49,
   "metadata": {},
   "outputs": [
    {
     "data": {
      "text/plain": [
       "Text(0, 0.5, '% correct')"
      ]
     },
     "execution_count": 49,
     "metadata": {},
     "output_type": "execute_result"
    },
    {
     "data": {
      "image/png": "[encoded data removed]",
      "text/plain": [
       "<Figure size 432x288 with 1 Axes>"
      ]
     },
     "metadata": {
      "needs_background": "light"
     },
     "output_type": "display_data"
    }
   ],
   "source": [
    "index = []\n",
    "for i in (correctness2.index):\n",
    "    index.append(str(i))\n",
    "plt.bar(index,correctness2[\"percent\"], width=0.7)\n",
    "for index,data in enumerate(correctness2[\"percent\"]):\n",
    "    plt.text(x=index , y =data+1 , s=f\"{round(data,2)}\" , fontdict=dict(fontsize=15),ha='center')\n",
    "plt.ylim(0,110)\n",
    "plt.xlabel(\"KL Divergence\")\n",
    "plt.ylabel(\"% correct\")"
   ]
  },
  {
   "cell_type": "markdown",
   "metadata": {},
   "source": [
    "### Confidence"
   ]
  },
  {
   "cell_type": "code",
   "execution_count": 61,
   "metadata": {},
   "outputs": [
    {
     "data": {
      "text/plain": [
       "(0.0, 1.05)"
      ]
     },
     "execution_count": 61,
     "metadata": {},
     "output_type": "execute_result"
    },
    {
     "data": {
      "image/png": "[encoded data removed]",
      "text/plain": [
       "<Figure size 432x288 with 1 Axes>"
      ]
     },
     "metadata": {
      "needs_background": "light"
     },
     "output_type": "display_data"
    }
   ],
   "source": [
    "kl2 = table2[[\"correctness\",\"count\"]].groupby(pd.cut(table2[\"KL_div\"], np.arange(0, 0.8, 0.1))).apply(sum)\n",
    "kl2[\"percent\"] = (kl2[\"correctness\"]/kl2[\"count\"])\n",
    "kl2.dropna(inplace=True)\n",
    "plt.scatter(np.arange(0, 0.70, 0.1), kl2[\"percent\"])\n",
    "plt.xlabel(\"KL Divergence\")\n",
    "plt.ylabel(\"% correct\")\n",
    "plt.ylim([0, 1.05])\n",
    "# print(kl)\n",
    "# print(np.arange(0, 0.7, 0.05))"
   ]
  },
  {
   "cell_type": "code",
   "execution_count": 51,
   "metadata": {},
   "outputs": [],
   "source": [
    "# Linear Regression\n",
    "from sklearn.linear_model import LinearRegression\n",
    "\n",
    "x_reg2 = np.arange(0, 0.7, 0.1).reshape((-1, 1))\n",
    "y_reg2 = kl2[\"percent\"]\n",
    "reg_model2 = LinearRegression().fit(x_reg2,y_reg2)"
   ]
  },
  {
   "cell_type": "code",
   "execution_count": 52,
   "metadata": {},
   "outputs": [
    {
     "name": "stdout",
     "output_type": "stream",
     "text": [
      "intercept(alpha): 1.0441143562729294\n",
      "slope(theta): [-0.60121896]\n"
     ]
    }
   ],
   "source": [
    "print('intercept(alpha):', reg_model2.intercept_)\n",
    "print('slope(theta):', reg_model2.coef_)"
   ]
  },
  {
   "cell_type": "markdown",
   "metadata": {},
   "source": [
    "## Algorithm C: It = argmax(Ct,i)"
   ]
  },
  {
   "cell_type": "code",
   "execution_count": 53,
   "metadata": {},
   "outputs": [],
   "source": [
    "# Correct answer\n",
    "ans = pd.DataFrame(X_df2[\"y_actual\"])\n",
    "\n",
    "# NN1\n",
    "alpha1 = reg_model1.intercept_\n",
    "theta1 = reg_model1.coef_\n",
    "\n",
    "# NN2\n",
    "alpha2 = reg_model2.intercept_\n",
    "theta2 = reg_model2.coef_"
   ]
  },
  {
   "cell_type": "code",
   "execution_count": 54,
   "metadata": {},
   "outputs": [
    {
     "name": "stdout",
     "output_type": "stream",
     "text": [
      "             correctness  count   percent\n",
      "KL_div                                   \n",
      "(0.0, 0.05]        840.0  840.0  1.000000\n",
      "(0.05, 0.1]        241.0  241.0  1.000000\n",
      "(0.1, 0.15]        136.0  138.0  0.985507\n",
      "(0.15, 0.2]        121.0  123.0  0.983740\n",
      "(0.2, 0.25]         96.0  100.0  0.960000\n",
      "(0.25, 0.3]         64.0   68.0  0.941176\n",
      "(0.3, 0.35]         72.0   77.0  0.935065\n",
      "(0.35, 0.4]         54.0   57.0  0.947368\n",
      "(0.4, 0.45]         44.0   55.0  0.800000\n",
      "(0.45, 0.5]         40.0   55.0  0.727273\n",
      "(0.5, 0.55]         43.0   60.0  0.716667\n",
      "(0.55, 0.6]         40.0   52.0  0.769231\n",
      "(0.6, 0.65]         30.0   46.0  0.652174\n",
      "(0.65, 0.7]         59.0   88.0  0.670455\n",
      "(0.7, 0.75]          0.0    0.0       NaN\n"
     ]
    }
   ],
   "source": [
    "kl_div_table1 = table1[[\"correctness\",\"count\"]].groupby(pd.cut(table1[\"KL_div\"], np.arange(0, 0.8, 0.05))).apply(sum)\n",
    "kl_div_table1[\"percent\"] = (kl_div_table1[\"correctness\"]/kl_div_table1[\"count\"])\n",
    "\n",
    "kl_div_table2 = table2[[\"correctness\",\"count\"]].groupby(pd.cut(table2[\"KL_div\"], np.arange(0, 0.8, 0.05))).apply(sum)\n",
    "kl_div_table2[\"percent\"] = (kl_div_table2[\"correctness\"]/kl_div_table2[\"count\"])\n",
    "print(kl_div_table2)"
   ]
  },
  {
   "cell_type": "code",
   "execution_count": 55,
   "metadata": {},
   "outputs": [
    {
     "data": {
      "text/html": [
       "<div>\n",
       "<style scoped>\n",
       "    .dataframe tbody tr th:only-of-type {\n",
       "        vertical-align: middle;\n",
       "    }\n",
       "\n",
       "    .dataframe tbody tr th {\n",
       "        vertical-align: top;\n",
       "    }\n",
       "\n",
       "    .dataframe thead th {\n",
       "        text-align: right;\n",
       "    }\n",
       "</style>\n",
       "<table border=\"1\" class=\"dataframe\">\n",
       "  <thead>\n",
       "    <tr style=\"text-align: right;\">\n",
       "      <th></th>\n",
       "      <th>KL_div</th>\n",
       "      <th>y_pred</th>\n",
       "      <th>count</th>\n",
       "      <th>conf</th>\n",
       "    </tr>\n",
       "  </thead>\n",
       "  <tbody>\n",
       "    <tr>\n",
       "      <th>0</th>\n",
       "      <td>0.345807</td>\n",
       "      <td>1.0</td>\n",
       "      <td>1</td>\n",
       "      <td>0.826367</td>\n",
       "    </tr>\n",
       "    <tr>\n",
       "      <th>1</th>\n",
       "      <td>0.082071</td>\n",
       "      <td>1.0</td>\n",
       "      <td>1</td>\n",
       "      <td>0.958791</td>\n",
       "    </tr>\n",
       "    <tr>\n",
       "      <th>2</th>\n",
       "      <td>0.055071</td>\n",
       "      <td>1.0</td>\n",
       "      <td>1</td>\n",
       "      <td>0.972348</td>\n",
       "    </tr>\n",
       "    <tr>\n",
       "      <th>3</th>\n",
       "      <td>0.398199</td>\n",
       "      <td>0.0</td>\n",
       "      <td>1</td>\n",
       "      <td>0.800061</td>\n",
       "    </tr>\n",
       "    <tr>\n",
       "      <th>4</th>\n",
       "      <td>0.02937</td>\n",
       "      <td>0.0</td>\n",
       "      <td>1</td>\n",
       "      <td>0.985253</td>\n",
       "    </tr>\n",
       "    <tr>\n",
       "      <th>...</th>\n",
       "      <td>...</td>\n",
       "      <td>...</td>\n",
       "      <td>...</td>\n",
       "      <td>...</td>\n",
       "    </tr>\n",
       "    <tr>\n",
       "      <th>1995</th>\n",
       "      <td>0.532012</td>\n",
       "      <td>0.0</td>\n",
       "      <td>1</td>\n",
       "      <td>0.732872</td>\n",
       "    </tr>\n",
       "    <tr>\n",
       "      <th>1996</th>\n",
       "      <td>0.226559</td>\n",
       "      <td>1.0</td>\n",
       "      <td>1</td>\n",
       "      <td>0.886243</td>\n",
       "    </tr>\n",
       "    <tr>\n",
       "      <th>1997</th>\n",
       "      <td>0.464831</td>\n",
       "      <td>0.0</td>\n",
       "      <td>1</td>\n",
       "      <td>0.766605</td>\n",
       "    </tr>\n",
       "    <tr>\n",
       "      <th>1998</th>\n",
       "      <td>0.22788</td>\n",
       "      <td>1.0</td>\n",
       "      <td>1</td>\n",
       "      <td>0.88558</td>\n",
       "    </tr>\n",
       "    <tr>\n",
       "      <th>1999</th>\n",
       "      <td>0.039374</td>\n",
       "      <td>1.0</td>\n",
       "      <td>1</td>\n",
       "      <td>0.98023</td>\n",
       "    </tr>\n",
       "  </tbody>\n",
       "</table>\n",
       "<p>2000 rows × 4 columns</p>\n",
       "</div>"
      ],
      "text/plain": [
       "        KL_div  y_pred  count      conf\n",
       "0     0.345807     1.0      1  0.826367\n",
       "1     0.082071     1.0      1  0.958791\n",
       "2     0.055071     1.0      1  0.972348\n",
       "3     0.398199     0.0      1  0.800061\n",
       "4      0.02937     0.0      1  0.985253\n",
       "...        ...     ...    ...       ...\n",
       "1995  0.532012     0.0      1  0.732872\n",
       "1996  0.226559     1.0      1  0.886243\n",
       "1997  0.464831     0.0      1  0.766605\n",
       "1998   0.22788     1.0      1   0.88558\n",
       "1999  0.039374     1.0      1   0.98023\n",
       "\n",
       "[2000 rows x 4 columns]"
      ]
     },
     "execution_count": 55,
     "metadata": {},
     "output_type": "execute_result"
    }
   ],
   "source": [
    "# Creating NN tables\n",
    "nn1 = table1.drop([\"abs_distance\",\"correctness\"], axis=1)\n",
    "nn1[\"conf\"] = 1 + theta1 * nn1[\"KL_div\"]\n",
    "\n",
    "# for i in range(0,len(nn1)):\n",
    "#     nn1.loc[i,\"conf\"] = kl_div_table1.loc[nn1.loc[i,\"KL_div\"],\"percent\"]\n",
    "\n",
    "nn2 = table2.drop([\"abs_distance\",\"correctness\"], axis=1)\n",
    "nn2[\"conf\"] = 1 + theta2 * nn2[\"KL_div\"]\n",
    "\n",
    "# for i in range(0,len(nn2)):\n",
    "#     nn2.loc[i,\"conf\"] = kl_div_table2.loc[nn2.loc[i,\"KL_div\"],\"percent\"]\n",
    "nn1"
   ]
  },
  {
   "cell_type": "code",
   "execution_count": 56,
   "metadata": {},
   "outputs": [
    {
     "data": {
      "text/html": [
       "<div>\n",
       "<style scoped>\n",
       "    .dataframe tbody tr th:only-of-type {\n",
       "        vertical-align: middle;\n",
       "    }\n",
       "\n",
       "    .dataframe tbody tr th {\n",
       "        vertical-align: top;\n",
       "    }\n",
       "\n",
       "    .dataframe thead th {\n",
       "        text-align: right;\n",
       "    }\n",
       "</style>\n",
       "<table border=\"1\" class=\"dataframe\">\n",
       "  <thead>\n",
       "    <tr style=\"text-align: right;\">\n",
       "      <th></th>\n",
       "      <th>y_actual</th>\n",
       "      <th>y_pred</th>\n",
       "      <th>chosen_NN</th>\n",
       "      <th>chosen_conf</th>\n",
       "      <th>not_NN</th>\n",
       "      <th>not_conf</th>\n",
       "    </tr>\n",
       "  </thead>\n",
       "  <tbody>\n",
       "    <tr>\n",
       "      <th>0</th>\n",
       "      <td>1</td>\n",
       "      <td>1.0</td>\n",
       "      <td>1.0</td>\n",
       "      <td>0.826367</td>\n",
       "      <td>2.0</td>\n",
       "      <td>0.696089</td>\n",
       "    </tr>\n",
       "    <tr>\n",
       "      <th>1</th>\n",
       "      <td>1</td>\n",
       "      <td>1.0</td>\n",
       "      <td>2.0</td>\n",
       "      <td>0.990229</td>\n",
       "      <td>1.0</td>\n",
       "      <td>0.958791</td>\n",
       "    </tr>\n",
       "    <tr>\n",
       "      <th>2</th>\n",
       "      <td>1</td>\n",
       "      <td>1.0</td>\n",
       "      <td>2.0</td>\n",
       "      <td>0.998487</td>\n",
       "      <td>1.0</td>\n",
       "      <td>0.972348</td>\n",
       "    </tr>\n",
       "    <tr>\n",
       "      <th>3</th>\n",
       "      <td>0</td>\n",
       "      <td>0.0</td>\n",
       "      <td>2.0</td>\n",
       "      <td>0.916477</td>\n",
       "      <td>1.0</td>\n",
       "      <td>0.800061</td>\n",
       "    </tr>\n",
       "    <tr>\n",
       "      <th>4</th>\n",
       "      <td>0</td>\n",
       "      <td>0.0</td>\n",
       "      <td>2.0</td>\n",
       "      <td>0.995533</td>\n",
       "      <td>1.0</td>\n",
       "      <td>0.985253</td>\n",
       "    </tr>\n",
       "    <tr>\n",
       "      <th>...</th>\n",
       "      <td>...</td>\n",
       "      <td>...</td>\n",
       "      <td>...</td>\n",
       "      <td>...</td>\n",
       "      <td>...</td>\n",
       "      <td>...</td>\n",
       "    </tr>\n",
       "    <tr>\n",
       "      <th>1995</th>\n",
       "      <td>0</td>\n",
       "      <td>0.0</td>\n",
       "      <td>2.0</td>\n",
       "      <td>0.880427</td>\n",
       "      <td>1.0</td>\n",
       "      <td>0.732872</td>\n",
       "    </tr>\n",
       "    <tr>\n",
       "      <th>1996</th>\n",
       "      <td>1</td>\n",
       "      <td>1.0</td>\n",
       "      <td>1.0</td>\n",
       "      <td>0.886243</td>\n",
       "      <td>2.0</td>\n",
       "      <td>0.825523</td>\n",
       "    </tr>\n",
       "    <tr>\n",
       "      <th>1997</th>\n",
       "      <td>0</td>\n",
       "      <td>0.0</td>\n",
       "      <td>2.0</td>\n",
       "      <td>0.943623</td>\n",
       "      <td>1.0</td>\n",
       "      <td>0.766605</td>\n",
       "    </tr>\n",
       "    <tr>\n",
       "      <th>1998</th>\n",
       "      <td>1</td>\n",
       "      <td>1.0</td>\n",
       "      <td>1.0</td>\n",
       "      <td>0.885580</td>\n",
       "      <td>2.0</td>\n",
       "      <td>0.813797</td>\n",
       "    </tr>\n",
       "    <tr>\n",
       "      <th>1999</th>\n",
       "      <td>1</td>\n",
       "      <td>1.0</td>\n",
       "      <td>2.0</td>\n",
       "      <td>0.980334</td>\n",
       "      <td>1.0</td>\n",
       "      <td>0.980230</td>\n",
       "    </tr>\n",
       "  </tbody>\n",
       "</table>\n",
       "<p>2000 rows × 6 columns</p>\n",
       "</div>"
      ],
      "text/plain": [
       "      y_actual  y_pred  chosen_NN  chosen_conf  not_NN  not_conf\n",
       "0            1     1.0        1.0     0.826367     2.0  0.696089\n",
       "1            1     1.0        2.0     0.990229     1.0  0.958791\n",
       "2            1     1.0        2.0     0.998487     1.0  0.972348\n",
       "3            0     0.0        2.0     0.916477     1.0  0.800061\n",
       "4            0     0.0        2.0     0.995533     1.0  0.985253\n",
       "...        ...     ...        ...          ...     ...       ...\n",
       "1995         0     0.0        2.0     0.880427     1.0  0.732872\n",
       "1996         1     1.0        1.0     0.886243     2.0  0.825523\n",
       "1997         0     0.0        2.0     0.943623     1.0  0.766605\n",
       "1998         1     1.0        1.0     0.885580     2.0  0.813797\n",
       "1999         1     1.0        2.0     0.980334     1.0  0.980230\n",
       "\n",
       "[2000 rows x 6 columns]"
      ]
     },
     "execution_count": 56,
     "metadata": {},
     "output_type": "execute_result"
    }
   ],
   "source": [
    "# Determing higher confidence NN and choosing that arm\n",
    "\n",
    "for i in range(0,len(nn1)):\n",
    "    if nn1.loc[i,\"conf\"] > nn2.loc[i,\"conf\"]:\n",
    "        ans.loc[i,\"y_pred\"] = nn1.loc[i,\"y_pred\"]\n",
    "        ans.loc[i,\"chosen_NN\"] = 1\n",
    "        ans.loc[i,\"chosen_conf\"] = nn1.loc[i,\"conf\"]\n",
    "\n",
    "        ans.loc[i,\"not_NN\"] = 2\n",
    "        ans.loc[i,\"not_conf\"] = nn2.loc[i,\"conf\"]\n",
    "    else:\n",
    "        ans.loc[i,\"y_pred\"] = nn2.loc[i,\"y_pred\"]\n",
    "        ans.loc[i,\"chosen_NN\"] = 2\n",
    "        ans.loc[i,\"chosen_conf\"] = nn2.loc[i,\"conf\"]\n",
    "\n",
    "        ans.loc[i,\"not_NN\"] = 1\n",
    "        ans.loc[i,\"not_conf\"] = nn1.loc[i,\"conf\"]\n",
    "\n",
    "ans"
   ]
  },
  {
   "cell_type": "markdown",
   "metadata": {},
   "source": [
    "#### Comparing performance"
   ]
  },
  {
   "cell_type": "code",
   "execution_count": 57,
   "metadata": {},
   "outputs": [],
   "source": [
    "wrong_record = \"\"\n",
    "# NN1 performance\n",
    "cost1 = 0\n",
    "for i in range(0,len(nn1)):\n",
    "    if nn1.loc[i,\"y_pred\"] != ans.loc[i,\"y_actual\"]:\n",
    "        # cost1 += 1 * nn1.loc[i,\"conf\"]\n",
    "        cost1 += 1\n",
    "    else:\n",
    "        pass\n",
    "\n",
    "# NN2 performance\n",
    "cost2 = 0\n",
    "for i in range(0,len(nn2)):\n",
    "    if nn2.loc[i,\"y_pred\"] != ans.loc[i,\"y_actual\"]:\n",
    "        # cost2 += 1 * nn2.loc[i,\"conf\"]\n",
    "        cost2 += 1\n",
    "    else:\n",
    "        pass\n",
    "\n",
    "# Combined performance\n",
    "cost3 = 0\n",
    "for i in range(0,len(nn1)):\n",
    "    chosen_nn = int(ans.loc[i,\"chosen_NN\"])\n",
    "    chosen_nn_conf = round(ans.loc[i,\"chosen_conf\"],3)\n",
    "    not_nn = int(ans.loc[i,\"not_NN\"])\n",
    "    not_nn_conf = round(ans.loc[i,\"not_conf\"],3)\n",
    "    if ans.loc[i,\"y_pred\"] != ans.loc[i,\"y_actual\"]:\n",
    "        cost3 += 1\n",
    "        # cost3 += 1 * ans.loc[i,\"chosen_conf\"]\n",
    "        wrong_record = wrong_record + (f\"{i}: Wrong NN:{chosen_nn}, Conf:{chosen_nn_conf} - Other NN{not_nn}, Conf:{not_nn_conf} \") + \"\\n\"\n",
    "    else:\n",
    "        pass"
   ]
  },
  {
   "cell_type": "code",
   "execution_count": 58,
   "metadata": {},
   "outputs": [
    {
     "name": "stdout",
     "output_type": "stream",
     "text": [
      "16: Wrong NN:1, Conf:0.816 - Other NN2, Conf:0.597 \n",
      "55: Wrong NN:1, Conf:0.696 - Other NN2, Conf:0.659 \n",
      "77: Wrong NN:1, Conf:0.724 - Other NN2, Conf:0.595 \n",
      "93: Wrong NN:1, Conf:0.763 - Other NN2, Conf:0.583 \n",
      "100: Wrong NN:2, Conf:0.725 - Other NN1, Conf:0.701 \n",
      "140: Wrong NN:1, Conf:0.656 - Other NN2, Conf:0.598 \n",
      "170: Wrong NN:1, Conf:0.791 - Other NN2, Conf:0.603 \n",
      "193: Wrong NN:1, Conf:0.652 - Other NN2, Conf:0.604 \n",
      "205: Wrong NN:1, Conf:0.695 - Other NN2, Conf:0.666 \n",
      "227: Wrong NN:1, Conf:0.753 - Other NN2, Conf:0.703 \n",
      "255: Wrong NN:2, Conf:0.729 - Other NN1, Conf:0.692 \n",
      "266: Wrong NN:1, Conf:0.71 - Other NN2, Conf:0.645 \n",
      "286: Wrong NN:1, Conf:0.892 - Other NN2, Conf:0.825 \n",
      "301: Wrong NN:2, Conf:0.703 - Other NN1, Conf:0.681 \n",
      "305: Wrong NN:1, Conf:0.828 - Other NN2, Conf:0.82 \n",
      "306: Wrong NN:1, Conf:0.854 - Other NN2, Conf:0.719 \n",
      "333: Wrong NN:1, Conf:0.664 - Other NN2, Conf:0.641 \n",
      "354: Wrong NN:1, Conf:0.673 - Other NN2, Conf:0.641 \n",
      "357: Wrong NN:1, Conf:0.901 - Other NN2, Conf:0.841 \n",
      "365: Wrong NN:1, Conf:0.778 - Other NN2, Conf:0.675 \n",
      "394: Wrong NN:1, Conf:0.683 - Other NN2, Conf:0.666 \n",
      "421: Wrong NN:1, Conf:0.761 - Other NN2, Conf:0.665 \n",
      "447: Wrong NN:1, Conf:0.915 - Other NN2, Conf:0.898 \n",
      "451: Wrong NN:1, Conf:0.888 - Other NN2, Conf:0.72 \n",
      "507: Wrong NN:2, Conf:0.861 - Other NN1, Conf:0.859 \n",
      "512: Wrong NN:2, Conf:0.752 - Other NN1, Conf:0.707 \n",
      "517: Wrong NN:1, Conf:0.701 - Other NN2, Conf:0.642 \n",
      "525: Wrong NN:1, Conf:0.773 - Other NN2, Conf:0.601 \n",
      "544: Wrong NN:1, Conf:0.658 - Other NN2, Conf:0.584 \n",
      "558: Wrong NN:1, Conf:0.77 - Other NN2, Conf:0.713 \n",
      "598: Wrong NN:1, Conf:0.728 - Other NN2, Conf:0.599 \n",
      "604: Wrong NN:2, Conf:0.818 - Other NN1, Conf:0.655 \n",
      "631: Wrong NN:2, Conf:0.699 - Other NN1, Conf:0.686 \n",
      "632: Wrong NN:2, Conf:0.738 - Other NN1, Conf:0.68 \n",
      "641: Wrong NN:1, Conf:0.73 - Other NN2, Conf:0.583 \n",
      "644: Wrong NN:1, Conf:0.917 - Other NN2, Conf:0.695 \n",
      "647: Wrong NN:1, Conf:0.751 - Other NN2, Conf:0.658 \n",
      "678: Wrong NN:2, Conf:0.786 - Other NN1, Conf:0.652 \n",
      "680: Wrong NN:2, Conf:0.754 - Other NN1, Conf:0.683 \n",
      "683: Wrong NN:1, Conf:0.661 - Other NN2, Conf:0.591 \n",
      "687: Wrong NN:2, Conf:0.776 - Other NN1, Conf:0.685 \n",
      "694: Wrong NN:1, Conf:0.669 - Other NN2, Conf:0.609 \n",
      "699: Wrong NN:2, Conf:0.673 - Other NN1, Conf:0.653 \n",
      "701: Wrong NN:1, Conf:0.701 - Other NN2, Conf:0.673 \n",
      "720: Wrong NN:1, Conf:0.653 - Other NN2, Conf:0.589 \n",
      "724: Wrong NN:1, Conf:0.86 - Other NN2, Conf:0.655 \n",
      "744: Wrong NN:1, Conf:0.73 - Other NN2, Conf:0.625 \n",
      "749: Wrong NN:2, Conf:0.715 - Other NN1, Conf:0.67 \n",
      "764: Wrong NN:1, Conf:0.654 - Other NN2, Conf:0.586 \n",
      "770: Wrong NN:1, Conf:0.709 - Other NN2, Conf:0.704 \n",
      "804: Wrong NN:1, Conf:0.825 - Other NN2, Conf:0.731 \n",
      "821: Wrong NN:2, Conf:0.688 - Other NN1, Conf:0.687 \n",
      "846: Wrong NN:1, Conf:0.867 - Other NN2, Conf:0.758 \n",
      "857: Wrong NN:1, Conf:0.74 - Other NN2, Conf:0.657 \n",
      "893: Wrong NN:1, Conf:0.796 - Other NN2, Conf:0.665 \n",
      "923: Wrong NN:1, Conf:0.755 - Other NN2, Conf:0.59 \n",
      "931: Wrong NN:1, Conf:0.752 - Other NN2, Conf:0.598 \n",
      "937: Wrong NN:1, Conf:0.675 - Other NN2, Conf:0.649 \n",
      "956: Wrong NN:1, Conf:0.745 - Other NN2, Conf:0.718 \n",
      "980: Wrong NN:1, Conf:0.702 - Other NN2, Conf:0.697 \n",
      "987: Wrong NN:1, Conf:0.93 - Other NN2, Conf:0.918 \n",
      "1010: Wrong NN:2, Conf:0.938 - Other NN1, Conf:0.935 \n",
      "1027: Wrong NN:1, Conf:0.679 - Other NN2, Conf:0.646 \n",
      "1034: Wrong NN:1, Conf:0.816 - Other NN2, Conf:0.639 \n",
      "1039: Wrong NN:2, Conf:0.712 - Other NN1, Conf:0.67 \n",
      "1090: Wrong NN:1, Conf:0.701 - Other NN2, Conf:0.608 \n",
      "1093: Wrong NN:1, Conf:0.653 - Other NN2, Conf:0.608 \n",
      "1094: Wrong NN:1, Conf:0.661 - Other NN2, Conf:0.584 \n",
      "1121: Wrong NN:2, Conf:0.828 - Other NN1, Conf:0.664 \n",
      "1137: Wrong NN:1, Conf:0.763 - Other NN2, Conf:0.619 \n",
      "1147: Wrong NN:2, Conf:0.749 - Other NN1, Conf:0.715 \n",
      "1149: Wrong NN:1, Conf:0.711 - Other NN2, Conf:0.684 \n",
      "1157: Wrong NN:1, Conf:0.687 - Other NN2, Conf:0.664 \n",
      "1179: Wrong NN:1, Conf:0.755 - Other NN2, Conf:0.63 \n",
      "1182: Wrong NN:1, Conf:0.857 - Other NN2, Conf:0.725 \n",
      "1224: Wrong NN:2, Conf:0.721 - Other NN1, Conf:0.673 \n",
      "1229: Wrong NN:2, Conf:0.711 - Other NN1, Conf:0.652 \n",
      "1240: Wrong NN:1, Conf:0.751 - Other NN2, Conf:0.679 \n",
      "1252: Wrong NN:1, Conf:0.836 - Other NN2, Conf:0.818 \n",
      "1257: Wrong NN:2, Conf:0.72 - Other NN1, Conf:0.654 \n",
      "1272: Wrong NN:1, Conf:0.702 - Other NN2, Conf:0.656 \n",
      "1284: Wrong NN:1, Conf:0.798 - Other NN2, Conf:0.674 \n",
      "1290: Wrong NN:1, Conf:0.659 - Other NN2, Conf:0.585 \n",
      "1314: Wrong NN:2, Conf:0.726 - Other NN1, Conf:0.67 \n",
      "1343: Wrong NN:1, Conf:0.848 - Other NN2, Conf:0.757 \n",
      "1355: Wrong NN:1, Conf:0.68 - Other NN2, Conf:0.585 \n",
      "1374: Wrong NN:1, Conf:0.71 - Other NN2, Conf:0.618 \n",
      "1387: Wrong NN:1, Conf:0.69 - Other NN2, Conf:0.639 \n",
      "1395: Wrong NN:1, Conf:0.78 - Other NN2, Conf:0.625 \n",
      "1411: Wrong NN:1, Conf:0.677 - Other NN2, Conf:0.635 \n",
      "1418: Wrong NN:2, Conf:0.752 - Other NN1, Conf:0.682 \n",
      "1424: Wrong NN:2, Conf:0.818 - Other NN1, Conf:0.664 \n",
      "1425: Wrong NN:2, Conf:0.882 - Other NN1, Conf:0.859 \n",
      "1453: Wrong NN:2, Conf:0.736 - Other NN1, Conf:0.677 \n",
      "1478: Wrong NN:2, Conf:0.853 - Other NN1, Conf:0.661 \n",
      "1479: Wrong NN:2, Conf:0.766 - Other NN1, Conf:0.653 \n",
      "1482: Wrong NN:1, Conf:0.681 - Other NN2, Conf:0.679 \n",
      "1484: Wrong NN:1, Conf:0.872 - Other NN2, Conf:0.855 \n",
      "1493: Wrong NN:1, Conf:0.714 - Other NN2, Conf:0.591 \n",
      "1496: Wrong NN:2, Conf:0.737 - Other NN1, Conf:0.683 \n",
      "1520: Wrong NN:1, Conf:0.803 - Other NN2, Conf:0.742 \n",
      "1532: Wrong NN:1, Conf:0.658 - Other NN2, Conf:0.645 \n",
      "1543: Wrong NN:1, Conf:0.904 - Other NN2, Conf:0.679 \n",
      "1564: Wrong NN:2, Conf:0.808 - Other NN1, Conf:0.781 \n",
      "1679: Wrong NN:1, Conf:0.709 - Other NN2, Conf:0.583 \n",
      "1680: Wrong NN:1, Conf:0.882 - Other NN2, Conf:0.585 \n",
      "1686: Wrong NN:1, Conf:0.785 - Other NN2, Conf:0.653 \n",
      "1746: Wrong NN:1, Conf:0.782 - Other NN2, Conf:0.693 \n",
      "1766: Wrong NN:1, Conf:0.656 - Other NN2, Conf:0.593 \n",
      "1799: Wrong NN:1, Conf:0.66 - Other NN2, Conf:0.658 \n",
      "1809: Wrong NN:1, Conf:0.652 - Other NN2, Conf:0.616 \n",
      "1826: Wrong NN:1, Conf:0.753 - Other NN2, Conf:0.606 \n",
      "1842: Wrong NN:1, Conf:0.753 - Other NN2, Conf:0.598 \n",
      "1844: Wrong NN:1, Conf:0.7 - Other NN2, Conf:0.596 \n",
      "1873: Wrong NN:1, Conf:0.701 - Other NN2, Conf:0.589 \n",
      "1877: Wrong NN:2, Conf:0.873 - Other NN1, Conf:0.66 \n",
      "1891: Wrong NN:2, Conf:0.691 - Other NN1, Conf:0.688 \n",
      "1894: Wrong NN:1, Conf:0.663 - Other NN2, Conf:0.611 \n",
      "1907: Wrong NN:1, Conf:0.69 - Other NN2, Conf:0.648 \n",
      "1926: Wrong NN:2, Conf:0.687 - Other NN1, Conf:0.658 \n",
      "1931: Wrong NN:1, Conf:0.863 - Other NN2, Conf:0.589 \n",
      "1954: Wrong NN:1, Conf:0.657 - Other NN2, Conf:0.632 \n",
      "1957: Wrong NN:1, Conf:0.856 - Other NN2, Conf:0.804 \n",
      "1960: Wrong NN:1, Conf:0.9 - Other NN2, Conf:0.612 \n",
      "1983: Wrong NN:1, Conf:0.658 - Other NN2, Conf:0.606 \n",
      "1989: Wrong NN:1, Conf:0.841 - Other NN2, Conf:0.688 \n",
      "\n",
      "Error count for NN1:134, NN2:120, Combined:126\n"
     ]
    }
   ],
   "source": [
    "print(wrong_record)\n",
    "print(f\"Error count for NN1:{cost1}, NN2:{cost2}, Combined:{cost3}\")\n"
   ]
  }
 ],
 "metadata": {
  "kernelspec": {
   "display_name": "Python 3",
   "language": "python",
   "name": "python3"
  },
  "language_info": {
   "codemirror_mode": {
    "name": "ipython",
    "version": 3
   },
   "file_extension": ".py",
   "mimetype": "text/x-python",
   "name": "python",
   "nbconvert_exporter": "python",
   "pygments_lexer": "ipython3",
   "version": "3.8.8"
  }
 },
 "nbformat": 4,
 "nbformat_minor": 4
}
