{
 "cells": [
  {
   "cell_type": "markdown",
   "metadata": {},
   "source": [
    "# MUSHROOMS"
   ]
  },
  {
   "cell_type": "markdown",
   "metadata": {},
   "source": [
    "## Binary Classification"
   ]
  },
  {
   "cell_type": "markdown",
   "metadata": {},
   "source": [
    "### Imports"
   ]
  },
  {
   "cell_type": "code",
   "execution_count": 1,
   "metadata": {},
   "outputs": [],
   "source": [
    "import os\n",
    "import pandas as pd\n",
    "import numpy as np\n",
    "\n",
    "import tensorflow as tf\n",
    "from tensorflow import keras\n",
    "\n",
    "import matplotlib.pyplot as plt"
   ]
  },
  {
   "cell_type": "markdown",
   "metadata": {},
   "source": [
    "### Load Data"
   ]
  },
  {
   "cell_type": "code",
   "execution_count": 2,
   "metadata": {},
   "outputs": [],
   "source": [
    "DATA_PATH = '../DATA/'\n",
    "FILE_NAME = 'mushrooms.csv'\n",
    "def load_data(data_path=DATA_PATH, file_name=FILE_NAME):\n",
    "    csv_path = os.path.join(data_path, file_name)\n",
    "    return pd.read_csv(csv_path)\n",
    "\n",
    "dataset = load_data()"
   ]
  },
  {
   "cell_type": "markdown",
   "metadata": {},
   "source": [
    "### View Data and Informations"
   ]
  },
  {
   "cell_type": "code",
   "execution_count": 3,
   "metadata": {},
   "outputs": [
    {
     "data": {
      "text/html": [
       "<div>\n",
       "<style scoped>\n",
       "    .dataframe tbody tr th:only-of-type {\n",
       "        vertical-align: middle;\n",
       "    }\n",
       "\n",
       "    .dataframe tbody tr th {\n",
       "        vertical-align: top;\n",
       "    }\n",
       "\n",
       "    .dataframe thead th {\n",
       "        text-align: right;\n",
       "    }\n",
       "</style>\n",
       "<table border=\"1\" class=\"dataframe\">\n",
       "  <thead>\n",
       "    <tr style=\"text-align: right;\">\n",
       "      <th></th>\n",
       "      <th>class</th>\n",
       "      <th>cap-shape</th>\n",
       "      <th>cap-surface</th>\n",
       "      <th>cap-color</th>\n",
       "      <th>bruises</th>\n",
       "      <th>odor</th>\n",
       "      <th>gill-attachment</th>\n",
       "      <th>gill-spacing</th>\n",
       "      <th>gill-size</th>\n",
       "      <th>gill-color</th>\n",
       "      <th>...</th>\n",
       "      <th>stalk-surface-below-ring</th>\n",
       "      <th>stalk-color-above-ring</th>\n",
       "      <th>stalk-color-below-ring</th>\n",
       "      <th>veil-type</th>\n",
       "      <th>veil-color</th>\n",
       "      <th>ring-number</th>\n",
       "      <th>ring-type</th>\n",
       "      <th>spore-print-color</th>\n",
       "      <th>population</th>\n",
       "      <th>habitat</th>\n",
       "    </tr>\n",
       "  </thead>\n",
       "  <tbody>\n",
       "    <tr>\n",
       "      <th>0</th>\n",
       "      <td>p</td>\n",
       "      <td>x</td>\n",
       "      <td>s</td>\n",
       "      <td>n</td>\n",
       "      <td>t</td>\n",
       "      <td>p</td>\n",
       "      <td>f</td>\n",
       "      <td>c</td>\n",
       "      <td>n</td>\n",
       "      <td>k</td>\n",
       "      <td>...</td>\n",
       "      <td>s</td>\n",
       "      <td>w</td>\n",
       "      <td>w</td>\n",
       "      <td>p</td>\n",
       "      <td>w</td>\n",
       "      <td>o</td>\n",
       "      <td>p</td>\n",
       "      <td>k</td>\n",
       "      <td>s</td>\n",
       "      <td>u</td>\n",
       "    </tr>\n",
       "    <tr>\n",
       "      <th>1</th>\n",
       "      <td>e</td>\n",
       "      <td>x</td>\n",
       "      <td>s</td>\n",
       "      <td>y</td>\n",
       "      <td>t</td>\n",
       "      <td>a</td>\n",
       "      <td>f</td>\n",
       "      <td>c</td>\n",
       "      <td>b</td>\n",
       "      <td>k</td>\n",
       "      <td>...</td>\n",
       "      <td>s</td>\n",
       "      <td>w</td>\n",
       "      <td>w</td>\n",
       "      <td>p</td>\n",
       "      <td>w</td>\n",
       "      <td>o</td>\n",
       "      <td>p</td>\n",
       "      <td>n</td>\n",
       "      <td>n</td>\n",
       "      <td>g</td>\n",
       "    </tr>\n",
       "    <tr>\n",
       "      <th>2</th>\n",
       "      <td>e</td>\n",
       "      <td>b</td>\n",
       "      <td>s</td>\n",
       "      <td>w</td>\n",
       "      <td>t</td>\n",
       "      <td>l</td>\n",
       "      <td>f</td>\n",
       "      <td>c</td>\n",
       "      <td>b</td>\n",
       "      <td>n</td>\n",
       "      <td>...</td>\n",
       "      <td>s</td>\n",
       "      <td>w</td>\n",
       "      <td>w</td>\n",
       "      <td>p</td>\n",
       "      <td>w</td>\n",
       "      <td>o</td>\n",
       "      <td>p</td>\n",
       "      <td>n</td>\n",
       "      <td>n</td>\n",
       "      <td>m</td>\n",
       "    </tr>\n",
       "    <tr>\n",
       "      <th>3</th>\n",
       "      <td>p</td>\n",
       "      <td>x</td>\n",
       "      <td>y</td>\n",
       "      <td>w</td>\n",
       "      <td>t</td>\n",
       "      <td>p</td>\n",
       "      <td>f</td>\n",
       "      <td>c</td>\n",
       "      <td>n</td>\n",
       "      <td>n</td>\n",
       "      <td>...</td>\n",
       "      <td>s</td>\n",
       "      <td>w</td>\n",
       "      <td>w</td>\n",
       "      <td>p</td>\n",
       "      <td>w</td>\n",
       "      <td>o</td>\n",
       "      <td>p</td>\n",
       "      <td>k</td>\n",
       "      <td>s</td>\n",
       "      <td>u</td>\n",
       "    </tr>\n",
       "    <tr>\n",
       "      <th>4</th>\n",
       "      <td>e</td>\n",
       "      <td>x</td>\n",
       "      <td>s</td>\n",
       "      <td>g</td>\n",
       "      <td>f</td>\n",
       "      <td>n</td>\n",
       "      <td>f</td>\n",
       "      <td>w</td>\n",
       "      <td>b</td>\n",
       "      <td>k</td>\n",
       "      <td>...</td>\n",
       "      <td>s</td>\n",
       "      <td>w</td>\n",
       "      <td>w</td>\n",
       "      <td>p</td>\n",
       "      <td>w</td>\n",
       "      <td>o</td>\n",
       "      <td>e</td>\n",
       "      <td>n</td>\n",
       "      <td>a</td>\n",
       "      <td>g</td>\n",
       "    </tr>\n",
       "  </tbody>\n",
       "</table>\n",
       "<p>5 rows × 23 columns</p>\n",
       "</div>"
      ],
      "text/plain": [
       "  class cap-shape cap-surface cap-color bruises odor gill-attachment  \\\n",
       "0     p         x           s         n       t    p               f   \n",
       "1     e         x           s         y       t    a               f   \n",
       "2     e         b           s         w       t    l               f   \n",
       "3     p         x           y         w       t    p               f   \n",
       "4     e         x           s         g       f    n               f   \n",
       "\n",
       "  gill-spacing gill-size gill-color  ... stalk-surface-below-ring  \\\n",
       "0            c         n          k  ...                        s   \n",
       "1            c         b          k  ...                        s   \n",
       "2            c         b          n  ...                        s   \n",
       "3            c         n          n  ...                        s   \n",
       "4            w         b          k  ...                        s   \n",
       "\n",
       "  stalk-color-above-ring stalk-color-below-ring veil-type veil-color  \\\n",
       "0                      w                      w         p          w   \n",
       "1                      w                      w         p          w   \n",
       "2                      w                      w         p          w   \n",
       "3                      w                      w         p          w   \n",
       "4                      w                      w         p          w   \n",
       "\n",
       "  ring-number ring-type spore-print-color population habitat  \n",
       "0           o         p                 k          s       u  \n",
       "1           o         p                 n          n       g  \n",
       "2           o         p                 n          n       m  \n",
       "3           o         p                 k          s       u  \n",
       "4           o         e                 n          a       g  \n",
       "\n",
       "[5 rows x 23 columns]"
      ]
     },
     "execution_count": 3,
     "metadata": {},
     "output_type": "execute_result"
    }
   ],
   "source": [
    "dataset.head()"
   ]
  },
  {
   "cell_type": "code",
   "execution_count": 4,
   "metadata": {},
   "outputs": [
    {
     "name": "stdout",
     "output_type": "stream",
     "text": [
      "<class 'pandas.core.frame.DataFrame'>\n",
      "RangeIndex: 8124 entries, 0 to 8123\n",
      "Data columns (total 23 columns):\n",
      " #   Column                    Non-Null Count  Dtype \n",
      "---  ------                    --------------  ----- \n",
      " 0   class                     8124 non-null   object\n",
      " 1   cap-shape                 8124 non-null   object\n",
      " 2   cap-surface               8124 non-null   object\n",
      " 3   cap-color                 8124 non-null   object\n",
      " 4   bruises                   8124 non-null   object\n",
      " 5   odor                      8124 non-null   object\n",
      " 6   gill-attachment           8124 non-null   object\n",
      " 7   gill-spacing              8124 non-null   object\n",
      " 8   gill-size                 8124 non-null   object\n",
      " 9   gill-color                8124 non-null   object\n",
      " 10  stalk-shape               8124 non-null   object\n",
      " 11  stalk-root                8124 non-null   object\n",
      " 12  stalk-surface-above-ring  8124 non-null   object\n",
      " 13  stalk-surface-below-ring  8124 non-null   object\n",
      " 14  stalk-color-above-ring    8124 non-null   object\n",
      " 15  stalk-color-below-ring    8124 non-null   object\n",
      " 16  veil-type                 8124 non-null   object\n",
      " 17  veil-color                8124 non-null   object\n",
      " 18  ring-number               8124 non-null   object\n",
      " 19  ring-type                 8124 non-null   object\n",
      " 20  spore-print-color         8124 non-null   object\n",
      " 21  population                8124 non-null   object\n",
      " 22  habitat                   8124 non-null   object\n",
      "dtypes: object(23)\n",
      "memory usage: 1.4+ MB\n"
     ]
    }
   ],
   "source": [
    "dataset.info()"
   ]
  },
  {
   "cell_type": "code",
   "execution_count": 5,
   "metadata": {},
   "outputs": [
    {
     "name": "stdout",
     "output_type": "stream",
     "text": [
      "Edible:\t   4208 \n",
      "Poisonous: 3916\n"
     ]
    }
   ],
   "source": [
    "edible, poisonous = dataset['class'].value_counts()\n",
    "\n",
    "print(\"Edible:\\t  \", edible,\"\\nPoisonous:\", poisonous)"
   ]
  },
  {
   "cell_type": "code",
   "execution_count": 6,
   "metadata": {},
   "outputs": [
    {
     "name": "stdout",
     "output_type": "stream",
     "text": [
      "0 - Edible:    4208 \n",
      "1 - Poisonous: 3916\n"
     ]
    }
   ],
   "source": [
    "# Categorical to numerical\n",
    "labels = {'e': 0, 'p': 1}\n",
    "dataset['class'].replace(labels, inplace=True)\n",
    "\n",
    "edible, poisonous = dataset['class'].value_counts()\n",
    "print(\"0 - Edible:   \", edible,\"\\n1 - Poisonous:\", poisonous)"
   ]
  },
  {
   "cell_type": "markdown",
   "metadata": {},
   "source": [
    "# NN1 Stalk Root - Rooted (r)"
   ]
  },
  {
   "cell_type": "markdown",
   "metadata": {},
   "source": [
    "### Split Dataset"
   ]
  },
  {
   "cell_type": "markdown",
   "metadata": {},
   "source": [
    "#### Get the Labels"
   ]
  },
  {
   "cell_type": "code",
   "execution_count": 7,
   "metadata": {},
   "outputs": [
    {
     "name": "stdout",
     "output_type": "stream",
     "text": [
      "X: (8124, 22) \n",
      "y: (8124,)\n"
     ]
    }
   ],
   "source": [
    "X, y =  dataset.drop('class', axis=1), dataset['class'].copy()\n",
    "\n",
    "print(\"X:\",X.shape,\"\\ny:\",y.shape)"
   ]
  },
  {
   "cell_type": "markdown",
   "metadata": {},
   "source": [
    "#### Train Set and Test Set"
   ]
  },
  {
   "cell_type": "code",
   "execution_count": 8,
   "metadata": {},
   "outputs": [],
   "source": [
    "from sklearn.model_selection import train_test_split\n",
    "X_white = pd.DataFrame()\n",
    "X_not_white = pd.DataFrame()\n",
    "y_white = pd.Series(dtype='float64')\n",
    "y_not_white = pd.Series(dtype='float64')\n",
    "for i in range(0,len(X)):\n",
    "    if X.loc[i,\"stalk-root\"] == \"r\":\n",
    "        X_white = X_white.append(X.iloc[i,:])\n",
    "        y_white = y_white.append(pd.Series(y.iloc[i]))\n",
    "    else:\n",
    "        X_not_white = X_not_white.append(X.iloc[i,:])\n",
    "        y_not_white = y_not_white.append(pd.Series(y.iloc[i]))"
   ]
  },
  {
   "cell_type": "code",
   "execution_count": 9,
   "metadata": {},
   "outputs": [],
   "source": [
    "X_train_not_white, X_test_not_white, y_train_not_white, y_test_not_white = train_test_split(X_not_white, y_not_white, test_size=1-(6905/(8124-len(X_white))), random_state=87)\n",
    "\n",
    "# print(X_test_white)\n",
    "X_train_white = (X_train_not_white)\n",
    "# X_test_white = X_white.append(X_test_not_white)\n",
    "y_train_white = (y_train_not_white)\n",
    "# y_test_white = y_white.append(y_test_not_white)"
   ]
  },
  {
   "cell_type": "code",
   "execution_count": 60,
   "metadata": {},
   "outputs": [],
   "source": [
    "from sklearn.utils import shuffle\n",
    "X_train_full1 = shuffle(X_train_white, random_state=87)\n",
    "X_test = shuffle(X, random_state=87).iloc[2000:4000]\n",
    "y_train_full1 = shuffle(y_train_white, random_state=87)\n",
    "y_test = shuffle(y, random_state=87).iloc[2000:4000]"
   ]
  },
  {
   "cell_type": "code",
   "execution_count": 11,
   "metadata": {},
   "outputs": [],
   "source": [
    "# print(X_test[:5])\n",
    "# print(y_test.loc[:,\"0\"])\n",
    "# from sklearn.model_selection import train_test_split\n",
    "\n",
    "# X_train_full, X_test, y_train_full, y_test = train_test_split(X, y, test_size=0.15, random_state=87)\n",
    "\n",
    "# print(\"85% - X_train size:\", X_train_full.shape[0], \" y_train size:\", y_train_full.shape[0])\n",
    "# print(\"15% - X_test size: \", X_test.shape[0], \" y_test size: \", y_test.shape[0])"
   ]
  },
  {
   "cell_type": "markdown",
   "metadata": {},
   "source": [
    "#### Validation Set"
   ]
  },
  {
   "cell_type": "code",
   "execution_count": 61,
   "metadata": {},
   "outputs": [
    {
     "name": "stdout",
     "output_type": "stream",
     "text": [
      "X_train: 6404 y_train 6404\n",
      "X_valid:  500 y_valid  500\n",
      "X_test:  2000 y_test  2000\n"
     ]
    }
   ],
   "source": [
    "X_valid1, X_train1 = X_train_full1[:500], X_train_full1[500:]\n",
    "y_valid1, y_train1 = y_train_full1[:500], y_train_full1[500:]\n",
    "\n",
    "print(\"X_train:\", X_train1.shape[0], \"y_train\", y_train1.shape[0])\n",
    "print(\"X_valid: \", X_valid1.shape[0], \"y_valid \", y_valid1.shape[0])\n",
    "print(\"X_test: \", X_test.shape[0], \"y_test \", X_test.shape[0])\n"
   ]
  },
  {
   "cell_type": "markdown",
   "metadata": {},
   "source": [
    "### Prepare the Data"
   ]
  },
  {
   "cell_type": "markdown",
   "metadata": {},
   "source": [
    "#### Data Transformation"
   ]
  },
  {
   "cell_type": "code",
   "execution_count": 62,
   "metadata": {},
   "outputs": [],
   "source": [
    "from sklearn.pipeline import Pipeline\n",
    "from sklearn.preprocessing import OrdinalEncoder\n",
    "from sklearn.compose import ColumnTransformer\n",
    "\n",
    "cat_attr_pipeline = Pipeline([\n",
    "                        ('encoder', OrdinalEncoder())\n",
    "                    ])\n",
    "\n",
    "cols = list(X)\n",
    "pipeline = ColumnTransformer([\n",
    "                ('cat_attr_pipeline', cat_attr_pipeline, cols)\n",
    "            ])\n",
    "\n",
    "\n",
    "X_train1 = pipeline.fit_transform(X_train1)\n",
    "X_valid1 = pipeline.fit_transform(X_valid1)\n",
    "X_test1  = pipeline.fit_transform(X_test)"
   ]
  },
  {
   "cell_type": "markdown",
   "metadata": {},
   "source": [
    "### Neural Network"
   ]
  },
  {
   "cell_type": "markdown",
   "metadata": {},
   "source": [
    "#### Model"
   ]
  },
  {
   "cell_type": "code",
   "execution_count": 63,
   "metadata": {},
   "outputs": [],
   "source": [
    "from tensorflow.keras.models import Sequential\n",
    "from tensorflow.keras.layers import InputLayer, Dense"
   ]
  },
  {
   "cell_type": "code",
   "execution_count": 64,
   "metadata": {},
   "outputs": [],
   "source": [
    "# tf.random.set_random_seed(87)\n",
    "tf.random.set_seed(87)"
   ]
  },
  {
   "cell_type": "code",
   "execution_count": 65,
   "metadata": {},
   "outputs": [],
   "source": [
    "model1 = Sequential([\n",
    "    InputLayer(input_shape=(22,)),    # input  layer\n",
    "    Dense(45, activation='relu'),     # hidden layer\n",
    "    Dense(1,   activation='sigmoid')  # output layer\n",
    "])"
   ]
  },
  {
   "cell_type": "code",
   "execution_count": 66,
   "metadata": {},
   "outputs": [
    {
     "name": "stdout",
     "output_type": "stream",
     "text": [
      "Model: \"sequential_2\"\n",
      "_________________________________________________________________\n",
      " Layer (type)                Output Shape              Param #   \n",
      "=================================================================\n",
      " dense_4 (Dense)             (None, 45)                1035      \n",
      "                                                                 \n",
      " dense_5 (Dense)             (None, 1)                 46        \n",
      "                                                                 \n",
      "=================================================================\n",
      "Total params: 1,081\n",
      "Trainable params: 1,081\n",
      "Non-trainable params: 0\n",
      "_________________________________________________________________\n"
     ]
    }
   ],
   "source": [
    "model1.summary()"
   ]
  },
  {
   "cell_type": "markdown",
   "metadata": {},
   "source": [
    "#### Compile the Model"
   ]
  },
  {
   "cell_type": "code",
   "execution_count": 67,
   "metadata": {},
   "outputs": [],
   "source": [
    "model1.compile(loss='binary_crossentropy',\n",
    "             optimizer='sgd',\n",
    "             metrics=['accuracy'])"
   ]
  },
  {
   "cell_type": "markdown",
   "metadata": {},
   "source": [
    "#### Prepare Callbacks"
   ]
  },
  {
   "cell_type": "code",
   "execution_count": 68,
   "metadata": {},
   "outputs": [],
   "source": [
    "from tensorflow.keras.callbacks import ModelCheckpoint, EarlyStopping\n",
    "\n",
    "checkpoint_cb = ModelCheckpoint('../SavedModels/best_model.h5',\n",
    "                                save_best_only=True)\n",
    "\n",
    "early_stopping_cb = EarlyStopping(patience=3,\n",
    "                                  restore_best_weights=True)"
   ]
  },
  {
   "cell_type": "markdown",
   "metadata": {},
   "source": [
    "### Training"
   ]
  },
  {
   "cell_type": "code",
   "execution_count": 69,
   "metadata": {},
   "outputs": [
    {
     "name": "stdout",
     "output_type": "stream",
     "text": [
      "Epoch 1/100\n",
      "201/201 [==============================] - 1s 2ms/step - loss: 0.4372 - accuracy: 0.8387 - val_loss: 0.3718 - val_accuracy: 0.8720\n",
      "Epoch 2/100\n",
      "201/201 [==============================] - 0s 1ms/step - loss: 0.2954 - accuracy: 0.8993 - val_loss: 0.3129 - val_accuracy: 0.8980\n",
      "Epoch 3/100\n",
      "201/201 [==============================] - 0s 1ms/step - loss: 0.2501 - accuracy: 0.9144 - val_loss: 0.2848 - val_accuracy: 0.9040\n",
      "Epoch 4/100\n",
      "201/201 [==============================] - 0s 1ms/step - loss: 0.2223 - accuracy: 0.9218 - val_loss: 0.3982 - val_accuracy: 0.8760\n",
      "Epoch 5/100\n",
      "201/201 [==============================] - 0s 1ms/step - loss: 0.2046 - accuracy: 0.9272 - val_loss: 0.2389 - val_accuracy: 0.9120\n",
      "Epoch 6/100\n",
      "201/201 [==============================] - 0s 1ms/step - loss: 0.1844 - accuracy: 0.9336 - val_loss: 0.2169 - val_accuracy: 0.9120\n",
      "Epoch 7/100\n",
      "201/201 [==============================] - 0s 1ms/step - loss: 0.1700 - accuracy: 0.9405 - val_loss: 0.2121 - val_accuracy: 0.9180\n",
      "Epoch 8/100\n",
      "201/201 [==============================] - 0s 1ms/step - loss: 0.1573 - accuracy: 0.9402 - val_loss: 0.1825 - val_accuracy: 0.9200\n",
      "Epoch 9/100\n",
      "201/201 [==============================] - 0s 895us/step - loss: 0.1457 - accuracy: 0.9488 - val_loss: 0.2347 - val_accuracy: 0.9220\n",
      "Epoch 10/100\n",
      "201/201 [==============================] - 0s 863us/step - loss: 0.1360 - accuracy: 0.9527 - val_loss: 0.1620 - val_accuracy: 0.9220\n",
      "Epoch 11/100\n",
      "201/201 [==============================] - 0s 977us/step - loss: 0.1273 - accuracy: 0.9577 - val_loss: 0.1489 - val_accuracy: 0.9280\n",
      "Epoch 12/100\n",
      "201/201 [==============================] - 0s 987us/step - loss: 0.1194 - accuracy: 0.9625 - val_loss: 0.1451 - val_accuracy: 0.9360\n",
      "Epoch 13/100\n",
      "201/201 [==============================] - 0s 1ms/step - loss: 0.1110 - accuracy: 0.9700 - val_loss: 0.1820 - val_accuracy: 0.9320\n",
      "Epoch 14/100\n",
      "201/201 [==============================] - 0s 1ms/step - loss: 0.1043 - accuracy: 0.9688 - val_loss: 0.1412 - val_accuracy: 0.9460\n",
      "Epoch 15/100\n",
      "201/201 [==============================] - 0s 986us/step - loss: 0.0992 - accuracy: 0.9710 - val_loss: 0.1255 - val_accuracy: 0.9520\n",
      "Epoch 16/100\n",
      "201/201 [==============================] - 0s 947us/step - loss: 0.0922 - accuracy: 0.9741 - val_loss: 0.1170 - val_accuracy: 0.9520\n",
      "Epoch 17/100\n",
      "201/201 [==============================] - 0s 1ms/step - loss: 0.0876 - accuracy: 0.9747 - val_loss: 0.1179 - val_accuracy: 0.9560\n",
      "Epoch 18/100\n",
      "201/201 [==============================] - 0s 1ms/step - loss: 0.0833 - accuracy: 0.9778 - val_loss: 0.1084 - val_accuracy: 0.9600\n",
      "Epoch 19/100\n",
      "201/201 [==============================] - 0s 1ms/step - loss: 0.0789 - accuracy: 0.9785 - val_loss: 0.0923 - val_accuracy: 0.9640\n",
      "Epoch 20/100\n",
      "201/201 [==============================] - 0s 1ms/step - loss: 0.0754 - accuracy: 0.9806 - val_loss: 0.0886 - val_accuracy: 0.9680\n",
      "Epoch 21/100\n",
      "201/201 [==============================] - 0s 1ms/step - loss: 0.0704 - accuracy: 0.9822 - val_loss: 0.0837 - val_accuracy: 0.9680\n",
      "Epoch 22/100\n",
      "201/201 [==============================] - 0s 1ms/step - loss: 0.0668 - accuracy: 0.9841 - val_loss: 0.0795 - val_accuracy: 0.9720\n",
      "Epoch 23/100\n",
      "201/201 [==============================] - 0s 1ms/step - loss: 0.0640 - accuracy: 0.9850 - val_loss: 0.0775 - val_accuracy: 0.9720\n",
      "Epoch 24/100\n",
      "201/201 [==============================] - 0s 1ms/step - loss: 0.0610 - accuracy: 0.9845 - val_loss: 0.0727 - val_accuracy: 0.9760\n",
      "Epoch 25/100\n",
      "201/201 [==============================] - 0s 929us/step - loss: 0.0581 - accuracy: 0.9859 - val_loss: 0.0731 - val_accuracy: 0.9740\n",
      "Epoch 26/100\n",
      "201/201 [==============================] - 0s 871us/step - loss: 0.0559 - accuracy: 0.9867 - val_loss: 0.0852 - val_accuracy: 0.9660\n",
      "Epoch 27/100\n",
      "201/201 [==============================] - 0s 1ms/step - loss: 0.0529 - accuracy: 0.9863 - val_loss: 0.0642 - val_accuracy: 0.9780\n",
      "Epoch 28/100\n",
      "201/201 [==============================] - 0s 909us/step - loss: 0.0509 - accuracy: 0.9880 - val_loss: 0.0632 - val_accuracy: 0.9760\n",
      "Epoch 29/100\n",
      "201/201 [==============================] - 0s 896us/step - loss: 0.0491 - accuracy: 0.9886 - val_loss: 0.0600 - val_accuracy: 0.9780\n",
      "Epoch 30/100\n",
      "201/201 [==============================] - 0s 947us/step - loss: 0.0468 - accuracy: 0.9884 - val_loss: 0.0628 - val_accuracy: 0.9780\n",
      "Epoch 31/100\n",
      "201/201 [==============================] - 0s 1ms/step - loss: 0.0448 - accuracy: 0.9889 - val_loss: 0.0603 - val_accuracy: 0.9780\n",
      "Epoch 32/100\n",
      "201/201 [==============================] - 0s 1ms/step - loss: 0.0435 - accuracy: 0.9894 - val_loss: 0.0602 - val_accuracy: 0.9780\n"
     ]
    }
   ],
   "source": [
    "train_model1 = model1.fit(X_train1, y_train1,\n",
    "                        epochs=100,\n",
    "                        validation_data=(X_valid1, y_valid1),\n",
    "                        callbacks=[checkpoint_cb, early_stopping_cb])\n",
    "                        \n"
   ]
  },
  {
   "cell_type": "markdown",
   "metadata": {},
   "source": [
    "### Evaluate the Best Model on Test Set"
   ]
  },
  {
   "cell_type": "code",
   "execution_count": 70,
   "metadata": {},
   "outputs": [
    {
     "name": "stdout",
     "output_type": "stream",
     "text": [
      "63/63 [==============================] - 0s 965us/step - loss: 0.0836 - accuracy: 0.9700\n",
      "test loss, test acc: [0.0835612341761589, 0.9700000286102295]\n"
     ]
    }
   ],
   "source": [
    "results1 = model1.evaluate(X_test1, y_test)\n",
    "print(\"test loss, test acc:\", results1)"
   ]
  },
  {
   "cell_type": "markdown",
   "metadata": {},
   "source": [
    "### Make Some Predictions"
   ]
  },
  {
   "cell_type": "code",
   "execution_count": 71,
   "metadata": {},
   "outputs": [],
   "source": [
    "X_new1 = X_test1[:5]\n",
    "y_prob1 = model1.predict(X_new1)\n",
    "# print(y_prob.round(3))"
   ]
  },
  {
   "cell_type": "code",
   "execution_count": 72,
   "metadata": {},
   "outputs": [],
   "source": [
    "y_pred1 = (model1.predict(X_new1) > 0.5).astype(\"int32\")\n",
    "# print(y_pred)\n",
    "y_test_pred = (model1.predict(X_test1) > 0.5).astype(\"int32\")"
   ]
  },
  {
   "cell_type": "markdown",
   "metadata": {},
   "source": [
    "## KL Divergence"
   ]
  },
  {
   "cell_type": "code",
   "execution_count": 73,
   "metadata": {},
   "outputs": [
    {
     "name": "stdout",
     "output_type": "stream",
     "text": [
      "        X_pred  y_pred  y_actual\n",
      "0     0.003824       0         0\n",
      "1     0.007150       0         0\n",
      "2     0.047702       0         0\n",
      "3     0.000901       0         0\n",
      "4     0.989958       1         1\n",
      "...        ...     ...       ...\n",
      "1995  0.530146       1         1\n",
      "1996  0.070959       0         0\n",
      "1997  0.950976       1         1\n",
      "1998  0.044679       0         0\n",
      "1999  0.999410       1         1\n",
      "\n",
      "[2000 rows x 3 columns]\n"
     ]
    }
   ],
   "source": [
    "# X_new = X_test[:5]\n",
    "X_df1 = pd.DataFrame(model1.predict(X_test1))\n",
    "y_test_pred1 = pd.DataFrame(y_test_pred).reset_index(drop=True)\n",
    "X_df1 = pd.concat([X_df1, y_test_pred1], axis=1)\n",
    "y_test1 = y_test.reset_index(drop=True)\n",
    "X_df1 = pd.concat([X_df1, y_test1], axis=1)\n",
    "X_df1.columns = [\"X_pred\",\"y_pred\",\"y_actual\"]\n",
    "print(X_df1)"
   ]
  },
  {
   "cell_type": "code",
   "execution_count": 74,
   "metadata": {},
   "outputs": [
    {
     "name": "stdout",
     "output_type": "stream",
     "text": [
      "        KL_div abs_distance correctness  y_pred\n",
      "0     0.025104     0.992352           1     0.0\n",
      "1     0.042449       0.9857           1     0.0\n",
      "2     0.191694     0.904595           1     0.0\n",
      "3     0.007217     0.998198           1     0.0\n",
      "4     0.056193     0.979916           1     1.0\n",
      "...        ...          ...         ...     ...\n",
      "1995  0.691328     0.060293           1     1.0\n",
      "1996  0.256111     0.858083           1     0.0\n",
      "1997  0.195633     0.901951           1     1.0\n",
      "1998  0.182539     0.910642           1     0.0\n",
      "1999  0.004977      0.99882           1     1.0\n",
      "\n",
      "[2000 rows x 4 columns]\n"
     ]
    }
   ],
   "source": [
    "import math\n",
    "table1 = pd.DataFrame(columns=[\"KL_div\",\"abs_distance\",\"correctness\"])\n",
    "for i in range(0,len(X_df1)):\n",
    "    # KL divergence\n",
    "    p = X_df1.loc[i,\"X_pred\"]\n",
    "    try:\n",
    "        kl = -(p*math.log(p) + (1-p)*math.log(1-p))\n",
    "    except:\n",
    "        kl = 0\n",
    "    table1.loc[i,\"KL_div\"] = kl\n",
    "    # absolute distance\n",
    "    abs_dist = 2*abs(0.5-p)\n",
    "    table1.loc[i,\"abs_distance\"] = abs_dist\n",
    "    # correctness\n",
    "    y_pred1 = X_df1.loc[i,\"y_pred\"]\n",
    "    y_act1 = X_df1.loc[i,\"y_actual\"]\n",
    "    if y_pred1 == y_act1:\n",
    "        table1.loc[i,\"correctness\"] = 1 # correct prediction\n",
    "    else:\n",
    "        table1.loc[i,\"correctness\"] = 0 # wrong prediction\n",
    "    table1.loc[i,\"y_pred\"] = y_pred1\n",
    "\n",
    "print(table1)"
   ]
  },
  {
   "cell_type": "code",
   "execution_count": 75,
   "metadata": {},
   "outputs": [
    {
     "name": "stdout",
     "output_type": "stream",
     "text": [
      "            correctness  count     percent\n",
      "KL_div                                    \n",
      "(0.0, 0.1]         1414   1417   99.788285\n",
      "(0.1, 0.2]          229    229  100.000000\n",
      "(0.2, 0.3]           80     83   96.385542\n",
      "(0.3, 0.4]           63     70   90.000000\n",
      "(0.4, 0.5]           53     60   88.333333\n",
      "(0.5, 0.6]           55     61   90.163934\n",
      "(0.6, 0.7]           46     80   57.500000\n"
     ]
    }
   ],
   "source": [
    "table1[\"count\"] = 1\n",
    "correctness1 = table1[[\"correctness\",\"count\"]].groupby(pd.cut(table1[\"KL_div\"], np.arange(0, 0.8, 0.1))).apply(sum)\n",
    "correctness1[\"percent\"] = 100*(correctness1[\"correctness\"]/correctness1[\"count\"])\n",
    "print(correctness1)"
   ]
  },
  {
   "cell_type": "code",
   "execution_count": 76,
   "metadata": {},
   "outputs": [
    {
     "data": {
      "text/plain": [
       "Text(0, 0.5, '% correct')"
      ]
     },
     "execution_count": 76,
     "metadata": {},
     "output_type": "execute_result"
    },
    {
     "data": {
      "image/png": "[encoded data removed]",
      "text/plain": [
       "<Figure size 432x288 with 1 Axes>"
      ]
     },
     "metadata": {
      "needs_background": "light"
     },
     "output_type": "display_data"
    }
   ],
   "source": [
    "index = []\n",
    "for i in (correctness1.index):\n",
    "    index.append(str(i))\n",
    "plt.bar(index,correctness1[\"percent\"], width=0.7)\n",
    "for index,data in enumerate(correctness1[\"percent\"]):\n",
    "    plt.text(x=index , y =data+1 , s=f\"{round(data,2)}\" , fontdict=dict(fontsize=15),ha='center')\n",
    "plt.ylim(0,110)\n",
    "plt.xlabel(\"KL Divergence\")\n",
    "plt.ylabel(\"% correct\")"
   ]
  },
  {
   "cell_type": "markdown",
   "metadata": {},
   "source": [
    "### Confidence"
   ]
  },
  {
   "cell_type": "code",
   "execution_count": 77,
   "metadata": {},
   "outputs": [
    {
     "data": {
      "text/plain": [
       "Text(0, 0.5, '% correct')"
      ]
     },
     "execution_count": 77,
     "metadata": {},
     "output_type": "execute_result"
    },
    {
     "data": {
      "image/png": "[encoded data removed]",
      "text/plain": [
       "<Figure size 432x288 with 1 Axes>"
      ]
     },
     "metadata": {
      "needs_background": "light"
     },
     "output_type": "display_data"
    }
   ],
   "source": [
    "kl1 = table1[[\"correctness\",\"count\"]].groupby(pd.cut(table1[\"KL_div\"], np.arange(0, 0.80, 0.1))).apply(sum)\n",
    "kl1[\"percent\"] = (kl1[\"correctness\"]/kl1[\"count\"])\n",
    "kl1.dropna(inplace=True)\n",
    "plt.scatter(np.arange(0, 0.70, 0.1), kl1[\"percent\"])\n",
    "plt.xlabel(\"KL Divergence\")\n",
    "plt.ylabel(\"% correct\")"
   ]
  },
  {
   "cell_type": "code",
   "execution_count": 78,
   "metadata": {},
   "outputs": [],
   "source": [
    "# Linear Regression\n",
    "from sklearn.linear_model import LinearRegression\n",
    "\n",
    "x_reg1 = np.arange(0, 0.70, 0.1).reshape((-1, 1))\n",
    "y_reg1 = kl1[\"percent\"]\n",
    "reg_model1 = LinearRegression().fit(x_reg1,y_reg1)"
   ]
  },
  {
   "cell_type": "code",
   "execution_count": 79,
   "metadata": {},
   "outputs": [
    {
     "name": "stdout",
     "output_type": "stream",
     "text": [
      "intercept(alpha): 1.0544471307441485\n",
      "slope(theta): [-0.55210427]\n"
     ]
    }
   ],
   "source": [
    "print('intercept(alpha):', reg_model1.intercept_)\n",
    "print('slope(theta):', reg_model1.coef_)"
   ]
  },
  {
   "cell_type": "markdown",
   "metadata": {},
   "source": [
    "# NN2 Odor - Almond (a)"
   ]
  },
  {
   "cell_type": "markdown",
   "metadata": {},
   "source": [
    "#### Train Set and Test Set"
   ]
  },
  {
   "cell_type": "code",
   "execution_count": 32,
   "metadata": {},
   "outputs": [],
   "source": [
    "from sklearn.model_selection import train_test_split\n",
    "X_green = pd.DataFrame()\n",
    "X_not_green = pd.DataFrame()\n",
    "y_green = pd.Series(dtype='float64')\n",
    "y_not_green = pd.Series(dtype='float64')\n",
    "for i in range(0,len(X)):\n",
    "    if X.loc[i,\"odor\"] == \"a\":\n",
    "        X_green = X_green.append(X.iloc[i,:])\n",
    "        y_green = y_green.append(pd.Series(y.iloc[i]))\n",
    "    else:\n",
    "        X_not_green = X_not_green.append(X.iloc[i,:])\n",
    "        y_not_green = y_not_green.append(pd.Series(y.iloc[i]))"
   ]
  },
  {
   "cell_type": "code",
   "execution_count": 33,
   "metadata": {},
   "outputs": [],
   "source": [
    "# X_test_green, X_train_green, y_test_green, y_train_green = train_test_split(X_green, y_green, test_size=1, random_state=87)\n",
    "X_train_not_green, X_test_not_green, y_train_not_green, y_test_not_green = train_test_split(X_not_green, y_not_green, test_size=1-(6905/(8124-len(X_green))), random_state=87)\n",
    "\n",
    "# print(X_test_green)\n",
    "X_train_green = (X_train_not_green)\n",
    "X_test_green = X_green.append(X_test_not_green)\n",
    "y_train_green = (y_train_not_green)\n",
    "y_test_green = y_green.append(y_test_not_green)"
   ]
  },
  {
   "cell_type": "code",
   "execution_count": 80,
   "metadata": {},
   "outputs": [],
   "source": [
    "from sklearn.utils import shuffle\n",
    "X_train_full2 = shuffle(X_train_green, random_state=87)\n",
    "# X_test2 = shuffle(X_test_green, random_state=87)\n",
    "y_train_full2 = shuffle(y_train_green, random_state=87)\n",
    "# y_test2 = shuffle(y_test_green, random_state=87)"
   ]
  },
  {
   "cell_type": "markdown",
   "metadata": {},
   "source": [
    "#### Validation Set"
   ]
  },
  {
   "cell_type": "code",
   "execution_count": 81,
   "metadata": {},
   "outputs": [
    {
     "name": "stdout",
     "output_type": "stream",
     "text": [
      "X_train: 6404 y_train 6404\n",
      "X_valid:  500 y_valid  500\n",
      "X_test:  2000 y_test  2000\n"
     ]
    }
   ],
   "source": [
    "X_valid2, X_train2 = X_train_full2[:500], X_train_full2[500:]\n",
    "y_valid2, y_train2 = y_train_full2[:500], y_train_full2[500:]\n",
    "\n",
    "print(\"X_train:\", X_train2.shape[0], \"y_train\", y_train2.shape[0])\n",
    "print(\"X_valid: \", X_valid2.shape[0], \"y_valid \", y_valid2.shape[0])\n",
    "print(\"X_test: \", X_test.shape[0], \"y_test \", X_test.shape[0])\n"
   ]
  },
  {
   "cell_type": "markdown",
   "metadata": {},
   "source": [
    "### Prepare the Data"
   ]
  },
  {
   "cell_type": "markdown",
   "metadata": {},
   "source": [
    "#### Data Transformation"
   ]
  },
  {
   "cell_type": "code",
   "execution_count": 82,
   "metadata": {},
   "outputs": [],
   "source": [
    "from sklearn.pipeline import Pipeline\n",
    "from sklearn.preprocessing import OrdinalEncoder\n",
    "from sklearn.compose import ColumnTransformer\n",
    "\n",
    "cat_attr_pipeline = Pipeline([\n",
    "                        ('encoder', OrdinalEncoder())\n",
    "                    ])\n",
    "\n",
    "cols = list(X)\n",
    "pipeline = ColumnTransformer([\n",
    "                ('cat_attr_pipeline', cat_attr_pipeline, cols)\n",
    "            ])\n",
    "\n",
    "\n",
    "X_train2 = pipeline.fit_transform(X_train2)\n",
    "X_valid2 = pipeline.fit_transform(X_valid2)\n",
    "X_test2  = pipeline.fit_transform(X_test)\n",
    "y_test2 = y_test"
   ]
  },
  {
   "cell_type": "markdown",
   "metadata": {},
   "source": [
    "### Neural Network"
   ]
  },
  {
   "cell_type": "markdown",
   "metadata": {},
   "source": [
    "#### Model"
   ]
  },
  {
   "cell_type": "code",
   "execution_count": 83,
   "metadata": {},
   "outputs": [],
   "source": [
    "from tensorflow.keras.models import Sequential\n",
    "from tensorflow.keras.layers import InputLayer, Dense"
   ]
  },
  {
   "cell_type": "code",
   "execution_count": 84,
   "metadata": {},
   "outputs": [],
   "source": [
    "# tf.random.set_random_seed(87)\n",
    "tf.random.set_seed(87)"
   ]
  },
  {
   "cell_type": "code",
   "execution_count": 85,
   "metadata": {},
   "outputs": [],
   "source": [
    "model2 = Sequential([\n",
    "    InputLayer(input_shape=(22,)),    # input  layer\n",
    "    Dense(45, activation='relu'),     # hidden layer\n",
    "    Dense(1,   activation='sigmoid')  # output layer\n",
    "])"
   ]
  },
  {
   "cell_type": "code",
   "execution_count": 86,
   "metadata": {},
   "outputs": [
    {
     "name": "stdout",
     "output_type": "stream",
     "text": [
      "Model: \"sequential_3\"\n",
      "_________________________________________________________________\n",
      " Layer (type)                Output Shape              Param #   \n",
      "=================================================================\n",
      " dense_6 (Dense)             (None, 45)                1035      \n",
      "                                                                 \n",
      " dense_7 (Dense)             (None, 1)                 46        \n",
      "                                                                 \n",
      "=================================================================\n",
      "Total params: 1,081\n",
      "Trainable params: 1,081\n",
      "Non-trainable params: 0\n",
      "_________________________________________________________________\n"
     ]
    }
   ],
   "source": [
    "model2.summary()"
   ]
  },
  {
   "cell_type": "markdown",
   "metadata": {},
   "source": [
    "#### Compile the Model"
   ]
  },
  {
   "cell_type": "code",
   "execution_count": 87,
   "metadata": {},
   "outputs": [],
   "source": [
    "model2.compile(loss='binary_crossentropy',\n",
    "             optimizer='sgd',\n",
    "             metrics=['accuracy'])"
   ]
  },
  {
   "cell_type": "markdown",
   "metadata": {},
   "source": [
    "#### Prepare Callbacks"
   ]
  },
  {
   "cell_type": "code",
   "execution_count": 88,
   "metadata": {},
   "outputs": [],
   "source": [
    "from tensorflow.keras.callbacks import ModelCheckpoint, EarlyStopping\n",
    "\n",
    "checkpoint_cb = ModelCheckpoint('../SavedModels/best_model.h5',\n",
    "                                save_best_only=True)\n",
    "\n",
    "early_stopping_cb = EarlyStopping(patience=3,\n",
    "                                  restore_best_weights=True)"
   ]
  },
  {
   "cell_type": "markdown",
   "metadata": {},
   "source": [
    "### Training"
   ]
  },
  {
   "cell_type": "code",
   "execution_count": 89,
   "metadata": {},
   "outputs": [
    {
     "name": "stdout",
     "output_type": "stream",
     "text": [
      "Epoch 1/100\n",
      "201/201 [==============================] - 1s 2ms/step - loss: 0.4287 - accuracy: 0.8462 - val_loss: 0.4293 - val_accuracy: 0.8700\n",
      "Epoch 2/100\n",
      "201/201 [==============================] - 0s 1ms/step - loss: 0.2840 - accuracy: 0.9024 - val_loss: 0.2692 - val_accuracy: 0.9160\n",
      "Epoch 3/100\n",
      "201/201 [==============================] - 0s 1ms/step - loss: 0.2396 - accuracy: 0.9157 - val_loss: 0.2382 - val_accuracy: 0.9120\n",
      "Epoch 4/100\n",
      "201/201 [==============================] - 0s 2ms/step - loss: 0.2148 - accuracy: 0.9246 - val_loss: 0.2162 - val_accuracy: 0.9120\n",
      "Epoch 5/100\n",
      "201/201 [==============================] - 0s 1ms/step - loss: 0.1982 - accuracy: 0.9250 - val_loss: 0.1995 - val_accuracy: 0.9220\n",
      "Epoch 6/100\n",
      "201/201 [==============================] - 0s 1ms/step - loss: 0.1830 - accuracy: 0.9274 - val_loss: 0.1935 - val_accuracy: 0.9320\n",
      "Epoch 7/100\n",
      "201/201 [==============================] - 0s 1ms/step - loss: 0.1711 - accuracy: 0.9319 - val_loss: 0.1825 - val_accuracy: 0.9360\n",
      "Epoch 8/100\n",
      "201/201 [==============================] - 0s 1ms/step - loss: 0.1593 - accuracy: 0.9369 - val_loss: 0.1772 - val_accuracy: 0.9400\n",
      "Epoch 9/100\n",
      "201/201 [==============================] - 0s 992us/step - loss: 0.1506 - accuracy: 0.9371 - val_loss: 0.2107 - val_accuracy: 0.9140\n",
      "Epoch 10/100\n",
      "201/201 [==============================] - 0s 2ms/step - loss: 0.1416 - accuracy: 0.9430 - val_loss: 0.1546 - val_accuracy: 0.9320\n",
      "Epoch 11/100\n",
      "201/201 [==============================] - 0s 2ms/step - loss: 0.1318 - accuracy: 0.9483 - val_loss: 0.1498 - val_accuracy: 0.9400\n",
      "Epoch 12/100\n",
      "201/201 [==============================] - 0s 2ms/step - loss: 0.1245 - accuracy: 0.9522 - val_loss: 0.1347 - val_accuracy: 0.9480\n",
      "Epoch 13/100\n",
      "201/201 [==============================] - 0s 2ms/step - loss: 0.1168 - accuracy: 0.9566 - val_loss: 0.1395 - val_accuracy: 0.9460\n",
      "Epoch 14/100\n",
      "201/201 [==============================] - ETA: 0s - loss: 0.1084 - accuracy: 0.96 - 0s 2ms/step - loss: 0.1093 - accuracy: 0.9608 - val_loss: 0.1302 - val_accuracy: 0.9460\n",
      "Epoch 15/100\n",
      "201/201 [==============================] - 0s 1ms/step - loss: 0.1022 - accuracy: 0.9639 - val_loss: 0.1632 - val_accuracy: 0.9280\n",
      "Epoch 16/100\n",
      "201/201 [==============================] - 0s 1ms/step - loss: 0.0951 - accuracy: 0.9688 - val_loss: 0.1173 - val_accuracy: 0.9620\n",
      "Epoch 17/100\n",
      "201/201 [==============================] - 0s 1ms/step - loss: 0.0894 - accuracy: 0.9730 - val_loss: 0.1173 - val_accuracy: 0.9620\n",
      "Epoch 18/100\n",
      "201/201 [==============================] - 0s 937us/step - loss: 0.0841 - accuracy: 0.9749 - val_loss: 0.1069 - val_accuracy: 0.9680\n",
      "Epoch 19/100\n",
      "201/201 [==============================] - 0s 2ms/step - loss: 0.0787 - accuracy: 0.9772 - val_loss: 0.1006 - val_accuracy: 0.9720\n",
      "Epoch 20/100\n",
      "201/201 [==============================] - 0s 1ms/step - loss: 0.0747 - accuracy: 0.9788 - val_loss: 0.0969 - val_accuracy: 0.9720\n",
      "Epoch 21/100\n",
      "201/201 [==============================] - 0s 1ms/step - loss: 0.0704 - accuracy: 0.9791 - val_loss: 0.0977 - val_accuracy: 0.9700\n",
      "Epoch 22/100\n",
      "201/201 [==============================] - 0s 1ms/step - loss: 0.0658 - accuracy: 0.9836 - val_loss: 0.1010 - val_accuracy: 0.9700\n",
      "Epoch 23/100\n",
      "201/201 [==============================] - 0s 1ms/step - loss: 0.0626 - accuracy: 0.9827 - val_loss: 0.1004 - val_accuracy: 0.9700\n"
     ]
    }
   ],
   "source": [
    "train_model2 = model2.fit(X_train2, y_train2,\n",
    "                        epochs=100,\n",
    "                        validation_data=(X_valid2, y_valid2),\n",
    "                        callbacks=[checkpoint_cb, early_stopping_cb])\n",
    "                        \n"
   ]
  },
  {
   "cell_type": "markdown",
   "metadata": {},
   "source": [
    "### Evaluate the Best Model on Test Set"
   ]
  },
  {
   "cell_type": "code",
   "execution_count": 90,
   "metadata": {},
   "outputs": [
    {
     "name": "stdout",
     "output_type": "stream",
     "text": [
      "63/63 [==============================] - 0s 1ms/step - loss: 0.1416 - accuracy: 0.9450\n",
      "test loss, test acc: [0.14162448048591614, 0.9449999928474426]\n"
     ]
    }
   ],
   "source": [
    "results2 = model2.evaluate(X_test2, y_test2)\n",
    "print(\"test loss, test acc:\", results2)"
   ]
  },
  {
   "cell_type": "markdown",
   "metadata": {},
   "source": [
    "### Make Some Predictions"
   ]
  },
  {
   "cell_type": "code",
   "execution_count": 91,
   "metadata": {},
   "outputs": [],
   "source": [
    "X_new2 = X_test2[1100:1110]\n",
    "y_prob2 = model2.predict(X_new2)\n",
    "# print(y_prob2.round(3))"
   ]
  },
  {
   "cell_type": "code",
   "execution_count": 92,
   "metadata": {},
   "outputs": [],
   "source": [
    "y_pred2 = (model2.predict(X_new2) > 0.5).astype(\"int32\")\n",
    "# print(y_pred2)\n",
    "y_test_pred2 = (model2.predict(X_test2) > 0.5).astype(\"int32\")"
   ]
  },
  {
   "cell_type": "markdown",
   "metadata": {},
   "source": [
    "## KL Divergence"
   ]
  },
  {
   "cell_type": "code",
   "execution_count": 93,
   "metadata": {},
   "outputs": [
    {
     "name": "stdout",
     "output_type": "stream",
     "text": [
      "        X_pred  y_pred  y_actual\n",
      "0     0.004670       0         0\n",
      "1     0.012465       0         0\n",
      "2     0.053817       0         0\n",
      "3     0.001604       0         0\n",
      "4     0.983223       1         1\n",
      "...        ...     ...       ...\n",
      "1995  0.240175       0         1\n",
      "1996  0.311747       0         0\n",
      "1997  0.874915       1         1\n",
      "1998  0.275136       0         0\n",
      "1999  0.990362       1         1\n",
      "\n",
      "[2000 rows x 3 columns]\n"
     ]
    }
   ],
   "source": [
    "# X_new = X_test[:5]\n",
    "X_df2 = pd.DataFrame(model2.predict(X_test2))\n",
    "y_test_pred2 = pd.DataFrame(y_test_pred2).reset_index(drop=True)\n",
    "X_df2 = pd.concat([X_df2, y_test_pred2], axis=1)\n",
    "y_test2 = y_test2.reset_index(drop=True)\n",
    "X_df2 = pd.concat([X_df2, y_test2], axis=1)\n",
    "X_df2.columns = [\"X_pred\",\"y_pred\",\"y_actual\"]\n",
    "print(X_df2)"
   ]
  },
  {
   "cell_type": "code",
   "execution_count": 94,
   "metadata": {},
   "outputs": [
    {
     "name": "stdout",
     "output_type": "stream",
     "text": [
      "        KL_div abs_distance y_pred correctness\n",
      "0     0.029719     0.990661      0           1\n",
      "1     0.067043      0.97507      0           1\n",
      "2     0.209604     0.892366      0           1\n",
      "3     0.011922     0.996793      0           1\n",
      "4     0.085215     0.966446      1           1\n",
      "...        ...          ...    ...         ...\n",
      "1995  0.551281     0.519651      0           0\n",
      "1996  0.620491     0.376506      0           1\n",
      "1997  0.376936     0.749829      1           1\n",
      "1998    0.5883     0.449728      0           1\n",
      "1999  0.054334     0.980723      1           1\n",
      "\n",
      "[2000 rows x 4 columns]\n"
     ]
    }
   ],
   "source": [
    "import math\n",
    "table2 = pd.DataFrame(columns=[\"KL_div\",\"abs_distance\",\"y_pred\",\"correctness\"])\n",
    "for i in range(0,len(X_df2)):\n",
    "    # KL divergence\n",
    "    p = X_df2.loc[i,\"X_pred\"]\n",
    "    kl = -(p*math.log(p) + (1-p)*math.log(1-p))\n",
    "    table2.loc[i,\"KL_div\"] = kl\n",
    "    # absolute distance\n",
    "    abs_dist = 2*abs(0.5-p)\n",
    "    table2.loc[i,\"abs_distance\"] = abs_dist\n",
    "    # correctness\n",
    "    y_pred = X_df2.loc[i,\"y_pred\"]\n",
    "    y_act = X_df2.loc[i,\"y_actual\"]\n",
    "    if y_pred == y_act:\n",
    "        table2.loc[i,\"correctness\"] = 1 # correct prediction\n",
    "    else:\n",
    "        table2.loc[i,\"correctness\"] = 0 # wrong prediction\n",
    "    table2.loc[i,\"y_pred\"] = y_pred\n",
    "\n",
    "print(table2)"
   ]
  },
  {
   "cell_type": "code",
   "execution_count": 95,
   "metadata": {},
   "outputs": [
    {
     "name": "stdout",
     "output_type": "stream",
     "text": [
      "            correctness  count     percent\n",
      "KL_div                                    \n",
      "(0.0, 0.1]         1129   1129  100.000000\n",
      "(0.1, 0.2]          207    209   99.043062\n",
      "(0.2, 0.3]          157    162   96.913580\n",
      "(0.3, 0.4]          110    120   91.666667\n",
      "(0.4, 0.5]           88     95   92.631579\n",
      "(0.5, 0.6]           74     99   74.747475\n",
      "(0.6, 0.7]          125    186   67.204301\n"
     ]
    }
   ],
   "source": [
    "table2[\"count\"] = 1\n",
    "correctness2 = table2[[\"correctness\",\"count\"]].groupby(pd.cut(table2[\"KL_div\"], np.arange(0, 0.8, 0.1))).apply(sum)\n",
    "correctness2[\"percent\"] = 100*(correctness2[\"correctness\"]/correctness2[\"count\"])\n",
    "print(correctness2)"
   ]
  },
  {
   "cell_type": "code",
   "execution_count": 96,
   "metadata": {},
   "outputs": [
    {
     "data": {
      "text/plain": [
       "Text(0, 0.5, '% correct')"
      ]
     },
     "execution_count": 96,
     "metadata": {},
     "output_type": "execute_result"
    },
    {
     "data": {
      "image/png": "[encoded data removed]",
      "text/plain": [
       "<Figure size 432x288 with 1 Axes>"
      ]
     },
     "metadata": {
      "needs_background": "light"
     },
     "output_type": "display_data"
    }
   ],
   "source": [
    "index = []\n",
    "for i in (correctness2.index):\n",
    "    index.append(str(i))\n",
    "plt.bar(index,correctness2[\"percent\"], width=0.7)\n",
    "for index,data in enumerate(correctness2[\"percent\"]):\n",
    "    plt.text(x=index , y =data+1 , s=f\"{round(data,2)}\" , fontdict=dict(fontsize=15),ha='center')\n",
    "plt.ylim(0,110)\n",
    "plt.xlabel(\"KL Divergence\")\n",
    "plt.ylabel(\"% correct\")"
   ]
  },
  {
   "cell_type": "markdown",
   "metadata": {},
   "source": [
    "### Confidence"
   ]
  },
  {
   "cell_type": "code",
   "execution_count": 97,
   "metadata": {},
   "outputs": [
    {
     "data": {
      "text/plain": [
       "<matplotlib.collections.PathCollection at 0x271b8f23f70>"
      ]
     },
     "execution_count": 97,
     "metadata": {},
     "output_type": "execute_result"
    },
    {
     "data": {
      "image/png": "[encoded data removed]",
      "text/plain": [
       "<Figure size 432x288 with 1 Axes>"
      ]
     },
     "metadata": {
      "needs_background": "light"
     },
     "output_type": "display_data"
    }
   ],
   "source": [
    "kl2 = table2[[\"correctness\",\"count\"]].groupby(pd.cut(table2[\"KL_div\"], np.arange(0, 0.8, 0.1))).apply(sum)\n",
    "kl2[\"percent\"] = (kl2[\"correctness\"]/kl2[\"count\"])\n",
    "kl2.dropna(inplace=True)\n",
    "plt.scatter(np.arange(0, 0.70, 0.1), kl2[\"percent\"])\n",
    "# print(kl)\n",
    "# print(np.arange(0, 0.7, 0.05))"
   ]
  },
  {
   "cell_type": "code",
   "execution_count": 98,
   "metadata": {},
   "outputs": [],
   "source": [
    "# Linear Regression\n",
    "from sklearn.linear_model import LinearRegression\n",
    "\n",
    "x_reg2 = np.arange(0, 0.7, 0.1).reshape((-1, 1))\n",
    "y_reg2 = kl2[\"percent\"]\n",
    "reg_model2 = LinearRegression().fit(x_reg2,y_reg2)"
   ]
  },
  {
   "cell_type": "code",
   "execution_count": 99,
   "metadata": {},
   "outputs": [
    {
     "name": "stdout",
     "output_type": "stream",
     "text": [
      "intercept(alpha): 1.0509312408859663\n",
      "slope(theta): [-0.54021526]\n"
     ]
    }
   ],
   "source": [
    "print('intercept(alpha):', reg_model2.intercept_)\n",
    "print('slope(theta):', reg_model2.coef_)"
   ]
  },
  {
   "cell_type": "markdown",
   "metadata": {},
   "source": [
    "## Algorithm C: It = argmax(Ct,i)"
   ]
  },
  {
   "cell_type": "code",
   "execution_count": 100,
   "metadata": {},
   "outputs": [],
   "source": [
    "# Correct answer\n",
    "ans = pd.DataFrame(X_df2[\"y_actual\"])\n",
    "\n",
    "# NN1\n",
    "alpha1 = reg_model1.intercept_\n",
    "theta1 = reg_model1.coef_\n",
    "\n",
    "# NN2\n",
    "alpha2 = reg_model2.intercept_\n",
    "theta2 = reg_model2.coef_"
   ]
  },
  {
   "cell_type": "code",
   "execution_count": 101,
   "metadata": {},
   "outputs": [
    {
     "name": "stdout",
     "output_type": "stream",
     "text": [
      "             correctness  count   percent\n",
      "KL_div                                   \n",
      "(0.0, 0.05]        817.0  817.0  1.000000\n",
      "(0.05, 0.1]        312.0  312.0  1.000000\n",
      "(0.1, 0.15]        118.0  119.0  0.991597\n",
      "(0.15, 0.2]         89.0   90.0  0.988889\n",
      "(0.2, 0.25]         85.0   87.0  0.977011\n",
      "(0.25, 0.3]         72.0   75.0  0.960000\n",
      "(0.3, 0.35]         61.0   66.0  0.924242\n",
      "(0.35, 0.4]         49.0   54.0  0.907407\n",
      "(0.4, 0.45]         41.0   43.0  0.953488\n",
      "(0.45, 0.5]         47.0   52.0  0.903846\n",
      "(0.5, 0.55]         39.0   51.0  0.764706\n",
      "(0.55, 0.6]         35.0   48.0  0.729167\n",
      "(0.6, 0.65]         38.0   55.0  0.690909\n",
      "(0.65, 0.7]         87.0  131.0  0.664122\n",
      "(0.7, 0.75]          0.0    0.0       NaN\n"
     ]
    }
   ],
   "source": [
    "kl_div_table1 = table1[[\"correctness\",\"count\"]].groupby(pd.cut(table1[\"KL_div\"], np.arange(0, 0.8, 0.05))).apply(sum)\n",
    "kl_div_table1[\"percent\"] = (kl_div_table1[\"correctness\"]/kl_div_table1[\"count\"])\n",
    "\n",
    "kl_div_table2 = table2[[\"correctness\",\"count\"]].groupby(pd.cut(table2[\"KL_div\"], np.arange(0, 0.8, 0.05))).apply(sum)\n",
    "kl_div_table2[\"percent\"] = (kl_div_table2[\"correctness\"]/kl_div_table2[\"count\"])\n",
    "print(kl_div_table2)"
   ]
  },
  {
   "cell_type": "code",
   "execution_count": 102,
   "metadata": {},
   "outputs": [
    {
     "data": {
      "text/html": [
       "<div>\n",
       "<style scoped>\n",
       "    .dataframe tbody tr th:only-of-type {\n",
       "        vertical-align: middle;\n",
       "    }\n",
       "\n",
       "    .dataframe tbody tr th {\n",
       "        vertical-align: top;\n",
       "    }\n",
       "\n",
       "    .dataframe thead th {\n",
       "        text-align: right;\n",
       "    }\n",
       "</style>\n",
       "<table border=\"1\" class=\"dataframe\">\n",
       "  <thead>\n",
       "    <tr style=\"text-align: right;\">\n",
       "      <th></th>\n",
       "      <th>KL_div</th>\n",
       "      <th>y_pred</th>\n",
       "      <th>count</th>\n",
       "      <th>conf</th>\n",
       "    </tr>\n",
       "  </thead>\n",
       "  <tbody>\n",
       "    <tr>\n",
       "      <th>0</th>\n",
       "      <td>0.025104</td>\n",
       "      <td>0.0</td>\n",
       "      <td>1</td>\n",
       "      <td>0.98614</td>\n",
       "    </tr>\n",
       "    <tr>\n",
       "      <th>1</th>\n",
       "      <td>0.042449</td>\n",
       "      <td>0.0</td>\n",
       "      <td>1</td>\n",
       "      <td>0.976564</td>\n",
       "    </tr>\n",
       "    <tr>\n",
       "      <th>2</th>\n",
       "      <td>0.191694</td>\n",
       "      <td>0.0</td>\n",
       "      <td>1</td>\n",
       "      <td>0.894165</td>\n",
       "    </tr>\n",
       "    <tr>\n",
       "      <th>3</th>\n",
       "      <td>0.007217</td>\n",
       "      <td>0.0</td>\n",
       "      <td>1</td>\n",
       "      <td>0.996015</td>\n",
       "    </tr>\n",
       "    <tr>\n",
       "      <th>4</th>\n",
       "      <td>0.056193</td>\n",
       "      <td>1.0</td>\n",
       "      <td>1</td>\n",
       "      <td>0.968975</td>\n",
       "    </tr>\n",
       "    <tr>\n",
       "      <th>...</th>\n",
       "      <td>...</td>\n",
       "      <td>...</td>\n",
       "      <td>...</td>\n",
       "      <td>...</td>\n",
       "    </tr>\n",
       "    <tr>\n",
       "      <th>1995</th>\n",
       "      <td>0.691328</td>\n",
       "      <td>1.0</td>\n",
       "      <td>1</td>\n",
       "      <td>0.618315</td>\n",
       "    </tr>\n",
       "    <tr>\n",
       "      <th>1996</th>\n",
       "      <td>0.256111</td>\n",
       "      <td>0.0</td>\n",
       "      <td>1</td>\n",
       "      <td>0.8586</td>\n",
       "    </tr>\n",
       "    <tr>\n",
       "      <th>1997</th>\n",
       "      <td>0.195633</td>\n",
       "      <td>1.0</td>\n",
       "      <td>1</td>\n",
       "      <td>0.89199</td>\n",
       "    </tr>\n",
       "    <tr>\n",
       "      <th>1998</th>\n",
       "      <td>0.182539</td>\n",
       "      <td>0.0</td>\n",
       "      <td>1</td>\n",
       "      <td>0.899219</td>\n",
       "    </tr>\n",
       "    <tr>\n",
       "      <th>1999</th>\n",
       "      <td>0.004977</td>\n",
       "      <td>1.0</td>\n",
       "      <td>1</td>\n",
       "      <td>0.997252</td>\n",
       "    </tr>\n",
       "  </tbody>\n",
       "</table>\n",
       "<p>2000 rows × 4 columns</p>\n",
       "</div>"
      ],
      "text/plain": [
       "        KL_div  y_pred  count      conf\n",
       "0     0.025104     0.0      1   0.98614\n",
       "1     0.042449     0.0      1  0.976564\n",
       "2     0.191694     0.0      1  0.894165\n",
       "3     0.007217     0.0      1  0.996015\n",
       "4     0.056193     1.0      1  0.968975\n",
       "...        ...     ...    ...       ...\n",
       "1995  0.691328     1.0      1  0.618315\n",
       "1996  0.256111     0.0      1    0.8586\n",
       "1997  0.195633     1.0      1   0.89199\n",
       "1998  0.182539     0.0      1  0.899219\n",
       "1999  0.004977     1.0      1  0.997252\n",
       "\n",
       "[2000 rows x 4 columns]"
      ]
     },
     "execution_count": 102,
     "metadata": {},
     "output_type": "execute_result"
    }
   ],
   "source": [
    "# Creating NN tables\n",
    "nn1 = table1.drop([\"abs_distance\",\"correctness\"], axis=1)\n",
    "nn1[\"conf\"] = 1 + theta1 * nn1[\"KL_div\"]\n",
    "\n",
    "# for i in range(0,len(nn1)):\n",
    "#     nn1.loc[i,\"conf\"] = kl_div_table1.loc[nn1.loc[i,\"KL_div\"],\"percent\"]\n",
    "\n",
    "nn2 = table2.drop([\"abs_distance\",\"correctness\"], axis=1)\n",
    "nn2[\"conf\"] = 1 + theta2 * nn2[\"KL_div\"]\n",
    "\n",
    "# for i in range(0,len(nn2)):\n",
    "#     nn2.loc[i,\"conf\"] = kl_div_table2.loc[nn2.loc[i,\"KL_div\"],\"percent\"]\n",
    "nn1"
   ]
  },
  {
   "cell_type": "code",
   "execution_count": 103,
   "metadata": {},
   "outputs": [
    {
     "data": {
      "text/html": [
       "<div>\n",
       "<style scoped>\n",
       "    .dataframe tbody tr th:only-of-type {\n",
       "        vertical-align: middle;\n",
       "    }\n",
       "\n",
       "    .dataframe tbody tr th {\n",
       "        vertical-align: top;\n",
       "    }\n",
       "\n",
       "    .dataframe thead th {\n",
       "        text-align: right;\n",
       "    }\n",
       "</style>\n",
       "<table border=\"1\" class=\"dataframe\">\n",
       "  <thead>\n",
       "    <tr style=\"text-align: right;\">\n",
       "      <th></th>\n",
       "      <th>y_actual</th>\n",
       "      <th>y_pred</th>\n",
       "      <th>chosen_NN</th>\n",
       "      <th>chosen_conf</th>\n",
       "      <th>not_NN</th>\n",
       "      <th>not_conf</th>\n",
       "    </tr>\n",
       "  </thead>\n",
       "  <tbody>\n",
       "    <tr>\n",
       "      <th>0</th>\n",
       "      <td>0</td>\n",
       "      <td>0.0</td>\n",
       "      <td>1.0</td>\n",
       "      <td>0.986140</td>\n",
       "      <td>2.0</td>\n",
       "      <td>0.983945</td>\n",
       "    </tr>\n",
       "    <tr>\n",
       "      <th>1</th>\n",
       "      <td>0</td>\n",
       "      <td>0.0</td>\n",
       "      <td>1.0</td>\n",
       "      <td>0.976564</td>\n",
       "      <td>2.0</td>\n",
       "      <td>0.963782</td>\n",
       "    </tr>\n",
       "    <tr>\n",
       "      <th>2</th>\n",
       "      <td>0</td>\n",
       "      <td>0.0</td>\n",
       "      <td>1.0</td>\n",
       "      <td>0.894165</td>\n",
       "      <td>2.0</td>\n",
       "      <td>0.886768</td>\n",
       "    </tr>\n",
       "    <tr>\n",
       "      <th>3</th>\n",
       "      <td>0</td>\n",
       "      <td>0.0</td>\n",
       "      <td>1.0</td>\n",
       "      <td>0.996015</td>\n",
       "      <td>2.0</td>\n",
       "      <td>0.993560</td>\n",
       "    </tr>\n",
       "    <tr>\n",
       "      <th>4</th>\n",
       "      <td>1</td>\n",
       "      <td>1.0</td>\n",
       "      <td>1.0</td>\n",
       "      <td>0.968975</td>\n",
       "      <td>2.0</td>\n",
       "      <td>0.953965</td>\n",
       "    </tr>\n",
       "    <tr>\n",
       "      <th>...</th>\n",
       "      <td>...</td>\n",
       "      <td>...</td>\n",
       "      <td>...</td>\n",
       "      <td>...</td>\n",
       "      <td>...</td>\n",
       "      <td>...</td>\n",
       "    </tr>\n",
       "    <tr>\n",
       "      <th>1995</th>\n",
       "      <td>1</td>\n",
       "      <td>0.0</td>\n",
       "      <td>2.0</td>\n",
       "      <td>0.702190</td>\n",
       "      <td>1.0</td>\n",
       "      <td>0.618315</td>\n",
       "    </tr>\n",
       "    <tr>\n",
       "      <th>1996</th>\n",
       "      <td>0</td>\n",
       "      <td>0.0</td>\n",
       "      <td>1.0</td>\n",
       "      <td>0.858600</td>\n",
       "      <td>2.0</td>\n",
       "      <td>0.664801</td>\n",
       "    </tr>\n",
       "    <tr>\n",
       "      <th>1997</th>\n",
       "      <td>1</td>\n",
       "      <td>1.0</td>\n",
       "      <td>1.0</td>\n",
       "      <td>0.891990</td>\n",
       "      <td>2.0</td>\n",
       "      <td>0.796373</td>\n",
       "    </tr>\n",
       "    <tr>\n",
       "      <th>1998</th>\n",
       "      <td>0</td>\n",
       "      <td>0.0</td>\n",
       "      <td>1.0</td>\n",
       "      <td>0.899219</td>\n",
       "      <td>2.0</td>\n",
       "      <td>0.682191</td>\n",
       "    </tr>\n",
       "    <tr>\n",
       "      <th>1999</th>\n",
       "      <td>1</td>\n",
       "      <td>1.0</td>\n",
       "      <td>1.0</td>\n",
       "      <td>0.997252</td>\n",
       "      <td>2.0</td>\n",
       "      <td>0.970648</td>\n",
       "    </tr>\n",
       "  </tbody>\n",
       "</table>\n",
       "<p>2000 rows × 6 columns</p>\n",
       "</div>"
      ],
      "text/plain": [
       "      y_actual  y_pred  chosen_NN  chosen_conf  not_NN  not_conf\n",
       "0            0     0.0        1.0     0.986140     2.0  0.983945\n",
       "1            0     0.0        1.0     0.976564     2.0  0.963782\n",
       "2            0     0.0        1.0     0.894165     2.0  0.886768\n",
       "3            0     0.0        1.0     0.996015     2.0  0.993560\n",
       "4            1     1.0        1.0     0.968975     2.0  0.953965\n",
       "...        ...     ...        ...          ...     ...       ...\n",
       "1995         1     0.0        2.0     0.702190     1.0  0.618315\n",
       "1996         0     0.0        1.0     0.858600     2.0  0.664801\n",
       "1997         1     1.0        1.0     0.891990     2.0  0.796373\n",
       "1998         0     0.0        1.0     0.899219     2.0  0.682191\n",
       "1999         1     1.0        1.0     0.997252     2.0  0.970648\n",
       "\n",
       "[2000 rows x 6 columns]"
      ]
     },
     "execution_count": 103,
     "metadata": {},
     "output_type": "execute_result"
    }
   ],
   "source": [
    "# Determing higher confidence NN and choosing that arm\n",
    "\n",
    "for i in range(0,len(nn1)):\n",
    "    if nn1.loc[i,\"conf\"] > nn2.loc[i,\"conf\"]:\n",
    "        ans.loc[i,\"y_pred\"] = nn1.loc[i,\"y_pred\"]\n",
    "        ans.loc[i,\"chosen_NN\"] = 1\n",
    "        ans.loc[i,\"chosen_conf\"] = nn1.loc[i,\"conf\"]\n",
    "\n",
    "        ans.loc[i,\"not_NN\"] = 2\n",
    "        ans.loc[i,\"not_conf\"] = nn2.loc[i,\"conf\"]\n",
    "    else:\n",
    "        ans.loc[i,\"y_pred\"] = nn2.loc[i,\"y_pred\"]\n",
    "        ans.loc[i,\"chosen_NN\"] = 2\n",
    "        ans.loc[i,\"chosen_conf\"] = nn2.loc[i,\"conf\"]\n",
    "\n",
    "        ans.loc[i,\"not_NN\"] = 1\n",
    "        ans.loc[i,\"not_conf\"] = nn1.loc[i,\"conf\"]\n",
    "\n",
    "ans"
   ]
  },
  {
   "cell_type": "markdown",
   "metadata": {},
   "source": [
    "#### Comparing performance"
   ]
  },
  {
   "cell_type": "code",
   "execution_count": 106,
   "metadata": {},
   "outputs": [],
   "source": [
    "wrong_record = \"\"\n",
    "# NN1 performance\n",
    "cost1 = 0\n",
    "for i in range(0,len(nn1)):\n",
    "    if nn1.loc[i,\"y_pred\"] != ans.loc[i,\"y_actual\"]:\n",
    "        # cost1 += 1 * nn1.loc[i,\"conf\"]\n",
    "        cost1 += 1\n",
    "    else:\n",
    "        pass\n",
    "\n",
    "# NN2 performance\n",
    "cost2 = 0\n",
    "for i in range(0,len(nn2)):\n",
    "    if nn2.loc[i,\"y_pred\"] != ans.loc[i,\"y_actual\"]:\n",
    "        # cost2 += 1 * nn2.loc[i,\"conf\"]\n",
    "        cost2 += 1\n",
    "    else:\n",
    "        pass\n",
    "\n",
    "# Combined performance\n",
    "cost3 = 0\n",
    "for i in range(0,len(nn1)):\n",
    "    chosen_nn = int(ans.loc[i,\"chosen_NN\"])\n",
    "    chosen_nn_conf = round(ans.loc[i,\"chosen_conf\"],3)\n",
    "    not_nn = int(ans.loc[i,\"not_NN\"])\n",
    "    not_nn_conf = round(ans.loc[i,\"not_conf\"],3)\n",
    "    if ans.loc[i,\"y_pred\"] != ans.loc[i,\"y_actual\"]:\n",
    "        cost3 += 1\n",
    "        # cost3 += 1 * ans.loc[i,\"chosen_conf\"]\n",
    "        wrong_record = wrong_record + (f\"{i}: Wrong NN:{chosen_nn}, Conf:{chosen_nn_conf} - Other NN{not_nn}, Conf:{not_nn_conf} \") + \"\\n\"\n",
    "    else:\n",
    "        pass"
   ]
  },
  {
   "cell_type": "code",
   "execution_count": 107,
   "metadata": {},
   "outputs": [
    {
     "name": "stdout",
     "output_type": "stream",
     "text": [
      "8: Wrong NN:1, Conf:0.757 - Other NN2, Conf:0.648 \n",
      "72: Wrong NN:2, Conf:0.721 - Other NN1, Conf:0.622 \n",
      "119: Wrong NN:2, Conf:0.831 - Other NN1, Conf:0.665 \n",
      "127: Wrong NN:2, Conf:0.689 - Other NN1, Conf:0.666 \n",
      "226: Wrong NN:2, Conf:0.681 - Other NN1, Conf:0.653 \n",
      "234: Wrong NN:2, Conf:0.804 - Other NN1, Conf:0.62 \n",
      "271: Wrong NN:2, Conf:0.688 - Other NN1, Conf:0.653 \n",
      "292: Wrong NN:1, Conf:0.877 - Other NN2, Conf:0.695 \n",
      "317: Wrong NN:2, Conf:0.714 - Other NN1, Conf:0.62 \n",
      "346: Wrong NN:2, Conf:0.817 - Other NN1, Conf:0.619 \n",
      "353: Wrong NN:2, Conf:0.749 - Other NN1, Conf:0.729 \n",
      "386: Wrong NN:2, Conf:0.744 - Other NN1, Conf:0.618 \n",
      "397: Wrong NN:2, Conf:0.745 - Other NN1, Conf:0.619 \n",
      "444: Wrong NN:2, Conf:0.628 - Other NN1, Conf:0.621 \n",
      "471: Wrong NN:2, Conf:0.829 - Other NN1, Conf:0.623 \n",
      "515: Wrong NN:2, Conf:0.739 - Other NN1, Conf:0.709 \n",
      "578: Wrong NN:2, Conf:0.652 - Other NN1, Conf:0.621 \n",
      "601: Wrong NN:2, Conf:0.722 - Other NN1, Conf:0.631 \n",
      "624: Wrong NN:2, Conf:0.682 - Other NN1, Conf:0.658 \n",
      "633: Wrong NN:2, Conf:0.779 - Other NN1, Conf:0.62 \n",
      "669: Wrong NN:2, Conf:0.856 - Other NN1, Conf:0.713 \n",
      "737: Wrong NN:1, Conf:0.628 - Other NN2, Conf:0.626 \n",
      "738: Wrong NN:1, Conf:0.811 - Other NN2, Conf:0.635 \n",
      "815: Wrong NN:2, Conf:0.699 - Other NN1, Conf:0.634 \n",
      "842: Wrong NN:2, Conf:0.753 - Other NN1, Conf:0.629 \n",
      "931: Wrong NN:2, Conf:0.92 - Other NN1, Conf:0.695 \n",
      "940: Wrong NN:1, Conf:0.852 - Other NN2, Conf:0.738 \n",
      "943: Wrong NN:1, Conf:0.757 - Other NN2, Conf:0.637 \n",
      "982: Wrong NN:2, Conf:0.692 - Other NN1, Conf:0.641 \n",
      "990: Wrong NN:2, Conf:0.729 - Other NN1, Conf:0.626 \n",
      "1075: Wrong NN:1, Conf:0.737 - Other NN2, Conf:0.697 \n",
      "1092: Wrong NN:2, Conf:0.687 - Other NN1, Conf:0.627 \n",
      "1256: Wrong NN:2, Conf:0.647 - Other NN1, Conf:0.628 \n",
      "1275: Wrong NN:1, Conf:0.72 - Other NN2, Conf:0.707 \n",
      "1334: Wrong NN:2, Conf:0.725 - Other NN1, Conf:0.626 \n",
      "1346: Wrong NN:1, Conf:0.76 - Other NN2, Conf:0.638 \n",
      "1386: Wrong NN:1, Conf:0.836 - Other NN2, Conf:0.721 \n",
      "1393: Wrong NN:2, Conf:0.649 - Other NN1, Conf:0.619 \n",
      "1395: Wrong NN:2, Conf:0.808 - Other NN1, Conf:0.664 \n",
      "1430: Wrong NN:2, Conf:0.72 - Other NN1, Conf:0.679 \n",
      "1460: Wrong NN:2, Conf:0.759 - Other NN1, Conf:0.663 \n",
      "1474: Wrong NN:2, Conf:0.725 - Other NN1, Conf:0.646 \n",
      "1503: Wrong NN:2, Conf:0.664 - Other NN1, Conf:0.618 \n",
      "1538: Wrong NN:2, Conf:0.71 - Other NN1, Conf:0.626 \n",
      "1595: Wrong NN:1, Conf:0.745 - Other NN2, Conf:0.679 \n",
      "1617: Wrong NN:1, Conf:0.66 - Other NN2, Conf:0.66 \n",
      "1628: Wrong NN:2, Conf:0.689 - Other NN1, Conf:0.622 \n",
      "1642: Wrong NN:1, Conf:0.78 - Other NN2, Conf:0.742 \n",
      "1683: Wrong NN:2, Conf:0.798 - Other NN1, Conf:0.785 \n",
      "1696: Wrong NN:2, Conf:0.872 - Other NN1, Conf:0.63 \n",
      "1720: Wrong NN:2, Conf:0.822 - Other NN1, Conf:0.675 \n",
      "1732: Wrong NN:1, Conf:0.793 - Other NN2, Conf:0.7 \n",
      "1735: Wrong NN:2, Conf:0.715 - Other NN1, Conf:0.634 \n",
      "1742: Wrong NN:2, Conf:0.721 - Other NN1, Conf:0.644 \n",
      "1817: Wrong NN:2, Conf:0.727 - Other NN1, Conf:0.662 \n",
      "1821: Wrong NN:1, Conf:0.973 - Other NN2, Conf:0.856 \n",
      "1834: Wrong NN:2, Conf:0.822 - Other NN1, Conf:0.717 \n",
      "1844: Wrong NN:1, Conf:0.982 - Other NN2, Conf:0.879 \n",
      "1856: Wrong NN:2, Conf:0.635 - Other NN1, Conf:0.618 \n",
      "1858: Wrong NN:2, Conf:0.84 - Other NN1, Conf:0.632 \n",
      "1861: Wrong NN:1, Conf:0.957 - Other NN2, Conf:0.81 \n",
      "1900: Wrong NN:1, Conf:0.794 - Other NN2, Conf:0.719 \n",
      "1916: Wrong NN:1, Conf:0.65 - Other NN2, Conf:0.638 \n",
      "1947: Wrong NN:2, Conf:0.792 - Other NN1, Conf:0.685 \n",
      "1957: Wrong NN:2, Conf:0.91 - Other NN1, Conf:0.775 \n",
      "1986: Wrong NN:1, Conf:0.792 - Other NN2, Conf:0.692 \n",
      "1995: Wrong NN:2, Conf:0.702 - Other NN1, Conf:0.618 \n",
      "\n",
      "Error count for NN1:60, NN2:110, Combined:67\n"
     ]
    }
   ],
   "source": [
    "print(wrong_record)\n",
    "print(f\"Error count for NN1:{cost1}, NN2:{cost2}, Combined:{cost3}\")\n"
   ]
  }
 ],
 "metadata": {
  "kernelspec": {
   "display_name": "Python 3",
   "language": "python",
   "name": "python3"
  },
  "language_info": {
   "codemirror_mode": {
    "name": "ipython",
    "version": 3
   },
   "file_extension": ".py",
   "mimetype": "text/x-python",
   "name": "python",
   "nbconvert_exporter": "python",
   "pygments_lexer": "ipython3",
   "version": "3.8.8"
  }
 },
 "nbformat": 4,
 "nbformat_minor": 4
}
