{
 "cells": [
  {
   "cell_type": "markdown",
   "metadata": {},
   "source": [
    "# MUSHROOMS"
   ]
  },
  {
   "cell_type": "markdown",
   "metadata": {},
   "source": [
    "## Binary Classification"
   ]
  },
  {
   "cell_type": "markdown",
   "metadata": {},
   "source": [
    "### Imports"
   ]
  },
  {
   "cell_type": "code",
   "execution_count": 1,
   "metadata": {},
   "outputs": [],
   "source": [
    "import os\n",
    "import pandas as pd\n",
    "import numpy as np\n",
    "\n",
    "import tensorflow as tf\n",
    "from tensorflow import keras\n",
    "\n",
    "import matplotlib.pyplot as plt"
   ]
  },
  {
   "cell_type": "markdown",
   "metadata": {},
   "source": [
    "### Load Data"
   ]
  },
  {
   "cell_type": "code",
   "execution_count": 2,
   "metadata": {},
   "outputs": [],
   "source": [
    "DATA_PATH = '../DATA/'\n",
    "FILE_NAME = 'mushrooms.csv'\n",
    "def load_data(data_path=DATA_PATH, file_name=FILE_NAME):\n",
    "    csv_path = os.path.join(data_path, file_name)\n",
    "    return pd.read_csv(csv_path)\n",
    "\n",
    "dataset = load_data()"
   ]
  },
  {
   "cell_type": "markdown",
   "metadata": {},
   "source": [
    "### View Data and Informations"
   ]
  },
  {
   "cell_type": "code",
   "execution_count": 3,
   "metadata": {},
   "outputs": [
    {
     "data": {
      "text/html": [
       "<div>\n",
       "<style scoped>\n",
       "    .dataframe tbody tr th:only-of-type {\n",
       "        vertical-align: middle;\n",
       "    }\n",
       "\n",
       "    .dataframe tbody tr th {\n",
       "        vertical-align: top;\n",
       "    }\n",
       "\n",
       "    .dataframe thead th {\n",
       "        text-align: right;\n",
       "    }\n",
       "</style>\n",
       "<table border=\"1\" class=\"dataframe\">\n",
       "  <thead>\n",
       "    <tr style=\"text-align: right;\">\n",
       "      <th></th>\n",
       "      <th>class</th>\n",
       "      <th>cap-shape</th>\n",
       "      <th>cap-surface</th>\n",
       "      <th>cap-color</th>\n",
       "      <th>bruises</th>\n",
       "      <th>odor</th>\n",
       "      <th>gill-attachment</th>\n",
       "      <th>gill-spacing</th>\n",
       "      <th>gill-size</th>\n",
       "      <th>gill-color</th>\n",
       "      <th>...</th>\n",
       "      <th>stalk-surface-below-ring</th>\n",
       "      <th>stalk-color-above-ring</th>\n",
       "      <th>stalk-color-below-ring</th>\n",
       "      <th>veil-type</th>\n",
       "      <th>veil-color</th>\n",
       "      <th>ring-number</th>\n",
       "      <th>ring-type</th>\n",
       "      <th>spore-print-color</th>\n",
       "      <th>population</th>\n",
       "      <th>habitat</th>\n",
       "    </tr>\n",
       "  </thead>\n",
       "  <tbody>\n",
       "    <tr>\n",
       "      <th>0</th>\n",
       "      <td>p</td>\n",
       "      <td>x</td>\n",
       "      <td>s</td>\n",
       "      <td>n</td>\n",
       "      <td>t</td>\n",
       "      <td>p</td>\n",
       "      <td>f</td>\n",
       "      <td>c</td>\n",
       "      <td>n</td>\n",
       "      <td>k</td>\n",
       "      <td>...</td>\n",
       "      <td>s</td>\n",
       "      <td>w</td>\n",
       "      <td>w</td>\n",
       "      <td>p</td>\n",
       "      <td>w</td>\n",
       "      <td>o</td>\n",
       "      <td>p</td>\n",
       "      <td>k</td>\n",
       "      <td>s</td>\n",
       "      <td>u</td>\n",
       "    </tr>\n",
       "    <tr>\n",
       "      <th>1</th>\n",
       "      <td>e</td>\n",
       "      <td>x</td>\n",
       "      <td>s</td>\n",
       "      <td>y</td>\n",
       "      <td>t</td>\n",
       "      <td>a</td>\n",
       "      <td>f</td>\n",
       "      <td>c</td>\n",
       "      <td>b</td>\n",
       "      <td>k</td>\n",
       "      <td>...</td>\n",
       "      <td>s</td>\n",
       "      <td>w</td>\n",
       "      <td>w</td>\n",
       "      <td>p</td>\n",
       "      <td>w</td>\n",
       "      <td>o</td>\n",
       "      <td>p</td>\n",
       "      <td>n</td>\n",
       "      <td>n</td>\n",
       "      <td>g</td>\n",
       "    </tr>\n",
       "    <tr>\n",
       "      <th>2</th>\n",
       "      <td>e</td>\n",
       "      <td>b</td>\n",
       "      <td>s</td>\n",
       "      <td>w</td>\n",
       "      <td>t</td>\n",
       "      <td>l</td>\n",
       "      <td>f</td>\n",
       "      <td>c</td>\n",
       "      <td>b</td>\n",
       "      <td>n</td>\n",
       "      <td>...</td>\n",
       "      <td>s</td>\n",
       "      <td>w</td>\n",
       "      <td>w</td>\n",
       "      <td>p</td>\n",
       "      <td>w</td>\n",
       "      <td>o</td>\n",
       "      <td>p</td>\n",
       "      <td>n</td>\n",
       "      <td>n</td>\n",
       "      <td>m</td>\n",
       "    </tr>\n",
       "    <tr>\n",
       "      <th>3</th>\n",
       "      <td>p</td>\n",
       "      <td>x</td>\n",
       "      <td>y</td>\n",
       "      <td>w</td>\n",
       "      <td>t</td>\n",
       "      <td>p</td>\n",
       "      <td>f</td>\n",
       "      <td>c</td>\n",
       "      <td>n</td>\n",
       "      <td>n</td>\n",
       "      <td>...</td>\n",
       "      <td>s</td>\n",
       "      <td>w</td>\n",
       "      <td>w</td>\n",
       "      <td>p</td>\n",
       "      <td>w</td>\n",
       "      <td>o</td>\n",
       "      <td>p</td>\n",
       "      <td>k</td>\n",
       "      <td>s</td>\n",
       "      <td>u</td>\n",
       "    </tr>\n",
       "    <tr>\n",
       "      <th>4</th>\n",
       "      <td>e</td>\n",
       "      <td>x</td>\n",
       "      <td>s</td>\n",
       "      <td>g</td>\n",
       "      <td>f</td>\n",
       "      <td>n</td>\n",
       "      <td>f</td>\n",
       "      <td>w</td>\n",
       "      <td>b</td>\n",
       "      <td>k</td>\n",
       "      <td>...</td>\n",
       "      <td>s</td>\n",
       "      <td>w</td>\n",
       "      <td>w</td>\n",
       "      <td>p</td>\n",
       "      <td>w</td>\n",
       "      <td>o</td>\n",
       "      <td>e</td>\n",
       "      <td>n</td>\n",
       "      <td>a</td>\n",
       "      <td>g</td>\n",
       "    </tr>\n",
       "  </tbody>\n",
       "</table>\n",
       "<p>5 rows × 23 columns</p>\n",
       "</div>"
      ],
      "text/plain": [
       "  class cap-shape cap-surface cap-color bruises odor gill-attachment  \\\n",
       "0     p         x           s         n       t    p               f   \n",
       "1     e         x           s         y       t    a               f   \n",
       "2     e         b           s         w       t    l               f   \n",
       "3     p         x           y         w       t    p               f   \n",
       "4     e         x           s         g       f    n               f   \n",
       "\n",
       "  gill-spacing gill-size gill-color  ... stalk-surface-below-ring  \\\n",
       "0            c         n          k  ...                        s   \n",
       "1            c         b          k  ...                        s   \n",
       "2            c         b          n  ...                        s   \n",
       "3            c         n          n  ...                        s   \n",
       "4            w         b          k  ...                        s   \n",
       "\n",
       "  stalk-color-above-ring stalk-color-below-ring veil-type veil-color  \\\n",
       "0                      w                      w         p          w   \n",
       "1                      w                      w         p          w   \n",
       "2                      w                      w         p          w   \n",
       "3                      w                      w         p          w   \n",
       "4                      w                      w         p          w   \n",
       "\n",
       "  ring-number ring-type spore-print-color population habitat  \n",
       "0           o         p                 k          s       u  \n",
       "1           o         p                 n          n       g  \n",
       "2           o         p                 n          n       m  \n",
       "3           o         p                 k          s       u  \n",
       "4           o         e                 n          a       g  \n",
       "\n",
       "[5 rows x 23 columns]"
      ]
     },
     "execution_count": 3,
     "metadata": {},
     "output_type": "execute_result"
    }
   ],
   "source": [
    "dataset.head()"
   ]
  },
  {
   "cell_type": "code",
   "execution_count": 4,
   "metadata": {},
   "outputs": [
    {
     "name": "stdout",
     "output_type": "stream",
     "text": [
      "<class 'pandas.core.frame.DataFrame'>\n",
      "RangeIndex: 8124 entries, 0 to 8123\n",
      "Data columns (total 23 columns):\n",
      " #   Column                    Non-Null Count  Dtype \n",
      "---  ------                    --------------  ----- \n",
      " 0   class                     8124 non-null   object\n",
      " 1   cap-shape                 8124 non-null   object\n",
      " 2   cap-surface               8124 non-null   object\n",
      " 3   cap-color                 8124 non-null   object\n",
      " 4   bruises                   8124 non-null   object\n",
      " 5   odor                      8124 non-null   object\n",
      " 6   gill-attachment           8124 non-null   object\n",
      " 7   gill-spacing              8124 non-null   object\n",
      " 8   gill-size                 8124 non-null   object\n",
      " 9   gill-color                8124 non-null   object\n",
      " 10  stalk-shape               8124 non-null   object\n",
      " 11  stalk-root                8124 non-null   object\n",
      " 12  stalk-surface-above-ring  8124 non-null   object\n",
      " 13  stalk-surface-below-ring  8124 non-null   object\n",
      " 14  stalk-color-above-ring    8124 non-null   object\n",
      " 15  stalk-color-below-ring    8124 non-null   object\n",
      " 16  veil-type                 8124 non-null   object\n",
      " 17  veil-color                8124 non-null   object\n",
      " 18  ring-number               8124 non-null   object\n",
      " 19  ring-type                 8124 non-null   object\n",
      " 20  spore-print-color         8124 non-null   object\n",
      " 21  population                8124 non-null   object\n",
      " 22  habitat                   8124 non-null   object\n",
      "dtypes: object(23)\n",
      "memory usage: 1.4+ MB\n"
     ]
    }
   ],
   "source": [
    "dataset.info()"
   ]
  },
  {
   "cell_type": "code",
   "execution_count": 5,
   "metadata": {},
   "outputs": [
    {
     "name": "stdout",
     "output_type": "stream",
     "text": [
      "Edible:\t   4208 \n",
      "Poisonous: 3916\n"
     ]
    }
   ],
   "source": [
    "edible, poisonous = dataset['class'].value_counts()\n",
    "\n",
    "print(\"Edible:\\t  \", edible,\"\\nPoisonous:\", poisonous)"
   ]
  },
  {
   "cell_type": "code",
   "execution_count": 6,
   "metadata": {},
   "outputs": [
    {
     "name": "stdout",
     "output_type": "stream",
     "text": [
      "0 - Edible:    4208 \n",
      "1 - Poisonous: 3916\n"
     ]
    }
   ],
   "source": [
    "# Categorical to numerical\n",
    "labels = {'e': 0, 'p': 1}\n",
    "dataset['class'].replace(labels, inplace=True)\n",
    "\n",
    "edible, poisonous = dataset['class'].value_counts()\n",
    "print(\"0 - Edible:   \", edible,\"\\n1 - Poisonous:\", poisonous)"
   ]
  },
  {
   "cell_type": "markdown",
   "metadata": {},
   "source": [
    "# NN1 Stalk Root - Rooted (r)"
   ]
  },
  {
   "cell_type": "markdown",
   "metadata": {},
   "source": [
    "### Split Dataset"
   ]
  },
  {
   "cell_type": "markdown",
   "metadata": {},
   "source": [
    "#### Get the Labels"
   ]
  },
  {
   "cell_type": "code",
   "execution_count": 7,
   "metadata": {},
   "outputs": [
    {
     "name": "stdout",
     "output_type": "stream",
     "text": [
      "X: (8124, 22) \n",
      "y: (8124,)\n"
     ]
    }
   ],
   "source": [
    "X, y =  dataset.drop('class', axis=1), dataset['class'].copy()\n",
    "\n",
    "print(\"X:\",X.shape,\"\\ny:\",y.shape)"
   ]
  },
  {
   "cell_type": "markdown",
   "metadata": {},
   "source": [
    "#### Train Set and Test Set"
   ]
  },
  {
   "cell_type": "code",
   "execution_count": 8,
   "metadata": {},
   "outputs": [],
   "source": [
    "from sklearn.model_selection import train_test_split\n",
    "X_white = pd.DataFrame()\n",
    "X_not_white = pd.DataFrame()\n",
    "y_white = pd.Series(dtype='float64')\n",
    "y_not_white = pd.Series(dtype='float64')\n",
    "for i in range(0,len(X)):\n",
    "    if X.loc[i,\"stalk-root\"] == \"r\":\n",
    "        X_white = X_white.append(X.iloc[i,:])\n",
    "        y_white = y_white.append(pd.Series(y.iloc[i]))\n",
    "    else:\n",
    "        X_not_white = X_not_white.append(X.iloc[i,:])\n",
    "        y_not_white = y_not_white.append(pd.Series(y.iloc[i]))"
   ]
  },
  {
   "cell_type": "code",
   "execution_count": 9,
   "metadata": {},
   "outputs": [],
   "source": [
    "X_train_not_white, X_test_not_white, y_train_not_white, y_test_not_white = train_test_split(X_not_white, y_not_white, test_size=1-(6905/(8124-len(X_white))), random_state=721)\n",
    "\n",
    "# print(X_test_white)\n",
    "X_train_white = (X_train_not_white)\n",
    "# X_test_white = X_white.append(X_test_not_white)\n",
    "y_train_white = (y_train_not_white)\n",
    "# y_test_white = y_white.append(y_test_not_white)"
   ]
  },
  {
   "cell_type": "code",
   "execution_count": 63,
   "metadata": {},
   "outputs": [],
   "source": [
    "from sklearn.utils import shuffle\n",
    "X_train_full1 = shuffle(X_train_white, random_state=721)\n",
    "X_test = shuffle(X, random_state=721).iloc[2000:4000]\n",
    "y_train_full1 = shuffle(y_train_white, random_state=721)\n",
    "y_test = shuffle(y, random_state=721).iloc[2000:4000]"
   ]
  },
  {
   "cell_type": "code",
   "execution_count": 11,
   "metadata": {},
   "outputs": [],
   "source": [
    "# print(X_test[:5])\n",
    "# print(y_test.loc[:,\"0\"])\n",
    "# from sklearn.model_selection import train_test_split\n",
    "\n",
    "# X_train_full, X_test, y_train_full, y_test = train_test_split(X, y, test_size=0.15, random_state=721)\n",
    "\n",
    "# print(\"85% - X_train size:\", X_train_full.shape[0], \" y_train size:\", y_train_full.shape[0])\n",
    "# print(\"15% - X_test size: \", X_test.shape[0], \" y_test size: \", y_test.shape[0])"
   ]
  },
  {
   "cell_type": "markdown",
   "metadata": {},
   "source": [
    "#### Validation Set"
   ]
  },
  {
   "cell_type": "code",
   "execution_count": 64,
   "metadata": {},
   "outputs": [
    {
     "name": "stdout",
     "output_type": "stream",
     "text": [
      "X_train: 6404 y_train 6404\n",
      "X_valid:  500 y_valid  500\n",
      "X_test:  2000 y_test  2000\n"
     ]
    }
   ],
   "source": [
    "X_valid1, X_train1 = X_train_full1[:500], X_train_full1[500:]\n",
    "y_valid1, y_train1 = y_train_full1[:500], y_train_full1[500:]\n",
    "\n",
    "print(\"X_train:\", X_train1.shape[0], \"y_train\", y_train1.shape[0])\n",
    "print(\"X_valid: \", X_valid1.shape[0], \"y_valid \", y_valid1.shape[0])\n",
    "print(\"X_test: \", X_test.shape[0], \"y_test \", X_test.shape[0])\n"
   ]
  },
  {
   "cell_type": "markdown",
   "metadata": {},
   "source": [
    "### Prepare the Data"
   ]
  },
  {
   "cell_type": "markdown",
   "metadata": {},
   "source": [
    "#### Data Transformation"
   ]
  },
  {
   "cell_type": "code",
   "execution_count": 65,
   "metadata": {},
   "outputs": [],
   "source": [
    "from sklearn.pipeline import Pipeline\n",
    "from sklearn.preprocessing import OrdinalEncoder\n",
    "from sklearn.compose import ColumnTransformer\n",
    "\n",
    "cat_attr_pipeline = Pipeline([\n",
    "                        ('encoder', OrdinalEncoder())\n",
    "                    ])\n",
    "\n",
    "cols = list(X)\n",
    "pipeline = ColumnTransformer([\n",
    "                ('cat_attr_pipeline', cat_attr_pipeline, cols)\n",
    "            ])\n",
    "\n",
    "\n",
    "X_train1 = pipeline.fit_transform(X_train1)\n",
    "X_valid1 = pipeline.fit_transform(X_valid1)\n",
    "X_test1  = pipeline.fit_transform(X_test)"
   ]
  },
  {
   "cell_type": "markdown",
   "metadata": {},
   "source": [
    "### Neural Network"
   ]
  },
  {
   "cell_type": "markdown",
   "metadata": {},
   "source": [
    "#### Model"
   ]
  },
  {
   "cell_type": "code",
   "execution_count": 66,
   "metadata": {},
   "outputs": [],
   "source": [
    "from tensorflow.keras.models import Sequential\n",
    "from tensorflow.keras.layers import InputLayer, Dense"
   ]
  },
  {
   "cell_type": "code",
   "execution_count": 67,
   "metadata": {},
   "outputs": [],
   "source": [
    "# tf.random.set_random_seed(721)\n",
    "tf.random.set_seed(721)"
   ]
  },
  {
   "cell_type": "code",
   "execution_count": 68,
   "metadata": {},
   "outputs": [],
   "source": [
    "model1 = Sequential([\n",
    "    InputLayer(input_shape=(22,)),    # input  layer\n",
    "    Dense(45, activation='relu'),     # hidden layer\n",
    "    Dense(1,   activation='sigmoid')  # output layer\n",
    "])"
   ]
  },
  {
   "cell_type": "code",
   "execution_count": 69,
   "metadata": {},
   "outputs": [
    {
     "name": "stdout",
     "output_type": "stream",
     "text": [
      "Model: \"sequential_2\"\n",
      "_________________________________________________________________\n",
      " Layer (type)                Output Shape              Param #   \n",
      "=================================================================\n",
      " dense_4 (Dense)             (None, 45)                1035      \n",
      "                                                                 \n",
      " dense_5 (Dense)             (None, 1)                 46        \n",
      "                                                                 \n",
      "=================================================================\n",
      "Total params: 1,081\n",
      "Trainable params: 1,081\n",
      "Non-trainable params: 0\n",
      "_________________________________________________________________\n"
     ]
    }
   ],
   "source": [
    "model1.summary()"
   ]
  },
  {
   "cell_type": "markdown",
   "metadata": {},
   "source": [
    "#### Compile the Model"
   ]
  },
  {
   "cell_type": "code",
   "execution_count": 70,
   "metadata": {},
   "outputs": [],
   "source": [
    "model1.compile(loss='binary_crossentropy',\n",
    "             optimizer='sgd',\n",
    "             metrics=['accuracy'])"
   ]
  },
  {
   "cell_type": "markdown",
   "metadata": {},
   "source": [
    "#### Prepare Callbacks"
   ]
  },
  {
   "cell_type": "code",
   "execution_count": 71,
   "metadata": {},
   "outputs": [],
   "source": [
    "from tensorflow.keras.callbacks import ModelCheckpoint, EarlyStopping\n",
    "\n",
    "checkpoint_cb = ModelCheckpoint('../SavedModels/best_model.h5',\n",
    "                                save_best_only=True)\n",
    "\n",
    "early_stopping_cb = EarlyStopping(patience=3,\n",
    "                                  restore_best_weights=True)"
   ]
  },
  {
   "cell_type": "markdown",
   "metadata": {},
   "source": [
    "### Training"
   ]
  },
  {
   "cell_type": "code",
   "execution_count": 72,
   "metadata": {},
   "outputs": [
    {
     "name": "stdout",
     "output_type": "stream",
     "text": [
      "Epoch 1/100\n",
      "201/201 [==============================] - 1s 2ms/step - loss: 0.4318 - accuracy: 0.8217 - val_loss: 0.4071 - val_accuracy: 0.8480\n",
      "Epoch 2/100\n",
      "201/201 [==============================] - 0s 1ms/step - loss: 0.3205 - accuracy: 0.8795 - val_loss: 0.3672 - val_accuracy: 0.8640\n",
      "Epoch 3/100\n",
      "201/201 [==============================] - 0s 1ms/step - loss: 0.2733 - accuracy: 0.8983 - val_loss: 0.2586 - val_accuracy: 0.9020\n",
      "Epoch 4/100\n",
      "201/201 [==============================] - 0s 978us/step - loss: 0.2434 - accuracy: 0.9102 - val_loss: 0.2398 - val_accuracy: 0.8960\n",
      "Epoch 5/100\n",
      "201/201 [==============================] - 0s 925us/step - loss: 0.2201 - accuracy: 0.9194 - val_loss: 0.2166 - val_accuracy: 0.9280\n",
      "Epoch 6/100\n",
      "201/201 [==============================] - 0s 1ms/step - loss: 0.2011 - accuracy: 0.9249 - val_loss: 0.1839 - val_accuracy: 0.9260\n",
      "Epoch 7/100\n",
      "201/201 [==============================] - 0s 960us/step - loss: 0.1843 - accuracy: 0.9311 - val_loss: 0.1666 - val_accuracy: 0.9360\n",
      "Epoch 8/100\n",
      "201/201 [==============================] - 0s 952us/step - loss: 0.1713 - accuracy: 0.9374 - val_loss: 0.1587 - val_accuracy: 0.9320\n",
      "Epoch 9/100\n",
      "201/201 [==============================] - 0s 960us/step - loss: 0.1585 - accuracy: 0.9408 - val_loss: 0.1992 - val_accuracy: 0.8980\n",
      "Epoch 10/100\n",
      "201/201 [==============================] - 0s 790us/step - loss: 0.1479 - accuracy: 0.9453 - val_loss: 0.2084 - val_accuracy: 0.9500\n",
      "Epoch 11/100\n",
      "201/201 [==============================] - 0s 751us/step - loss: 0.1393 - accuracy: 0.9500 - val_loss: 0.1921 - val_accuracy: 0.9040\n"
     ]
    }
   ],
   "source": [
    "train_model1 = model1.fit(X_train1, y_train1,\n",
    "                        epochs=100,\n",
    "                        validation_data=(X_valid1, y_valid1),\n",
    "                        callbacks=[checkpoint_cb, early_stopping_cb])\n",
    "                        \n"
   ]
  },
  {
   "cell_type": "markdown",
   "metadata": {},
   "source": [
    "### Evaluate the Best Model on Test Set"
   ]
  },
  {
   "cell_type": "code",
   "execution_count": 73,
   "metadata": {},
   "outputs": [
    {
     "name": "stdout",
     "output_type": "stream",
     "text": [
      "63/63 [==============================] - 0s 992us/step - loss: 0.1839 - accuracy: 0.9240\n",
      "test loss, test acc: [0.18388420343399048, 0.9240000247955322]\n"
     ]
    }
   ],
   "source": [
    "results1 = model1.evaluate(X_test1, y_test)\n",
    "print(\"test loss, test acc:\", results1)"
   ]
  },
  {
   "cell_type": "markdown",
   "metadata": {},
   "source": [
    "### Make Some Predictions"
   ]
  },
  {
   "cell_type": "code",
   "execution_count": 74,
   "metadata": {},
   "outputs": [],
   "source": [
    "X_new1 = X_test1[:5]\n",
    "y_prob1 = model1.predict(X_new1)\n",
    "# print(y_prob.round(3))"
   ]
  },
  {
   "cell_type": "code",
   "execution_count": 75,
   "metadata": {},
   "outputs": [],
   "source": [
    "y_pred1 = (model1.predict(X_new1) > 0.5).astype(\"int32\")\n",
    "# print(y_pred)\n",
    "y_test_pred = (model1.predict(X_test1) > 0.5).astype(\"int32\")"
   ]
  },
  {
   "cell_type": "markdown",
   "metadata": {},
   "source": [
    "## KL Divergence"
   ]
  },
  {
   "cell_type": "code",
   "execution_count": 76,
   "metadata": {},
   "outputs": [
    {
     "name": "stdout",
     "output_type": "stream",
     "text": [
      "        X_pred  y_pred  y_actual\n",
      "0     0.990906       1         1\n",
      "1     0.983329       1         1\n",
      "2     0.034993       0         0\n",
      "3     0.002961       0         0\n",
      "4     0.073265       0         0\n",
      "...        ...     ...       ...\n",
      "1995  0.144990       0         0\n",
      "1996  0.952525       1         1\n",
      "1997  0.535579       1         0\n",
      "1998  0.964130       1         1\n",
      "1999  0.126036       0         0\n",
      "\n",
      "[2000 rows x 3 columns]\n"
     ]
    }
   ],
   "source": [
    "# X_new = X_test[:5]\n",
    "X_df1 = pd.DataFrame(model1.predict(X_test1))\n",
    "y_test_pred1 = pd.DataFrame(y_test_pred).reset_index(drop=True)\n",
    "X_df1 = pd.concat([X_df1, y_test_pred1], axis=1)\n",
    "y_test1 = y_test.reset_index(drop=True)\n",
    "X_df1 = pd.concat([X_df1, y_test1], axis=1)\n",
    "X_df1.columns = [\"X_pred\",\"y_pred\",\"y_actual\"]\n",
    "print(X_df1)"
   ]
  },
  {
   "cell_type": "code",
   "execution_count": 78,
   "metadata": {},
   "outputs": [
    {
     "name": "stdout",
     "output_type": "stream",
     "text": [
      "        KL_div abs_distance correctness  y_pred\n",
      "0     0.051795     0.981812           1     1.0\n",
      "1     0.084785     0.966657           1     1.0\n",
      "2     0.151691     0.930014           1     0.0\n",
      "3     0.020196     0.994078           1     0.0\n",
      "4     0.262003     0.853471           1     0.0\n",
      "...        ...          ...         ...     ...\n",
      "1995   0.41392      0.71002           1     0.0\n",
      "1996  0.191014     0.905049           1     1.0\n",
      "1997  0.690613     0.071158           0     1.0\n",
      "1998   0.15459      0.92826           1     1.0\n",
      "1999  0.378781     0.747928           1     0.0\n",
      "\n",
      "[2000 rows x 4 columns]\n"
     ]
    }
   ],
   "source": [
    "import math\n",
    "table1 = pd.DataFrame(columns=[\"KL_div\",\"abs_distance\",\"correctness\"])\n",
    "for i in range(0,len(X_df1)):\n",
    "    # KL divergence\n",
    "    p = X_df1.loc[i,\"X_pred\"]\n",
    "    try:\n",
    "        kl = -(p*math.log(p) + (1-p)*math.log(1-p))\n",
    "    except:\n",
    "        kl = 0\n",
    "    table1.loc[i,\"KL_div\"] = kl\n",
    "    # absolute distance\n",
    "    abs_dist = 2*abs(0.5-p)\n",
    "    table1.loc[i,\"abs_distance\"] = abs_dist\n",
    "    # correctness\n",
    "    y_pred1 = X_df1.loc[i,\"y_pred\"]\n",
    "    y_act1 = X_df1.loc[i,\"y_actual\"]\n",
    "    if y_pred1 == y_act1:\n",
    "        table1.loc[i,\"correctness\"] = 1 # correct prediction\n",
    "    else:\n",
    "        table1.loc[i,\"correctness\"] = 0 # wrong prediction\n",
    "    table1.loc[i,\"y_pred\"] = y_pred1\n",
    "\n",
    "print(table1)"
   ]
  },
  {
   "cell_type": "code",
   "execution_count": 79,
   "metadata": {},
   "outputs": [
    {
     "name": "stdout",
     "output_type": "stream",
     "text": [
      "            correctness  count     percent\n",
      "KL_div                                    \n",
      "(0.0, 0.1]          497    497  100.000000\n",
      "(0.1, 0.2]          538    542   99.261993\n",
      "(0.2, 0.3]          319    326   97.852761\n",
      "(0.3, 0.4]          196    207   94.685990\n",
      "(0.4, 0.5]          108    124   87.096774\n",
      "(0.5, 0.6]           83    104   79.807692\n",
      "(0.6, 0.7]          107    200   53.500000\n"
     ]
    }
   ],
   "source": [
    "table1[\"count\"] = 1\n",
    "correctness1 = table1[[\"correctness\",\"count\"]].groupby(pd.cut(table1[\"KL_div\"], np.arange(0, 0.8, 0.1))).apply(sum)\n",
    "correctness1[\"percent\"] = 100*(correctness1[\"correctness\"]/correctness1[\"count\"])\n",
    "print(correctness1)"
   ]
  },
  {
   "cell_type": "code",
   "execution_count": 80,
   "metadata": {},
   "outputs": [
    {
     "data": {
      "text/plain": [
       "Text(0, 0.5, '% correct')"
      ]
     },
     "execution_count": 80,
     "metadata": {},
     "output_type": "execute_result"
    },
    {
     "data": {
      "image/png": "[encoded data removed]",
      "text/plain": [
       "<Figure size 432x288 with 1 Axes>"
      ]
     },
     "metadata": {
      "needs_background": "light"
     },
     "output_type": "display_data"
    }
   ],
   "source": [
    "index = []\n",
    "for i in (correctness1.index):\n",
    "    index.append(str(i))\n",
    "plt.bar(index,correctness1[\"percent\"], width=0.7)\n",
    "for index,data in enumerate(correctness1[\"percent\"]):\n",
    "    plt.text(x=index , y =data+1 , s=f\"{round(data,2)}\" , fontdict=dict(fontsize=15),ha='center')\n",
    "plt.ylim(0,110)\n",
    "plt.xlabel(\"KL Divergence\")\n",
    "plt.ylabel(\"% correct\")"
   ]
  },
  {
   "cell_type": "markdown",
   "metadata": {},
   "source": [
    "### Confidence"
   ]
  },
  {
   "cell_type": "code",
   "execution_count": 81,
   "metadata": {},
   "outputs": [
    {
     "data": {
      "text/plain": [
       "Text(0, 0.5, '% correct')"
      ]
     },
     "execution_count": 81,
     "metadata": {},
     "output_type": "execute_result"
    },
    {
     "data": {
      "image/png": "[encoded data removed]",
      "text/plain": [
       "<Figure size 432x288 with 1 Axes>"
      ]
     },
     "metadata": {
      "needs_background": "light"
     },
     "output_type": "display_data"
    }
   ],
   "source": [
    "kl1 = table1[[\"correctness\",\"count\"]].groupby(pd.cut(table1[\"KL_div\"], np.arange(0, 0.80, 0.1))).apply(sum)\n",
    "kl1[\"percent\"] = (kl1[\"correctness\"]/kl1[\"count\"])\n",
    "kl1.dropna(inplace=True)\n",
    "plt.scatter(np.arange(0, 0.70, 0.1), kl1[\"percent\"])\n",
    "plt.xlabel(\"KL Divergence\")\n",
    "plt.ylabel(\"% correct\")"
   ]
  },
  {
   "cell_type": "code",
   "execution_count": 82,
   "metadata": {},
   "outputs": [],
   "source": [
    "# Linear Regression\n",
    "from sklearn.linear_model import LinearRegression\n",
    "\n",
    "x_reg1 = np.arange(0, 0.70, 0.1).reshape((-1, 1))\n",
    "y_reg1 = kl1[\"percent\"]\n",
    "reg_model1 = LinearRegression().fit(x_reg1,y_reg1)"
   ]
  },
  {
   "cell_type": "code",
   "execution_count": 83,
   "metadata": {},
   "outputs": [
    {
     "name": "stdout",
     "output_type": "stream",
     "text": [
      "intercept(alpha): 1.0772552151012347\n",
      "slope(theta): [-0.67558781]\n"
     ]
    }
   ],
   "source": [
    "print('intercept(alpha):', reg_model1.intercept_)\n",
    "print('slope(theta):', reg_model1.coef_)"
   ]
  },
  {
   "cell_type": "markdown",
   "metadata": {},
   "source": [
    "# NN2 Odor - Almond (a)"
   ]
  },
  {
   "cell_type": "markdown",
   "metadata": {},
   "source": [
    "#### Train Set and Test Set"
   ]
  },
  {
   "cell_type": "code",
   "execution_count": 31,
   "metadata": {},
   "outputs": [],
   "source": [
    "from sklearn.model_selection import train_test_split\n",
    "X_green = pd.DataFrame()\n",
    "X_not_green = pd.DataFrame()\n",
    "y_green = pd.Series(dtype='float64')\n",
    "y_not_green = pd.Series(dtype='float64')\n",
    "for i in range(0,len(X)):\n",
    "    if X.loc[i,\"odor\"] == \"a\":\n",
    "        X_green = X_green.append(X.iloc[i,:])\n",
    "        y_green = y_green.append(pd.Series(y.iloc[i]))\n",
    "    else:\n",
    "        X_not_green = X_not_green.append(X.iloc[i,:])\n",
    "        y_not_green = y_not_green.append(pd.Series(y.iloc[i]))"
   ]
  },
  {
   "cell_type": "code",
   "execution_count": 32,
   "metadata": {},
   "outputs": [],
   "source": [
    "# X_test_green, X_train_green, y_test_green, y_train_green = train_test_split(X_green, y_green, test_size=1, random_state=721)\n",
    "X_train_not_green, X_test_not_green, y_train_not_green, y_test_not_green = train_test_split(X_not_green, y_not_green, test_size=1-(6905/(8124-len(X_green))), random_state=721)\n",
    "\n",
    "# print(X_test_green)\n",
    "X_train_green = (X_train_not_green)\n",
    "X_test_green = X_green.append(X_test_not_green)\n",
    "y_train_green = (y_train_not_green)\n",
    "y_test_green = y_green.append(y_test_not_green)"
   ]
  },
  {
   "cell_type": "code",
   "execution_count": 84,
   "metadata": {},
   "outputs": [],
   "source": [
    "from sklearn.utils import shuffle\n",
    "X_train_full2 = shuffle(X_train_green, random_state=721)\n",
    "# X_test2 = shuffle(X_test_green, random_state=721)\n",
    "y_train_full2 = shuffle(y_train_green, random_state=721)\n",
    "# y_test2 = shuffle(y_test_green, random_state=721)"
   ]
  },
  {
   "cell_type": "markdown",
   "metadata": {},
   "source": [
    "#### Validation Set"
   ]
  },
  {
   "cell_type": "code",
   "execution_count": 85,
   "metadata": {},
   "outputs": [
    {
     "name": "stdout",
     "output_type": "stream",
     "text": [
      "X_train: 6404 y_train 6404\n",
      "X_valid:  500 y_valid  500\n",
      "X_test:  2000 y_test  2000\n"
     ]
    }
   ],
   "source": [
    "X_valid2, X_train2 = X_train_full2[:500], X_train_full2[500:]\n",
    "y_valid2, y_train2 = y_train_full2[:500], y_train_full2[500:]\n",
    "\n",
    "print(\"X_train:\", X_train2.shape[0], \"y_train\", y_train2.shape[0])\n",
    "print(\"X_valid: \", X_valid2.shape[0], \"y_valid \", y_valid2.shape[0])\n",
    "print(\"X_test: \", X_test.shape[0], \"y_test \", X_test.shape[0])\n"
   ]
  },
  {
   "cell_type": "markdown",
   "metadata": {},
   "source": [
    "### Prepare the Data"
   ]
  },
  {
   "cell_type": "markdown",
   "metadata": {},
   "source": [
    "#### Data Transformation"
   ]
  },
  {
   "cell_type": "code",
   "execution_count": 86,
   "metadata": {},
   "outputs": [],
   "source": [
    "from sklearn.pipeline import Pipeline\n",
    "from sklearn.preprocessing import OrdinalEncoder\n",
    "from sklearn.compose import ColumnTransformer\n",
    "\n",
    "cat_attr_pipeline = Pipeline([\n",
    "                        ('encoder', OrdinalEncoder())\n",
    "                    ])\n",
    "\n",
    "cols = list(X)\n",
    "pipeline = ColumnTransformer([\n",
    "                ('cat_attr_pipeline', cat_attr_pipeline, cols)\n",
    "            ])\n",
    "\n",
    "\n",
    "X_train2 = pipeline.fit_transform(X_train2)\n",
    "X_valid2 = pipeline.fit_transform(X_valid2)\n",
    "X_test2  = pipeline.fit_transform(X_test)\n",
    "y_test2 = y_test"
   ]
  },
  {
   "cell_type": "markdown",
   "metadata": {},
   "source": [
    "### Neural Network"
   ]
  },
  {
   "cell_type": "markdown",
   "metadata": {},
   "source": [
    "#### Model"
   ]
  },
  {
   "cell_type": "code",
   "execution_count": 87,
   "metadata": {},
   "outputs": [],
   "source": [
    "from tensorflow.keras.models import Sequential\n",
    "from tensorflow.keras.layers import InputLayer, Dense"
   ]
  },
  {
   "cell_type": "code",
   "execution_count": 88,
   "metadata": {},
   "outputs": [],
   "source": [
    "# tf.random.set_random_seed(721)\n",
    "tf.random.set_seed(721)"
   ]
  },
  {
   "cell_type": "code",
   "execution_count": 89,
   "metadata": {},
   "outputs": [],
   "source": [
    "model2 = Sequential([\n",
    "    InputLayer(input_shape=(22,)),    # input  layer\n",
    "    Dense(45, activation='relu'),     # hidden layer\n",
    "    Dense(1,   activation='sigmoid')  # output layer\n",
    "])"
   ]
  },
  {
   "cell_type": "code",
   "execution_count": 90,
   "metadata": {},
   "outputs": [
    {
     "name": "stdout",
     "output_type": "stream",
     "text": [
      "Model: \"sequential_3\"\n",
      "_________________________________________________________________\n",
      " Layer (type)                Output Shape              Param #   \n",
      "=================================================================\n",
      " dense_6 (Dense)             (None, 45)                1035      \n",
      "                                                                 \n",
      " dense_7 (Dense)             (None, 1)                 46        \n",
      "                                                                 \n",
      "=================================================================\n",
      "Total params: 1,081\n",
      "Trainable params: 1,081\n",
      "Non-trainable params: 0\n",
      "_________________________________________________________________\n"
     ]
    }
   ],
   "source": [
    "model2.summary()"
   ]
  },
  {
   "cell_type": "markdown",
   "metadata": {},
   "source": [
    "#### Compile the Model"
   ]
  },
  {
   "cell_type": "code",
   "execution_count": 91,
   "metadata": {},
   "outputs": [],
   "source": [
    "model2.compile(loss='binary_crossentropy',\n",
    "             optimizer='sgd',\n",
    "             metrics=['accuracy'])"
   ]
  },
  {
   "cell_type": "markdown",
   "metadata": {},
   "source": [
    "#### Prepare Callbacks"
   ]
  },
  {
   "cell_type": "code",
   "execution_count": 92,
   "metadata": {},
   "outputs": [],
   "source": [
    "from tensorflow.keras.callbacks import ModelCheckpoint, EarlyStopping\n",
    "\n",
    "checkpoint_cb = ModelCheckpoint('../SavedModels/best_model.h5',\n",
    "                                save_best_only=True)\n",
    "\n",
    "early_stopping_cb = EarlyStopping(patience=3,\n",
    "                                  restore_best_weights=True)"
   ]
  },
  {
   "cell_type": "markdown",
   "metadata": {},
   "source": [
    "### Training"
   ]
  },
  {
   "cell_type": "code",
   "execution_count": 93,
   "metadata": {},
   "outputs": [
    {
     "name": "stdout",
     "output_type": "stream",
     "text": [
      "Epoch 1/100\n",
      "201/201 [==============================] - 1s 3ms/step - loss: 0.4151 - accuracy: 0.8214 - val_loss: 0.3750 - val_accuracy: 0.8720\n",
      "Epoch 2/100\n",
      "201/201 [==============================] - 0s 1ms/step - loss: 0.3050 - accuracy: 0.8840 - val_loss: 0.2789 - val_accuracy: 0.9000\n",
      "Epoch 3/100\n",
      "201/201 [==============================] - 0s 2ms/step - loss: 0.2636 - accuracy: 0.9019 - val_loss: 0.3315 - val_accuracy: 0.8860\n",
      "Epoch 4/100\n",
      "201/201 [==============================] - 0s 2ms/step - loss: 0.2372 - accuracy: 0.9105 - val_loss: 0.2290 - val_accuracy: 0.9220\n",
      "Epoch 5/100\n",
      "201/201 [==============================] - 0s 2ms/step - loss: 0.2177 - accuracy: 0.9185 - val_loss: 0.2006 - val_accuracy: 0.9300\n",
      "Epoch 6/100\n",
      "201/201 [==============================] - 0s 1ms/step - loss: 0.2016 - accuracy: 0.9221 - val_loss: 0.2341 - val_accuracy: 0.9180\n",
      "Epoch 7/100\n",
      "201/201 [==============================] - 0s 2ms/step - loss: 0.1902 - accuracy: 0.9243 - val_loss: 0.1814 - val_accuracy: 0.9400\n",
      "Epoch 8/100\n",
      "201/201 [==============================] - 0s 2ms/step - loss: 0.1800 - accuracy: 0.9291 - val_loss: 0.1577 - val_accuracy: 0.9400\n",
      "Epoch 9/100\n",
      "201/201 [==============================] - 0s 1ms/step - loss: 0.1689 - accuracy: 0.9339 - val_loss: 0.2584 - val_accuracy: 0.9000\n",
      "Epoch 10/100\n",
      "201/201 [==============================] - 0s 2ms/step - loss: 0.1601 - accuracy: 0.9382 - val_loss: 0.1462 - val_accuracy: 0.9400\n",
      "Epoch 11/100\n",
      "201/201 [==============================] - 0s 2ms/step - loss: 0.1485 - accuracy: 0.9422 - val_loss: 0.2152 - val_accuracy: 0.9220\n",
      "Epoch 12/100\n",
      "201/201 [==============================] - 0s 2ms/step - loss: 0.1405 - accuracy: 0.9474 - val_loss: 0.1267 - val_accuracy: 0.9600\n",
      "Epoch 13/100\n",
      "201/201 [==============================] - 0s 2ms/step - loss: 0.1321 - accuracy: 0.9521 - val_loss: 0.1241 - val_accuracy: 0.9600\n",
      "Epoch 14/100\n",
      "201/201 [==============================] - 0s 2ms/step - loss: 0.1233 - accuracy: 0.9558 - val_loss: 0.1427 - val_accuracy: 0.9400\n",
      "Epoch 15/100\n",
      "201/201 [==============================] - ETA: 0s - loss: 0.1178 - accuracy: 0.95 - 0s 2ms/step - loss: 0.1170 - accuracy: 0.9560 - val_loss: 0.1060 - val_accuracy: 0.9760\n",
      "Epoch 16/100\n",
      "201/201 [==============================] - 0s 2ms/step - loss: 0.1114 - accuracy: 0.9611 - val_loss: 0.1149 - val_accuracy: 0.9560\n",
      "Epoch 17/100\n",
      "201/201 [==============================] - 0s 1ms/step - loss: 0.1026 - accuracy: 0.9667 - val_loss: 0.0936 - val_accuracy: 0.9720\n",
      "Epoch 18/100\n",
      "201/201 [==============================] - 0s 1ms/step - loss: 0.0983 - accuracy: 0.9681 - val_loss: 0.0923 - val_accuracy: 0.9760\n",
      "Epoch 19/100\n",
      "201/201 [==============================] - 0s 1ms/step - loss: 0.0917 - accuracy: 0.9719 - val_loss: 0.0849 - val_accuracy: 0.9820\n",
      "Epoch 20/100\n",
      "201/201 [==============================] - 0s 1ms/step - loss: 0.0876 - accuracy: 0.9749 - val_loss: 0.0883 - val_accuracy: 0.9840\n",
      "Epoch 21/100\n",
      "201/201 [==============================] - 0s 1ms/step - loss: 0.0823 - accuracy: 0.9767 - val_loss: 0.0883 - val_accuracy: 0.9740\n",
      "Epoch 22/100\n",
      "201/201 [==============================] - 0s 1ms/step - loss: 0.0775 - accuracy: 0.9799 - val_loss: 0.0761 - val_accuracy: 0.9820\n",
      "Epoch 23/100\n",
      "201/201 [==============================] - 0s 1ms/step - loss: 0.0742 - accuracy: 0.9803 - val_loss: 0.0748 - val_accuracy: 0.9820\n",
      "Epoch 24/100\n",
      "201/201 [==============================] - 0s 1ms/step - loss: 0.0703 - accuracy: 0.9817 - val_loss: 0.0700 - val_accuracy: 0.9900\n",
      "Epoch 25/100\n",
      "201/201 [==============================] - 0s 2ms/step - loss: 0.0657 - accuracy: 0.9831 - val_loss: 0.0636 - val_accuracy: 0.9840\n",
      "Epoch 26/100\n",
      "201/201 [==============================] - 0s 1ms/step - loss: 0.0632 - accuracy: 0.9833 - val_loss: 0.0717 - val_accuracy: 0.9900\n",
      "Epoch 27/100\n",
      "201/201 [==============================] - 0s 1ms/step - loss: 0.0603 - accuracy: 0.9838 - val_loss: 0.0574 - val_accuracy: 0.9920\n",
      "Epoch 28/100\n",
      "201/201 [==============================] - 0s 1ms/step - loss: 0.0574 - accuracy: 0.9856 - val_loss: 0.0584 - val_accuracy: 0.9840\n",
      "Epoch 29/100\n",
      "201/201 [==============================] - 0s 1ms/step - loss: 0.0539 - accuracy: 0.9872 - val_loss: 0.0529 - val_accuracy: 0.9920\n",
      "Epoch 30/100\n",
      "201/201 [==============================] - 0s 1ms/step - loss: 0.0514 - accuracy: 0.9878 - val_loss: 0.0518 - val_accuracy: 0.9920\n",
      "Epoch 31/100\n",
      "201/201 [==============================] - 0s 1ms/step - loss: 0.0495 - accuracy: 0.9874 - val_loss: 0.0600 - val_accuracy: 0.9780\n",
      "Epoch 32/100\n",
      "201/201 [==============================] - 0s 920us/step - loss: 0.0464 - accuracy: 0.9900 - val_loss: 0.0584 - val_accuracy: 0.9820\n",
      "Epoch 33/100\n",
      "201/201 [==============================] - 0s 1ms/step - loss: 0.0452 - accuracy: 0.9889 - val_loss: 0.0463 - val_accuracy: 0.9900\n",
      "Epoch 34/100\n",
      "201/201 [==============================] - 0s 2ms/step - loss: 0.0433 - accuracy: 0.9894 - val_loss: 0.0444 - val_accuracy: 0.9920\n",
      "Epoch 35/100\n",
      "201/201 [==============================] - 0s 2ms/step - loss: 0.0409 - accuracy: 0.9917 - val_loss: 0.0422 - val_accuracy: 0.9920\n",
      "Epoch 36/100\n",
      "201/201 [==============================] - 0s 2ms/step - loss: 0.0403 - accuracy: 0.9903 - val_loss: 0.0403 - val_accuracy: 0.9920\n",
      "Epoch 37/100\n",
      "201/201 [==============================] - 0s 1ms/step - loss: 0.0385 - accuracy: 0.9914 - val_loss: 0.0458 - val_accuracy: 0.9840\n",
      "Epoch 38/100\n",
      "201/201 [==============================] - 0s 1ms/step - loss: 0.0369 - accuracy: 0.9919 - val_loss: 0.0417 - val_accuracy: 0.9880\n",
      "Epoch 39/100\n",
      "201/201 [==============================] - 0s 2ms/step - loss: 0.0359 - accuracy: 0.9913 - val_loss: 0.0355 - val_accuracy: 0.9980\n",
      "Epoch 40/100\n",
      "201/201 [==============================] - 0s 1ms/step - loss: 0.0345 - accuracy: 0.9922 - val_loss: 0.0357 - val_accuracy: 0.9920\n",
      "Epoch 41/100\n",
      "201/201 [==============================] - 0s 1ms/step - loss: 0.0329 - accuracy: 0.9930 - val_loss: 0.0376 - val_accuracy: 0.9880\n",
      "Epoch 42/100\n",
      "201/201 [==============================] - 0s 1ms/step - loss: 0.0318 - accuracy: 0.9934 - val_loss: 0.0356 - val_accuracy: 0.9920\n"
     ]
    }
   ],
   "source": [
    "train_model2 = model2.fit(X_train2, y_train2,\n",
    "                        epochs=100,\n",
    "                        validation_data=(X_valid2, y_valid2),\n",
    "                        callbacks=[checkpoint_cb, early_stopping_cb])\n",
    "                        \n"
   ]
  },
  {
   "cell_type": "markdown",
   "metadata": {},
   "source": [
    "### Evaluate the Best Model on Test Set"
   ]
  },
  {
   "cell_type": "code",
   "execution_count": 94,
   "metadata": {},
   "outputs": [
    {
     "name": "stdout",
     "output_type": "stream",
     "text": [
      "63/63 [==============================] - 0s 998us/step - loss: 0.0706 - accuracy: 0.9795\n",
      "test loss, test acc: [0.07055085152387619, 0.9794999957084656]\n"
     ]
    }
   ],
   "source": [
    "results2 = model2.evaluate(X_test2, y_test2)\n",
    "print(\"test loss, test acc:\", results2)"
   ]
  },
  {
   "cell_type": "markdown",
   "metadata": {},
   "source": [
    "### Make Some Predictions"
   ]
  },
  {
   "cell_type": "code",
   "execution_count": 95,
   "metadata": {},
   "outputs": [],
   "source": [
    "X_new2 = X_test2[1100:1110]\n",
    "y_prob2 = model2.predict(X_new2)\n",
    "# print(y_prob2.round(3))"
   ]
  },
  {
   "cell_type": "code",
   "execution_count": 96,
   "metadata": {},
   "outputs": [],
   "source": [
    "y_pred2 = (model2.predict(X_new2) > 0.5).astype(\"int32\")\n",
    "# print(y_pred2)\n",
    "y_test_pred2 = (model2.predict(X_test2) > 0.5).astype(\"int32\")"
   ]
  },
  {
   "cell_type": "markdown",
   "metadata": {},
   "source": [
    "## KL Divergence"
   ]
  },
  {
   "cell_type": "code",
   "execution_count": 97,
   "metadata": {},
   "outputs": [
    {
     "name": "stdout",
     "output_type": "stream",
     "text": [
      "        X_pred  y_pred  y_actual\n",
      "0     0.994067       1         1\n",
      "1     0.988867       1         1\n",
      "2     0.000596       0         0\n",
      "3     0.001286       0         0\n",
      "4     0.056038       0         0\n",
      "...        ...     ...       ...\n",
      "1995  0.004247       0         0\n",
      "1996  0.991208       1         1\n",
      "1997  0.163148       0         0\n",
      "1998  0.985480       1         1\n",
      "1999  0.051478       0         0\n",
      "\n",
      "[2000 rows x 3 columns]\n"
     ]
    }
   ],
   "source": [
    "# X_new = X_test[:5]\n",
    "X_df2 = pd.DataFrame(model2.predict(X_test2))\n",
    "y_test_pred2 = pd.DataFrame(y_test_pred2).reset_index(drop=True)\n",
    "X_df2 = pd.concat([X_df2, y_test_pred2], axis=1)\n",
    "y_test2 = y_test2.reset_index(drop=True)\n",
    "X_df2 = pd.concat([X_df2, y_test2], axis=1)\n",
    "X_df2.columns = [\"X_pred\",\"y_pred\",\"y_actual\"]\n",
    "print(X_df2)"
   ]
  },
  {
   "cell_type": "code",
   "execution_count": 98,
   "metadata": {},
   "outputs": [
    {
     "name": "stdout",
     "output_type": "stream",
     "text": [
      "        KL_div abs_distance y_pred correctness\n",
      "0     0.036337     0.988133      1           1\n",
      "1     0.061146     0.977733      1           1\n",
      "2     0.005024     0.998807      0           1\n",
      "3     0.009844     0.997428      0           1\n",
      "4     0.215924     0.887924      0           1\n",
      "...        ...          ...    ...         ...\n",
      "1995  0.027436     0.991505      0           1\n",
      "1996  0.050374     0.982416      1           1\n",
      "1997  0.444854     0.673703      0           1\n",
      "1998  0.075867      0.97096      1           1\n",
      "1999  0.202845     0.897044      0           1\n",
      "\n",
      "[2000 rows x 4 columns]\n"
     ]
    }
   ],
   "source": [
    "import math\n",
    "table2 = pd.DataFrame(columns=[\"KL_div\",\"abs_distance\",\"y_pred\",\"correctness\"])\n",
    "for i in range(0,len(X_df2)):\n",
    "    # KL divergence\n",
    "    p = X_df2.loc[i,\"X_pred\"]\n",
    "    kl = -(p*math.log(p) + (1-p)*math.log(1-p))\n",
    "    table2.loc[i,\"KL_div\"] = kl\n",
    "    # absolute distance\n",
    "    abs_dist = 2*abs(0.5-p)\n",
    "    table2.loc[i,\"abs_distance\"] = abs_dist\n",
    "    # correctness\n",
    "    y_pred = X_df2.loc[i,\"y_pred\"]\n",
    "    y_act = X_df2.loc[i,\"y_actual\"]\n",
    "    if y_pred == y_act:\n",
    "        table2.loc[i,\"correctness\"] = 1 # correct prediction\n",
    "    else:\n",
    "        table2.loc[i,\"correctness\"] = 0 # wrong prediction\n",
    "    table2.loc[i,\"y_pred\"] = y_pred\n",
    "\n",
    "print(table2)"
   ]
  },
  {
   "cell_type": "code",
   "execution_count": 99,
   "metadata": {},
   "outputs": [
    {
     "name": "stdout",
     "output_type": "stream",
     "text": [
      "            correctness  count     percent\n",
      "KL_div                                    \n",
      "(0.0, 0.1]         1313   1313  100.000000\n",
      "(0.1, 0.2]          214    214  100.000000\n",
      "(0.2, 0.3]          151    151  100.000000\n",
      "(0.3, 0.4]           79     82   96.341463\n",
      "(0.4, 0.5]           77     80   96.250000\n",
      "(0.5, 0.6]           61     67   91.044776\n",
      "(0.6, 0.7]           64     93   68.817204\n"
     ]
    }
   ],
   "source": [
    "table2[\"count\"] = 1\n",
    "correctness2 = table2[[\"correctness\",\"count\"]].groupby(pd.cut(table2[\"KL_div\"], np.arange(0, 0.8, 0.1))).apply(sum)\n",
    "correctness2[\"percent\"] = 100*(correctness2[\"correctness\"]/correctness2[\"count\"])\n",
    "print(correctness2)"
   ]
  },
  {
   "cell_type": "code",
   "execution_count": 100,
   "metadata": {},
   "outputs": [
    {
     "data": {
      "text/plain": [
       "Text(0, 0.5, '% correct')"
      ]
     },
     "execution_count": 100,
     "metadata": {},
     "output_type": "execute_result"
    },
    {
     "data": {
      "image/png": "[encoded data removed]",
      "text/plain": [
       "<Figure size 432x288 with 1 Axes>"
      ]
     },
     "metadata": {
      "needs_background": "light"
     },
     "output_type": "display_data"
    }
   ],
   "source": [
    "index = []\n",
    "for i in (correctness2.index):\n",
    "    index.append(str(i))\n",
    "plt.bar(index,correctness2[\"percent\"], width=0.7)\n",
    "for index,data in enumerate(correctness2[\"percent\"]):\n",
    "    plt.text(x=index , y =data+1 , s=f\"{round(data,2)}\" , fontdict=dict(fontsize=15),ha='center')\n",
    "plt.ylim(0,110)\n",
    "plt.xlabel(\"KL Divergence\")\n",
    "plt.ylabel(\"% correct\")"
   ]
  },
  {
   "cell_type": "markdown",
   "metadata": {},
   "source": [
    "### Confidence"
   ]
  },
  {
   "cell_type": "code",
   "execution_count": 101,
   "metadata": {},
   "outputs": [
    {
     "data": {
      "text/plain": [
       "<matplotlib.collections.PathCollection at 0x2c2d012f250>"
      ]
     },
     "execution_count": 101,
     "metadata": {},
     "output_type": "execute_result"
    },
    {
     "data": {
      "image/png": "[encoded data removed]",
      "text/plain": [
       "<Figure size 432x288 with 1 Axes>"
      ]
     },
     "metadata": {
      "needs_background": "light"
     },
     "output_type": "display_data"
    }
   ],
   "source": [
    "kl2 = table2[[\"correctness\",\"count\"]].groupby(pd.cut(table2[\"KL_div\"], np.arange(0, 0.8, 0.1))).apply(sum)\n",
    "kl2[\"percent\"] = (kl2[\"correctness\"]/kl2[\"count\"])\n",
    "kl2.dropna(inplace=True)\n",
    "plt.scatter(np.arange(0, 0.70, 0.1), kl2[\"percent\"])\n",
    "# print(kl)\n",
    "# print(np.arange(0, 0.7, 0.05))"
   ]
  },
  {
   "cell_type": "code",
   "execution_count": 102,
   "metadata": {},
   "outputs": [],
   "source": [
    "# Linear Regression\n",
    "from sklearn.linear_model import LinearRegression\n",
    "\n",
    "x_reg2 = np.arange(0, 0.7, 0.1).reshape((-1, 1))\n",
    "y_reg2 = kl2[\"percent\"]\n",
    "reg_model2 = LinearRegression().fit(x_reg2,y_reg2)"
   ]
  },
  {
   "cell_type": "code",
   "execution_count": 103,
   "metadata": {},
   "outputs": [
    {
     "name": "stdout",
     "output_type": "stream",
     "text": [
      "intercept(alpha): 1.055514385683698\n",
      "slope(theta): [-0.41146012]\n"
     ]
    }
   ],
   "source": [
    "print('intercept(alpha):', reg_model2.intercept_)\n",
    "print('slope(theta):', reg_model2.coef_)"
   ]
  },
  {
   "cell_type": "markdown",
   "metadata": {},
   "source": [
    "## Algorithm C: It = argmax(Ct,i)"
   ]
  },
  {
   "cell_type": "code",
   "execution_count": 104,
   "metadata": {},
   "outputs": [],
   "source": [
    "# Correct answer\n",
    "ans = pd.DataFrame(X_df2[\"y_actual\"])\n",
    "\n",
    "# NN1\n",
    "alpha1 = reg_model1.intercept_\n",
    "theta1 = reg_model1.coef_\n",
    "\n",
    "# NN2\n",
    "alpha2 = reg_model2.intercept_\n",
    "theta2 = reg_model2.coef_"
   ]
  },
  {
   "cell_type": "code",
   "execution_count": 105,
   "metadata": {},
   "outputs": [
    {
     "name": "stdout",
     "output_type": "stream",
     "text": [
      "             correctness   count   percent\n",
      "KL_div                                    \n",
      "(0.0, 0.05]       1076.0  1076.0  1.000000\n",
      "(0.05, 0.1]        237.0   237.0  1.000000\n",
      "(0.1, 0.15]        129.0   129.0  1.000000\n",
      "(0.15, 0.2]         85.0    85.0  1.000000\n",
      "(0.2, 0.25]         96.0    96.0  1.000000\n",
      "(0.25, 0.3]         55.0    55.0  1.000000\n",
      "(0.3, 0.35]         35.0    36.0  0.972222\n",
      "(0.35, 0.4]         44.0    46.0  0.956522\n",
      "(0.4, 0.45]         40.0    41.0  0.975610\n",
      "(0.45, 0.5]         37.0    39.0  0.948718\n",
      "(0.5, 0.55]         30.0    33.0  0.909091\n",
      "(0.55, 0.6]         31.0    34.0  0.911765\n",
      "(0.6, 0.65]         27.0    33.0  0.818182\n",
      "(0.65, 0.7]         37.0    60.0  0.616667\n",
      "(0.7, 0.75]          0.0     0.0       NaN\n"
     ]
    }
   ],
   "source": [
    "kl_div_table1 = table1[[\"correctness\",\"count\"]].groupby(pd.cut(table1[\"KL_div\"], np.arange(0, 0.8, 0.05))).apply(sum)\n",
    "kl_div_table1[\"percent\"] = (kl_div_table1[\"correctness\"]/kl_div_table1[\"count\"])\n",
    "\n",
    "kl_div_table2 = table2[[\"correctness\",\"count\"]].groupby(pd.cut(table2[\"KL_div\"], np.arange(0, 0.8, 0.05))).apply(sum)\n",
    "kl_div_table2[\"percent\"] = (kl_div_table2[\"correctness\"]/kl_div_table2[\"count\"])\n",
    "print(kl_div_table2)"
   ]
  },
  {
   "cell_type": "code",
   "execution_count": 126,
   "metadata": {},
   "outputs": [
    {
     "data": {
      "text/html": [
       "<div>\n",
       "<style scoped>\n",
       "    .dataframe tbody tr th:only-of-type {\n",
       "        vertical-align: middle;\n",
       "    }\n",
       "\n",
       "    .dataframe tbody tr th {\n",
       "        vertical-align: top;\n",
       "    }\n",
       "\n",
       "    .dataframe thead th {\n",
       "        text-align: right;\n",
       "    }\n",
       "</style>\n",
       "<table border=\"1\" class=\"dataframe\">\n",
       "  <thead>\n",
       "    <tr style=\"text-align: right;\">\n",
       "      <th></th>\n",
       "      <th>KL_div</th>\n",
       "      <th>y_pred</th>\n",
       "      <th>count</th>\n",
       "      <th>conf</th>\n",
       "    </tr>\n",
       "  </thead>\n",
       "  <tbody>\n",
       "    <tr>\n",
       "      <th>0</th>\n",
       "      <td>0.051795</td>\n",
       "      <td>1.0</td>\n",
       "      <td>1</td>\n",
       "      <td>0.765008</td>\n",
       "    </tr>\n",
       "    <tr>\n",
       "      <th>1</th>\n",
       "      <td>0.084785</td>\n",
       "      <td>1.0</td>\n",
       "      <td>1</td>\n",
       "      <td>0.74272</td>\n",
       "    </tr>\n",
       "    <tr>\n",
       "      <th>2</th>\n",
       "      <td>0.151691</td>\n",
       "      <td>0.0</td>\n",
       "      <td>1</td>\n",
       "      <td>0.697519</td>\n",
       "    </tr>\n",
       "    <tr>\n",
       "      <th>3</th>\n",
       "      <td>0.020196</td>\n",
       "      <td>0.0</td>\n",
       "      <td>1</td>\n",
       "      <td>0.786356</td>\n",
       "    </tr>\n",
       "    <tr>\n",
       "      <th>4</th>\n",
       "      <td>0.262003</td>\n",
       "      <td>0.0</td>\n",
       "      <td>1</td>\n",
       "      <td>0.622994</td>\n",
       "    </tr>\n",
       "    <tr>\n",
       "      <th>...</th>\n",
       "      <td>...</td>\n",
       "      <td>...</td>\n",
       "      <td>...</td>\n",
       "      <td>...</td>\n",
       "    </tr>\n",
       "    <tr>\n",
       "      <th>1995</th>\n",
       "      <td>0.41392</td>\n",
       "      <td>0.0</td>\n",
       "      <td>1</td>\n",
       "      <td>0.520361</td>\n",
       "    </tr>\n",
       "    <tr>\n",
       "      <th>1996</th>\n",
       "      <td>0.191014</td>\n",
       "      <td>1.0</td>\n",
       "      <td>1</td>\n",
       "      <td>0.670953</td>\n",
       "    </tr>\n",
       "    <tr>\n",
       "      <th>1997</th>\n",
       "      <td>0.690613</td>\n",
       "      <td>1.0</td>\n",
       "      <td>1</td>\n",
       "      <td>0.33343</td>\n",
       "    </tr>\n",
       "    <tr>\n",
       "      <th>1998</th>\n",
       "      <td>0.15459</td>\n",
       "      <td>1.0</td>\n",
       "      <td>1</td>\n",
       "      <td>0.695561</td>\n",
       "    </tr>\n",
       "    <tr>\n",
       "      <th>1999</th>\n",
       "      <td>0.378781</td>\n",
       "      <td>0.0</td>\n",
       "      <td>1</td>\n",
       "      <td>0.5441</td>\n",
       "    </tr>\n",
       "  </tbody>\n",
       "</table>\n",
       "<p>2000 rows × 4 columns</p>\n",
       "</div>"
      ],
      "text/plain": [
       "        KL_div  y_pred  count      conf\n",
       "0     0.051795     1.0      1  0.765008\n",
       "1     0.084785     1.0      1   0.74272\n",
       "2     0.151691     0.0      1  0.697519\n",
       "3     0.020196     0.0      1  0.786356\n",
       "4     0.262003     0.0      1  0.622994\n",
       "...        ...     ...    ...       ...\n",
       "1995   0.41392     0.0      1  0.520361\n",
       "1996  0.191014     1.0      1  0.670953\n",
       "1997  0.690613     1.0      1   0.33343\n",
       "1998   0.15459     1.0      1  0.695561\n",
       "1999  0.378781     0.0      1    0.5441\n",
       "\n",
       "[2000 rows x 4 columns]"
      ]
     },
     "execution_count": 126,
     "metadata": {},
     "output_type": "execute_result"
    }
   ],
   "source": [
    "# Creating NN tables\n",
    "nn1 = table1.drop([\"abs_distance\",\"correctness\"], axis=1)\n",
    "nn1[\"conf\"] = 0.8 + theta1 * nn1[\"KL_div\"]\n",
    "\n",
    "# for i in range(0,len(nn1)):\n",
    "#     nn1.loc[i,\"conf\"] = kl_div_table1.loc[nn1.loc[i,\"KL_div\"],\"percent\"]\n",
    "\n",
    "nn2 = table2.drop([\"abs_distance\",\"correctness\"], axis=1)\n",
    "nn2[\"conf\"] = 1 + theta2 * nn2[\"KL_div\"]\n",
    "\n",
    "# for i in range(0,len(nn2)):\n",
    "#     nn2.loc[i,\"conf\"] = kl_div_table2.loc[nn2.loc[i,\"KL_div\"],\"percent\"]\n",
    "nn1"
   ]
  },
  {
   "cell_type": "code",
   "execution_count": 127,
   "metadata": {},
   "outputs": [
    {
     "data": {
      "text/html": [
       "<div>\n",
       "<style scoped>\n",
       "    .dataframe tbody tr th:only-of-type {\n",
       "        vertical-align: middle;\n",
       "    }\n",
       "\n",
       "    .dataframe tbody tr th {\n",
       "        vertical-align: top;\n",
       "    }\n",
       "\n",
       "    .dataframe thead th {\n",
       "        text-align: right;\n",
       "    }\n",
       "</style>\n",
       "<table border=\"1\" class=\"dataframe\">\n",
       "  <thead>\n",
       "    <tr style=\"text-align: right;\">\n",
       "      <th></th>\n",
       "      <th>y_actual</th>\n",
       "      <th>y_pred</th>\n",
       "      <th>chosen_NN</th>\n",
       "      <th>chosen_conf</th>\n",
       "      <th>not_NN</th>\n",
       "      <th>not_conf</th>\n",
       "    </tr>\n",
       "  </thead>\n",
       "  <tbody>\n",
       "    <tr>\n",
       "      <th>0</th>\n",
       "      <td>1</td>\n",
       "      <td>1.0</td>\n",
       "      <td>2.0</td>\n",
       "      <td>0.985049</td>\n",
       "      <td>1.0</td>\n",
       "      <td>0.765008</td>\n",
       "    </tr>\n",
       "    <tr>\n",
       "      <th>1</th>\n",
       "      <td>1</td>\n",
       "      <td>1.0</td>\n",
       "      <td>2.0</td>\n",
       "      <td>0.974841</td>\n",
       "      <td>1.0</td>\n",
       "      <td>0.742720</td>\n",
       "    </tr>\n",
       "    <tr>\n",
       "      <th>2</th>\n",
       "      <td>0</td>\n",
       "      <td>0.0</td>\n",
       "      <td>2.0</td>\n",
       "      <td>0.997933</td>\n",
       "      <td>1.0</td>\n",
       "      <td>0.697519</td>\n",
       "    </tr>\n",
       "    <tr>\n",
       "      <th>3</th>\n",
       "      <td>0</td>\n",
       "      <td>0.0</td>\n",
       "      <td>2.0</td>\n",
       "      <td>0.995950</td>\n",
       "      <td>1.0</td>\n",
       "      <td>0.786356</td>\n",
       "    </tr>\n",
       "    <tr>\n",
       "      <th>4</th>\n",
       "      <td>0</td>\n",
       "      <td>0.0</td>\n",
       "      <td>2.0</td>\n",
       "      <td>0.911156</td>\n",
       "      <td>1.0</td>\n",
       "      <td>0.622994</td>\n",
       "    </tr>\n",
       "    <tr>\n",
       "      <th>...</th>\n",
       "      <td>...</td>\n",
       "      <td>...</td>\n",
       "      <td>...</td>\n",
       "      <td>...</td>\n",
       "      <td>...</td>\n",
       "      <td>...</td>\n",
       "    </tr>\n",
       "    <tr>\n",
       "      <th>1995</th>\n",
       "      <td>0</td>\n",
       "      <td>0.0</td>\n",
       "      <td>2.0</td>\n",
       "      <td>0.988711</td>\n",
       "      <td>1.0</td>\n",
       "      <td>0.520361</td>\n",
       "    </tr>\n",
       "    <tr>\n",
       "      <th>1996</th>\n",
       "      <td>1</td>\n",
       "      <td>1.0</td>\n",
       "      <td>2.0</td>\n",
       "      <td>0.979273</td>\n",
       "      <td>1.0</td>\n",
       "      <td>0.670953</td>\n",
       "    </tr>\n",
       "    <tr>\n",
       "      <th>1997</th>\n",
       "      <td>0</td>\n",
       "      <td>0.0</td>\n",
       "      <td>2.0</td>\n",
       "      <td>0.816960</td>\n",
       "      <td>1.0</td>\n",
       "      <td>0.333430</td>\n",
       "    </tr>\n",
       "    <tr>\n",
       "      <th>1998</th>\n",
       "      <td>1</td>\n",
       "      <td>1.0</td>\n",
       "      <td>2.0</td>\n",
       "      <td>0.968784</td>\n",
       "      <td>1.0</td>\n",
       "      <td>0.695561</td>\n",
       "    </tr>\n",
       "    <tr>\n",
       "      <th>1999</th>\n",
       "      <td>0</td>\n",
       "      <td>0.0</td>\n",
       "      <td>2.0</td>\n",
       "      <td>0.916537</td>\n",
       "      <td>1.0</td>\n",
       "      <td>0.544100</td>\n",
       "    </tr>\n",
       "  </tbody>\n",
       "</table>\n",
       "<p>2000 rows × 6 columns</p>\n",
       "</div>"
      ],
      "text/plain": [
       "      y_actual  y_pred  chosen_NN  chosen_conf  not_NN  not_conf\n",
       "0            1     1.0        2.0     0.985049     1.0  0.765008\n",
       "1            1     1.0        2.0     0.974841     1.0  0.742720\n",
       "2            0     0.0        2.0     0.997933     1.0  0.697519\n",
       "3            0     0.0        2.0     0.995950     1.0  0.786356\n",
       "4            0     0.0        2.0     0.911156     1.0  0.622994\n",
       "...        ...     ...        ...          ...     ...       ...\n",
       "1995         0     0.0        2.0     0.988711     1.0  0.520361\n",
       "1996         1     1.0        2.0     0.979273     1.0  0.670953\n",
       "1997         0     0.0        2.0     0.816960     1.0  0.333430\n",
       "1998         1     1.0        2.0     0.968784     1.0  0.695561\n",
       "1999         0     0.0        2.0     0.916537     1.0  0.544100\n",
       "\n",
       "[2000 rows x 6 columns]"
      ]
     },
     "execution_count": 127,
     "metadata": {},
     "output_type": "execute_result"
    }
   ],
   "source": [
    "# Determing higher confidence NN and choosing that arm\n",
    "\n",
    "for i in range(0,len(nn1)):\n",
    "    if nn1.loc[i,\"conf\"] > nn2.loc[i,\"conf\"]:\n",
    "        ans.loc[i,\"y_pred\"] = nn1.loc[i,\"y_pred\"]\n",
    "        ans.loc[i,\"chosen_NN\"] = 1\n",
    "        ans.loc[i,\"chosen_conf\"] = nn1.loc[i,\"conf\"]\n",
    "\n",
    "        ans.loc[i,\"not_NN\"] = 2\n",
    "        ans.loc[i,\"not_conf\"] = nn2.loc[i,\"conf\"]\n",
    "    else:\n",
    "        ans.loc[i,\"y_pred\"] = nn2.loc[i,\"y_pred\"]\n",
    "        ans.loc[i,\"chosen_NN\"] = 2\n",
    "        ans.loc[i,\"chosen_conf\"] = nn2.loc[i,\"conf\"]\n",
    "\n",
    "        ans.loc[i,\"not_NN\"] = 1\n",
    "        ans.loc[i,\"not_conf\"] = nn1.loc[i,\"conf\"]\n",
    "\n",
    "ans"
   ]
  },
  {
   "cell_type": "markdown",
   "metadata": {},
   "source": [
    "#### Comparing performance"
   ]
  },
  {
   "cell_type": "code",
   "execution_count": 128,
   "metadata": {},
   "outputs": [],
   "source": [
    "wrong_record = \"\"\n",
    "# NN1 performance\n",
    "cost1 = 0\n",
    "for i in range(0,len(nn1)):\n",
    "    if nn1.loc[i,\"y_pred\"] != ans.loc[i,\"y_actual\"]:\n",
    "        # cost1 += 1 * nn1.loc[i,\"conf\"]\n",
    "        cost1 += 1\n",
    "    else:\n",
    "        pass\n",
    "\n",
    "# NN2 performance\n",
    "cost2 = 0\n",
    "for i in range(0,len(nn2)):\n",
    "    if nn2.loc[i,\"y_pred\"] != ans.loc[i,\"y_actual\"]:\n",
    "        # cost2 += 1 * nn2.loc[i,\"conf\"]\n",
    "        cost2 += 1\n",
    "    else:\n",
    "        pass\n",
    "\n",
    "# Combined performance\n",
    "cost3 = 0\n",
    "for i in range(0,len(nn1)):\n",
    "    chosen_nn = int(ans.loc[i,\"chosen_NN\"])\n",
    "    chosen_nn_conf = round(ans.loc[i,\"chosen_conf\"],3)\n",
    "    not_nn = int(ans.loc[i,\"not_NN\"])\n",
    "    not_nn_conf = round(ans.loc[i,\"not_conf\"],3)\n",
    "    if ans.loc[i,\"y_pred\"] != ans.loc[i,\"y_actual\"]:\n",
    "        cost3 += 1\n",
    "        # cost3 += 1 * ans.loc[i,\"chosen_conf\"]\n",
    "        wrong_record = wrong_record + (f\"{i}: Wrong NN:{chosen_nn}, Conf:{chosen_nn_conf} - Other NN{not_nn}, Conf:{not_nn_conf} \") + \"\\n\"\n",
    "    else:\n",
    "        pass"
   ]
  },
  {
   "cell_type": "code",
   "execution_count": 129,
   "metadata": {},
   "outputs": [
    {
     "name": "stdout",
     "output_type": "stream",
     "text": [
      "13: Wrong NN:2, Conf:0.715 - Other NN1, Conf:0.332 \n",
      "166: Wrong NN:2, Conf:0.719 - Other NN1, Conf:0.406 \n",
      "218: Wrong NN:2, Conf:0.728 - Other NN1, Conf:0.593 \n",
      "284: Wrong NN:2, Conf:0.728 - Other NN1, Conf:0.52 \n",
      "349: Wrong NN:2, Conf:0.733 - Other NN1, Conf:0.447 \n",
      "455: Wrong NN:2, Conf:0.836 - Other NN1, Conf:0.43 \n",
      "523: Wrong NN:2, Conf:0.718 - Other NN1, Conf:0.408 \n",
      "537: Wrong NN:2, Conf:0.732 - Other NN1, Conf:0.407 \n",
      "560: Wrong NN:2, Conf:0.791 - Other NN1, Conf:0.442 \n",
      "583: Wrong NN:2, Conf:0.717 - Other NN1, Conf:0.333 \n",
      "628: Wrong NN:2, Conf:0.851 - Other NN1, Conf:0.594 \n",
      "644: Wrong NN:2, Conf:0.715 - Other NN1, Conf:0.426 \n",
      "671: Wrong NN:2, Conf:0.725 - Other NN1, Conf:0.396 \n",
      "691: Wrong NN:2, Conf:0.769 - Other NN1, Conf:0.337 \n",
      "694: Wrong NN:2, Conf:0.72 - Other NN1, Conf:0.581 \n",
      "730: Wrong NN:2, Conf:0.764 - Other NN1, Conf:0.334 \n",
      "731: Wrong NN:2, Conf:0.722 - Other NN1, Conf:0.492 \n",
      "769: Wrong NN:2, Conf:0.716 - Other NN1, Conf:0.41 \n",
      "822: Wrong NN:2, Conf:0.715 - Other NN1, Conf:0.35 \n",
      "839: Wrong NN:2, Conf:0.726 - Other NN1, Conf:0.422 \n",
      "843: Wrong NN:2, Conf:0.876 - Other NN1, Conf:0.365 \n",
      "858: Wrong NN:2, Conf:0.777 - Other NN1, Conf:0.626 \n",
      "888: Wrong NN:2, Conf:0.721 - Other NN1, Conf:0.414 \n",
      "968: Wrong NN:2, Conf:0.747 - Other NN1, Conf:0.369 \n",
      "986: Wrong NN:2, Conf:0.715 - Other NN1, Conf:0.43 \n",
      "1001: Wrong NN:2, Conf:0.744 - Other NN1, Conf:0.361 \n",
      "1003: Wrong NN:2, Conf:0.753 - Other NN1, Conf:0.452 \n",
      "1103: Wrong NN:2, Conf:0.777 - Other NN1, Conf:0.619 \n",
      "1197: Wrong NN:2, Conf:0.72 - Other NN1, Conf:0.707 \n",
      "1213: Wrong NN:2, Conf:0.765 - Other NN1, Conf:0.334 \n",
      "1252: Wrong NN:2, Conf:0.8 - Other NN1, Conf:0.434 \n",
      "1283: Wrong NN:2, Conf:0.717 - Other NN1, Conf:0.435 \n",
      "1284: Wrong NN:2, Conf:0.715 - Other NN1, Conf:0.359 \n",
      "1287: Wrong NN:2, Conf:0.72 - Other NN1, Conf:0.556 \n",
      "1289: Wrong NN:2, Conf:0.723 - Other NN1, Conf:0.538 \n",
      "1426: Wrong NN:2, Conf:0.718 - Other NN1, Conf:0.334 \n",
      "1548: Wrong NN:2, Conf:0.715 - Other NN1, Conf:0.335 \n",
      "1628: Wrong NN:2, Conf:0.74 - Other NN1, Conf:0.355 \n",
      "1664: Wrong NN:2, Conf:0.803 - Other NN1, Conf:0.632 \n",
      "1870: Wrong NN:2, Conf:0.746 - Other NN1, Conf:0.346 \n",
      "1898: Wrong NN:2, Conf:0.83 - Other NN1, Conf:0.527 \n",
      "\n",
      "Error count for NN1:152, NN2:41, Combined:41\n"
     ]
    }
   ],
   "source": [
    "print(wrong_record)\n",
    "print(f\"Error count for NN1:{cost1}, NN2:{cost2}, Combined:{cost3}\")\n"
   ]
  }
 ],
 "metadata": {
  "interpreter": {
   "hash": "b3ba2566441a7c06988d0923437866b63cedc61552a5af99d1f4fb67d367b25f"
  },
  "kernelspec": {
   "display_name": "Python 3.8.8 64-bit ('base': conda)",
   "language": "python",
   "name": "python3"
  },
  "language_info": {
   "codemirror_mode": {
    "name": "ipython",
    "version": 3
   },
   "file_extension": ".py",
   "mimetype": "text/x-python",
   "name": "python",
   "nbconvert_exporter": "python",
   "pygments_lexer": "ipython3",
   "version": "3.8.8"
  },
  "orig_nbformat": 4
 },
 "nbformat": 4,
 "nbformat_minor": 2
}
